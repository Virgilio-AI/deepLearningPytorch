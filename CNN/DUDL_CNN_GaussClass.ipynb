{
 "cells": [
  {
   "cell_type": "code",
   "execution_count": null,
   "id": "d9a35cac",
   "metadata": {},
   "outputs": [],
   "source": [
    "# Date: 19/November/2022 - Saturday\n",
    "# Author: Virgilio Murillo Ochoa\n",
    "# personal github: Virgilio-AI\n",
    "# linkedin: https://www.linkedin.com/in/virgilio-murillo-ochoa-b29b59203\n",
    "# contact: virgiliomurilloochoa1@gmail.com\n",
    "# web: virgiliomurillo.com"
   ]
  },
  {
   "cell_type": "code",
   "execution_count": null,
   "id": "57a0351d",
   "metadata": {},
   "outputs": [],
   "source": [
    "# import libraries\n",
    "import numpy as np\n",
    "\n",
    "import torch\n",
    "import torch.nn as nn\n",
    "import torch.nn.functional as F\n",
    "from torch.utils.data import DataLoader,TensorDataset\n",
    "from sklearn.model_selection import train_test_split\n",
    "\n",
    "# summary info on models\n",
    "from torchsummary import summary\n",
    "\n",
    "import matplotlib.pyplot as plt\n",
    "from IPython import display\n",
    "display.set_matplotlib_formats('svg')"
   ]
  },
  {
   "cell_type": "markdown",
   "id": "78a6c925",
   "metadata": {},
   "source": [
    "# Create Gaussian blurs with different widths"
   ]
  },
  {
   "cell_type": "code",
   "execution_count": null,
   "id": "3dffb936",
   "metadata": {},
   "outputs": [],
   "source": [
    "nPerClass = 1000\n",
    "imgSize   = 91\n",
    "\n",
    "x = np.linspace(-4,4,imgSize)\n",
    "X,Y = np.meshgrid(x,x)\n",
    "\n",
    "# the two widths (a.u.)\n",
    "widths = [1.8,2.4]\n",
    "\n",
    "# initialize tensors containing images and labels\n",
    "images = torch.zeros(2*nPerClass,1,imgSize,imgSize)\n",
    "labels = torch.zeros(2*nPerClass)\n",
    "\n",
    "for i in range(2*nPerClass):\n",
    "\n",
    "  # create the gaussian with random centers\n",
    "  ro = 2*np.random.randn(2) # ro = random offset\n",
    "  G  = np.exp( -( (X-ro[0])**2 + (Y-ro[1])**2) / (2*widths[i%2]**2) )\n",
    "  \n",
    "  # and add noise\n",
    "  G  = G + np.random.randn(imgSize,imgSize)/5\n",
    "  \n",
    "  # add to the tensor\n",
    "  images[i,:,:,:] = torch.Tensor(G).view(1,imgSize,imgSize)\n",
    "  labels[i] = i%2\n",
    "\n",
    "labels = labels[:,None]"
   ]
  },
  {
   "cell_type": "code",
   "execution_count": null,
   "id": "ad7dc0d1",
   "metadata": {},
   "outputs": [],
   "source": [
    "# visualize some images\n",
    "fig,axs = plt.subplots(3,7,figsize=(13,6))\n",
    "\n",
    "for i,ax in enumerate(axs.flatten()):\n",
    "  whichpic = np.random.randint(2*nPerClass)\n",
    "  G = np.squeeze( images[whichpic,:,:] )\n",
    "  ax.imshow(G,vmin=-1,vmax=1,cmap='jet')\n",
    "  ax.set_title('Class %s'%int(labels[whichpic].item()))\n",
    "  ax.set_xticks([])\n",
    "  ax.set_yticks([])\n",
    "\n",
    "plt.show()"
   ]
  },
  {
   "cell_type": "markdown",
   "id": "7a963fcc",
   "metadata": {},
   "source": [
    "# Create train/test groups using DataLoader"
   ]
  },
  {
   "cell_type": "code",
   "execution_count": null,
   "id": "79ad3e65",
   "metadata": {},
   "outputs": [],
   "source": [
    "# Step 2: use scikitlearn to split the data\n",
    "train_data,test_data, train_labels,test_labels = train_test_split(images, labels, test_size=.1)\n",
    "\n",
    "# Step 3: convert into PyTorch Datasets\n",
    "train_data = TensorDataset(train_data,train_labels)\n",
    "test_data  = TensorDataset(test_data,test_labels)\n",
    "\n",
    "# Step 4: translate into dataloader objects\n",
    "batchsize    = 32\n",
    "train_loader = DataLoader(train_data,batch_size=batchsize,shuffle=True,drop_last=True)\n",
    "test_loader  = DataLoader(test_data,batch_size=test_data.tensors[0].shape[0])"
   ]
  },
  {
   "cell_type": "code",
   "execution_count": null,
   "id": "722f93a0",
   "metadata": {},
   "outputs": [],
   "source": [
    "# check size (should be images X channels X width X height\n",
    "print( train_loader.dataset.tensors[0].shape )\n",
    "print( train_loader.dataset.tensors[1].shape )"
   ]
  },
  {
   "cell_type": "markdown",
   "id": "7a1602be",
   "metadata": {},
   "source": [
    "# Create the DL model"
   ]
  },
  {
   "cell_type": "code",
   "execution_count": null,
   "id": "5399e957",
   "metadata": {},
   "outputs": [],
   "source": [
    "# create a class for the model\n",
    "def makeTheNet():\n",
    "\n",
    "  class gausnet(nn.Module):\n",
    "    def __init__(self):\n",
    "      super().__init__()\n",
    "      \n",
    "      # all layers in one go using nn.Sequential\n",
    "      self.enc = nn.Sequential(\n",
    "          nn.Conv2d(1,6,3,padding=1),  # output size: (91+2*1-3)/1 + 1 = 91\n",
    "          nn.ReLU(),                   # note that relu is treated like a \"layer\"\n",
    "          nn.AvgPool2d(2,2),           # output size: 91/2 = 45 \n",
    "          nn.Conv2d(6,4,3,padding=1),  # output size: (45+2*1-3)/1 + 1 = 45\n",
    "          nn.ReLU(),                   # \n",
    "          nn.AvgPool2d(2,2),           # output size: 45/2 = 22\n",
    "          nn.Flatten(),                # vectorize conv output\n",
    "          nn.Linear(22*22*4,50),       # output size: 50\n",
    "          nn.Linear(50,1),             # output size: 1\n",
    "      )\n",
    "      \n",
    "    def forward(self,x):\n",
    "      return self.enc(x)\n",
    "  \n",
    "  # create the model instance\n",
    "  net = gausnet()\n",
    "  \n",
    "  # loss function\n",
    "  lossfun = nn.BCEWithLogitsLoss()\n",
    "\n",
    "  # optimizer\n",
    "  optimizer = torch.optim.Adam(net.parameters(),lr=.001)\n",
    "\n",
    "  return net,lossfun,optimizer"
   ]
  },
  {
   "cell_type": "code",
   "execution_count": null,
   "id": "f8dd7a7b",
   "metadata": {},
   "outputs": [],
   "source": [
    "# test the model with one batch\n",
    "net,lossfun,optimizer = makeTheNet()\n",
    "\n",
    "X,y = iter(train_loader).next()\n",
    "yHat = net(X)\n",
    "\n",
    "# check size of output\n",
    "print(' ')\n",
    "print(yHat.shape)\n",
    "\n",
    "# # now let's compute the loss\n",
    "loss = lossfun(yHat,y)\n",
    "print(' ')\n",
    "print('Loss:')\n",
    "print(loss)"
   ]
  },
  {
   "cell_type": "code",
   "execution_count": null,
   "id": "d5335e57",
   "metadata": {},
   "outputs": [],
   "source": [
    "# count the total number of parameters in the model\n",
    "summary(net,(1,imgSize,imgSize))"
   ]
  },
  {
   "cell_type": "markdown",
   "id": "fab13f34",
   "metadata": {},
   "source": [
    "# Create a function that trains the model"
   ]
  },
  {
   "cell_type": "code",
   "execution_count": null,
   "id": "bc85dd49",
   "metadata": {},
   "outputs": [],
   "source": [
    "# a function that trains the model\n",
    "\n",
    "def function2trainTheModel():\n",
    "\n",
    "  # number of epochs\n",
    "  numepochs = 10\n",
    "  \n",
    "  # create a new model\n",
    "  net,lossfun,optimizer = makeTheNet()\n",
    "\n",
    "  # initialize losses\n",
    "  trainLoss = torch.zeros(numepochs)\n",
    "  testLoss  = torch.zeros(numepochs)\n",
    "  trainAcc  = torch.zeros(numepochs)\n",
    "  testAcc   = torch.zeros(numepochs)\n",
    "\n",
    "\n",
    "  # loop over epochs\n",
    "  for epochi in range(numepochs):\n",
    "\n",
    "    # loop over training data batches\n",
    "    batchLoss = []\n",
    "    batchAcc  = []\n",
    "    for X,y in train_loader:\n",
    "\n",
    "      # forward pass and loss\n",
    "      yHat = net(X)\n",
    "      loss = lossfun(yHat,y)\n",
    "\n",
    "      # backprop\n",
    "      optimizer.zero_grad()\n",
    "      loss.backward()\n",
    "      optimizer.step()\n",
    "\n",
    "      # loss from this batch\n",
    "      batchLoss.append(loss.item())\n",
    "      batchAcc.append( torch.mean(( (yHat>0) ==y).float()).item() )\n",
    "    # end of batch loop...\n",
    "\n",
    "    # and get average losses across the batches\n",
    "    trainLoss[epochi] = np.mean(batchLoss)\n",
    "    trainAcc[epochi]  = 100*np.mean(batchAcc)\n",
    "\n",
    "    # test accuracy\n",
    "    X,y = next(iter(test_loader)) # extract X,y from test dataloader\n",
    "    with torch.no_grad(): # deactivates autograd\n",
    "      yHat = net(X)\n",
    "      loss = lossfun(yHat,y)\n",
    "      \n",
    "    # compare the following really long line of code to the training accuracy lines\n",
    "    testLoss[epochi] = loss.item()\n",
    "    testAcc[epochi]  = 100*torch.mean(( (yHat>0) ==y).float()).item()\n",
    "\n",
    "  # end epochs\n",
    "\n",
    "  # function output\n",
    "  return trainLoss,testLoss,trainAcc,testAcc,net"
   ]
  },
  {
   "cell_type": "markdown",
   "id": "90f0542f",
   "metadata": {},
   "source": [
    "# Run the model and show the results!"
   ]
  },
  {
   "cell_type": "code",
   "execution_count": null,
   "id": "37d1403a",
   "metadata": {},
   "outputs": [],
   "source": [
    "trainLoss,testLoss,trainAcc,testAcc,net = function2trainTheModel()"
   ]
  },
  {
   "cell_type": "code",
   "execution_count": null,
   "id": "d4f2744e",
   "metadata": {},
   "outputs": [],
   "source": [
    "fig,ax = plt.subplots(1,2,figsize=(16,5))\n",
    "\n",
    "ax[0].plot(trainLoss,'s-',label='Train')\n",
    "ax[0].plot(testLoss,'o-',label='Test')\n",
    "ax[0].set_xlabel('Epochs')\n",
    "ax[0].set_ylabel('Loss (MSE)')\n",
    "ax[0].set_title('Model loss')\n",
    "\n",
    "ax[1].plot(trainAcc,'s-',label='Train')\n",
    "ax[1].plot(testAcc,'o-',label='Test')\n",
    "ax[1].set_xlabel('Epochs')\n",
    "ax[1].set_ylabel('Accuracy (%)')\n",
    "ax[1].set_title(f'Final model test accuracy: {testAcc[-1]:.2f}%')\n",
    "ax[1].legend()\n",
    "\n",
    "plt.show()"
   ]
  },
  {
   "cell_type": "code",
   "execution_count": null,
   "id": "6dbfb068",
   "metadata": {},
   "outputs": [],
   "source": [
    "# visualize some images\n",
    "\n",
    "X,y = next(iter(test_loader)) # extract X,y from test dataloader\n",
    "yHat = net(X)\n",
    "\n",
    "fig,axs = plt.subplots(2,10,figsize=(15,4))\n",
    "\n",
    "for i,ax in enumerate(axs.flatten()):\n",
    "  G = torch.squeeze( X[i,0,:,:] ).detach()\n",
    "  ax.imshow(G,vmin=-1,vmax=1,cmap='jet')\n",
    "  t = ( int(y[i].item()) , int(yHat[i].item()>0) )\n",
    "  ax.set_title('T:%s, P:%s'%t)\n",
    "  ax.set_xticks([])\n",
    "  ax.set_yticks([])\n",
    "\n",
    "plt.show()"
   ]
  },
  {
   "cell_type": "code",
   "execution_count": null,
   "id": "6c3b832c",
   "metadata": {},
   "outputs": [],
   "source": [
    "# look at the filters\n",
    "print(net)\n",
    "\n",
    "layer1W = net.enc[0].weight\n",
    "layer3W = net.enc[3].weight\n",
    "\n",
    "print(' ')\n",
    "print(layer1W.shape)\n",
    "print(layer3W.shape)"
   ]
  },
  {
   "cell_type": "code",
   "execution_count": null,
   "id": "5cb6143e",
   "metadata": {},
   "outputs": [],
   "source": [
    "fig,axs = plt.subplots(1,6,figsize=(15,3))\n",
    "\n",
    "for i,ax in enumerate(axs.flatten()):\n",
    "  ax.imshow( torch.squeeze(layer1W[i,:,:,:]).detach() ,cmap='Purples')\n",
    "  ax.axis('off')\n",
    "\n",
    "plt.suptitle('First convolution layer filters')\n",
    "plt.show()"
   ]
  },
  {
   "cell_type": "code",
   "execution_count": null,
   "id": "46773a86",
   "metadata": {},
   "outputs": [],
   "source": [
    "fig,axs = plt.subplots(4,6,figsize=(15,9))\n",
    "\n",
    "for i in range(6*4):\n",
    "  idx = np.unravel_index(i,(4,6))\n",
    "  axs[idx].imshow( torch.squeeze(layer3W[idx[0],idx[1],:,:]).detach() ,cmap='Purples')\n",
    "  axs[idx].axis('off')\n",
    "\n",
    "plt.suptitle('Second convolution layer filters')\n",
    "plt.show()"
   ]
  },
  {
   "cell_type": "code",
   "execution_count": null,
   "id": "c3b86149",
   "metadata": {},
   "outputs": [],
   "source": []
  },
  {
   "cell_type": "markdown",
   "id": "dd3cee03",
   "metadata": {},
   "source": [
    "# Additional explorations"
   ]
  },
  {
   "cell_type": "code",
   "execution_count": null,
   "id": "bc24f4aa",
   "metadata": {},
   "outputs": [],
   "source": [
    "# 1) Rewrite the model architecture without using nn.Sequential. Your final result must be the same as the current version,\n",
    "#    just defined in a different way. This is great practice at constructing models using classes. \n",
    "# \n",
    "# 2) Find and plot the stimuli that the model guessed incorrectly. Is the correct answer obvious to you? Do the errors\n",
    "#    tend to be obscured by the boundaries of the image, or is there any other reason you can find for why the model got\n",
    "#    those wrong?\n",
    "# \n",
    "# 3) Notice the choice of architecture here: 6 channels in the first convolution layer and 4 channels in the second. In\n",
    "#    the lecture I said that CNNs typically get wider with each successive \"convpool block.\" Does that mean that this\n",
    "#    model is wrong? Or suboptimal? Think of some arguments for and against this organization. Then modify the code to\n",
    "#    swap the widths (4 channels in the first conv layer and 6 channels in the second conv layer). Does that affect the\n",
    "#    model's performance?\n",
    "# "
   ]
  }
 ],
 "metadata": {
  "jupytext": {
   "cell_metadata_filter": "-all",
   "main_language": "python",
   "notebook_metadata_filter": "-all"
  }
 },
 "nbformat": 4,
 "nbformat_minor": 5
}
