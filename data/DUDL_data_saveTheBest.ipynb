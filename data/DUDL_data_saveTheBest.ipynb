{
 "cells": [
  {
   "cell_type": "code",
   "execution_count": null,
   "id": "2748c4d7",
   "metadata": {},
   "outputs": [],
   "source": [
    "# Date: 19/November/2022 - Saturday\n",
    "# Author: Virgilio Murillo Ochoa\n",
    "# personal github: Virgilio-AI\n",
    "# linkedin: https://www.linkedin.com/in/virgilio-murillo-ochoa-b29b59203\n",
    "# contact: virgiliomurilloochoa1@gmail.com\n",
    "# web: virgiliomurillo.com"
   ]
  },
  {
   "cell_type": "code",
   "execution_count": null,
   "id": "750482d2",
   "metadata": {},
   "outputs": [],
   "source": [
    "# Note: this code is copied from DUDL_metaparams_multioutput.ipynb (section \"Metaparameters\")"
   ]
  },
  {
   "cell_type": "code",
   "execution_count": null,
   "id": "1dba5eef",
   "metadata": {},
   "outputs": [],
   "source": [
    "# import libraries\n",
    "import torch\n",
    "import torch.nn as nn\n",
    "import torch.nn.functional as F\n",
    "from torch.utils.data import DataLoader,TensorDataset\n",
    "from sklearn.model_selection import train_test_split\n",
    "\n",
    "import numpy as np\n",
    "import copy\n",
    "\n",
    "import matplotlib.pyplot as plt\n",
    "from IPython import display\n",
    "display.set_matplotlib_formats('svg')"
   ]
  },
  {
   "cell_type": "markdown",
   "id": "e64bff06",
   "metadata": {},
   "source": [
    "# A brief aside on saving the highest of random numbers"
   ]
  },
  {
   "cell_type": "code",
   "execution_count": null,
   "id": "707314b2",
   "metadata": {},
   "outputs": [],
   "source": [
    "theBest = [0,0]\n",
    "\n",
    "for i in range(10):\n",
    "\n",
    "  # \"train the model\"\n",
    "  accuracy = np.random.rand()\n",
    "\n",
    "  # see if this is better than any previous runs\n",
    "  if accuracy>theBest[0]:\n",
    "    theBest = [accuracy,i]\n",
    "\n",
    "\n",
    "print(f'Highest \"accuracy\" was {100*theBest[0]:.2f}% in run {theBest[1]+1}.')"
   ]
  },
  {
   "cell_type": "markdown",
   "id": "c6b78410",
   "metadata": {},
   "source": [
    "# Create and inspect the data"
   ]
  },
  {
   "cell_type": "code",
   "execution_count": null,
   "id": "d2db3f9d",
   "metadata": {},
   "outputs": [],
   "source": [
    "# create data\n",
    "\n",
    "nPerClust = 300\n",
    "blur = 1\n",
    "\n",
    "A = [ 1, 1 ]\n",
    "B = [ 5, 1 ]\n",
    "C = [ 4, 4 ]\n",
    "\n",
    "# generate data\n",
    "a = [ A[0]+np.random.randn(nPerClust)*blur , A[1]+np.random.randn(nPerClust)*blur ]\n",
    "b = [ B[0]+np.random.randn(nPerClust)*blur , B[1]+np.random.randn(nPerClust)*blur ]\n",
    "c = [ C[0]+np.random.randn(nPerClust)*blur , C[1]+np.random.randn(nPerClust)*blur ]\n",
    "\n",
    "# true labels\n",
    "labels_np = np.hstack((  np.zeros((nPerClust)),\n",
    "                         np.ones( (nPerClust)),\n",
    "                       1+np.ones( (nPerClust))  ))\n",
    "\n",
    "# concatanate into a matrix\n",
    "data_np = np.hstack((a,b,c)).T\n",
    "\n",
    "# convert to a pytorch tensor\n",
    "data = torch.tensor(data_np).float()\n",
    "labels = torch.tensor(labels_np).long() # note: \"long\" format for CCE\n",
    "\n",
    "# show the data\n",
    "fig = plt.figure(figsize=(5,5))\n",
    "plt.plot(data[np.where(labels==0)[0],0],data[np.where(labels==0)[0],1],'bs',alpha=.5)\n",
    "plt.plot(data[np.where(labels==1)[0],0],data[np.where(labels==1)[0],1],'ko',alpha=.5)\n",
    "plt.plot(data[np.where(labels==2)[0],0],data[np.where(labels==2)[0],1],'r^',alpha=.5)\n",
    "plt.title('The qwerties!')\n",
    "plt.xlabel('qwerty dimension 1')\n",
    "plt.ylabel('qwerty dimension 2')\n",
    "plt.show()"
   ]
  },
  {
   "cell_type": "code",
   "execution_count": null,
   "id": "926fa9a2",
   "metadata": {},
   "outputs": [],
   "source": [
    "# specify sizes of the partitions\n",
    "# order is train,devset,test\n",
    "partitions = [3*nPerClust-400,200,200]\n",
    "\n",
    "# split the data\n",
    "train_data,devtest_data, train_labels,devtest_labels = train_test_split(data, labels, train_size=partitions[0])\n",
    "\n",
    "# now split the devtest data\n",
    "dev_data,test_data, dev_labels,test_labels = train_test_split(devtest_data, devtest_labels, train_size=partitions[1])\n",
    "\n",
    "\n",
    "# print out the sizes\n",
    "print('   Total data size: ' + str(data.shape) + '\\n')\n",
    "print('Training data size: ' + str(train_data.shape))\n",
    "print('  Devset data size: ' + str(dev_data.shape))\n",
    "print('    Test data size: ' + str(test_data.shape))"
   ]
  },
  {
   "cell_type": "code",
   "execution_count": null,
   "id": "f0d30523",
   "metadata": {},
   "outputs": [],
   "source": [
    "# then convert them into PyTorch Datasets (note: already converted to tensors)\n",
    "train_data = TensorDataset(train_data,train_labels)\n",
    "dev_data   = TensorDataset(dev_data,dev_labels)\n",
    "test_data  = TensorDataset(test_data,test_labels)\n",
    "\n",
    "# finally, translate into dataloader objects\n",
    "batchsize    = 30\n",
    "train_loader = DataLoader(train_data,batch_size=batchsize,shuffle=True,drop_last=True)\n",
    "dev_loader   = DataLoader(dev_data,batch_size=dev_data.tensors[0].shape[0])\n",
    "test_loader  = DataLoader(test_data,batch_size=test_data.tensors[0].shape[0])"
   ]
  },
  {
   "cell_type": "markdown",
   "id": "a27ba8f1",
   "metadata": {},
   "source": [
    "# Create and validate the model"
   ]
  },
  {
   "cell_type": "code",
   "execution_count": null,
   "id": "bc960bdd",
   "metadata": {},
   "outputs": [],
   "source": [
    "# create a class for the model\n",
    "def createTheQwertyNet():\n",
    "\n",
    "  class qwertyNet(nn.Module):\n",
    "    def __init__(self):\n",
    "      super().__init__()\n",
    "\n",
    "      ### input layer\n",
    "      self.input = nn.Linear(2,8)\n",
    "      \n",
    "      ### hidden layer\n",
    "      self.fc1 = nn.Linear(8,8)\n",
    "\n",
    "      ### output layer\n",
    "      self.output = nn.Linear(8,3)\n",
    "\n",
    "    # forward pass\n",
    "    def forward(self,x):\n",
    "      x = F.relu( self.input(x) )\n",
    "      x = F.relu( self.fc1(x) )\n",
    "      return self.output(x)\n",
    "  \n",
    "  # create the model instance\n",
    "  net = qwertyNet()\n",
    "  \n",
    "  # loss function\n",
    "  lossfun = nn.CrossEntropyLoss()\n",
    "\n",
    "  # optimizer\n",
    "  optimizer = torch.optim.SGD(net.parameters(),lr=.01)\n",
    "\n",
    "  return net,lossfun,optimizer\n",
    "\n"
   ]
  },
  {
   "cell_type": "markdown",
   "id": "65a79b9e",
   "metadata": {},
   "source": [
    "# A function that trains the model"
   ]
  },
  {
   "cell_type": "code",
   "execution_count": null,
   "id": "7c855e07",
   "metadata": {
    "lines_to_next_cell": 2
   },
   "outputs": [],
   "source": [
    "def funtion2trainTheModel():\n",
    "\n",
    "  # New! initialize a dictionary for the best model\n",
    "  theBestModel = {'Accuracy':0, 'net':None}\n",
    "\n",
    "\n",
    "  # number of epochs\n",
    "  numepochs = 100\n",
    "  \n",
    "  # create a new model\n",
    "  net,lossfun,optimizer = createTheQwertyNet()\n",
    "\n",
    "  # initialize losses\n",
    "  losses   = torch.zeros(numepochs)\n",
    "  trainAcc = []\n",
    "  devAcc   = []\n",
    "\n",
    "  # loop over epochs\n",
    "  for epochi in range(numepochs):\n",
    "\n",
    "    # switch on training mode\n",
    "    net.train()\n",
    "\n",
    "    # loop over training data batches\n",
    "    batchAcc  = []\n",
    "    batchLoss = []\n",
    "    for X,y in train_loader:\n",
    "\n",
    "      # forward pass and loss\n",
    "      yHat = net(X)\n",
    "      loss = lossfun(yHat,y)\n",
    "\n",
    "      # backprop\n",
    "      optimizer.zero_grad()\n",
    "      loss.backward()\n",
    "      optimizer.step()\n",
    "\n",
    "      # loss from this batch\n",
    "      batchLoss.append(loss.item())\n",
    "\n",
    "      # compute accuracy\n",
    "      matches = torch.argmax(yHat,axis=1) == y     # booleans (false/true)\n",
    "      matchesNumeric = matches.float()             # convert to numbers (0/1)\n",
    "      accuracyPct = 100*torch.mean(matchesNumeric) # average and x100 \n",
    "      batchAcc.append( accuracyPct )               # add to list of accuracies\n",
    "    # end of batch loop...\n",
    "\n",
    "    # now that we've trained through the batches, get their average training accuracy\n",
    "    trainAcc.append( np.mean(batchAcc) )\n",
    "\n",
    "    # and get average losses across the batches\n",
    "    losses[epochi] = np.mean(batchLoss)\n",
    "\n",
    "    # test accuracy\n",
    "    net.eval()\n",
    "    X,y = next(iter(dev_loader)) # extract X,y from devset dataloader\n",
    "    with torch.no_grad(): # deactivates autograd\n",
    "      yHat = net(X)\n",
    "      \n",
    "    # compare the following really long line of code to the training accuracy lines\n",
    "    devAcc.append( 100*torch.mean((torch.argmax(yHat,axis=1)==y).float()) )\n",
    "\n",
    "\n",
    "    # New! Store this model if it's the best so far\n",
    "    if devAcc[-1]>theBestModel['Accuracy']:\n",
    "      \n",
    "      # new best accuracy\n",
    "      theBestModel['Accuracy'] = devAcc[-1].item()\n",
    "      \n",
    "      # model's internal state\n",
    "      theBestModel['net'] = copy.deepcopy( net.state_dict() )\n",
    "      \n",
    "  # end epochs\n",
    "\n",
    "  # function output\n",
    "  return trainAcc,devAcc,losses,theBestModel"
   ]
  },
  {
   "cell_type": "markdown",
   "id": "c2d2df76",
   "metadata": {},
   "source": [
    "# Run the model and plot the results"
   ]
  },
  {
   "cell_type": "code",
   "execution_count": null,
   "id": "9e4fd29a",
   "metadata": {},
   "outputs": [],
   "source": [
    "# run the model\n",
    "trainAcc,devAcc,losses,theBestModel = funtion2trainTheModel()"
   ]
  },
  {
   "cell_type": "code",
   "execution_count": null,
   "id": "2fcff345",
   "metadata": {},
   "outputs": [],
   "source": [
    "fig,ax = plt.subplots(1,2,figsize=(16,5))\n",
    "\n",
    "ax[0].plot(losses.detach(),'o-')\n",
    "ax[0].set_ylabel('Loss')\n",
    "ax[0].set_xlabel('epoch')\n",
    "ax[0].set_title('Losses')\n",
    "\n",
    "ax[1].plot(trainAcc,'o-',label='Train')\n",
    "ax[1].plot(devAcc,'o-',label='Devset')\n",
    "ax[1].set_ylabel('Accuracy (%)')\n",
    "ax[1].set_xlabel('Epoch')\n",
    "ax[1].set_title('Accuracy')\n",
    "ax[1].set_ylim([85,95])\n",
    "ax[1].set_xlim([80,105])\n",
    "ax[1].legend()\n",
    "plt.show()"
   ]
  },
  {
   "cell_type": "code",
   "execution_count": null,
   "id": "30f3085d",
   "metadata": {},
   "outputs": [],
   "source": [
    "theBestModel"
   ]
  },
  {
   "cell_type": "code",
   "execution_count": null,
   "id": "f9e9ba9d",
   "metadata": {},
   "outputs": [],
   "source": [
    "# extract X,y from test dataloader\n",
    "X,y = next(iter(test_loader)) \n",
    "\n",
    "# yHat = theBestModel['net'](X)"
   ]
  },
  {
   "cell_type": "code",
   "execution_count": null,
   "id": "fadb4f84",
   "metadata": {
    "lines_to_next_cell": 2
   },
   "outputs": [],
   "source": [
    "# recreate the best-performing model\n",
    "bestnet = createTheQwertyNet()[0]\n",
    "bestnet.load_state_dict(theBestModel['net'])"
   ]
  },
  {
   "cell_type": "code",
   "execution_count": null,
   "id": "0d679d47",
   "metadata": {},
   "outputs": [],
   "source": [
    "# and run the data through TEST\n",
    "X,y = next(iter(test_loader)) \n",
    "yHat = bestnet(X)\n",
    "\n",
    "bestAcc = 100*torch.mean((torch.argmax(yHat,axis=1)==y).float())\n",
    "bestAcc"
   ]
  },
  {
   "cell_type": "code",
   "execution_count": null,
   "id": "71f25a10",
   "metadata": {},
   "outputs": [],
   "source": [
    "fig = plt.figure(figsize=(10,5))\n",
    "\n",
    "plt.plot(trainAcc,'o-',label='Train')\n",
    "plt.plot(devAcc,'o-',label='Devset')\n",
    "plt.plot([0,len(devAcc)],[bestAcc,bestAcc],'r--',label='Best dev model on TEST')\n",
    "plt.ylabel('Accuracy (%)')\n",
    "plt.xlabel('Epoch')\n",
    "plt.title('Accuracy')\n",
    "plt.ylim([bestAcc-5,bestAcc+5])\n",
    "plt.legend()\n",
    "plt.show()"
   ]
  },
  {
   "cell_type": "code",
   "execution_count": null,
   "id": "f822eb4b",
   "metadata": {},
   "outputs": [],
   "source": []
  }
 ],
 "metadata": {
  "jupytext": {
   "cell_metadata_filter": "-all",
   "main_language": "python",
   "notebook_metadata_filter": "-all"
  }
 },
 "nbformat": 4,
 "nbformat_minor": 5
}
