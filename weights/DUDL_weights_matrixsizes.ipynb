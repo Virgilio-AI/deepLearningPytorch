{
 "cells": [
  {
   "cell_type": "code",
   "execution_count": null,
   "id": "d6ec4e09",
   "metadata": {},
   "outputs": [],
   "source": [
    "# Date: 19/November/2022 - Saturday\n",
    "# Author: Virgilio Murillo Ochoa\n",
    "# personal github: Virgilio-AI\n",
    "# linkedin: https://www.linkedin.com/in/virgilio-murillo-ochoa-b29b59203\n",
    "# contact: virgiliomurilloochoa1@gmail.com\n",
    "# web: virgiliomurillo.com"
   ]
  },
  {
   "cell_type": "code",
   "execution_count": null,
   "id": "eb67d9cb",
   "metadata": {},
   "outputs": [],
   "source": [
    "# import libraries\n",
    "import torch\n",
    "import torch.nn as nn"
   ]
  },
  {
   "cell_type": "markdown",
   "id": "b4494745",
   "metadata": {},
   "source": [
    "# Create a model and inspect its weight matrices sizes"
   ]
  },
  {
   "cell_type": "code",
   "execution_count": null,
   "id": "7b513099",
   "metadata": {},
   "outputs": [],
   "source": [
    "# build a model\n",
    "aModel = nn.Sequential(\n",
    "    nn.Linear(10,14),  # input layer\n",
    "    nn.Linear(14,19),  # hidden layer\n",
    "    nn.Linear(19,8),   # output layer\n",
    "      )\n",
    "\n",
    "aModel"
   ]
  },
  {
   "cell_type": "code",
   "execution_count": null,
   "id": "a38fd18f",
   "metadata": {},
   "outputs": [],
   "source": [
    "# print the sizes of the weights matrices in each layer\n",
    "for i in range(len(aModel)):\n",
    "  print( aModel[i].weight.shape )"
   ]
  },
  {
   "cell_type": "markdown",
   "id": "8eddf333",
   "metadata": {},
   "source": [
    "# Build a model with inconsistent layer shapes"
   ]
  },
  {
   "cell_type": "code",
   "execution_count": null,
   "id": "3c991af0",
   "metadata": {},
   "outputs": [],
   "source": [
    "M2 = nn.Sequential(\n",
    "    nn.Linear(10,14),  # input layer\n",
    "    nn.Linear(14,9),   # hidden layer\n",
    "    nn.Linear(19,8),   # output layer\n",
    "      )\n",
    "\n",
    "for i in range(len(M2)):\n",
    "  print( M2[i].weight.shape )"
   ]
  },
  {
   "cell_type": "markdown",
   "id": "c9f802e9",
   "metadata": {},
   "source": [
    "# Test both models with fake data"
   ]
  },
  {
   "cell_type": "code",
   "execution_count": null,
   "id": "91cc02d5",
   "metadata": {},
   "outputs": [],
   "source": [
    "# generate the data\n",
    "nsamples = 5\n",
    "nfeatures = 10\n",
    "\n",
    "fakedata = torch.randn(nsamples,nfeatures)"
   ]
  },
  {
   "cell_type": "code",
   "execution_count": null,
   "id": "210209e5",
   "metadata": {},
   "outputs": [],
   "source": [
    "# test the first model\n",
    "\n",
    "# does the size of the output make sense?\n",
    "aModel(fakedata).shape"
   ]
  },
  {
   "cell_type": "code",
   "execution_count": null,
   "id": "873b416d",
   "metadata": {},
   "outputs": [],
   "source": [
    "# test the second model\n",
    "\n",
    "# does the size of the output make sense?\n",
    "M2(fakedata).shape"
   ]
  },
  {
   "cell_type": "code",
   "execution_count": null,
   "id": "3eded941",
   "metadata": {},
   "outputs": [],
   "source": []
  }
 ],
 "metadata": {
  "jupytext": {
   "cell_metadata_filter": "-all",
   "main_language": "python",
   "notebook_metadata_filter": "-all"
  }
 },
 "nbformat": 4,
 "nbformat_minor": 5
}
