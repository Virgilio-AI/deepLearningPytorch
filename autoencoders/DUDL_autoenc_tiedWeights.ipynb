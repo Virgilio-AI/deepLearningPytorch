{
 "cells": [
  {
   "cell_type": "code",
   "execution_count": null,
   "id": "26897d32",
   "metadata": {},
   "outputs": [],
   "source": [
    "# Date: 19/November/2022 - Saturday\n",
    "# Author: Virgilio Murillo Ochoa\n",
    "# personal github: Virgilio-AI\n",
    "# linkedin: https://www.linkedin.com/in/virgilio-murillo-ochoa-b29b59203\n",
    "# contact: virgiliomurilloochoa1@gmail.com\n",
    "# web: virgiliomurillo.com"
   ]
  },
  {
   "cell_type": "code",
   "execution_count": null,
   "id": "6da00acb",
   "metadata": {},
   "outputs": [],
   "source": [
    "# import libraries\n",
    "import numpy as np\n",
    "\n",
    "import torch\n",
    "import torch.nn as nn\n",
    "import torch.nn.functional as F\n",
    "\n",
    "import matplotlib.pyplot as plt\n",
    "from IPython import display\n",
    "display.set_matplotlib_formats('svg')"
   ]
  },
  {
   "cell_type": "markdown",
   "id": "ef502152",
   "metadata": {},
   "source": [
    "# An aside on Linear vs. Parameter classes"
   ]
  },
  {
   "cell_type": "code",
   "execution_count": null,
   "id": "a13eb5ff",
   "metadata": {},
   "outputs": [],
   "source": [
    "# create an input and weights matrix\n",
    "x  = torch.rand(10,50)\n",
    "W1 = nn.Parameter(torch.randn(128,50))\n",
    "\n",
    "# Let's see what W1 is\n",
    "print(W1)\n",
    "print('\\n\\n')\n",
    "\n",
    "# # Its size and the size of its transpose\n",
    "# print(W1.shape)\n",
    "# print(W1.t().shape)\n",
    "# print('\\n\\n')\n",
    "\n",
    "# # compute an output\n",
    "# y = x@W1\n",
    "# print(y.shape)"
   ]
  },
  {
   "cell_type": "code",
   "execution_count": null,
   "id": "60adf193",
   "metadata": {},
   "outputs": [],
   "source": [
    "# Now try again with the Linear method\n",
    "W2 = nn.Linear(128,50)\n",
    "\n",
    "# Let's see what W2 is\n",
    "print(W2)\n",
    "print('\\n\\n')\n",
    "\n",
    "# # Its size and the size of its transpose\n",
    "# print(W2.shape)\n",
    "# print(W2.weight.t().shape)\n",
    "# print('\\n\\n')\n",
    "\n",
    "# # compute an output\n",
    "# y = x @ (W2.weight)\n",
    "# print(y.shape)"
   ]
  },
  {
   "cell_type": "code",
   "execution_count": null,
   "id": "c8a2023d",
   "metadata": {},
   "outputs": [],
   "source": [
    "# confusion from the previous cells\n",
    "print(W1.shape)\n",
    "print(W2.weight.shape)\n",
    "\n",
    "# confusion solved ;)\n",
    "# (size of W -> [outputs,inputs], but nn.Linear expects [inputs,outputs])"
   ]
  },
  {
   "cell_type": "code",
   "execution_count": null,
   "id": "7e3c2ed6",
   "metadata": {},
   "outputs": [],
   "source": [
    "# see all attributes of the class Linear\n",
    "dir(nn.Linear)\n",
    "\n",
    "# and the docstring for Linear.forward\n",
    "# ??nn.Linear.forward()\n",
    "# ??nn.Linear.__init__() # note the inputs vs. how weight is created"
   ]
  },
  {
   "cell_type": "markdown",
   "id": "6271d39d",
   "metadata": {},
   "source": [
    "# Import and process the data"
   ]
  },
  {
   "cell_type": "code",
   "execution_count": null,
   "id": "e23a991f",
   "metadata": {},
   "outputs": [],
   "source": [
    "# import dataset (comes with colab!)\n",
    "data = np.loadtxt(open('sample_data/mnist_train_small.csv','rb'),delimiter=',')\n",
    "\n",
    "# don't need labels!\n",
    "data = data[:,1:]\n",
    "\n",
    "# normalize the data to a range of [0 1]\n",
    "dataNorm = data / np.max(data)\n",
    "\n",
    "# convert to tensor\n",
    "dataT = torch.tensor( dataNorm ).float()"
   ]
  },
  {
   "cell_type": "code",
   "execution_count": null,
   "id": "36c798d7",
   "metadata": {},
   "outputs": [],
   "source": []
  },
  {
   "cell_type": "markdown",
   "id": "e6a0bfbd",
   "metadata": {},
   "source": [
    "# Create the DL model"
   ]
  },
  {
   "cell_type": "code",
   "execution_count": null,
   "id": "38eebf56",
   "metadata": {},
   "outputs": [],
   "source": [
    "# create a class for the model\n",
    "def createTheMNISTAE():\n",
    "\n",
    "  class aenet(nn.Module):\n",
    "    def __init__(self):\n",
    "      super().__init__()\n",
    "\n",
    "      ### input layer\n",
    "      self.input = nn.Linear(784,128)\n",
    "      \n",
    "      ### encoder layer\n",
    "      self.enc = nn.Parameter(torch.randn(50,128))\n",
    "      # self.enc = nn.Linear(128,50) # not used! left here for comparison\n",
    "\n",
    "      ### latent layer (not used!)\n",
    "      #self.lat = nn.Linear(50,128)\n",
    "\n",
    "      ### decoder layer\n",
    "      self.dec = nn.Linear(128,784)\n",
    "\n",
    "    # forward pass\n",
    "    def forward(self,x):\n",
    "      # \"normal\" forward prop in first stage\n",
    "      x = F.relu( self.input(x) )\n",
    "\n",
    "      # a Parameter type is not a Linear type, so we implement the multiplication directly\n",
    "      x = x.t() # need to transpose the input matrix due to multisample input matrices\n",
    "      x = F.relu( self.enc@x )\n",
    "\n",
    "      # same for the decoding layer but reversed\n",
    "      x = F.relu( self.enc.t()@x )\n",
    "      x = x.t() # and then transpose it back\n",
    "\n",
    "      # \"normal\" final stage\n",
    "      y = torch.sigmoid( self.dec(x) )\n",
    "      return y\n",
    "  \n",
    "  # create the model instance\n",
    "  net = aenet()\n",
    "  \n",
    "  # loss function\n",
    "  lossfun = nn.MSELoss()\n",
    "\n",
    "  # optimizer\n",
    "  optimizer = torch.optim.Adam(net.parameters(),lr=.001)\n",
    "\n",
    "  return net,lossfun,optimizer"
   ]
  },
  {
   "cell_type": "code",
   "execution_count": null,
   "id": "a395835f",
   "metadata": {},
   "outputs": [],
   "source": [
    "# test the model with a bit of data\n",
    "net,lossfun,optimizer = createTheMNISTAE()\n",
    "\n",
    "X = dataT[:5,:]\n",
    "yHat = net(X)\n",
    "\n",
    "print(X.shape)\n",
    "print(yHat.shape)"
   ]
  },
  {
   "cell_type": "markdown",
   "id": "3294ffd3",
   "metadata": {},
   "source": [
    "# Create a function that trains the model"
   ]
  },
  {
   "cell_type": "code",
   "execution_count": null,
   "id": "8e5081dd",
   "metadata": {},
   "outputs": [],
   "source": [
    "def function2trainTheModel():\n",
    "\n",
    "  # number of epochs\n",
    "  numepochs = 10000\n",
    "  \n",
    "  # create a new model\n",
    "  net,lossfun,optimizer = createTheMNISTAE()\n",
    "\n",
    "  # initialize losses\n",
    "  losses = torch.zeros(numepochs)\n",
    "\n",
    "\n",
    "  # loop over epochs\n",
    "  for epochi in range(numepochs):\n",
    "\n",
    "    # select a random set of images\n",
    "    randomidx = np.random.choice(dataT.shape[0],size=32)\n",
    "    X = dataT[randomidx,:]\n",
    "\n",
    "    # forward pass and loss\n",
    "    yHat = net(X)\n",
    "    loss = lossfun(yHat,X)\n",
    "\n",
    "    # backprop\n",
    "    optimizer.zero_grad()\n",
    "    loss.backward()\n",
    "    optimizer.step()\n",
    "\n",
    "    # losses in this epoch\n",
    "    losses[epochi] = loss.item()\n",
    "  # end epochs\n",
    "\n",
    "  # function output\n",
    "  return losses,net"
   ]
  },
  {
   "cell_type": "markdown",
   "id": "c567ad5e",
   "metadata": {},
   "source": [
    "# Run the model and show the results!"
   ]
  },
  {
   "cell_type": "code",
   "execution_count": null,
   "id": "cbb4db08",
   "metadata": {},
   "outputs": [],
   "source": [
    "# train the model\n",
    "losses,net = function2trainTheModel()\n",
    "print(f'Final loss: {losses[-1]:.4f}')\n",
    "\n",
    "# visualize the losses\n",
    "plt.plot(losses,'.-')\n",
    "plt.xlabel('Epochs')\n",
    "plt.ylabel('Model loss')\n",
    "plt.show()"
   ]
  },
  {
   "cell_type": "code",
   "execution_count": null,
   "id": "f14690db",
   "metadata": {},
   "outputs": [],
   "source": [
    "# Visualization of inputs and outputs\n",
    "X = dataT[:5,:]\n",
    "yHat = net(X)\n",
    "\n",
    "\n",
    "# let's see what the model did!\n",
    "fig,axs = plt.subplots(2,5,figsize=(10,3))\n",
    "\n",
    "for i in range(5):\n",
    "  axs[0,i].imshow(X[i,:].view(28,28).detach() ,cmap='gray')\n",
    "  axs[1,i].imshow(yHat[i,:].view(28,28).detach() ,cmap='gray')\n",
    "  axs[0,i].set_xticks([]), axs[0,i].set_yticks([])\n",
    "  axs[1,i].set_xticks([]), axs[1,i].set_yticks([])\n",
    "  \n",
    "plt.suptitle('Model output with tied layers')\n",
    "plt.show()"
   ]
  },
  {
   "cell_type": "markdown",
   "id": "2daafd45",
   "metadata": {},
   "source": [
    "# Add noise to see a use case of an autoencoder"
   ]
  },
  {
   "cell_type": "code",
   "execution_count": null,
   "id": "31ddf3b9",
   "metadata": {},
   "outputs": [],
   "source": [
    "# grab a small set of images\n",
    "X = dataT[:10,:]\n",
    "\n",
    "# add noise\n",
    "Xnoise = X + torch.rand_like(X)/4\n",
    "\n",
    "# clip at 1\n",
    "Xnoise[Xnoise>1] = 1\n",
    "\n",
    "\n",
    "# show the noisy images\n",
    "fig,axs = plt.subplots(2,5,figsize=(10,3))\n",
    "\n",
    "for i in range(5):\n",
    "  axs[0,i].imshow(X[i,:].view(28,28).detach() ,cmap='gray')\n",
    "  axs[1,i].imshow(Xnoise[i,:].view(28,28).detach() ,cmap='gray')\n",
    "  axs[0,i].set_xticks([]), axs[0,i].set_yticks([])\n",
    "  axs[1,i].set_xticks([]), axs[1,i].set_yticks([])\n",
    "  \n",
    "plt.show()"
   ]
  },
  {
   "cell_type": "code",
   "execution_count": null,
   "id": "66bf44a5",
   "metadata": {},
   "outputs": [],
   "source": [
    "# run through the model\n",
    "Y = net(Xnoise)\n",
    "\n",
    "\n",
    "# show the noisy images\n",
    "fig,axs = plt.subplots(3,10,figsize=(12,5))\n",
    "\n",
    "for i in range(10):\n",
    "  axs[0,i].imshow(X[i,:].view(28,28).detach() ,cmap='gray')\n",
    "  axs[1,i].imshow(Xnoise[i,:].view(28,28).detach() ,cmap='gray')\n",
    "  axs[2,i].imshow(Y[i,:].view(28,28).detach() ,cmap='gray')\n",
    "  axs[0,i].set_xticks([]), axs[0,i].set_yticks([])\n",
    "  axs[1,i].set_xticks([]), axs[1,i].set_yticks([])\n",
    "  axs[2,i].set_xticks([]), axs[2,i].set_yticks([])\n",
    "  \n",
    "plt.suptitle('Neato.')\n",
    "plt.show()"
   ]
  },
  {
   "cell_type": "code",
   "execution_count": null,
   "id": "c6ff75a3",
   "metadata": {},
   "outputs": [],
   "source": []
  },
  {
   "cell_type": "markdown",
   "id": "f8b00b98",
   "metadata": {},
   "source": [
    "# Additional explorations"
   ]
  },
  {
   "cell_type": "code",
   "execution_count": null,
   "id": "fd83d192",
   "metadata": {},
   "outputs": [],
   "source": [
    "# 1) The network we built here is not a truly mirrored network: We tied the encoder/decoder layers, but left the input\n",
    "#    and output layers separate. That's not wrong or bad or anything; it's just a choice. Modify the code to create\n",
    "#    a truly mirrored network, where all decoding layers are tied to their corresponding encoding layers.\n",
    "# \n",
    "# 2) You don't need to use nn.Parameter; you can still accomplish what we did by using nn.Linear and extracting the\n",
    "#    weights matrices. Rewrite the code to use nn.Linear instead of nn.Parameter.\n",
    "# "
   ]
  }
 ],
 "metadata": {
  "jupytext": {
   "cell_metadata_filter": "-all",
   "main_language": "python",
   "notebook_metadata_filter": "-all"
  }
 },
 "nbformat": 4,
 "nbformat_minor": 5
}
