{
 "cells": [
  {
   "cell_type": "code",
   "execution_count": null,
   "id": "d8d82ccf",
   "metadata": {},
   "outputs": [],
   "source": [
    "# Date: 19/November/2022 - Saturday\n",
    "# Author: Virgilio Murillo Ochoa\n",
    "# personal github: Virgilio-AI\n",
    "# linkedin: https://www.linkedin.com/in/virgilio-murillo-ochoa-b29b59203\n",
    "# contact: virgiliomurilloochoa1@gmail.com\n",
    "# web: virgiliomurillo.com"
   ]
  },
  {
   "cell_type": "code",
   "execution_count": null,
   "id": "da2a4e9c",
   "metadata": {},
   "outputs": [],
   "source": [
    "# import libraries\n",
    "import numpy as np\n",
    "\n",
    "import torch\n",
    "import torch.nn as nn\n",
    "import torch.nn.functional as F\n",
    "from torch.utils.data import DataLoader,TensorDataset\n",
    "from sklearn.model_selection import train_test_split\n",
    "\n",
    "import copy\n",
    "\n",
    "import matplotlib.pyplot as plt\n",
    "from IPython import display\n",
    "display.set_matplotlib_formats('svg')"
   ]
  },
  {
   "cell_type": "markdown",
   "id": "ee46f424",
   "metadata": {},
   "source": [
    "# Import and process the data"
   ]
  },
  {
   "cell_type": "code",
   "execution_count": null,
   "id": "2fd8dcfa",
   "metadata": {},
   "outputs": [],
   "source": [
    "# import dataset (comes with colab!)\n",
    "data = np.loadtxt(open('sample_data/mnist_train_small.csv','rb'),delimiter=',')\n",
    "\n",
    "# extract labels (number IDs) and remove from data\n",
    "labels = data[:,0]\n",
    "data   = data[:,1:]\n",
    "\n",
    "# normalize the data to a range of [0 1]\n",
    "dataNorm = data / np.max(data)"
   ]
  },
  {
   "cell_type": "code",
   "execution_count": null,
   "id": "32c62aa1",
   "metadata": {},
   "outputs": [],
   "source": [
    "# Step 1: convert to tensor\n",
    "dataT   = torch.tensor( dataNorm ).float()\n",
    "labelsT = torch.tensor( labels ).long()\n",
    "\n",
    "# Step 2: use scikitlearn to split the data\n",
    "train_data,test_data, train_labels,test_labels = train_test_split(dataT, labelsT, test_size=.1)\n",
    "\n",
    "# Step 3: convert into PyTorch Datasets\n",
    "train_data = TensorDataset(train_data,train_labels)\n",
    "test_data  = TensorDataset(test_data,test_labels)\n",
    "\n",
    "# Step 4: translate into dataloader objects\n",
    "batchsize    = 32\n",
    "train_loader = DataLoader(train_data,batch_size=batchsize,shuffle=True,drop_last=True)\n",
    "test_loader  = DataLoader(test_data,batch_size=test_data.tensors[0].shape[0])"
   ]
  },
  {
   "cell_type": "markdown",
   "id": "53380050",
   "metadata": {},
   "source": [
    "# Create the DL model"
   ]
  },
  {
   "cell_type": "code",
   "execution_count": null,
   "id": "46bee99e",
   "metadata": {},
   "outputs": [],
   "source": [
    "# create a class for the model\n",
    "def createTheMNISTNet():\n",
    "\n",
    "  class mnistNet(nn.Module):\n",
    "    def __init__(self):\n",
    "      super().__init__()\n",
    "\n",
    "      ### input layer\n",
    "      self.input = nn.Linear(784,64)\n",
    "      \n",
    "      ### hidden layer\n",
    "      self.fc1 = nn.Linear(64,32)\n",
    "      self.fc2 = nn.Linear(32,32)\n",
    "\n",
    "      ### output layer\n",
    "      self.output = nn.Linear(32,10)\n",
    "\n",
    "    # forward pass\n",
    "    def forward(self,x):\n",
    "      x = F.relu( self.input(x) )\n",
    "      x = F.relu( self.fc1(x) )\n",
    "      x = F.relu( self.fc2(x) )\n",
    "      return self.output(x)\n",
    "  \n",
    "  # create the model instance\n",
    "  net = mnistNet()\n",
    "  \n",
    "  # loss function\n",
    "  lossfun = nn.CrossEntropyLoss()\n",
    "\n",
    "  # optimizer (Note: SGD to slow down learning!)\n",
    "  optimizer = torch.optim.SGD(net.parameters(),lr=.001)\n",
    "\n",
    "  return net,lossfun,optimizer"
   ]
  },
  {
   "cell_type": "markdown",
   "id": "05e951b5",
   "metadata": {},
   "source": [
    "# Create a function that trains the model"
   ]
  },
  {
   "cell_type": "code",
   "execution_count": null,
   "id": "09fdf1f9",
   "metadata": {},
   "outputs": [],
   "source": [
    "def function2trainTheModel(net,lossfun,optimizer):\n",
    "\n",
    "  # number of epochs\n",
    "  numepochs = 60\n",
    "  \n",
    "  # initialize losses\n",
    "  losses    = torch.zeros(numepochs)\n",
    "  trainAcc  = []\n",
    "  testAcc   = []\n",
    "\n",
    "  # initialize weight change matrices\n",
    "  weightChange = np.zeros((numepochs,4))\n",
    "  weightConds  = np.zeros((numepochs,4))\n",
    "\n",
    "  # loop over epochs\n",
    "  for epochi in range(numepochs):\n",
    "\n",
    "    # store the weights for each layer\n",
    "    preW = []\n",
    "    for p in net.named_parameters():\n",
    "      if 'weight' in p[0]:\n",
    "        preW.append( copy.deepcopy(p[1].data.numpy()) )\n",
    "\n",
    "\n",
    "    # loop over training data batches\n",
    "    net.train()\n",
    "    batchAcc  = []\n",
    "    batchLoss = []\n",
    "    for X,y in train_loader:\n",
    "\n",
    "      # forward pass and loss\n",
    "      yHat = net(X)\n",
    "      loss = lossfun(yHat,y)\n",
    "\n",
    "      # backprop\n",
    "      optimizer.zero_grad()\n",
    "      loss.backward()\n",
    "      optimizer.step()\n",
    "\n",
    "      # loss from this batch\n",
    "      batchLoss.append(loss.item())\n",
    "\n",
    "      # compute accuracy\n",
    "      matches = torch.argmax(yHat,axis=1) == y     # booleans (false/true)\n",
    "      matchesNumeric = matches.float()             # convert to numbers (0/1)\n",
    "      accuracyPct = 100*torch.mean(matchesNumeric) # average and x100\n",
    "      batchAcc.append( accuracyPct )               # add to list of accuracies\n",
    "    # end of batch loop...\n",
    "\n",
    "    # now that we've trained through the batches, get their average training accuracy\n",
    "    trainAcc.append( np.mean(batchAcc) )\n",
    "\n",
    "    # and get average losses across the batches\n",
    "    losses[epochi] = np.mean(batchLoss)\n",
    "\n",
    "    # test accuracy\n",
    "    net.eval()\n",
    "    X,y = next(iter(test_loader)) # extract X,y from test dataloader\n",
    "    with torch.no_grad(): # deactivates autograd\n",
    "      yHat = net(X)\n",
    "      \n",
    "    # compare the following really long line of code to the training accuracy lines\n",
    "    testAcc.append( 100*torch.mean((torch.argmax(yHat,axis=1)==y).float()) )\n",
    "\n",
    "\n",
    "    # finally, get the post-learning state of the weights\n",
    "    for (i,p) in enumerate(net.named_parameters()):\n",
    "      if 'weight' in p[0]:\n",
    "        # condition number\n",
    "        weightConds[epochi,int(i/2)]  = np.linalg.cond(p[1].data)\n",
    "\n",
    "        # Frobenius norm of the weight change from pre-learning\n",
    "        weightChange[epochi,int(i/2)] = np.linalg.norm( preW[int(i/2)]-p[1].data.numpy(), ord='fro')\n",
    "\n",
    "  # end epochs\n",
    "\n",
    "  # function output\n",
    "  return trainAcc,testAcc,losses,net,weightChange,weightConds,preW"
   ]
  },
  {
   "cell_type": "markdown",
   "id": "963b4d81",
   "metadata": {},
   "source": [
    "# Run the model and plot the results"
   ]
  },
  {
   "cell_type": "code",
   "execution_count": null,
   "id": "098c4bbc",
   "metadata": {},
   "outputs": [],
   "source": [
    "# create the network\n",
    "net,lossfun,optimizer = createTheMNISTNet()\n",
    "\n",
    "# train the model\n",
    "trainAcc,testAcc,losses,net,weightChange,weightConds,preW = function2trainTheModel(net,lossfun,optimizer)"
   ]
  },
  {
   "cell_type": "code",
   "execution_count": null,
   "id": "75181acb",
   "metadata": {},
   "outputs": [],
   "source": [
    "# Show the results!\n",
    "\n",
    "# get a list of layer names\n",
    "layername = []\n",
    "for (i,p) in enumerate(net.named_parameters()):\n",
    "  if 'weight' in p[0]:\n",
    "    layername.append(p[0][:-7])\n",
    "\n",
    "\n",
    "# set up the plot\n",
    "fig,ax = plt.subplots(1,3,figsize=(16,3))\n",
    "\n",
    "# accuracy\n",
    "ax[0].plot(trainAcc)\n",
    "ax[0].plot(testAcc)\n",
    "ax[0].set_xlabel('Epochs')\n",
    "ax[0].set_ylabel('Accuracy (%)')\n",
    "ax[0].set_title('Accuracy')\n",
    "ax[0].legend(['Train','Test'])\n",
    "\n",
    "# weight changes\n",
    "ax[1].plot(weightChange)\n",
    "ax[1].set_xlabel('Epochs')\n",
    "ax[1].set_title('Weight change from previous epoch')\n",
    "ax[1].legend(layername)\n",
    "\n",
    "# weight condition numbers\n",
    "ax[2].plot(weightConds)\n",
    "ax[2].set_xlabel('Epochs')\n",
    "ax[2].set_title('Condition number')\n",
    "ax[2].legend(layername)\n",
    "ax[2].set_ylim([0,20])\n",
    "\n",
    "plt.show()"
   ]
  },
  {
   "cell_type": "code",
   "execution_count": null,
   "id": "64838836",
   "metadata": {},
   "outputs": [],
   "source": [
    "# final inspection: check the derivative of accuracy against the weight change\n",
    "from scipy.stats import zscore # normalize for scaling offsets\n",
    "\n",
    "plt.plot(zscore(np.diff(trainAcc)),label='d(trainAcc)')\n",
    "plt.plot(zscore(np.mean(weightChange,axis=1)),label='Weight change')\n",
    "plt.legend()\n",
    "plt.title('Change in weights by change in accuracy')\n",
    "plt.xlabel('Epoch')\n",
    "plt.show()"
   ]
  },
  {
   "cell_type": "code",
   "execution_count": null,
   "id": "102abe58",
   "metadata": {},
   "outputs": [],
   "source": []
  },
  {
   "cell_type": "markdown",
   "id": "a43c1fe6",
   "metadata": {},
   "source": [
    "# Additional explorations"
   ]
  },
  {
   "cell_type": "code",
   "execution_count": null,
   "id": "397b13f8",
   "metadata": {},
   "outputs": [],
   "source": [
    "# 1) Re-run the training and visualization with L2 regularization (lambda=.01). Does that have a major noticeable effect?\n",
    "# \n",
    "# 2) Then try with L1 regularization. (Hint: you might want to copy code from DUDL_overfitting_L1regu).\n",
    "# "
   ]
  }
 ],
 "metadata": {
  "jupytext": {
   "cell_metadata_filter": "-all",
   "main_language": "python",
   "notebook_metadata_filter": "-all"
  }
 },
 "nbformat": 4,
 "nbformat_minor": 5
}
