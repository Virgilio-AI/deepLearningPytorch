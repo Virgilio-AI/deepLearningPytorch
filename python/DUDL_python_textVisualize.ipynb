{
 "cells": [
  {
   "cell_type": "code",
   "execution_count": null,
   "id": "371ff6ca",
   "metadata": {},
   "outputs": [],
   "source": [
    "# Date: 19/November/2022 - Saturday\n",
    "# Author: Virgilio Murillo Ochoa\n",
    "# personal github: Virgilio-AI\n",
    "# linkedin: https://www.linkedin.com/in/virgilio-murillo-ochoa-b29b59203\n",
    "# contact: virgiliomurilloochoa1@gmail.com\n",
    "# web: virgiliomurillo.com"
   ]
  },
  {
   "cell_type": "markdown",
   "id": "d7b584c6",
   "metadata": {},
   "source": [
    "# .\n",
    "# .\n",
    "# ."
   ]
  },
  {
   "cell_type": "markdown",
   "id": "803349f2",
   "metadata": {},
   "source": [
    "# VIDEO: fprintf and f-strings\n"
   ]
  },
  {
   "cell_type": "code",
   "execution_count": null,
   "id": "0e57a5fd",
   "metadata": {},
   "outputs": [],
   "source": [
    "# string formatting\n",
    "\n",
    "num = 45.3\n",
    "sng = 'cellar doors'\n",
    "\n",
    "print( 'I would like to have ' + str(num) + ' ' + sng )"
   ]
  },
  {
   "cell_type": "code",
   "execution_count": null,
   "id": "a105f13a",
   "metadata": {},
   "outputs": [],
   "source": [
    "print( 'I would like to have %g %s.'%(num,sng) ) # i, g, s\n",
    "\n",
    "print( 'I would like to have %10.3f %s.'%(num,sng) )"
   ]
  },
  {
   "cell_type": "code",
   "execution_count": null,
   "id": "60af34a8",
   "metadata": {},
   "outputs": [],
   "source": [
    "print( 'I would like to have %g %s.'%(num**2/18.5,sng) )"
   ]
  },
  {
   "cell_type": "code",
   "execution_count": null,
   "id": "50f51e93",
   "metadata": {
    "lines_to_next_cell": 2
   },
   "outputs": [],
   "source": [
    "# f-strings\n",
    "print(f'I would like to have {num} {sng}.')"
   ]
  },
  {
   "cell_type": "code",
   "execution_count": null,
   "id": "4afc9ae9",
   "metadata": {
    "lines_to_next_cell": 2
   },
   "outputs": [],
   "source": [
    "\n",
    "print('I would like to have {n} {s}.'.format(n=num,s=sng))"
   ]
  },
  {
   "cell_type": "markdown",
   "id": "e77e7406",
   "metadata": {},
   "source": [
    "### Exercise"
   ]
  },
  {
   "cell_type": "code",
   "execution_count": null,
   "id": "4552c117",
   "metadata": {},
   "outputs": [],
   "source": [
    "# Exercise: print the letter and number of the alphabet. use correct ordinal indicators.\n",
    "\n",
    "import string\n",
    "letters = string.ascii_lowercase\n",
    "\n",
    "for i in range(len(letters)):\n",
    "  if i==0 or i==20:\n",
    "    ordind = 'st'\n",
    "  elif i==1 or i==21:\n",
    "    ordind = 'nd'\n",
    "  elif i==2 or i==22:\n",
    "    ordind = 'rd'\n",
    "  else:\n",
    "    ordind = 'th'\n",
    "\n",
    "  # print('%s is the %g%s letter of the alphabet.' %(letters[i],i+1,ordind))\n",
    "  print(f'{letters[i]} is the {i+1}{ordind} letter of the alphabet.')"
   ]
  },
  {
   "cell_type": "code",
   "execution_count": null,
   "id": "a2840d10",
   "metadata": {
    "lines_to_next_cell": 2
   },
   "outputs": [],
   "source": [
    "# import numpy as np\n",
    "# import matplotlib.pyplot as plt\n",
    "\n",
    "# x = np.linspace(.001,3,99)\n",
    "\n",
    "# fix,ax = plt.subplots()\n",
    "# ax.plot(x,np.exp(x),color='b')\n",
    "# ax.set_ylabel('y=exp(x)')\n",
    "\n",
    "# axx = ax.twinx()\n",
    "# axx.plot(x,np.log(x),color='r')\n",
    "# axx.set_ylabel('y=log(x)')\n",
    "# axx.set_xlabel('x')"
   ]
  },
  {
   "cell_type": "markdown",
   "id": "639a4716",
   "metadata": {},
   "source": [
    "# .\n",
    "# .\n",
    "# ."
   ]
  },
  {
   "cell_type": "markdown",
   "id": "a5dcbcf7",
   "metadata": {},
   "source": [
    "# VIDEO: Plotting dots and lines"
   ]
  },
  {
   "cell_type": "code",
   "execution_count": null,
   "id": "3cb90e37",
   "metadata": {},
   "outputs": [],
   "source": [
    "import matplotlib.pyplot as plt\n",
    "\n",
    "plt.plot(3,4)#,'o')\n",
    "plt.plot(2,4,'s')"
   ]
  },
  {
   "cell_type": "code",
   "execution_count": null,
   "id": "5db19f23",
   "metadata": {},
   "outputs": [],
   "source": [
    "plt.plot(1,2,'ro')\n",
    "plt.plot(2,4,'bp')\n",
    "plt.show()\n",
    "\n",
    "plt.plot(3,2,'ro',label='red circle')\n",
    "plt.plot(3,4,'bp',label='blue pentagon')\n",
    "plt.legend()\n",
    "plt.show()"
   ]
  },
  {
   "cell_type": "code",
   "execution_count": null,
   "id": "375edbc8",
   "metadata": {
    "lines_to_next_cell": 2
   },
   "outputs": [],
   "source": [
    "# variables in plt\n",
    "a = 3\n",
    "b = 4\n",
    "plt.plot(a,a*2,'s')\n",
    "plt.plot(b,b**2,'o')"
   ]
  },
  {
   "cell_type": "code",
   "execution_count": null,
   "id": "281c93cc",
   "metadata": {},
   "outputs": [],
   "source": [
    "# plot lines\n",
    "\n",
    "plt.plot([0,1],[0,2],'r')\n",
    "plt.plot([0,0],[0,2],'g')"
   ]
  },
  {
   "cell_type": "code",
   "execution_count": null,
   "id": "7b366cbc",
   "metadata": {},
   "outputs": [],
   "source": [
    "import numpy as np\n",
    "\n",
    "x = np.linspace(0,3*np.pi,101)\n",
    "y = np.sin(x)\n",
    "\n",
    "plt.plot(x,y,'k.')"
   ]
  },
  {
   "cell_type": "code",
   "execution_count": null,
   "id": "80285eb9",
   "metadata": {},
   "outputs": [],
   "source": [
    "# exercise\n",
    "# draw you favorite letter! If your favorite letter has curves in it, then pick a new favorite letter with only straight lines.\n",
    "\n",
    "plt.plot([0,1],[0,1],'m',linewidth=14)\n",
    "plt.plot([0,1],[1,0],'m')\n",
    "plt.axis('square')\n",
    "plt.show()"
   ]
  },
  {
   "cell_type": "markdown",
   "id": "778c0e3b",
   "metadata": {},
   "source": [
    "# .\n",
    "# .\n",
    "# ."
   ]
  },
  {
   "cell_type": "markdown",
   "id": "134fcca1",
   "metadata": {},
   "source": [
    "# VIDEO: Subplot geometry"
   ]
  },
  {
   "cell_type": "code",
   "execution_count": null,
   "id": "caab79d5",
   "metadata": {},
   "outputs": [],
   "source": [
    "plt.subplot(1,2,1)\n",
    "plt.plot(np.random.randn(10))\n",
    "\n",
    "plt.subplot(1,2,2)\n",
    "plt.plot(np.random.randn(10))\n",
    "\n",
    "plt.show()"
   ]
  },
  {
   "cell_type": "code",
   "execution_count": null,
   "id": "237f37b2",
   "metadata": {
    "lines_to_next_cell": 2
   },
   "outputs": [],
   "source": [
    "x = np.arange(10)\n",
    "\n",
    "fig,ax = plt.subplots(1,3,figsize=(15,3)) # (w,h)\n",
    "\n",
    "ax[0].plot(x,x**2,'b')\n",
    "ax[1].plot(x,np.sqrt(x),'r')\n",
    "ax[2].plot(x,x)\n",
    "\n",
    "plt.show()"
   ]
  },
  {
   "cell_type": "code",
   "execution_count": null,
   "id": "de34ae6c",
   "metadata": {},
   "outputs": [],
   "source": [
    "fig,ax = plt.subplots(2,2)\n",
    "\n",
    "ax[0,0].plot(np.random.randn(4,4))\n",
    "ax[0,1].plot(np.random.randn(4,4))\n",
    "ax[1,0].plot(np.random.randn(4,4))\n",
    "ax[1,1].plot(np.random.randn(4,4))\n",
    "\n",
    "plt.tight_layout()\n",
    "plt.show()"
   ]
  },
  {
   "cell_type": "markdown",
   "id": "c70727bf",
   "metadata": {},
   "source": [
    "### Exercise"
   ]
  },
  {
   "cell_type": "code",
   "execution_count": null,
   "id": "7a1e0136",
   "metadata": {
    "lines_to_next_cell": 2
   },
   "outputs": [],
   "source": [
    "# Create a 3x3 subplot geometry and populate it inside a for loop\n",
    "# hint: .flatten() method in numpy\n",
    "\n",
    "M = np.random.randint(10,size=(4,4))\n",
    "\n",
    "print(M)\n",
    "print(' ')\n",
    "print(M.flatten())"
   ]
  },
  {
   "cell_type": "code",
   "execution_count": null,
   "id": "9b4f2e07",
   "metadata": {
    "lines_to_next_cell": 2
   },
   "outputs": [],
   "source": [
    "\n",
    "fig,ax = plt.subplots(3,3,figsize=(7,7))\n",
    "\n",
    "for i in ax.flatten():\n",
    "  i.plot(np.random.randn(4,5))\n",
    "\n",
    "plt.show()"
   ]
  },
  {
   "cell_type": "markdown",
   "id": "a4c5d0e8",
   "metadata": {},
   "source": [
    "# .\n",
    "# .\n",
    "# .\n"
   ]
  },
  {
   "cell_type": "markdown",
   "id": "aa313dff",
   "metadata": {},
   "source": [
    "# VIDEO: Making the graphs look nicer"
   ]
  },
  {
   "cell_type": "code",
   "execution_count": null,
   "id": "c53255d0",
   "metadata": {},
   "outputs": [],
   "source": [
    "import numpy as np\n",
    "import matplotlib.pyplot as plt"
   ]
  },
  {
   "cell_type": "code",
   "execution_count": null,
   "id": "a44852a7",
   "metadata": {},
   "outputs": [],
   "source": [
    "x = np.linspace(-3,3,101)\n",
    "\n",
    "plt.plot(x,x,label='y=x')\n",
    "plt.plot(x,x**2,label='y**2')\n",
    "plt.plot(x,x**3,label='y**3')\n",
    "\n",
    "plt.legend()\n",
    "plt.xlabel('X')\n",
    "plt.ylabel('y=f(x)')\n",
    "plt.title('A really awesome plot')\n",
    "\n",
    "plt.xlim([-3,3])\n",
    "plt.ylim([-10,10])\n",
    "# plt.axis('square') # square, equal\n",
    "plt.gca().set_aspect(.3)#'auto') # or number\n",
    "# plt.gca().set_aspect(1./plt.gca().get_data_ratio())\n",
    "\n",
    "plt.show()"
   ]
  },
  {
   "cell_type": "code",
   "execution_count": null,
   "id": "f4953c08",
   "metadata": {},
   "outputs": [],
   "source": [
    "x = np.linspace(-3,3,101)\n",
    "\n",
    "fix,ax = plt.subplots()\n",
    "\n",
    "ax.plot(x,x,label='y=x')\n",
    "ax.plot(x,x**2,label='y**2')\n",
    "ax.plot(x,x**3,label='y**3',color=[.8,.1,.7])\n",
    "\n",
    "ax.legend()\n",
    "ax.set_xlabel('X')\n",
    "ax.set_ylabel('y=f(x)')\n",
    "ax.set_title('A really awesome plot')\n",
    "\n",
    "ax.set_xlim([-3,3])\n",
    "ax.set_ylim([-10,10])\n",
    "ax.set_aspect('equal')\n",
    "ax.set_aspect(1/ax.get_data_ratio())\n",
    "\n",
    "ax.grid()\n",
    "\n",
    "plt.show()"
   ]
  },
  {
   "cell_type": "markdown",
   "id": "906d74c9",
   "metadata": {},
   "source": [
    "# Exercise"
   ]
  },
  {
   "cell_type": "code",
   "execution_count": null,
   "id": "0c812af4",
   "metadata": {},
   "outputs": [],
   "source": [
    "fig,ax = plt.subplots()\n",
    "\n",
    "x = np.linspace(0,10,100)\n",
    "\n",
    "for i in np.linspace(0,1,50):\n",
    "  ax.plot(x,x**i,color=[i/2,0,i])\n",
    "\n",
    "plt.show()"
   ]
  },
  {
   "cell_type": "markdown",
   "id": "7f0c5cea",
   "metadata": {},
   "source": [
    "# .\n",
    "# .\n",
    "# ."
   ]
  },
  {
   "cell_type": "markdown",
   "id": "77564a4b",
   "metadata": {},
   "source": [
    "# VIDEO: Adding annotations"
   ]
  },
  {
   "cell_type": "code",
   "execution_count": null,
   "id": "0e2f8648",
   "metadata": {},
   "outputs": [],
   "source": [
    "import matplotlib.pyplot as plt\n",
    "import numpy as np\n",
    "\n",
    "\n",
    "x = np.arange(-5,6)\n",
    "y = x**2\n",
    "\n",
    "fig, ax = plt.subplots()\n",
    "ax.plot(x,y,'ko-',markerfacecolor='w',markersize=15)\n",
    "ax.annotate('Hello',(x[3],y[3]),arrowprops=dict(),\n",
    "            xycoords='data',xytext=(0,10),horizontalalignment='center',fontsize=17)\n",
    "\n",
    "plt.show()"
   ]
  },
  {
   "cell_type": "code",
   "execution_count": null,
   "id": "7fb7952a",
   "metadata": {},
   "outputs": [],
   "source": [
    "with plt.xkcd():\n",
    "  plt.plot(x,y)\n",
    "  plt.show()"
   ]
  },
  {
   "cell_type": "code",
   "execution_count": null,
   "id": "47622f0d",
   "metadata": {},
   "outputs": [],
   "source": [
    "# Exercise: annotate the minimum\n",
    "\n",
    "y = x**2 + np.cos(x)*10\n",
    "\n",
    "minpnt = np.argmin(y)\n",
    "\n",
    "# note: argmin only returns the first instance of a minimum, even if that minimum value \n",
    "#   appears multiple times in the array. To find *all* minimum points, yuo can find all \n",
    "#   indices that equal the minimum:\n",
    "minpnts = np.where(y==np.min(y))\n",
    "\n",
    "txt = 'min: (%g,%.2f)'%(x[minpnt],y[minpnt])\n",
    "\n",
    "fig, ax = plt.subplots()\n",
    "ax.plot(x,y,'ko-',markerfacecolor='purple',markersize=15)\n",
    "ax.annotate(txt,(x[minpnt],y[minpnt]),arrowprops=dict(color='purple',arrowstyle='wedge'),\n",
    "            xycoords='data',\n",
    "            xytext=(x[int(len(x)/2)],np.max(y)*.8),horizontalalignment='center',\n",
    "            fontsize=14)\n",
    "\n",
    "ax.set_xlabel('x')\n",
    "ax.set_ylabel('f(x) = x^2 + 10cos(x)')\n",
    "\n",
    "plt.show()"
   ]
  },
  {
   "cell_type": "markdown",
   "id": "5c9894f3",
   "metadata": {},
   "source": [
    "# .\n",
    "# .\n",
    "# ."
   ]
  },
  {
   "cell_type": "markdown",
   "id": "5188e6ac",
   "metadata": {},
   "source": [
    "# VIDEO: Seaborn\n"
   ]
  },
  {
   "cell_type": "code",
   "execution_count": null,
   "id": "23d55b83",
   "metadata": {
    "lines_to_next_cell": 2
   },
   "outputs": [],
   "source": [
    "import matplotlib.pyplot as plt\n",
    "import numpy as np\n",
    "import seaborn as sns\n",
    "import pandas as pd\n",
    "\n",
    "n = 200\n",
    "D = np.zeros((n,2))\n",
    "D[:,0] = np.linspace(0,10,n) + np.random.randn(n)\n",
    "D[:,1] = D[:,0]**2 + np.random.randn(n)*10\n",
    "\n",
    "sns.jointplot(D[:,0],D[:,1])\n",
    "plt.show()"
   ]
  },
  {
   "cell_type": "code",
   "execution_count": null,
   "id": "8c7756f3",
   "metadata": {},
   "outputs": [],
   "source": [
    "\n",
    "df = pd.DataFrame(data=D,columns=['var1','var2'])\n",
    "sns.jointplot(df.columns[0],df.columns[1],data=df,kind='kde',color='purple')\n",
    "plt.show()"
   ]
  },
  {
   "cell_type": "code",
   "execution_count": null,
   "id": "9ee3fb1e",
   "metadata": {
    "lines_to_next_cell": 2
   },
   "outputs": [],
   "source": [
    "\n",
    "x = np.linspace(-1,1,n)\n",
    "y1 = x**2\n",
    "y2 = np.sin(3*x)\n",
    "y3 = np.exp(-10*x**2)\n",
    "\n",
    "sns.scatterplot(x=y1,y=y2,hue=y3,legend=False,palette='jet')\n",
    "plt.show()"
   ]
  },
  {
   "cell_type": "code",
   "execution_count": null,
   "id": "3858d9c8",
   "metadata": {},
   "outputs": [],
   "source": [
    "# Exercise: make a regression plot in seaborn\n",
    "sns.regplot(df.columns[0],df.columns[1],data=df,color='green')\n",
    "plt.title(f'regression of {df.columns[0]} on {df.columns[1]}')\n",
    "\n",
    "plt.show()"
   ]
  },
  {
   "cell_type": "markdown",
   "id": "1449fe80",
   "metadata": {},
   "source": [
    "# .\n",
    "# .\n",
    "# ."
   ]
  },
  {
   "cell_type": "markdown",
   "id": "5c971422",
   "metadata": {},
   "source": [
    "# VIDEO: images"
   ]
  },
  {
   "cell_type": "code",
   "execution_count": null,
   "id": "f300fac8",
   "metadata": {},
   "outputs": [],
   "source": [
    "import numpy as np\n",
    "import matplotlib.pyplot as plt\n",
    "\n",
    "m = 3\n",
    "n = 5\n",
    "\n",
    "M = np.random.randint(10,size=(m,n))\n",
    "print(M)\n",
    "\n",
    "plt.imshow(M)\n",
    "\n",
    "for i in range(m):\n",
    "  for j in range(n):\n",
    "    plt.text(j,i,str(M[i,j]),horizontalalignment='center',fontsize=20)\n",
    "\n",
    "plt.colorbar()\n",
    "plt.show()"
   ]
  },
  {
   "cell_type": "code",
   "execution_count": null,
   "id": "7d5b0e89",
   "metadata": {},
   "outputs": [],
   "source": [
    "from imageio import imread\n",
    "\n",
    "img = imread('https://upload.wikimedia.org/wikipedia/en/8/86/Einstein_tongue.jpg')\n",
    "\n",
    "plt.imshow(img)\n",
    "plt.title('The smart guy')\n",
    "plt.show()"
   ]
  },
  {
   "cell_type": "code",
   "execution_count": null,
   "id": "b4f92db8",
   "metadata": {},
   "outputs": [],
   "source": [
    "print(type(img))\n",
    "print(np.shape(img))\n",
    "\n",
    "plt.hist(img.flatten(),bins=100)\n",
    "plt.show()"
   ]
  },
  {
   "cell_type": "code",
   "execution_count": null,
   "id": "c18ab97d",
   "metadata": {},
   "outputs": [],
   "source": [
    "\n",
    "plt.imshow(img,vmin=150,vmax=250,cmap='Greys')\n",
    "plt.xticks([])\n",
    "plt.yticks([])\n",
    "plt.axis('off')\n",
    "plt.show()"
   ]
  },
  {
   "cell_type": "markdown",
   "id": "23fbea87",
   "metadata": {},
   "source": [
    "## Exercise: Visualize the Hilbert matrix using Seaborn\n",
    "\n",
    "$$H_{i,j} = \\frac{1}{i+j-1}$$\n",
    "\n"
   ]
  },
  {
   "cell_type": "code",
   "execution_count": null,
   "id": "02dca70e",
   "metadata": {},
   "outputs": [],
   "source": [
    "# Exercise: Hilbert matrix and show using seaborn\n",
    "import seaborn as sns\n",
    "\n",
    "n = 10\n",
    "\n",
    "H = np.zeros((n,n))\n",
    "\n",
    "for i in range(n):\n",
    "  for j in range(n):\n",
    "    H[i,j] = 1 / (i+j+1)\n",
    "\n",
    "sns.heatmap(H,vmin=0,vmax=.4)\n",
    "plt.show()"
   ]
  },
  {
   "cell_type": "code",
   "execution_count": null,
   "id": "1f8247dd",
   "metadata": {},
   "outputs": [],
   "source": []
  },
  {
   "cell_type": "code",
   "execution_count": null,
   "id": "5a9cf20a",
   "metadata": {},
   "outputs": [],
   "source": []
  },
  {
   "cell_type": "markdown",
   "id": "54510502",
   "metadata": {},
   "source": [
    "# VIDEO: Export plots in low and high resolution"
   ]
  },
  {
   "cell_type": "code",
   "execution_count": null,
   "id": "10909fb7",
   "metadata": {},
   "outputs": [],
   "source": [
    "import matplotlib.pyplot as plt\n",
    "import numpy as np\n",
    "\n",
    "from IPython import display\n",
    "display.set_matplotlib_formats('svg')\n",
    "\n",
    "x  = np.linspace(.5,5,10)\n",
    "y1 = np.log(x)\n",
    "y2 = 2-np.sqrt(x)\n",
    "\n",
    "plt.plot(x,y1,'bo-',label='log')\n",
    "plt.plot(x,y2,'rs-',label='sqrt')\n",
    "\n",
    "plt.legend()\n",
    "plt.show()\n",
    "\n",
    "plt.savefig('test.png')\n",
    "plt.savefig('test.pdf')"
   ]
  },
  {
   "cell_type": "code",
   "execution_count": null,
   "id": "9996459e",
   "metadata": {},
   "outputs": [],
   "source": [
    "# download to disk\n",
    "\n",
    "from google.colab import files\n",
    "files.download('test.pdf')\n",
    "files.download('test.png')\n",
    "files.download('test.svg')"
   ]
  }
 ],
 "metadata": {
  "jupytext": {
   "cell_metadata_filter": "-all",
   "main_language": "python",
   "notebook_metadata_filter": "-all"
  }
 },
 "nbformat": 4,
 "nbformat_minor": 5
}
