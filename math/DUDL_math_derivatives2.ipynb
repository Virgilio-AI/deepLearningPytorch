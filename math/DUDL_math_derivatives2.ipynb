{
 "cells": [
  {
   "cell_type": "code",
   "execution_count": null,
   "id": "5c9de08e",
   "metadata": {},
   "outputs": [],
   "source": [
    "# Date: 19/November/2022 - Saturday\n",
    "# Author: Virgilio Murillo Ochoa\n",
    "# personal github: Virgilio-AI\n",
    "# linkedin: https://www.linkedin.com/in/virgilio-murillo-ochoa-b29b59203\n",
    "# contact: virgiliomurilloochoa1@gmail.com\n",
    "# web: virgiliomurillo.com"
   ]
  },
  {
   "cell_type": "code",
   "execution_count": null,
   "id": "e6778e1e",
   "metadata": {},
   "outputs": [],
   "source": [
    "# import libraries\n",
    "import numpy as np\n",
    "import sympy as sym\n",
    "\n",
    "# make the equations look nicer\n",
    "from IPython.display import display"
   ]
  },
  {
   "cell_type": "code",
   "execution_count": null,
   "id": "6bae5590",
   "metadata": {},
   "outputs": [],
   "source": [
    "# create symbolic variables in sympy\n",
    "x = sym.symbols('x')\n",
    "\n",
    "# create two functions\n",
    "fx = 2*x**2\n",
    "gx = 4*x**3 - 3*x**4\n",
    "\n",
    "# compute their individual derivatives\n",
    "df = sym.diff(fx)\n",
    "dg = sym.diff(gx)\n",
    "\n",
    "# apply the product rule \"manually\"\n",
    "manual = df*gx + fx*dg\n",
    "thewrongway = df*dg\n",
    "\n",
    "# via sympy\n",
    "viasympy = sym.diff( fx*gx )\n",
    "\n",
    "\n",
    "# print everything\n",
    "print('The functions:')\n",
    "display(fx)\n",
    "display(gx)\n",
    "print(' ')\n",
    "\n",
    "print('Their derivatives:')\n",
    "display(df)\n",
    "display(dg)\n",
    "print(' ')\n",
    "\n",
    "print('Manual product rule:')\n",
    "display(manual)\n",
    "print(' ')\n",
    "\n",
    "print('Via sympy:')\n",
    "display(viasympy)\n",
    "print(' ')\n",
    "\n",
    "\n",
    "print('The wrong way:')\n",
    "display(thewrongway)"
   ]
  },
  {
   "cell_type": "code",
   "execution_count": null,
   "id": "6d7b1392",
   "metadata": {},
   "outputs": [],
   "source": [
    "# repeat with chain rule\n",
    "gx = x**2 + 4*x**3\n",
    "fx = ( gx )**5\n",
    "\n",
    "print('The function:')\n",
    "display(fx)\n",
    "print(' ')\n",
    "\n",
    "print('Its derivative:')\n",
    "display(sym.diff(fx))"
   ]
  },
  {
   "cell_type": "code",
   "execution_count": null,
   "id": "ba0e6343",
   "metadata": {},
   "outputs": [],
   "source": []
  }
 ],
 "metadata": {
  "jupytext": {
   "cell_metadata_filter": "-all",
   "main_language": "python",
   "notebook_metadata_filter": "-all"
  }
 },
 "nbformat": 4,
 "nbformat_minor": 5
}
