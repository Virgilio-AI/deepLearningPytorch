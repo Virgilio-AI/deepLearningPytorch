{
 "cells": [
  {
   "cell_type": "code",
   "execution_count": null,
   "id": "0e668cb8",
   "metadata": {},
   "outputs": [],
   "source": [
    "# Date: 19/November/2022 - Saturday\n",
    "# Author: Virgilio Murillo Ochoa\n",
    "# personal github: Virgilio-AI\n",
    "# linkedin: https://www.linkedin.com/in/virgilio-murillo-ochoa-b29b59203\n",
    "# contact: virgiliomurilloochoa1@gmail.com\n",
    "# web: virgiliomurillo.com"
   ]
  },
  {
   "cell_type": "code",
   "execution_count": null,
   "id": "98fd25b8",
   "metadata": {},
   "outputs": [],
   "source": [
    "# import libraries\n",
    "import numpy as np\n",
    "\n",
    "import torch\n",
    "import torch.nn as nn\n",
    "import torch.nn.functional as F\n",
    "from torch.utils.data import DataLoader,TensorDataset\n",
    "import copy\n",
    "from sklearn.model_selection import train_test_split\n",
    "\n",
    "\n",
    "# NEW! for importing data\n",
    "import torchvision\n",
    "\n",
    "import matplotlib.pyplot as plt\n",
    "from IPython import display\n",
    "display.set_matplotlib_formats('svg')"
   ]
  },
  {
   "cell_type": "code",
   "execution_count": null,
   "id": "0482f9b4",
   "metadata": {},
   "outputs": [],
   "source": [
    "# use GPU if available\n",
    "device = torch.device('cuda:0' if torch.cuda.is_available() else 'cpu')"
   ]
  },
  {
   "cell_type": "markdown",
   "id": "5ae76a92",
   "metadata": {},
   "source": [
    "# Import and inspect the data"
   ]
  },
  {
   "cell_type": "code",
   "execution_count": null,
   "id": "82b66238",
   "metadata": {},
   "outputs": [],
   "source": [
    "# download the dataset\n",
    "cdata = torchvision.datasets.EMNIST(root='emnist',split='letters',download=True)\n",
    "\n",
    "# more info: https://www.nist.gov/itl/products-and-services/emnist-dataset"
   ]
  },
  {
   "cell_type": "code",
   "execution_count": null,
   "id": "bc505b92",
   "metadata": {
    "lines_to_next_cell": 2
   },
   "outputs": [],
   "source": [
    "# inspect the data\n",
    "\n",
    "# the categories (but how many letters??)\n",
    "print(cdata.classes)\n",
    "print(str(len(cdata.classes)) + ' classes')\n",
    "\n",
    "print('\\nData size:')\n",
    "print(cdata.data.shape)\n",
    "\n",
    "# transform to 4D tensor for conv layers (and transform from int8 to float)\n",
    "images = cdata.data.view([124800,1,28,28]).float()\n",
    "\n",
    "# normalize the images\n",
    "images /= torch.max(images)\n",
    "\n",
    "print('\\nTensor data:')\n",
    "print(images.shape)"
   ]
  },
  {
   "cell_type": "code",
   "execution_count": null,
   "id": "680b8b64",
   "metadata": {},
   "outputs": [],
   "source": [
    "# eliminate missing category and subtract 1 from the original\n",
    "\n",
    "# remove the first class category\n",
    "letterCategories = cdata.classes[1:]\n",
    "\n",
    "# relabel labels to start at 0\n",
    "labels = copy.deepcopy(cdata.targets)-1"
   ]
  },
  {
   "cell_type": "markdown",
   "id": "f4f958ac",
   "metadata": {},
   "source": [
    "# Create train/test groups using DataLoader"
   ]
  },
  {
   "cell_type": "code",
   "execution_count": null,
   "id": "2c36a61b",
   "metadata": {},
   "outputs": [],
   "source": [
    "# Step 2: use scikitlearn to split the data\n",
    "train_data,test_data, train_labels,test_labels = train_test_split(images, labels, test_size=.1)\n",
    "\n",
    "# Step 3: convert into PyTorch Datasets\n",
    "train_data = TensorDataset(train_data,train_labels)\n",
    "test_data  = TensorDataset(test_data,test_labels)\n",
    "\n",
    "# Step 4: translate into dataloader objects\n",
    "batchsize    = 32\n",
    "train_loader = DataLoader(train_data,batch_size=batchsize,shuffle=True,drop_last=True)\n",
    "test_loader  = DataLoader(test_data,batch_size=test_data.tensors[0].shape[0])"
   ]
  },
  {
   "cell_type": "markdown",
   "id": "128e3ab4",
   "metadata": {},
   "source": [
    "# Create the DL model"
   ]
  },
  {
   "cell_type": "code",
   "execution_count": null,
   "id": "50632f96",
   "metadata": {},
   "outputs": [],
   "source": [
    "# create a class for the model\n",
    "def makeTheNet(numchans=(6,6)):\n",
    "\n",
    "  class emnistnet(nn.Module):\n",
    "    def __init__(self,numchans):\n",
    "      super().__init__()\n",
    "      \n",
    "      ### -------------- feature map layers -------------- ###\n",
    "      # first convolution layer\n",
    "      self.conv1  = nn.Conv2d(1,numchans[0],3,padding=1)\n",
    "      self.bnorm1 = nn.BatchNorm2d(numchans[0])\n",
    "\n",
    "      # second convolution layer\n",
    "      self.conv2  = nn.Conv2d(numchans[0],numchans[1],3,padding=1)\n",
    "      self.bnorm2 = nn.BatchNorm2d(numchans[1])\n",
    "\n",
    "      \n",
    "      ### -------------- linear decision layers -------------- ###\n",
    "      self.fc1 = nn.Linear(7*7*numchans[1],50)\n",
    "      self.fc2 = nn.Linear(50,26)\n",
    "\n",
    "    def forward(self,x):\n",
    "      \n",
    "      # first block: convolution -> maxpool -> batchnorm -> relu\n",
    "      x = F.max_pool2d(self.conv1(x),2)\n",
    "      x = F.leaky_relu(self.bnorm1(x))\n",
    "\n",
    "      # second block: convolution -> maxpool -> batchnorm -> relu\n",
    "      x = F.max_pool2d(self.conv2(x),2)\n",
    "      x = F.leaky_relu(self.bnorm2(x))\n",
    "\n",
    "      # reshape for linear layer\n",
    "      nUnits = x.shape.numel()/x.shape[0]\n",
    "      x = x.view(-1,int(nUnits))\n",
    "      \n",
    "      # linear layers\n",
    "      x = F.leaky_relu(self.fc1(x))\n",
    "      x = self.fc2(x)\n",
    "\n",
    "      return x\n",
    "\n",
    "  # create the model instance\n",
    "  net = emnistnet(numchans)\n",
    "  \n",
    "  # loss function\n",
    "  lossfun = nn.CrossEntropyLoss()\n",
    "\n",
    "  # optimizer\n",
    "  optimizer = torch.optim.Adam(net.parameters(),lr=.001)\n",
    "\n",
    "  return net,lossfun,optimizer"
   ]
  },
  {
   "cell_type": "code",
   "execution_count": null,
   "id": "978b7a46",
   "metadata": {},
   "outputs": [],
   "source": [
    "# test the model with one batch\n",
    "net,lossfun,optimizer = makeTheNet((6,12))\n",
    "\n",
    "X,y = iter(train_loader).next()\n",
    "yHat = net(X)\n",
    "\n",
    "# check size of output\n",
    "print('\\nOutput size:')\n",
    "print(yHat.shape)\n",
    "\n",
    "# # now let's compute the loss\n",
    "loss = lossfun(yHat,torch.squeeze(y))\n",
    "print(' ')\n",
    "print('Loss:')\n",
    "print(loss)"
   ]
  },
  {
   "cell_type": "code",
   "execution_count": null,
   "id": "79053225",
   "metadata": {},
   "outputs": [],
   "source": []
  },
  {
   "cell_type": "markdown",
   "id": "08ca925e",
   "metadata": {},
   "source": [
    "# Create a function that trains the model"
   ]
  },
  {
   "cell_type": "code",
   "execution_count": null,
   "id": "487cc26b",
   "metadata": {},
   "outputs": [],
   "source": [
    "# a function that trains the model\n",
    "\n",
    "def function2trainTheModel(numchans):\n",
    "\n",
    "  # number of epochs\n",
    "  numepochs = 5\n",
    "  \n",
    "  # create a new model\n",
    "  net,lossfun,optimizer = makeTheNet(numchans)\n",
    "\n",
    "  # send the model to the GPU\n",
    "  net.to(device)\n",
    "\n",
    "  # initialize losses\n",
    "  trainLoss = torch.zeros(numepochs)\n",
    "  testLoss  = torch.zeros(numepochs)\n",
    "  trainErr  = torch.zeros(numepochs)\n",
    "  testErr   = torch.zeros(numepochs)\n",
    "\n",
    "\n",
    "  # loop over epochs\n",
    "  for epochi in range(numepochs):\n",
    "\n",
    "    # loop over training data batches\n",
    "    net.train()\n",
    "    batchLoss = []\n",
    "    batchErr  = []\n",
    "    for X,y in train_loader:\n",
    "      \n",
    "      # push data to GPU\n",
    "      X = X.to(device)\n",
    "      y = y.to(device)\n",
    "\n",
    "      # forward pass and loss\n",
    "      yHat = net(X)\n",
    "      loss = lossfun(yHat,y)\n",
    "\n",
    "      # backprop\n",
    "      optimizer.zero_grad()\n",
    "      loss.backward()\n",
    "      optimizer.step()\n",
    "\n",
    "      # loss and error rate from this batch\n",
    "      batchLoss.append(loss.item())\n",
    "      batchErr.append( torch.mean((torch.argmax(yHat,axis=1) != y).float()).item() )\n",
    "    # end of batch loop...\n",
    "\n",
    "    # and get average losses across the batches\n",
    "    trainLoss[epochi] = np.mean(batchLoss)\n",
    "    trainErr[epochi]  = 100*np.mean(batchErr)\n",
    "\n",
    "    # test performance\n",
    "    net.eval()\n",
    "    X,y = next(iter(test_loader)) # extract X,y from test dataloader\n",
    "    \n",
    "    # push data to GPU\n",
    "    X = X.to(device)\n",
    "    y = y.to(device)\n",
    "\n",
    "    with torch.no_grad(): # deactivates autograd\n",
    "      yHat = net(X)\n",
    "      loss = lossfun(yHat,y)\n",
    "      \n",
    "    # extract loss and error rates for test batch\n",
    "    testLoss[epochi] = loss.item()\n",
    "    testErr[epochi]  = 100*torch.mean((torch.argmax(yHat,axis=1) != y).float()).item()\n",
    "\n",
    "  # end epochs\n",
    "\n",
    "  # function output\n",
    "  return trainLoss,testLoss,trainErr,testErr,net"
   ]
  },
  {
   "cell_type": "markdown",
   "id": "d6842e4c",
   "metadata": {},
   "source": [
    "# Run the model and show the results!"
   ]
  },
  {
   "cell_type": "code",
   "execution_count": null,
   "id": "122d35d3",
   "metadata": {},
   "outputs": [],
   "source": [
    "trainLoss,testLoss,trainErr,testErr,net = function2trainTheModel((3,7))"
   ]
  },
  {
   "cell_type": "code",
   "execution_count": null,
   "id": "ef30f436",
   "metadata": {},
   "outputs": [],
   "source": [
    "fig,ax = plt.subplots(1,2,figsize=(16,5))\n",
    "\n",
    "ax[0].plot(trainLoss,'s-',label='Train')\n",
    "ax[0].plot(testLoss,'o-',label='Test')\n",
    "ax[0].set_xlabel('Epochs')\n",
    "ax[0].set_ylabel('Loss (MSE)')\n",
    "ax[0].set_title('Model loss')\n",
    "\n",
    "ax[1].plot(trainErr,'s-',label='Train')\n",
    "ax[1].plot(testErr,'o-',label='Test')\n",
    "ax[1].set_xlabel('Epochs')\n",
    "ax[1].set_ylabel('Error rates (%)')\n",
    "ax[1].set_title(f'Final model test error rate: {testErr[-1]:.2f}%')\n",
    "ax[1].legend()\n",
    "\n",
    "plt.show()"
   ]
  },
  {
   "cell_type": "markdown",
   "id": "f5be1e92",
   "metadata": {},
   "source": [
    "# Now for the experiment"
   ]
  },
  {
   "cell_type": "code",
   "execution_count": null,
   "id": "54660ffa",
   "metadata": {},
   "outputs": [],
   "source": [
    "# this experiment takes ~8 mins on a GPU\n",
    "convChans = [2,5,8]\n",
    "\n",
    "# initialize results matrix\n",
    "results    = np.zeros((len(convChans),len(convChans),2))\n",
    "convParams = np.zeros((len(convChans),len(convChans)))\n",
    "\n",
    "for i,Nchani in enumerate(convChans):\n",
    "  for j,Nchanj in enumerate(convChans):\n",
    "    \n",
    "    # run the model\n",
    "    trainLoss,testLoss,trainErr,testErr,net = function2trainTheModel((Nchani,Nchanj))\n",
    "\n",
    "    # get results\n",
    "    results[i,j,:]  = trainErr[-1],testErr[-1]\n",
    "    convParams[i,j] = Nchani+Nchanj # total number of convolution layer channels\n",
    "\n",
    "    print(i,j)"
   ]
  },
  {
   "cell_type": "code",
   "execution_count": null,
   "id": "8d9489e5",
   "metadata": {},
   "outputs": [],
   "source": [
    "# Show the results matrix\n",
    "\n",
    "fig,ax = plt.subplots(1,2,figsize=(10,4))\n",
    "\n",
    "for i in range(2):\n",
    "  h = ax[i].imshow(results[:,:,i],vmin=np.min(results),vmax=np.max(results))\n",
    "  ax[i].set_xlabel('Channels in conv1')\n",
    "  ax[i].set_ylabel('Channels in conv2')\n",
    "  ax[i].set_xticks(range(j+1)) # j defined in previous cell\n",
    "  ax[i].set_yticks(range(j+1))\n",
    "  ax[i].set_xticklabels(convChans)\n",
    "  ax[i].set_yticklabels(convChans)\n",
    "  title = 'Train' if i==0 else 'Test'\n",
    "  ax[i].set_title('Error rates %s'%title,fontweight='bold')\n",
    "\n",
    "\n",
    "# add a colorbar right of the plot (use common colorscaling for both plots)\n",
    "axpos = ax[1].get_position()\n",
    "cax = fig.add_axes([axpos.x1+.01,axpos.y0,.01,.75])\n",
    "hh = fig.colorbar(h,cax=cax)\n",
    "hh.set_label('Error rate (%)',rotation=270,labelpad=10)\n",
    "\n",
    "plt.show()"
   ]
  },
  {
   "cell_type": "code",
   "execution_count": null,
   "id": "ec1cd901",
   "metadata": {},
   "outputs": [],
   "source": [
    "# error rate as a function of the total number of conv channels\n",
    "\n",
    "corrTrain = np.corrcoef(convParams.flatten(),results[:,:,0].flatten())\n",
    "corrTest  = np.corrcoef(convParams.flatten(),results[:,:,1].flatten())\n",
    "\n",
    "# plots\n",
    "plt.plot(convParams.flatten(),results[:,:,0].flatten(),'o',\n",
    "         label=f'Train (r={corrTrain[0,1]:.2f})')\n",
    "plt.plot(convParams.flatten(),results[:,:,1].flatten(),'s',\n",
    "         label=f'Test (r={corrTest[0,1]:.2f})')\n",
    "\n",
    "# other stuff etc\n",
    "plt.legend()\n",
    "plt.xlabel('Total number of convolution channels')\n",
    "plt.ylabel('Error rate (%)')\n",
    "plt.show()"
   ]
  },
  {
   "cell_type": "code",
   "execution_count": null,
   "id": "2d221880",
   "metadata": {},
   "outputs": [],
   "source": []
  },
  {
   "cell_type": "markdown",
   "id": "343cac8b",
   "metadata": {},
   "source": [
    "# Additional explorations"
   ]
  },
  {
   "cell_type": "code",
   "execution_count": null,
   "id": "ba5426cc",
   "metadata": {},
   "outputs": [],
   "source": [
    "# 1) The correlation between error rate and convolution channels looks pretty compelling. How far do you dare go?!?! Try\n",
    "#    adding more channels. Does the error rate simply keep going down until it reaches zero? Or do you find a point of\n",
    "#    \"diminishing returns\", meaning that adding more channels no longer improves performance.\n",
    "# \n",
    "# 2) It seems intuitive that models with more layers take longer to train. But if there's one thing you've learned about\n",
    "#    deep learning, it's that intuition doesn't always get us very far. Thus: modify the code to track the training time\n",
    "#    for each model. Store the results in a separate matrix, and make an image of those results. Do they look like what\n",
    "#    you had expected?\n",
    "# \n",
    "# 3) Are net.train() and net.eval() necessary here? Why or why not?\n",
    "# "
   ]
  }
 ],
 "metadata": {
  "jupytext": {
   "cell_metadata_filter": "-all",
   "main_language": "python",
   "notebook_metadata_filter": "-all"
  }
 },
 "nbformat": 4,
 "nbformat_minor": 5
}
