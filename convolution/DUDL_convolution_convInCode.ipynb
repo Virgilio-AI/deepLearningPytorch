{
 "cells": [
  {
   "cell_type": "code",
   "execution_count": null,
   "id": "90d40584",
   "metadata": {},
   "outputs": [],
   "source": [
    "# Date: 19/November/2022 - Saturday\n",
    "# Author: Virgilio Murillo Ochoa\n",
    "# personal github: Virgilio-AI\n",
    "# linkedin: https://www.linkedin.com/in/virgilio-murillo-ochoa-b29b59203\n",
    "# contact: virgiliomurilloochoa1@gmail.com\n",
    "# web: virgiliomurillo.com"
   ]
  },
  {
   "cell_type": "code",
   "execution_count": null,
   "id": "57a18524",
   "metadata": {},
   "outputs": [],
   "source": [
    "# import libraries\n",
    "import numpy as np\n",
    "\n",
    "# convolution\n",
    "from scipy.signal import convolve2d\n",
    "\n",
    "# to read an image from a url\n",
    "from imageio import imread\n",
    "\n",
    "import matplotlib.pyplot as plt\n",
    "from IPython import display\n",
    "display.set_matplotlib_formats('svg')"
   ]
  },
  {
   "cell_type": "markdown",
   "id": "8c9eaef1",
   "metadata": {},
   "source": [
    "# Manual 2D convolution in numpy/scipy"
   ]
  },
  {
   "cell_type": "code",
   "execution_count": null,
   "id": "bfd5b403",
   "metadata": {},
   "outputs": [],
   "source": [
    "# image\n",
    "imgN = 20\n",
    "image = np.random.randn(imgN,imgN)\n",
    "\n",
    "# convolution kernel\n",
    "kernelN = 7\n",
    "Y,X = np.meshgrid(np.linspace(-3,3,kernelN),np.linspace(-3,3,kernelN))\n",
    "kernel = np.exp( -(X**2+Y**2)/7 )\n",
    "\n",
    "\n",
    "# let's see what they look like\n",
    "fig,ax = plt.subplots(1,2,figsize=(8,6))\n",
    "ax[0].imshow(image)\n",
    "ax[0].set_title('Image')\n",
    "\n",
    "ax[1].imshow(kernel)\n",
    "ax[1].set_title('Convolution kernel')\n",
    "\n",
    "plt.show()"
   ]
  },
  {
   "cell_type": "code",
   "execution_count": null,
   "id": "65e654f7",
   "metadata": {},
   "outputs": [],
   "source": [
    "# now for the convolution\n",
    "convoutput = np.zeros((imgN,imgN))\n",
    "halfKr = kernelN//2\n",
    "\n",
    "for rowi in range(halfKr,imgN-halfKr):\n",
    "  for coli in range(halfKr,imgN-halfKr):\n",
    "\n",
    "    # cut out a piece of the image\n",
    "    pieceOfImg = image[rowi-halfKr:rowi+halfKr+1,:]      # get the rows\n",
    "    pieceOfImg = pieceOfImg[:,coli-halfKr:coli+halfKr+1] # extract the columns\n",
    "\n",
    "    # dot product: element-wise multiply and sum (and flip the kernel for \"real convolution\")\n",
    "    dotprod = np.sum( pieceOfImg*kernel[::-1,::-1] )\n",
    "\n",
    "    # store the result for this pixel\n",
    "    convoutput[rowi,coli] = dotprod"
   ]
  },
  {
   "cell_type": "code",
   "execution_count": null,
   "id": "1bf78fea",
   "metadata": {},
   "outputs": [],
   "source": [
    "# using scipy\n",
    "convoutput2 = convolve2d(image,kernel,mode='valid')"
   ]
  },
  {
   "cell_type": "code",
   "execution_count": null,
   "id": "4ad13511",
   "metadata": {},
   "outputs": [],
   "source": [
    "fig,ax = plt.subplots(2,2,figsize=(8,8))\n",
    "\n",
    "ax[0,0].imshow(image)\n",
    "ax[0,0].set_title('Image')\n",
    "\n",
    "ax[0,1].imshow(kernel)\n",
    "ax[0,1].set_title('Convolution kernel')\n",
    "\n",
    "ax[1,0].imshow(convoutput)\n",
    "ax[1,0].set_title('Manual convolution')\n",
    "\n",
    "ax[1,1].imshow(convoutput2)\n",
    "ax[1,1].set_title(\"Scipy's convolution\")\n",
    "\n",
    "plt.show()"
   ]
  },
  {
   "cell_type": "markdown",
   "id": "724540a9",
   "metadata": {},
   "source": [
    "# Examples of convolution with different kernels in a real image"
   ]
  },
  {
   "cell_type": "code",
   "execution_count": null,
   "id": "155afba1",
   "metadata": {},
   "outputs": [],
   "source": [
    "# read a pic from the web\n",
    "bathtub = imread('https://upload.wikimedia.org/wikipedia/commons/6/61/De_nieuwe_vleugel_van_het_Stedelijk_Museum_Amsterdam.jpg')\n",
    "\n",
    "# check the size\n",
    "print(bathtub.shape)\n",
    "\n",
    "# let's see what the famous Bathtub Museum looks like\n",
    "fig = plt.figure(figsize=(10,6))\n",
    "plt.imshow(bathtub);\n",
    "\n",
    "# transform image to 2D for convenience (not necessary for convolution!)\n",
    "bathtub = np.mean(bathtub,axis=2)\n",
    "bathtub = bathtub/np.max(bathtub)\n",
    "\n",
    "# check the size again\n",
    "print(bathtub.shape)"
   ]
  },
  {
   "cell_type": "code",
   "execution_count": null,
   "id": "b7ef8932",
   "metadata": {},
   "outputs": [],
   "source": [
    "# hand-craft two convolution kernels\n",
    "\n",
    "# vertical kernel\n",
    "VK = np.array([ [1,0,-1],\n",
    "                [1,0,-1],\n",
    "                [1,0,-1] ])\n",
    "\n",
    "# horizontal kernel\n",
    "HK = np.array([ [ 1, 1, 1],\n",
    "                [ 0, 0, 0],\n",
    "                [-1,-1,-1] ])"
   ]
  },
  {
   "cell_type": "code",
   "execution_count": null,
   "id": "64d2b0d9",
   "metadata": {},
   "outputs": [],
   "source": [
    "fig,ax = plt.subplots(2,2,figsize=(16,8))\n",
    "\n",
    "ax[0,0].imshow(VK)\n",
    "ax[0,0].set_title('Vertical kernel')\n",
    "\n",
    "ax[0,1].imshow(HK)\n",
    "ax[0,1].set_title('Horizontal kernel')\n",
    "\n",
    "\n",
    "# run convolution and show the result\n",
    "convres = convolve2d(bathtub,VK,mode='same')\n",
    "ax[1,0].imshow(convres,cmap='gray',vmin=0,vmax=.01)\n",
    "\n",
    "convres = convolve2d(bathtub,HK,mode='same')\n",
    "ax[1,1].imshow(convres,cmap='gray',vmin=0,vmax=.01)\n",
    "\n",
    "plt.show()"
   ]
  },
  {
   "cell_type": "markdown",
   "id": "cd96afe2",
   "metadata": {},
   "source": [
    "# Now in PyTorch"
   ]
  },
  {
   "cell_type": "code",
   "execution_count": null,
   "id": "a85ab333",
   "metadata": {},
   "outputs": [],
   "source": [
    "# first, translate everything into a tensor\n",
    "import torch\n",
    "import torch.nn.functional as F\n",
    "\n",
    "VK_t = torch.tensor(VK).view(1,1,3,3).double()\n",
    "HK_t = torch.tensor(HK).view(1,1,3,3).double()\n",
    "bathtub_t = torch.tensor(bathtub).view(1,1,bathtub.shape[0],bathtub.shape[1])\n",
    "\n",
    "print(VK_t.shape)\n",
    "print(bathtub_t.shape)"
   ]
  },
  {
   "cell_type": "code",
   "execution_count": null,
   "id": "81738a1d",
   "metadata": {},
   "outputs": [],
   "source": [
    "C = F.conv2d(bathtub_t,VK_t)\n",
    "print(C.shape)"
   ]
  },
  {
   "cell_type": "code",
   "execution_count": null,
   "id": "04762c71",
   "metadata": {},
   "outputs": [],
   "source": [
    "fig,ax = plt.subplots(2,2,figsize=(16,8))\n",
    "\n",
    "ax[0,0].imshow(VK)\n",
    "ax[0,0].set_title('Vertical kernel')\n",
    "\n",
    "ax[0,1].imshow(HK)\n",
    "ax[0,1].set_title('Horizontal kernel')\n",
    "\n",
    "\n",
    "# run convolution and show the result\n",
    "convres = F.conv2d(bathtub_t,VK_t)\n",
    "img = torch.squeeze(convres.detach())\n",
    "ax[1,0].imshow(img,cmap='gray',vmin=0,vmax=.01)\n",
    "\n",
    "convres = F.conv2d(bathtub_t,HK_t)\n",
    "img = torch.squeeze(convres.detach())\n",
    "ax[1,1].imshow(img,cmap='gray',vmin=0,vmax=.01)\n",
    "\n",
    "plt.show()"
   ]
  },
  {
   "cell_type": "code",
   "execution_count": null,
   "id": "d49ad400",
   "metadata": {},
   "outputs": [],
   "source": []
  },
  {
   "cell_type": "markdown",
   "id": "7083cbfb",
   "metadata": {},
   "source": [
    "# Additional explorations"
   ]
  },
  {
   "cell_type": "code",
   "execution_count": null,
   "id": "737f7823",
   "metadata": {},
   "outputs": [],
   "source": [
    "# 1) Try creating your own convolution kernels! It's fun and easy ;)\n",
    "#    Note that image kernels are often crafted to sum to zero, which prevents\n",
    "#    a global shift in the result. But you don't need to follow that convention.\n",
    "# "
   ]
  }
 ],
 "metadata": {
  "jupytext": {
   "cell_metadata_filter": "-all",
   "main_language": "python",
   "notebook_metadata_filter": "-all"
  }
 },
 "nbformat": 4,
 "nbformat_minor": 5
}
