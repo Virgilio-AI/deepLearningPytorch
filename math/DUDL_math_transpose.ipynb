{
 "cells": [
  {
   "cell_type": "code",
   "execution_count": null,
   "id": "6aba4ca1",
   "metadata": {},
   "outputs": [],
   "source": [
    "# Date: 19/November/2022 - Saturday\n",
    "# Author: Virgilio Murillo Ochoa\n",
    "# personal github: Virgilio-AI\n",
    "# linkedin: https://www.linkedin.com/in/virgilio-murillo-ochoa-b29b59203\n",
    "# contact: virgiliomurilloochoa1@gmail.com\n",
    "# web: virgiliomurillo.com"
   ]
  },
  {
   "cell_type": "code",
   "execution_count": null,
   "id": "1019a098",
   "metadata": {},
   "outputs": [],
   "source": [
    "# import libraries\n",
    "import numpy as np\n",
    "import torch"
   ]
  },
  {
   "cell_type": "markdown",
   "id": "bd046839",
   "metadata": {},
   "source": [
    "# Using numpy"
   ]
  },
  {
   "cell_type": "code",
   "execution_count": null,
   "id": "3055bfeb",
   "metadata": {},
   "outputs": [],
   "source": [
    "# create a vector\n",
    "nv = np.array([ [1,2,3,4] ])\n",
    "print(nv), print(' ')\n",
    "\n",
    "# transpose it\n",
    "print(nv.T), print(' ')\n",
    "\n",
    "# transpose the transpose!\n",
    "nvT = nv.T\n",
    "print(nvT.T)"
   ]
  },
  {
   "cell_type": "code",
   "execution_count": null,
   "id": "421ba92b",
   "metadata": {},
   "outputs": [],
   "source": [
    "# repeat for a matrix\n",
    "nM = np.array([ [1,2,3,4],\n",
    "                [5,6,7,8] \n",
    "               ])\n",
    "print(nM), print(' ')\n",
    "\n",
    "# transpose it\n",
    "print(nM.T), print(' ')\n",
    "\n",
    "# transpose the transpose!\n",
    "nMT = nM.T\n",
    "print(nMT.T)"
   ]
  },
  {
   "cell_type": "markdown",
   "id": "68e99ae4",
   "metadata": {},
   "source": [
    "# Using pytorch"
   ]
  },
  {
   "cell_type": "code",
   "execution_count": null,
   "id": "5fb26b30",
   "metadata": {},
   "outputs": [],
   "source": [
    "# create a vector\n",
    "tv = torch.tensor([ [1,2,3,4] ])\n",
    "print(tv), print(' ')\n",
    "\n",
    "# transpose it\n",
    "print(tv.T), print(' ')\n",
    "\n",
    "# transpose the transpose!\n",
    "tvT = tv.T\n",
    "print(tvT.T)"
   ]
  },
  {
   "cell_type": "code",
   "execution_count": null,
   "id": "046dd2ed",
   "metadata": {},
   "outputs": [],
   "source": [
    "# repeat for a matrix\n",
    "tM = torch.tensor([ [1,2,3,4],[5,6,7,8] ])\n",
    "print(tM), print(' ')\n",
    "\n",
    "# transpose it\n",
    "print(tM.T), print(' ')\n",
    "\n",
    "# transpose the transpose!\n",
    "tMT = tM.T\n",
    "print(tMT.T)"
   ]
  },
  {
   "cell_type": "code",
   "execution_count": null,
   "id": "63cf78d4",
   "metadata": {},
   "outputs": [],
   "source": []
  },
  {
   "cell_type": "code",
   "execution_count": null,
   "id": "3be37adb",
   "metadata": {
    "lines_to_next_cell": 2
   },
   "outputs": [],
   "source": [
    "# examine data types\n",
    "print(f'Variable nv is of type {type(nv)}')\n",
    "print(f'Variable nM is of type {type(nM)}')\n",
    "print(f'Variable tv is of type {type(tv)}')\n",
    "print(f'Variable tM is of type {type(tM)}')"
   ]
  }
 ],
 "metadata": {
  "jupytext": {
   "cell_metadata_filter": "-all",
   "main_language": "python",
   "notebook_metadata_filter": "-all"
  }
 },
 "nbformat": 4,
 "nbformat_minor": 5
}
