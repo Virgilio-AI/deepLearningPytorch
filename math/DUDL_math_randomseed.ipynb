{
 "cells": [
  {
   "cell_type": "code",
   "execution_count": null,
   "id": "fc1ef229",
   "metadata": {},
   "outputs": [],
   "source": [
    "# Date: 19/November/2022 - Saturday\n",
    "# Author: Virgilio Murillo Ochoa\n",
    "# personal github: Virgilio-AI\n",
    "# linkedin: https://www.linkedin.com/in/virgilio-murillo-ochoa-b29b59203\n",
    "# contact: virgiliomurilloochoa1@gmail.com\n",
    "# web: virgiliomurillo.com"
   ]
  },
  {
   "cell_type": "code",
   "execution_count": null,
   "id": "d4d42472",
   "metadata": {},
   "outputs": [],
   "source": [
    "# import libraries\n",
    "import numpy as np\n",
    "import torch"
   ]
  },
  {
   "cell_type": "code",
   "execution_count": null,
   "id": "b1702a8a",
   "metadata": {},
   "outputs": [],
   "source": [
    "# generate a few random numbers\n",
    "np.random.randn(5)"
   ]
  },
  {
   "cell_type": "code",
   "execution_count": null,
   "id": "b0e47d1f",
   "metadata": {},
   "outputs": [],
   "source": [
    "# repeat after fixing the seed (old-but-still-widely-used method)\n",
    "np.random.seed(17)\n",
    "print(np.random.randn(5))\n",
    "print(np.random.randn(5))\n",
    "\n",
    "# [ 0.27626589 -1.85462808  0.62390111  1.14531129  1.03719047]\n",
    "# [ 1.88663893 -0.11169829 -0.36210134  0.14867505 -0.43778315]"
   ]
  },
  {
   "cell_type": "markdown",
   "id": "5055d24c",
   "metadata": {},
   "source": [
    "# New seed mechanism in numpy"
   ]
  },
  {
   "cell_type": "code",
   "execution_count": null,
   "id": "03150773",
   "metadata": {},
   "outputs": [],
   "source": [
    "randseed1 = np.random.RandomState(17)\n",
    "randseed2 = np.random.RandomState(20210530)\n",
    "\n",
    "print( randseed1.randn(5) ) # same sequence\n",
    "print( randseed2.randn(5) ) # different from above, but same each time\n",
    "print( randseed1.randn(5) ) # same as two up\n",
    "print( randseed2.randn(5) ) # same as two up\n",
    "print( np.random.randn(5) ) # different every time\n",
    "\n",
    "# [ 0.27626589 -1.85462808  0.62390111  1.14531129  1.03719047]\n",
    "# [-0.24972681 -1.01951826  2.23461339  0.72764703  1.2921122 ]\n",
    "# [ 1.88663893 -0.11169829 -0.36210134  0.14867505 -0.43778315]\n",
    "# [ 1.15494929 -0.0015467  -0.11196868 -1.08136725  0.10265891]\n",
    "# [ 2.171257    1.15231025 -1.81881234 -0.13804934  0.53983961]"
   ]
  },
  {
   "cell_type": "markdown",
   "id": "b3682832",
   "metadata": {},
   "source": [
    "# Now in pytorch"
   ]
  },
  {
   "cell_type": "code",
   "execution_count": null,
   "id": "4249c389",
   "metadata": {},
   "outputs": [],
   "source": [
    "torch.randn(5)"
   ]
  },
  {
   "cell_type": "code",
   "execution_count": null,
   "id": "b8d784e3",
   "metadata": {},
   "outputs": [],
   "source": [
    "torch.manual_seed(17)\n",
    "print( torch.randn(5) )\n",
    "\n",
    "# torch's seed doesn't spread to numpy\n",
    "print( np.random.randn(5) )"
   ]
  }
 ],
 "metadata": {
  "jupytext": {
   "cell_metadata_filter": "-all",
   "main_language": "python",
   "notebook_metadata_filter": "-all"
  }
 },
 "nbformat": 4,
 "nbformat_minor": 5
}
