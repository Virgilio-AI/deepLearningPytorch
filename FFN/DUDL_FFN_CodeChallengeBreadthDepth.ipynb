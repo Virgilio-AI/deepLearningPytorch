{
 "cells": [
  {
   "cell_type": "code",
   "execution_count": null,
   "id": "1ce4eff9",
   "metadata": {},
   "outputs": [],
   "source": [
    "# Date: 19/November/2022 - Saturday\n",
    "# Author: Virgilio Murillo Ochoa\n",
    "# personal github: Virgilio-AI\n",
    "# linkedin: https://www.linkedin.com/in/virgilio-murillo-ochoa-b29b59203\n",
    "# contact: virgiliomurilloochoa1@gmail.com\n",
    "# web: virgiliomurillo.com"
   ]
  },
  {
   "cell_type": "code",
   "execution_count": null,
   "id": "56e4ec28",
   "metadata": {},
   "outputs": [],
   "source": [
    "# import libraries\n",
    "import numpy as np\n",
    "\n",
    "import torch\n",
    "import torch.nn as nn\n",
    "import torch.nn.functional as F\n",
    "from torch.utils.data import DataLoader\n",
    "from sklearn.model_selection import train_test_split\n",
    "\n",
    "import matplotlib.pyplot as plt\n",
    "from IPython import display\n",
    "display.set_matplotlib_formats('svg')"
   ]
  },
  {
   "cell_type": "code",
   "execution_count": null,
   "id": "68e2529e",
   "metadata": {},
   "outputs": [],
   "source": [
    "# import dataset (comes with colab!)\n",
    "data = np.loadtxt(open('sample_data/mnist_train_small.csv','rb'),delimiter=',')\n",
    "\n",
    "# extract labels (number IDs) and remove from data\n",
    "labels = data[:,0]\n",
    "data   = data[:,1:]\n",
    "\n",
    "# normalize the data to a range of [0 1]\n",
    "dataNorm = data / np.max(data)"
   ]
  },
  {
   "cell_type": "markdown",
   "id": "af241971",
   "metadata": {},
   "source": [
    "# Create train/test groups using DataLoader"
   ]
  },
  {
   "cell_type": "code",
   "execution_count": null,
   "id": "7da939c9",
   "metadata": {},
   "outputs": [],
   "source": [
    "# Step 1: convert to tensor\n",
    "dataT   = torch.tensor( dataNorm ).float()\n",
    "labelsT = torch.tensor( labels ).long()\n",
    "\n",
    "# Step 2: use scikitlearn to split the data\n",
    "train_data,test_data, train_labels,test_labels = train_test_split(dataT, labelsT, test_size=.1)\n",
    "\n",
    "\n",
    "# Step 3: convert into PyTorch Datasets\n",
    "train_data = torch.utils.data.TensorDataset(train_data,train_labels)\n",
    "test_data  = torch.utils.data.TensorDataset(test_data,test_labels)\n",
    "\n",
    "# Step 4: translate into dataloader objects\n",
    "batchsize    = 32\n",
    "train_loader = DataLoader(train_data,batch_size=batchsize,shuffle=True,drop_last=True)\n",
    "test_loader  = DataLoader(test_data,batch_size=test_data.tensors[0].shape[0])"
   ]
  },
  {
   "cell_type": "markdown",
   "id": "0c37d6bf",
   "metadata": {},
   "source": [
    "# Create the DL model"
   ]
  },
  {
   "cell_type": "code",
   "execution_count": null,
   "id": "b23f6893",
   "metadata": {},
   "outputs": [],
   "source": [
    "# create a class for the model\n",
    "def createTheMNISTNet(nUnits,nLayers):\n",
    "\n",
    "  class mnistNet(nn.Module):\n",
    "    def __init__(self,nUnits,nLayers):\n",
    "      super().__init__()\n",
    "\n",
    "      # create dictionary to store the layers\n",
    "      self.layers = nn.ModuleDict()\n",
    "      self.nLayers = nLayers\n",
    "\n",
    "      ### input layer\n",
    "      self.layers['input'] = nn.Linear(784,nUnits)\n",
    "      \n",
    "      ### hidden layers\n",
    "      for i in range(nLayers):\n",
    "        self.layers[f'hidden{i}'] = nn.Linear(nUnits,nUnits)\n",
    "\n",
    "      ### output layer\n",
    "      self.layers['output'] = nn.Linear(nUnits,10)\n",
    "    \n",
    "\n",
    "\n",
    "    # forward pass\n",
    "    def forward(self,x):\n",
    "      # input layer (note: the code in the video omits the relu after this layer)\n",
    "      x = F.relu( self.layers['input'](x) )\n",
    "\n",
    "      # hidden layers\n",
    "      for i in range(self.nLayers):\n",
    "        x = F.relu( self.layers[f'hidden{i}'](x) )\n",
    "      \n",
    "      # return output layer\n",
    "      x = self.layers['output'](x)\n",
    "      return x\n",
    "  \n",
    "  # create the model instance\n",
    "  net = mnistNet(nUnits,nLayers)\n",
    "  \n",
    "  # loss function\n",
    "  lossfun = nn.CrossEntropyLoss()\n",
    "\n",
    "  # optimizer\n",
    "  optimizer = torch.optim.SGD(net.parameters(),lr=.01)\n",
    "\n",
    "  return net,lossfun,optimizer"
   ]
  },
  {
   "cell_type": "code",
   "execution_count": null,
   "id": "759782d5",
   "metadata": {},
   "outputs": [],
   "source": [
    "# Generate an instance of the model and confirm that it returns the expected network.\n",
    "nUnitsPerLayer = 12\n",
    "nLayers = 4\n",
    "net = createTheMNISTNet(nUnitsPerLayer,nLayers)\n",
    "net"
   ]
  },
  {
   "cell_type": "markdown",
   "id": "aa728549",
   "metadata": {},
   "source": [
    "# Create a function that trains the model"
   ]
  },
  {
   "cell_type": "code",
   "execution_count": null,
   "id": "dc1e4426",
   "metadata": {
    "lines_to_next_cell": 2
   },
   "outputs": [],
   "source": [
    "# a function that trains the model\n",
    "\n",
    "def funtion2trainTheModel(nUnits,nLayers):\n",
    "\n",
    "  # number of epochs\n",
    "  numepochs = 60\n",
    "  \n",
    "  # create a new model\n",
    "  net,lossfun,optimizer = createTheMNISTNet(nUnits,nLayers)\n",
    "\n",
    "  # initialize losses\n",
    "  losses    = torch.zeros(numepochs)\n",
    "  trainAcc  = []\n",
    "  testAcc   = []\n",
    "\n",
    "\n",
    "  # loop over epochs\n",
    "  for epochi in range(numepochs):\n",
    "\n",
    "    # loop over training data batches\n",
    "    batchAcc  = []\n",
    "    batchLoss = []\n",
    "    for X,y in train_loader:\n",
    "\n",
    "      # forward pass and loss\n",
    "      yHat = net(X)\n",
    "      loss = lossfun(yHat,y)\n",
    "\n",
    "      # backprop\n",
    "      optimizer.zero_grad()\n",
    "      loss.backward()\n",
    "      optimizer.step()\n",
    "\n",
    "      # loss from this batch\n",
    "      batchLoss.append(loss.item())\n",
    "\n",
    "      # compute accuracy\n",
    "      matches = torch.argmax(yHat,axis=1) == y     # booleans (false/true)\n",
    "      matchesNumeric = matches.float()             # convert to numbers (0/1)\n",
    "      accuracyPct = 100*torch.mean(matchesNumeric) # average and x100\n",
    "      batchAcc.append( accuracyPct )               # add to list of accuracies\n",
    "    # end of batch loop...\n",
    "\n",
    "    # now that we've trained through the batches, get their average training accuracy\n",
    "    trainAcc.append( np.mean(batchAcc) )\n",
    "\n",
    "    # and get average losses across the batches\n",
    "    losses[epochi] = np.mean(batchLoss)\n",
    "\n",
    "    # test accuracy\n",
    "    X,y = next(iter(test_loader)) # extract X,y from test dataloader\n",
    "    with torch.no_grad(): # deactivates autograd\n",
    "      yHat = net(X)\n",
    "      \n",
    "    # compare the following really long line of code to the training accuracy lines\n",
    "    testAcc.append( 100*torch.mean((torch.argmax(yHat,axis=1)==y).float()) )\n",
    "\n",
    "  # end epochs\n",
    "\n",
    "  # function output\n",
    "  return trainAcc,testAcc,losses,net"
   ]
  },
  {
   "cell_type": "markdown",
   "id": "808fa421",
   "metadata": {},
   "source": [
    "# Run the model and show the results!"
   ]
  },
  {
   "cell_type": "code",
   "execution_count": null,
   "id": "e5b4d519",
   "metadata": {
    "lines_to_next_cell": 2
   },
   "outputs": [],
   "source": [
    "### run the experiment! (note: takes ~30 mins)\n",
    "\n",
    "# define the model parameters\n",
    "numlayers = range(1,4)           # number of hidden layers\n",
    "numunits  = np.arange(50,251,50) # units per hidden layer\n",
    "\n",
    "# initialize output matrices\n",
    "accuracies  = np.zeros((2,len(numunits),len(numlayers)))\n",
    "\n",
    "# start the experiment!\n",
    "for unitidx in range(len(numunits)):\n",
    "  for layeridx in range(len(numlayers)):\n",
    "\n",
    "    # create and train a fresh model\n",
    "    trainAcc,testAcc,losses,net = funtion2trainTheModel(numunits[unitidx],numlayers[layeridx])\n",
    "\n",
    "    # store the results (average of final 5 epochs)\n",
    "    accuracies[0,unitidx,layeridx] = np.mean(trainAcc[-5:])\n",
    "    accuracies[1,unitidx,layeridx] = np.mean(testAcc[-5:])\n",
    "\n",
    "    # print a friendly status message\n",
    "    print(f'Finished units {unitidx+1}/{len(numunits)} and layers {layeridx+1}/{len(numlayers)}') "
   ]
  },
  {
   "cell_type": "code",
   "execution_count": null,
   "id": "70039cc9",
   "metadata": {},
   "outputs": [],
   "source": [
    "# show accuracy as a function of model depth\n",
    "fig,ax = plt.subplots(1,2,figsize=(15,6))\n",
    "\n",
    "ax[0].plot(numunits,accuracies[0,:,:],'o-',markerfacecolor='w',markersize=9)\n",
    "ax[1].plot(numunits,accuracies[1,:,:],'o-',markerfacecolor='w',markersize=9)\n",
    "\n",
    "for i in range(2):\n",
    "  ax[i].legend(numlayers)\n",
    "  ax[i].set_ylabel('Accuracy')\n",
    "  ax[i].set_xlabel('Number of hidden units')\n",
    "  ax[i].set_title([ 'Train' if i==0 else 'Test' ][0])\n",
    "\n",
    "plt.show()"
   ]
  },
  {
   "cell_type": "code",
   "execution_count": null,
   "id": "76c224b4",
   "metadata": {},
   "outputs": [],
   "source": []
  },
  {
   "cell_type": "markdown",
   "id": "a1904079",
   "metadata": {},
   "source": [
    "# Optional explorations"
   ]
  },
  {
   "cell_type": "code",
   "execution_count": null,
   "id": "8ef7ce2e",
   "metadata": {},
   "outputs": [],
   "source": [
    "# 1) Based on the results above, pick the best and the worst model architectures.\n",
    "#    Then, run only those two models again using regularization (you can pick which\n",
    "#    regularization method to use). Does this help the bad model and/or hurt the good model?\n",
    "# \n",
    "# 2) Time how long each model takes to train (from the full experiment, not just the two models \n",
    "#    for exploration #1). Obviously, both factors (depth and breadth) affect training time, but\n",
    "#    which factor seems to have a bigger influence on model training time?\n",
    "# "
   ]
  }
 ],
 "metadata": {
  "jupytext": {
   "cell_metadata_filter": "-all",
   "main_language": "python",
   "notebook_metadata_filter": "-all"
  }
 },
 "nbformat": 4,
 "nbformat_minor": 5
}
