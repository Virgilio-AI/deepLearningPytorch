{
 "cells": [
  {
   "cell_type": "code",
   "execution_count": null,
   "id": "1c9a6e4d",
   "metadata": {},
   "outputs": [],
   "source": [
    "# Date: 19/November/2022 - Saturday\n",
    "# Author: Virgilio Murillo Ochoa\n",
    "# personal github: Virgilio-AI\n",
    "# linkedin: https://www.linkedin.com/in/virgilio-murillo-ochoa-b29b59203\n",
    "# contact: virgiliomurilloochoa1@gmail.com\n",
    "# web: virgiliomurillo.com"
   ]
  },
  {
   "cell_type": "code",
   "execution_count": null,
   "id": "6d8c9177",
   "metadata": {},
   "outputs": [],
   "source": [
    "# import libraries\n",
    "import numpy as np\n",
    "\n",
    "import torch\n",
    "import torch.nn as nn\n",
    "import torch.nn.functional as F\n",
    "from torch.utils.data import DataLoader,TensorDataset\n",
    "from sklearn.model_selection import train_test_split\n",
    "\n",
    "import matplotlib.pyplot as plt\n",
    "from IPython import display\n",
    "display.set_matplotlib_formats('svg')"
   ]
  },
  {
   "cell_type": "markdown",
   "id": "e9faa7be",
   "metadata": {},
   "source": [
    "# The data"
   ]
  },
  {
   "cell_type": "code",
   "execution_count": null,
   "id": "0c7a8f28",
   "metadata": {},
   "outputs": [],
   "source": [
    "# import dataset (comes with colab!)\n",
    "data = np.loadtxt(open('sample_data/mnist_train_small.csv','rb'),delimiter=',')\n",
    "\n",
    "# extract labels (number IDs) and remove from data\n",
    "labels = data[:,0]\n",
    "data   = data[:,1:]"
   ]
  },
  {
   "cell_type": "code",
   "execution_count": null,
   "id": "4cb93e41",
   "metadata": {},
   "outputs": [],
   "source": [
    "# normalize the data to 0 or 1\n",
    "dataNorm = (data > 0).astype(float)\n",
    "\n",
    "fig,ax = plt.subplots(1,2,figsize=(10,4))\n",
    "ax[0].hist(data.flatten(),50)\n",
    "ax[0].set_xlabel('Pixel intensity values')\n",
    "ax[0].set_ylabel('Count')\n",
    "ax[0].set_title('Histogram of original data')\n",
    "\n",
    "ax[1].hist(dataNorm.flatten(),50)\n",
    "ax[1].set_xlabel('Pixel intensity values')\n",
    "ax[1].set_ylabel('Count')\n",
    "ax[1].set_title('Histogram of normalized data')\n",
    "\n",
    "plt.show()"
   ]
  },
  {
   "cell_type": "code",
   "execution_count": null,
   "id": "feb4f1ae",
   "metadata": {},
   "outputs": [],
   "source": [
    "# confirm that the data have limited values\n",
    "print( np.unique(data) )\n",
    "print('')\n",
    "print( np.unique(dataNorm) )"
   ]
  },
  {
   "cell_type": "markdown",
   "id": "5c62344b",
   "metadata": {},
   "source": [
    "# Create train/test groups using DataLoader"
   ]
  },
  {
   "cell_type": "code",
   "execution_count": null,
   "id": "5e9dcc99",
   "metadata": {},
   "outputs": [],
   "source": [
    "# Step 1: convert to tensor\n",
    "dataT   = torch.tensor( dataNorm ).float()\n",
    "labelsT = torch.tensor( labels ).long()\n",
    "\n",
    "# Step 2: use scikitlearn to split the data\n",
    "train_data,test_data, train_labels,test_labels = train_test_split(dataT, labelsT, test_size=.1)\n",
    "\n",
    "\n",
    "# Step 3: convert into PyTorch Datasets\n",
    "train_data = TensorDataset(train_data,train_labels)\n",
    "test_data  = TensorDataset(test_data,test_labels)\n",
    "\n",
    "# Step 4: translate into dataloader objects\n",
    "batchsize    = 32\n",
    "train_loader = DataLoader(train_data,batch_size=batchsize,shuffle=True,drop_last=True)\n",
    "test_loader  = DataLoader(test_data,batch_size=test_data.tensors[0].shape[0])"
   ]
  },
  {
   "cell_type": "markdown",
   "id": "18c51063",
   "metadata": {},
   "source": [
    "# Create the DL model"
   ]
  },
  {
   "cell_type": "code",
   "execution_count": null,
   "id": "92e84441",
   "metadata": {},
   "outputs": [],
   "source": [
    "# create a class for the model\n",
    "def createTheMNISTNet():\n",
    "\n",
    "  class mnistNet(nn.Module):\n",
    "    def __init__(self):\n",
    "      super().__init__()\n",
    "\n",
    "      ### input layer\n",
    "      self.input = nn.Linear(784,64)\n",
    "      \n",
    "      ### hidden layer\n",
    "      self.fc1 = nn.Linear(64,32)\n",
    "      self.fc2 = nn.Linear(32,32)\n",
    "\n",
    "      ### output layer\n",
    "      self.output = nn.Linear(32,10)\n",
    "\n",
    "    # forward pass\n",
    "    def forward(self,x):\n",
    "      x = F.relu( self.input(x) )\n",
    "      x = F.relu( self.fc1(x) )\n",
    "      x = F.relu( self.fc2(x) )\n",
    "      return torch.log_softmax( self.output(x),axis=1 )\n",
    "      # NOTE: log-softmax the output (b/c loss function)\n",
    "  \n",
    "  # create the model instance\n",
    "  net = mnistNet()\n",
    "  \n",
    "  # loss function\n",
    "  lossfun = nn.NLLLoss()\n",
    "\n",
    "  # optimizer\n",
    "  optimizer = torch.optim.SGD(net.parameters(),lr=.01)\n",
    "\n",
    "  return net,lossfun,optimizer"
   ]
  },
  {
   "cell_type": "code",
   "execution_count": null,
   "id": "5346ccb0",
   "metadata": {},
   "outputs": [],
   "source": [
    "# test the model with one batch\n",
    "net,lossfun,optimizer = createTheMNISTNet()\n",
    "\n",
    "X,y = iter(train_loader).next()\n",
    "yHat = net(X)\n",
    "\n",
    "# confirm really binary\n",
    "torch.unique(X)"
   ]
  },
  {
   "cell_type": "markdown",
   "id": "d1d99dc0",
   "metadata": {},
   "source": [
    "# Create a function that trains the model"
   ]
  },
  {
   "cell_type": "code",
   "execution_count": null,
   "id": "03977709",
   "metadata": {
    "lines_to_next_cell": 2
   },
   "outputs": [],
   "source": [
    "def funtion2trainTheModel():\n",
    "\n",
    "  # number of epochs\n",
    "  numepochs = 60\n",
    "  \n",
    "  # create a new model\n",
    "  net,lossfun,optimizer = createTheMNISTNet()\n",
    "\n",
    "  # initialize losses\n",
    "  losses    = torch.zeros(numepochs)\n",
    "  trainAcc  = []\n",
    "  testAcc   = []\n",
    "\n",
    "\n",
    "  # loop over epochs\n",
    "  for epochi in range(numepochs):\n",
    "\n",
    "    # loop over training data batches\n",
    "    batchAcc  = []\n",
    "    batchLoss = []\n",
    "    for X,y in train_loader:\n",
    "\n",
    "      # forward pass and loss\n",
    "      yHat = net(X)\n",
    "      loss = lossfun(yHat,y)\n",
    "\n",
    "      # backprop\n",
    "      optimizer.zero_grad()\n",
    "      loss.backward()\n",
    "      optimizer.step()\n",
    "\n",
    "      # loss from this batch\n",
    "      batchLoss.append(loss.item())\n",
    "\n",
    "      # compute accuracy\n",
    "      matches = torch.argmax(yHat,axis=1) == y     # booleans (false/true)\n",
    "      matchesNumeric = matches.float()             # convert to numbers (0/1)\n",
    "      accuracyPct = 100*torch.mean(matchesNumeric) # average and x100\n",
    "      batchAcc.append( accuracyPct )               # add to list of accuracies\n",
    "    # end of batch loop...\n",
    "\n",
    "    # now that we've trained through the batches, get their average training accuracy\n",
    "    trainAcc.append( np.mean(batchAcc) )\n",
    "\n",
    "    # and get average losses across the batches\n",
    "    losses[epochi] = np.mean(batchLoss)\n",
    "\n",
    "    # test accuracy\n",
    "    X,y = next(iter(test_loader)) # extract X,y from test dataloader\n",
    "    with torch.no_grad(): # deactivates autograd\n",
    "      yHat = net(X)\n",
    "      \n",
    "    # compare the following really long line of code to the training accuracy lines\n",
    "    testAcc.append( 100*torch.mean((torch.argmax(yHat,axis=1)==y).float()) )\n",
    "\n",
    "  # end epochs\n",
    "\n",
    "  # function output\n",
    "  return trainAcc,testAcc,losses,net"
   ]
  },
  {
   "cell_type": "markdown",
   "id": "34448aaa",
   "metadata": {},
   "source": [
    "# Run the model and show the results!"
   ]
  },
  {
   "cell_type": "code",
   "execution_count": null,
   "id": "7cac4137",
   "metadata": {
    "lines_to_next_cell": 2
   },
   "outputs": [],
   "source": [
    "trainAcc,testAcc,losses,net = funtion2trainTheModel()"
   ]
  },
  {
   "cell_type": "code",
   "execution_count": null,
   "id": "83362e10",
   "metadata": {},
   "outputs": [],
   "source": [
    "fig,ax = plt.subplots(1,2,figsize=(16,5))\n",
    "\n",
    "ax[0].plot(losses)\n",
    "ax[0].set_xlabel('Epochs')\n",
    "ax[0].set_ylabel('Loss')\n",
    "ax[0].set_ylim([0,3])\n",
    "ax[0].set_title('Model loss')\n",
    "\n",
    "ax[1].plot(trainAcc,label='Train')\n",
    "ax[1].plot(testAcc,label='Test')\n",
    "ax[1].set_xlabel('Epochs')\n",
    "ax[1].set_ylabel('Accuracy (%)')\n",
    "ax[1].set_ylim([10,100])\n",
    "ax[1].set_title(f'Final model test accuracy: {testAcc[-1]:.2f}%')\n",
    "ax[1].legend()\n",
    "\n",
    "plt.show()"
   ]
  },
  {
   "cell_type": "markdown",
   "id": "2132d8d1",
   "metadata": {},
   "source": [
    "# Inspect the results in more detail"
   ]
  },
  {
   "cell_type": "code",
   "execution_count": null,
   "id": "42bba0de",
   "metadata": {
    "lines_to_next_cell": 2
   },
   "outputs": [],
   "source": [
    "# run the model through for the test data\n",
    "X,y = next(iter(test_loader))\n",
    "predictions = net(X).detach()"
   ]
  },
  {
   "cell_type": "code",
   "execution_count": null,
   "id": "a76c1bb5",
   "metadata": {},
   "outputs": [],
   "source": [
    "# Evidence for all numbers from one sample\n",
    "sample2show = 120\n",
    "\n",
    "plt.bar(range(10),predictions[sample2show]) # try adding exp!\n",
    "plt.xticks(range(10))\n",
    "plt.xlabel('Number')\n",
    "plt.ylabel('Evidence for that number')\n",
    "plt.title('True number was %s' %y[sample2show].item())\n",
    "plt.show()\n",
    "# np.exp(predictions[sample2show])"
   ]
  },
  {
   "cell_type": "code",
   "execution_count": null,
   "id": "85679e98",
   "metadata": {},
   "outputs": [],
   "source": [
    "# find the errors\n",
    "errors = np.where( torch.max(predictions,axis=1)[1] != y )[0]\n",
    "print(errors)\n",
    "\n",
    "# Evidence for all numbers from one sample\n",
    "sample2show = 14\n",
    "\n",
    "fig,ax = plt.subplots(1,2,figsize=(14,5))\n",
    "\n",
    "ax[0].bar(range(10),np.exp(predictions[errors[sample2show]]))\n",
    "ax[0].set_xticks(range(10))\n",
    "ax[0].set_xlabel('Number')\n",
    "ax[0].set_ylabel('Evidence for that number')\n",
    "ax[0].set_title('True number: %s, model guessed %s' \n",
    "                %( y[errors[sample2show]].item(), torch.argmax(predictions[errors[sample2show]]).item() ))\n",
    "\n",
    "ax[1].imshow( np.reshape(X[errors[sample2show],:],(28,28)) ,cmap='gray')\n",
    "\n",
    "plt.show()"
   ]
  },
  {
   "cell_type": "code",
   "execution_count": null,
   "id": "f6ad76b7",
   "metadata": {},
   "outputs": [],
   "source": []
  },
  {
   "cell_type": "markdown",
   "id": "7168e7d6",
   "metadata": {},
   "source": [
    "# Optional explorations"
   ]
  },
  {
   "cell_type": "code",
   "execution_count": null,
   "id": "fbc0c82a",
   "metadata": {},
   "outputs": [],
   "source": [
    "# 1) Invert the images so that the numbers are black against a white background. It seems intuitive that the\n",
    "#    model should perform just as well, but it's good to confirm. This is also a useful exercise to learn how\n",
    "#    to invert images, which will become useful when learning about augmenting image datasets.\n",
    "# "
   ]
  }
 ],
 "metadata": {
  "jupytext": {
   "cell_metadata_filter": "-all",
   "main_language": "python",
   "notebook_metadata_filter": "-all"
  }
 },
 "nbformat": 4,
 "nbformat_minor": 5
}
