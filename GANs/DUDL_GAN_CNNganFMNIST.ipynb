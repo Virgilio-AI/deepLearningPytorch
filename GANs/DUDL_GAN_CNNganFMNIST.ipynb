{
 "cells": [
  {
   "cell_type": "code",
   "execution_count": null,
   "id": "cfd7f47f",
   "metadata": {},
   "outputs": [],
   "source": [
    "# Date: 19/November/2022 - Saturday\n",
    "# Author: Virgilio Murillo Ochoa\n",
    "# personal github: Virgilio-AI\n",
    "# linkedin: https://www.linkedin.com/in/virgilio-murillo-ochoa-b29b59203\n",
    "# contact: virgiliomurilloochoa1@gmail.com\n",
    "# web: virgiliomurillo.com"
   ]
  },
  {
   "cell_type": "code",
   "execution_count": null,
   "id": "d60c6c71",
   "metadata": {},
   "outputs": [],
   "source": [
    "# import libraries\n",
    "import numpy as np\n",
    "\n",
    "import torch\n",
    "import torch.nn as nn\n",
    "import torch.nn.functional as F\n",
    "\n",
    "# for importing data\n",
    "import torchvision\n",
    "import torchvision.transforms as T\n",
    "from torch.utils.data import DataLoader,Subset\n",
    "\n",
    "import sys\n",
    "\n",
    "import matplotlib.pyplot as plt\n",
    "from IPython import display\n",
    "display.set_matplotlib_formats('svg')"
   ]
  },
  {
   "cell_type": "code",
   "execution_count": null,
   "id": "0c6d9a3e",
   "metadata": {},
   "outputs": [],
   "source": [
    "device = torch.device('cuda' if torch.cuda.is_available() else 'cpu')"
   ]
  },
  {
   "cell_type": "markdown",
   "id": "c63c414a",
   "metadata": {},
   "source": [
    "# Import the data"
   ]
  },
  {
   "cell_type": "code",
   "execution_count": null,
   "id": "b5965b2f",
   "metadata": {},
   "outputs": [],
   "source": [
    "# transformations\n",
    "transform = T.Compose([ T.ToTensor(),\n",
    "                        T.Resize(64),\n",
    "                        T.Normalize(.5,.5),\n",
    "                       ])\n",
    "\n",
    "# import the data and simultaneously apply the transform\n",
    "dataset = torchvision.datasets.FashionMNIST(root='./data', download=True, transform=transform)"
   ]
  },
  {
   "cell_type": "code",
   "execution_count": null,
   "id": "e4a97e09",
   "metadata": {},
   "outputs": [],
   "source": [
    "# list the categories\n",
    "print(dataset.classes)\n",
    "\n",
    "# pick three categories (leave one line uncommented)\n",
    "classes2keep = [ 'Trouser','Sneaker','Pullover' ]\n",
    "# classes2keep = [ 'Trouser','Sneaker', 'Sandal'  ]\n",
    "\n",
    "\n",
    "\n",
    "# find the corresponding data indices\n",
    "images2use = torch.Tensor()\n",
    "for i in range(len(classes2keep)):\n",
    "  classidx = dataset.classes.index(classes2keep[i])\n",
    "  images2use = torch.cat( (images2use,torch.where(dataset.targets==classidx)[0]), 0).type(torch.long)\n",
    "  print(f'Added class {classes2keep[i]} (index {classidx})')\n",
    "\n",
    "# now select just those images\n",
    "\n",
    "# transform to dataloaders\n",
    "batchsize   = 100\n",
    "sampler     = torch.utils.data.sampler.SubsetRandomSampler(images2use)\n",
    "data_loader = DataLoader(dataset,sampler=sampler,batch_size=batchsize,drop_last=True)"
   ]
  },
  {
   "cell_type": "code",
   "execution_count": null,
   "id": "efa75870",
   "metadata": {},
   "outputs": [],
   "source": [
    "# view some images\n",
    "# inspect a few random images\n",
    "\n",
    "X,y = next(iter(data_loader))\n",
    "\n",
    "fig,axs = plt.subplots(3,6,figsize=(10,6))\n",
    "\n",
    "for (i,ax) in enumerate(axs.flatten()):\n",
    "\n",
    "  # extract that image\n",
    "  pic = torch.squeeze(X.data[i])\n",
    "  pic = pic/2 + .5 # undo normalization\n",
    "  \n",
    "  # and its label\n",
    "  label = dataset.classes[y[i]]\n",
    "\n",
    "  # and show!\n",
    "  ax.imshow(pic,cmap='gray')\n",
    "  ax.text(14,0,label,ha='center',fontweight='bold',color='k',backgroundcolor='y')\n",
    "  ax.axis('off')\n",
    "\n",
    "plt.tight_layout()\n",
    "plt.show()"
   ]
  },
  {
   "cell_type": "markdown",
   "id": "e941e477",
   "metadata": {},
   "source": [
    "# Create classes for the discriminator and generator"
   ]
  },
  {
   "cell_type": "code",
   "execution_count": null,
   "id": "9cf12e4c",
   "metadata": {},
   "outputs": [],
   "source": [
    "# Architecture and meta-parameter choices were inspired by https://pytorch.org/tutorials/beginner/dcgan_faces_tutorial.html"
   ]
  },
  {
   "cell_type": "code",
   "execution_count": null,
   "id": "66242c28",
   "metadata": {},
   "outputs": [],
   "source": [
    "class discriminatorNet(nn.Module):\n",
    "  def __init__(self):\n",
    "    super().__init__()\n",
    "\n",
    "    # convolution layers\n",
    "    self.conv1 = nn.Conv2d(  1, 64, 4, 2, 1, bias=False)\n",
    "    self.conv2 = nn.Conv2d( 64,128, 4, 2, 1, bias=False)\n",
    "    self.conv3 = nn.Conv2d(128,256, 4, 2, 1, bias=False)\n",
    "    self.conv4 = nn.Conv2d(256,512, 4, 2, 1, bias=False)\n",
    "    self.conv5 = nn.Conv2d(512,  1, 4, 1, 0, bias=False)\n",
    "\n",
    "    # batchnorm\n",
    "    self.bn2 = nn.BatchNorm2d(128)\n",
    "    self.bn3 = nn.BatchNorm2d(256)\n",
    "    self.bn4 = nn.BatchNorm2d(512)\n",
    "    \n",
    "  def forward(self,x):\n",
    "    x = F.leaky_relu( self.conv1(x) ,.2)\n",
    "    x = F.leaky_relu( self.conv2(x) ,.2)\n",
    "    x = self.bn2(x)\n",
    "    x = F.leaky_relu( self.conv3(x) ,.2)\n",
    "    x = self.bn3(x)\n",
    "    x = F.leaky_relu( self.conv4(x) ,.2)\n",
    "    x = self.bn4(x)\n",
    "    return torch.sigmoid( self.conv5(x) ).view(-1,1)\n",
    "\n",
    "\n",
    "dnet = discriminatorNet()\n",
    "y = dnet(torch.randn(10,1,64,64))\n",
    "y.shape"
   ]
  },
  {
   "cell_type": "code",
   "execution_count": null,
   "id": "d2aa7277",
   "metadata": {},
   "outputs": [],
   "source": [
    "class generatorNet(nn.Module):\n",
    "  def __init__(self):\n",
    "    super().__init__()\n",
    "\n",
    "    # convolution layers\n",
    "    self.conv1 = nn.ConvTranspose2d(100,512, 4, 1, 0, bias=False)\n",
    "    self.conv2 = nn.ConvTranspose2d(512,256, 4, 2, 1, bias=False)\n",
    "    self.conv3 = nn.ConvTranspose2d(256,128, 4, 2, 1, bias=False)\n",
    "    self.conv4 = nn.ConvTranspose2d(128, 64, 4, 2, 1, bias=False)\n",
    "    self.conv5 = nn.ConvTranspose2d(64,   1, 4, 2, 1, bias=False)\n",
    "\n",
    "    # batchnorm\n",
    "    self.bn1 = nn.BatchNorm2d(512)\n",
    "    self.bn2 = nn.BatchNorm2d(256)\n",
    "    self.bn3 = nn.BatchNorm2d(128)\n",
    "    self.bn4 = nn.BatchNorm2d( 64)\n",
    "\n",
    "\n",
    "  def forward(self,x):\n",
    "    x = F.relu( self.bn1(self.conv1(x)) )\n",
    "    x = F.relu( self.bn2(self.conv2(x)) )\n",
    "    x = F.relu( self.bn3(self.conv3(x)) )\n",
    "    x = F.relu( self.bn4(self.conv4(x)) )\n",
    "    x = torch.tanh( self.conv5(x) )\n",
    "    return x\n",
    "    \n",
    "\n",
    "gnet = generatorNet()\n",
    "y = gnet(torch.randn(10,100,1,1))\n",
    "print(y.shape)\n",
    "plt.imshow(y[0,:,:,:].squeeze().detach().numpy());"
   ]
  },
  {
   "cell_type": "markdown",
   "id": "ceb98086",
   "metadata": {},
   "source": [
    "# Train the models!"
   ]
  },
  {
   "cell_type": "code",
   "execution_count": null,
   "id": "cd3f2711",
   "metadata": {},
   "outputs": [],
   "source": [
    "lossfun = nn.BCELoss()\n",
    "\n",
    "dnet = discriminatorNet().to(device)\n",
    "gnet = generatorNet().to(device)\n",
    "\n",
    "d_optimizer = torch.optim.Adam(dnet.parameters(), lr=.0002, betas=(.5,.999))\n",
    "g_optimizer = torch.optim.Adam(gnet.parameters(), lr=.0002, betas=(.5,.999))"
   ]
  },
  {
   "cell_type": "code",
   "execution_count": null,
   "id": "ab863194",
   "metadata": {},
   "outputs": [],
   "source": [
    "# number of epochs (expressed in number of batches)\n",
    "num_epochs = int(2500/len(data_loader))\n",
    "\n",
    "losses  = []\n",
    "disDecs = []\n",
    "\n",
    "for epochi in range(num_epochs):\n",
    "\n",
    "  for data,_ in data_loader:\n",
    "    \n",
    "    # send data to GPU\n",
    "    data = data.to(device)\n",
    "\n",
    "    # create labels for real and fake images\n",
    "    real_labels = torch.ones(batchsize,1).to(device)\n",
    "    fake_labels = torch.zeros(batchsize,1).to(device)\n",
    "\n",
    "\n",
    "\n",
    "    ### ---------------- Train the discriminator ---------------- ###\n",
    "\n",
    "    # forward pass and loss for REAL pictures\n",
    "    pred_real   = dnet(data)                     # output of discriminator\n",
    "    d_loss_real = lossfun(pred_real,real_labels) # all labels are 1\n",
    "\n",
    "    # forward pass and loss for FAKE pictures\n",
    "    fake_data   = torch.randn(batchsize,100,1,1).to(device) # random numbers to seed the generator\n",
    "    fake_images = gnet(fake_data)                           # output of generator\n",
    "    pred_fake   = dnet(fake_images)                         # pass through discriminator\n",
    "    d_loss_fake = lossfun(pred_fake,fake_labels)            # all labels are 0\n",
    "\n",
    "    # collect loss (using combined losses)\n",
    "    d_loss = d_loss_real + d_loss_fake\n",
    "\n",
    "    # backprop\n",
    "    d_optimizer.zero_grad()\n",
    "    d_loss.backward()\n",
    "    d_optimizer.step()\n",
    "\n",
    "\n",
    "\n",
    "    ### ---------------- Train the generator ---------------- ###\n",
    "\n",
    "    # create fake images and compute loss\n",
    "    fake_images = gnet( torch.randn(batchsize,100,1,1).to(device) )\n",
    "    pred_fake   = dnet(fake_images)\n",
    "\n",
    "    # compute loss\n",
    "    g_loss = lossfun(pred_fake,real_labels)\n",
    "\n",
    "    # backprop\n",
    "    g_optimizer.zero_grad()\n",
    "    g_loss.backward()\n",
    "    g_optimizer.step()\n",
    "\n",
    "\n",
    "    # collect losses and discriminator decisions\n",
    "    losses.append([d_loss.item(),g_loss.item()])\n",
    "    \n",
    "    d1 = torch.mean((pred_real>.5).float()).detach()\n",
    "    d2 = torch.mean((pred_fake>.5).float()).detach()\n",
    "    disDecs.append([d1,d2])\n",
    "\n",
    "\n",
    "  # print out a status message\n",
    "  msg = f'Finished epoch {epochi+1}/{num_epochs}'\n",
    "  sys.stdout.write('\\r' + msg)\n",
    "\n",
    "\n",
    "# convert performance from list to numpy array\n",
    "losses  = np.array(losses)\n",
    "disDecs = np.array(disDecs)"
   ]
  },
  {
   "cell_type": "code",
   "execution_count": null,
   "id": "2de704d2",
   "metadata": {},
   "outputs": [],
   "source": [
    "# create a 1D smoothing filter\n",
    "def smooth(x,k=15):\n",
    "  return np.convolve(x,np.ones(k)/k,mode='same')"
   ]
  },
  {
   "cell_type": "code",
   "execution_count": null,
   "id": "bb2a563c",
   "metadata": {},
   "outputs": [],
   "source": [
    "fig,ax = plt.subplots(1,3,figsize=(18,5))\n",
    "\n",
    "ax[0].plot(smooth(losses[:,0]))\n",
    "ax[0].plot(smooth(losses[:,1]))\n",
    "ax[0].set_xlabel('Batches')\n",
    "ax[0].set_ylabel('Loss')\n",
    "ax[0].set_title('Model loss')\n",
    "ax[0].legend(['Discrimator','Generator'])\n",
    "# ax[0].set_xlim([500,2300])\n",
    "# ax[0].set_ylim([-.5,6])\n",
    "\n",
    "ax[1].plot(losses[::5,0],losses[::5,1],'k.',alpha=.1)\n",
    "ax[1].set_xlabel('Discriminator loss')\n",
    "ax[1].set_ylabel('Generator loss')\n",
    "\n",
    "ax[2].plot(smooth(disDecs[:,0]))\n",
    "ax[2].plot(smooth(disDecs[:,1]))\n",
    "ax[2].set_xlabel('Epochs')\n",
    "ax[2].set_ylabel('Probablity (\"real\")')\n",
    "ax[2].set_title('Discriminator output')\n",
    "ax[2].legend(['Real','Fake'])\n",
    "\n",
    "plt.show()"
   ]
  },
  {
   "cell_type": "markdown",
   "id": "8ed50e6a",
   "metadata": {},
   "source": [
    "# Let's see some fake fashion!"
   ]
  },
  {
   "cell_type": "code",
   "execution_count": null,
   "id": "6901fca6",
   "metadata": {},
   "outputs": [],
   "source": [
    "# generate the images from the generator network\n",
    "gnet.eval()\n",
    "fake_data = gnet( torch.randn(batchsize,100,1,1).to(device) ).cpu()\n",
    "\n",
    "# and visualize...\n",
    "fig,axs = plt.subplots(3,6,figsize=(12,6))\n",
    "for i,ax in enumerate(axs.flatten()):\n",
    "  ax.imshow(fake_data[i,:,].detach().squeeze(),cmap='gray')\n",
    "  ax.axis('off')\n",
    "\n",
    "plt.suptitle(classes2keep,y=.95,fontweight='bold')\n",
    "plt.show()"
   ]
  },
  {
   "cell_type": "code",
   "execution_count": null,
   "id": "a80af7ad",
   "metadata": {},
   "outputs": [],
   "source": []
  },
  {
   "cell_type": "markdown",
   "id": "31172a13",
   "metadata": {},
   "source": [
    "# Additional explorations"
   ]
  },
  {
   "cell_type": "code",
   "execution_count": null,
   "id": "a85b10a9",
   "metadata": {},
   "outputs": [],
   "source": [
    "# 1) I've mentioned before that GANs can be quite sensitive to subtle changes in model architecture. Try running the code\n",
    "#    again with exactly one change: Set the Adam 'betas' parameters to their default values (simply remove that argument\n",
    "#    from the code. How much of an impact does this have on the results? More generally, these sensitivities can be \n",
    "#    frustrating when trying to build new models; the best thing to do is search the web for similar kinds of models and\n",
    "#    be inspired by their decisision (but don't assume that a model is good just because it's on the web!).\n",
    "# "
   ]
  }
 ],
 "metadata": {
  "jupytext": {
   "cell_metadata_filter": "-all",
   "main_language": "python",
   "notebook_metadata_filter": "-all"
  }
 },
 "nbformat": 4,
 "nbformat_minor": 5
}
