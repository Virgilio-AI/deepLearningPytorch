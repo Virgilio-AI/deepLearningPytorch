{
 "cells": [
  {
   "cell_type": "code",
   "execution_count": null,
   "id": "caa257f2",
   "metadata": {},
   "outputs": [],
   "source": [
    "# Date: 19/November/2022 - Saturday\n",
    "# Author: Virgilio Murillo Ochoa\n",
    "# personal github: Virgilio-AI\n",
    "# linkedin: https://www.linkedin.com/in/virgilio-murillo-ochoa-b29b59203\n",
    "# contact: virgiliomurilloochoa1@gmail.com\n",
    "# web: virgiliomurillo.com"
   ]
  },
  {
   "cell_type": "code",
   "execution_count": null,
   "id": "dd0d2ad8",
   "metadata": {},
   "outputs": [],
   "source": [
    "# import libraries\n",
    "import torch\n",
    "import torch.nn as nn\n",
    "import matplotlib.pyplot as plt\n",
    "import numpy as np"
   ]
  },
  {
   "cell_type": "markdown",
   "id": "217e6a23",
   "metadata": {},
   "source": [
    "# Create the training data"
   ]
  },
  {
   "cell_type": "code",
   "execution_count": null,
   "id": "d3de9cfa",
   "metadata": {},
   "outputs": [],
   "source": [
    "# create data\n",
    "\n",
    "N = 2000\n",
    "\n",
    "# generate data\n",
    "data = torch.randint(low=-10,high=11,size=(N,2)).float()\n",
    "\n",
    "# \"labels\"\n",
    "labels = torch.sum(data,axis=1,keepdim=True)\n",
    "\n",
    "# print the data\n",
    "for i in range(N):\n",
    "  print(data[i],labels[i])"
   ]
  },
  {
   "cell_type": "code",
   "execution_count": null,
   "id": "a6af5767",
   "metadata": {},
   "outputs": [],
   "source": [
    "labels.shape"
   ]
  },
  {
   "cell_type": "markdown",
   "id": "12d4ef85",
   "metadata": {},
   "source": [
    "# Design the model"
   ]
  },
  {
   "cell_type": "code",
   "execution_count": null,
   "id": "f3386e18",
   "metadata": {},
   "outputs": [],
   "source": [
    "# a function that builds the model\n",
    "\n",
    "def createADDmodel():\n",
    "\n",
    "  # model architecture\n",
    "  ADDclassify = nn.Sequential(\n",
    "      nn.Linear(2,30),  # input layer\n",
    "      nn.ReLU(),        # activation unit\n",
    "      nn.Linear(30,1),  # hidden layer\n",
    "      nn.ReLU(),        # activation unit\n",
    "      nn.Linear(1,1),   # output unit\n",
    "        )\n",
    "\n",
    "  # loss function\n",
    "  lossfun = nn.MSELoss()\n",
    "\n",
    "  # optimizer\n",
    "  optimizer = torch.optim.Adam(ADDclassify.parameters(),lr=.01)\n",
    "\n",
    "  # model output\n",
    "  return ADDclassify,lossfun,optimizer"
   ]
  },
  {
   "cell_type": "markdown",
   "id": "77e0429a",
   "metadata": {},
   "source": [
    "# Train the model"
   ]
  },
  {
   "cell_type": "code",
   "execution_count": null,
   "id": "9ebcf36a",
   "metadata": {},
   "outputs": [],
   "source": [
    "# a function that trains the model\n",
    "\n",
    "# a fixed parameter\n",
    "numepochs = 10\n",
    "\n",
    "def trainTheModel(ADDmodel):\n",
    "\n",
    "  # initialize losses\n",
    "  losses = torch.zeros(numepochs)\n",
    "\n",
    "  # loop over epochs\n",
    "  for epochi in range(numepochs):\n",
    "\n",
    "    numloss = []\n",
    "    # loop through \"minibatches\" of N=1\n",
    "    for num,ans in zip(data,labels):\n",
    "\n",
    "      # forward pass\n",
    "      yHat = ADDmodel(num)\n",
    "\n",
    "      # compute loss\n",
    "      loss = lossfun(yHat,ans)\n",
    "      numloss.append(loss.item())\n",
    "\n",
    "      # backprop\n",
    "      optimizer.zero_grad()\n",
    "      loss.backward()\n",
    "      optimizer.step()\n",
    "  \n",
    "  losses[epochi] = np.mean(numloss)\n",
    "  \n",
    "  \n",
    "  # final forward pass\n",
    "  with torch.no_grad():\n",
    "    predictions = ADDmodel(data)\n",
    "  \n",
    "  # compute the predictions and report accuracy (is this really different from loss?)\n",
    "  trainacc = 100*torch.mean( (np.abs(predictions-labels)<1).float() ) # <1 for rounding\n",
    "\n",
    "\n",
    "  ### now test with new data!\n",
    "  # create brand new test data\n",
    "  TESTdata = torch.randint(low=-10,high=11,size=(N,2)).float()\n",
    "  TESTlabels = torch.sum(TESTdata,axis=1,keepdim=True)\n",
    "  \n",
    "  # evaluate the model and compute accuracy\n",
    "  with torch.no_grad():\n",
    "    predictions = ADDmodel(TESTdata)\n",
    "  testacc = 100*torch.mean( (np.abs(predictions-TESTlabels)<1).float() )\n",
    "  \n",
    "  # EOF\n",
    "  return losses,trainacc,testacc,ADDmodel"
   ]
  },
  {
   "cell_type": "code",
   "execution_count": null,
   "id": "ea569174",
   "metadata": {},
   "outputs": [],
   "source": [
    "# test the model once to make sure it runs\n",
    "AddingMachine,lossfun,optimizer = createADDmodel()\n",
    "losses,trainacc,testacc,ADDmodel = trainTheModel(AddingMachine)\n",
    "\n",
    "# print the results\n",
    "trainacc,testacc\n",
    "# losses"
   ]
  },
  {
   "cell_type": "markdown",
   "id": "f7e9f034",
   "metadata": {},
   "source": [
    "# Run the experiment!"
   ]
  },
  {
   "cell_type": "code",
   "execution_count": null,
   "id": "4e824cfb",
   "metadata": {},
   "outputs": [],
   "source": [
    "# run the model 10 times to check reproducibility\n",
    "\n",
    "for i in range(10):\n",
    "\n",
    "  # create a new 'machine' and train it\n",
    "  AddingMachine,lossfun,optimizer = createADDmodel()\n",
    "  _,trainacc,testacc,ADDmodel = trainTheModel(AddingMachine)\n",
    "\n",
    "  # report accuracy\n",
    "  print('Model instance %s, final TRAIN/TEST accuracies: %g%%, %g%%' %(i+1,trainacc,testacc))"
   ]
  },
  {
   "cell_type": "code",
   "execution_count": null,
   "id": "2737a5be",
   "metadata": {},
   "outputs": [],
   "source": [
    "# some plots from the final model\n",
    "\n",
    "data = torch.randint(low=-10,high=11,size=(N,2)).float()\n",
    "labels = torch.sum(data,axis=1,keepdim=True)\n",
    "\n",
    "# evaluate the model and compute accuracy\n",
    "with torch.no_grad():\n",
    "  predictions = ADDmodel(data)\n",
    "\n",
    "\n",
    "# true and predicted values\n",
    "fig = plt.figure(figsize=(15,5))\n",
    "plt.plot(labels,'s')\n",
    "plt.plot(np.round(predictions.detach()),'rx')\n",
    "plt.legend(['True sum','Predicted sum'])\n",
    "plt.xlabel('Sample index')\n",
    "plt.ylabel('Sum')\n",
    "plt.title('Predicted vs. actual sum')\n",
    "plt.show()"
   ]
  }
 ],
 "metadata": {
  "jupytext": {
   "cell_metadata_filter": "-all",
   "main_language": "python",
   "notebook_metadata_filter": "-all"
  }
 },
 "nbformat": 4,
 "nbformat_minor": 5
}
