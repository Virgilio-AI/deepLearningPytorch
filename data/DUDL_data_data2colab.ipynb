{
 "cells": [
  {
   "cell_type": "code",
   "execution_count": null,
   "id": "e139dd3a",
   "metadata": {},
   "outputs": [],
   "source": [
    "# Date: 19/November/2022 - Saturday\n",
    "# Author: Virgilio Murillo Ochoa\n",
    "# personal github: Virgilio-AI\n",
    "# linkedin: https://www.linkedin.com/in/virgilio-murillo-ochoa-b29b59203\n",
    "# contact: virgiliomurilloochoa1@gmail.com\n",
    "# web: virgiliomurillo.com"
   ]
  },
  {
   "cell_type": "code",
   "execution_count": null,
   "id": "48a10e00",
   "metadata": {},
   "outputs": [],
   "source": []
  },
  {
   "cell_type": "markdown",
   "id": "a0034622",
   "metadata": {},
   "source": [
    "# Import from torchvision"
   ]
  },
  {
   "cell_type": "code",
   "execution_count": null,
   "id": "edfe46e7",
   "metadata": {},
   "outputs": [],
   "source": [
    "import torchvision\n",
    "\n",
    "# download the CIFAR10 dataset\n",
    "cdata = torchvision.datasets.CIFAR10(root='cifar10', download=True)\n",
    "\n",
    "print(cdata)"
   ]
  },
  {
   "cell_type": "code",
   "execution_count": null,
   "id": "5bfa9063",
   "metadata": {},
   "outputs": [],
   "source": [
    "# Datasets that come with torchvision: https://pytorch.org/vision/stable/index.html"
   ]
  },
  {
   "cell_type": "markdown",
   "id": "0d49bb0a",
   "metadata": {},
   "source": [
    "# Download from the web"
   ]
  },
  {
   "cell_type": "code",
   "execution_count": null,
   "id": "8c2d75f0",
   "metadata": {},
   "outputs": [],
   "source": [
    "import pandas as pd\n",
    "\n",
    "# url\n",
    "marriage_url = 'https://www.cdc.gov/nchs/data/dvs/state-marriage-rates-90-95-99-19.xlsx'\n",
    "\n",
    "# import directly into pandas\n",
    "data = pd.read_excel(marriage_url,header=5)\n",
    "data"
   ]
  },
  {
   "cell_type": "code",
   "execution_count": null,
   "id": "98a349be",
   "metadata": {},
   "outputs": [],
   "source": []
  },
  {
   "cell_type": "markdown",
   "id": "ed38ab45",
   "metadata": {},
   "source": [
    "# Upload from hard drive"
   ]
  },
  {
   "cell_type": "code",
   "execution_count": null,
   "id": "ea5647bc",
   "metadata": {},
   "outputs": [],
   "source": [
    "from google.colab import files\n",
    "uploaded = files.upload()"
   ]
  },
  {
   "cell_type": "code",
   "execution_count": null,
   "id": "69b46a9a",
   "metadata": {},
   "outputs": [],
   "source": []
  },
  {
   "cell_type": "markdown",
   "id": "786de8cf",
   "metadata": {},
   "source": [
    "# Map your google-drive"
   ]
  },
  {
   "cell_type": "code",
   "execution_count": null,
   "id": "81e10e19",
   "metadata": {},
   "outputs": [],
   "source": [
    "from google.colab import drive\n",
    "drive.mount('/content/gdrive')"
   ]
  },
  {
   "cell_type": "code",
   "execution_count": null,
   "id": "53b49982",
   "metadata": {},
   "outputs": [],
   "source": []
  }
 ],
 "metadata": {
  "jupytext": {
   "cell_metadata_filter": "-all",
   "main_language": "python",
   "notebook_metadata_filter": "-all"
  }
 },
 "nbformat": 4,
 "nbformat_minor": 5
}
