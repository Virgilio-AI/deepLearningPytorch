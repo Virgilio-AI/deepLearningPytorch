{
 "cells": [
  {
   "cell_type": "code",
   "execution_count": null,
   "id": "0ce3acd0",
   "metadata": {},
   "outputs": [],
   "source": [
    "# Date: 19/November/2022 - Saturday\n",
    "# Author: Virgilio Murillo Ochoa\n",
    "# personal github: Virgilio-AI\n",
    "# linkedin: https://www.linkedin.com/in/virgilio-murillo-ochoa-b29b59203\n",
    "# contact: virgiliomurilloochoa1@gmail.com\n",
    "# web: virgiliomurillo.com"
   ]
  },
  {
   "cell_type": "code",
   "execution_count": null,
   "id": "be4e92ef",
   "metadata": {},
   "outputs": [],
   "source": [
    "# import libraries\n",
    "import torch\n",
    "import torch.nn as nn\n",
    "import matplotlib.pyplot as plt\n",
    "import time"
   ]
  },
  {
   "cell_type": "markdown",
   "id": "b654fa3d",
   "metadata": {},
   "source": [
    "# Select the processor device"
   ]
  },
  {
   "cell_type": "code",
   "execution_count": null,
   "id": "2b4fdc67",
   "metadata": {},
   "outputs": [],
   "source": [
    "## Note: To run models on a GPU you must select from the menu:\n",
    "#   -> Runtime\n",
    "#     -> Change runtime type\n",
    "#       -> Hardware accelerator\n",
    "#         -> GPU"
   ]
  },
  {
   "cell_type": "code",
   "execution_count": null,
   "id": "0b356b68",
   "metadata": {},
   "outputs": [],
   "source": [
    "# use GPU\n",
    "device = torch.device('cuda:0' if torch.cuda.is_available() else 'cpu')\n",
    "print(device)"
   ]
  },
  {
   "cell_type": "markdown",
   "id": "c893736e",
   "metadata": {},
   "source": [
    "# Build a simple model"
   ]
  },
  {
   "cell_type": "code",
   "execution_count": null,
   "id": "3c11751c",
   "metadata": {},
   "outputs": [],
   "source": [
    "net = nn.Sequential(\n",
    "    nn.Linear(20,100),\n",
    "    nn.ReLU(),\n",
    "    nn.Linear(100,500),\n",
    "    nn.ReLU(),\n",
    "    nn.Linear(500,30),\n",
    "    nn.ReLU(),\n",
    "    nn.Linear(30,2)\n",
    "      )"
   ]
  },
  {
   "cell_type": "markdown",
   "id": "9997a3e7",
   "metadata": {},
   "source": [
    "# Make some data"
   ]
  },
  {
   "cell_type": "code",
   "execution_count": null,
   "id": "30a8a376",
   "metadata": {},
   "outputs": [],
   "source": [
    "# just some random fluff\n",
    "data   = torch.randn((1000,20)) # samples X features\n",
    "labels = torch.randint(low=0,high=2,size=(1,1000))"
   ]
  },
  {
   "cell_type": "markdown",
   "id": "c68af3f8",
   "metadata": {},
   "source": [
    "# Send the model and the data to the GPU"
   ]
  },
  {
   "cell_type": "code",
   "execution_count": null,
   "id": "c5a069f0",
   "metadata": {},
   "outputs": [],
   "source": [
    "# model\n",
    "net.to(device)\n",
    "\n",
    "# data\n",
    "data   = data.to(device)\n",
    "labels = labels.to(device)"
   ]
  },
  {
   "cell_type": "code",
   "execution_count": null,
   "id": "c25ae0c2",
   "metadata": {},
   "outputs": [],
   "source": [
    "data"
   ]
  },
  {
   "cell_type": "code",
   "execution_count": null,
   "id": "adc9ecca",
   "metadata": {},
   "outputs": [],
   "source": [
    "# you can also create data directly on the GPU\n",
    "dataG = torch.randn((1000,20),device=device)\n",
    "dataC = torch.randn((1000,20),device='cpu')\n",
    "\n",
    "print(data.device)\n",
    "print(dataG.device)\n",
    "print(dataC.device)"
   ]
  },
  {
   "cell_type": "markdown",
   "id": "3fe70389",
   "metadata": {},
   "source": [
    "# Getting results from the model"
   ]
  },
  {
   "cell_type": "code",
   "execution_count": null,
   "id": "e2704b19",
   "metadata": {},
   "outputs": [],
   "source": [
    "output = net(data)"
   ]
  },
  {
   "cell_type": "code",
   "execution_count": null,
   "id": "a9026fce",
   "metadata": {},
   "outputs": [],
   "source": [
    "output.device"
   ]
  },
  {
   "cell_type": "code",
   "execution_count": null,
   "id": "cbbaaa6c",
   "metadata": {},
   "outputs": [],
   "source": [
    "# try to plot the data\n",
    "plt.plot(output.detach());\n",
    "\n",
    "# plt.plot(output.detach().cpu());"
   ]
  },
  {
   "cell_type": "markdown",
   "id": "2375c200",
   "metadata": {},
   "source": [
    "# Experiment: Computation time"
   ]
  },
  {
   "cell_type": "code",
   "execution_count": null,
   "id": "d555b529",
   "metadata": {},
   "outputs": [],
   "source": [
    "# start the clock\n",
    "starttime = time.process_time()\n",
    "\n",
    "# move, run, retrieve\n",
    "device = 'cuda:0'\n",
    "net.to(device)\n",
    "data   = data.to(device)\n",
    "labels = labels.to(device)\n",
    "output = net(data).detach().cpu()\n",
    "\n",
    "# stop the clock\n",
    "GPUtime = 1000*(time.process_time() - starttime)"
   ]
  },
  {
   "cell_type": "code",
   "execution_count": null,
   "id": "406b021d",
   "metadata": {},
   "outputs": [],
   "source": [
    "# start the clock\n",
    "starttime = time.process_time()\n",
    "\n",
    "# move, run, retrieve\n",
    "device = 'cpu'\n",
    "net.to(device)\n",
    "data   = data.to(device)\n",
    "labels = labels.to(device)\n",
    "output = net(data).detach().cpu()\n",
    "\n",
    "# stop the clock\n",
    "CPUtime = 1000*(time.process_time() - starttime)"
   ]
  },
  {
   "cell_type": "code",
   "execution_count": null,
   "id": "97d84237",
   "metadata": {},
   "outputs": [],
   "source": [
    "# time in ms\n",
    "[CPUtime,GPUtime]"
   ]
  },
  {
   "cell_type": "code",
   "execution_count": null,
   "id": "b5c4b125",
   "metadata": {},
   "outputs": [],
   "source": [
    "# but maybe \"sending\" it to the CPU takes too much overhead?"
   ]
  },
  {
   "cell_type": "code",
   "execution_count": null,
   "id": "8f4e56fb",
   "metadata": {},
   "outputs": [],
   "source": [
    "# recreate network and data\n",
    "net  = nn.Sequential(nn.Linear(20,100),nn.ReLU(),nn.Linear(100,500),nn.ReLU(),nn.Linear(500,30),nn.ReLU(),nn.Linear(30,2))\n",
    "data = torch.randn((1000,20))\n",
    "\n",
    "# rerun the experiment\n",
    "starttime = time.process_time()\n",
    "output    = net(data).detach()\n",
    "CPUtime2  = 1000*(time.process_time() - starttime)\n",
    "\n",
    "# report the results\n",
    "[CPUtime2,CPUtime,GPUtime]"
   ]
  },
  {
   "cell_type": "code",
   "execution_count": null,
   "id": "6f4b0a38",
   "metadata": {},
   "outputs": [],
   "source": []
  }
 ],
 "metadata": {
  "jupytext": {
   "cell_metadata_filter": "-all",
   "main_language": "python",
   "notebook_metadata_filter": "-all"
  }
 },
 "nbformat": 4,
 "nbformat_minor": 5
}
