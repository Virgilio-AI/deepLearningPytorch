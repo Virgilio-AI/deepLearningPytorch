{
 "cells": [
  {
   "cell_type": "code",
   "execution_count": null,
   "id": "6392ab67",
   "metadata": {},
   "outputs": [],
   "source": [
    "# Date: 19/November/2022 - Saturday\n",
    "# Author: Virgilio Murillo Ochoa\n",
    "# personal github: Virgilio-AI\n",
    "# linkedin: https://www.linkedin.com/in/virgilio-murillo-ochoa-b29b59203\n",
    "# contact: virgiliomurilloochoa1@gmail.com\n",
    "# web: virgiliomurillo.com"
   ]
  },
  {
   "cell_type": "code",
   "execution_count": null,
   "id": "f86385b8",
   "metadata": {},
   "outputs": [],
   "source": [
    "# import libraries\n",
    "import numpy as np\n",
    "import torch"
   ]
  },
  {
   "cell_type": "markdown",
   "id": "8b25956d",
   "metadata": {},
   "source": [
    "# Using numpy"
   ]
  },
  {
   "cell_type": "code",
   "execution_count": null,
   "id": "1d9484c6",
   "metadata": {},
   "outputs": [],
   "source": [
    "# create some random matrices\n",
    "A = np.random.randn(3,4)\n",
    "B = np.random.randn(4,5)\n",
    "C = np.random.randn(3,7)\n",
    "\n",
    "# try some multiplications...\n",
    "print(np.round( A@B   ,2)), print(' ')\n",
    "# print(np.round( A@C   ,2)), print(' ')\n",
    "# print(np.round( B@C   ,2)), print(' ')\n",
    "print(np.round( C.T@A ,2))"
   ]
  },
  {
   "cell_type": "markdown",
   "id": "a7c9ad1c",
   "metadata": {},
   "source": [
    "# Using pytorch"
   ]
  },
  {
   "cell_type": "code",
   "execution_count": null,
   "id": "df0b8404",
   "metadata": {},
   "outputs": [],
   "source": [
    "# create some random matrices\n",
    "A  = torch.randn(3,4)\n",
    "B  = torch.randn(4,5)\n",
    "C1 = np.random.randn(4,7)\n",
    "C2 = torch.tensor( C1,dtype=torch.float )\n",
    "\n",
    "# try some multiplications...\n",
    "# print(np.round( A@B   ,2)), print(' ')\n",
    "# print(np.round( A@B.T ,2)), print(' ')\n",
    "print(np.round( A@C1  ,2)), print(' ')\n",
    "print(np.round( A@C2  ,2))"
   ]
  }
 ],
 "metadata": {
  "jupytext": {
   "cell_metadata_filter": "-all",
   "main_language": "python",
   "notebook_metadata_filter": "-all"
  }
 },
 "nbformat": 4,
 "nbformat_minor": 5
}
