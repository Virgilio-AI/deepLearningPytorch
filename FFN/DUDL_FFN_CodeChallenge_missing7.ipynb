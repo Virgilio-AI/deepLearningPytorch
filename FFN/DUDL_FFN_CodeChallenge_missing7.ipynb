{
 "cells": [
  {
   "cell_type": "code",
   "execution_count": null,
   "id": "c25a7a1f",
   "metadata": {},
   "outputs": [],
   "source": [
    "# Date: 19/November/2022 - Saturday\n",
    "# Author: Virgilio Murillo Ochoa\n",
    "# personal github: Virgilio-AI\n",
    "# linkedin: https://www.linkedin.com/in/virgilio-murillo-ochoa-b29b59203\n",
    "# contact: virgiliomurilloochoa1@gmail.com\n",
    "# web: virgiliomurillo.com"
   ]
  },
  {
   "cell_type": "code",
   "execution_count": null,
   "id": "46d7f089",
   "metadata": {},
   "outputs": [],
   "source": [
    "# import libraries\n",
    "import numpy as np\n",
    "\n",
    "import torch\n",
    "import torch.nn as nn\n",
    "import torch.nn.functional as F\n",
    "from torch.utils.data import DataLoader,TensorDataset\n",
    "from sklearn.model_selection import train_test_split\n",
    "\n",
    "import matplotlib.pyplot as plt\n",
    "from IPython import display\n",
    "display.set_matplotlib_formats('svg')"
   ]
  },
  {
   "cell_type": "code",
   "execution_count": null,
   "id": "08f3d035",
   "metadata": {},
   "outputs": [],
   "source": [
    "# import dataset (comes with colab!)\n",
    "data = np.loadtxt(open('sample_data/mnist_train_small.csv','rb'),delimiter=',')\n",
    "\n",
    "# extract labels (number IDs) and remove from data\n",
    "labels = data[:,0]\n",
    "data   = data[:,1:]\n",
    "\n",
    "# normalize the data to a range of [0 1]\n",
    "dataNorm = data / np.max(data)"
   ]
  },
  {
   "cell_type": "markdown",
   "id": "bf8f081e",
   "metadata": {},
   "source": [
    "# Create train/test groups using DataLoader"
   ]
  },
  {
   "cell_type": "code",
   "execution_count": null,
   "id": "9dfb5942",
   "metadata": {},
   "outputs": [],
   "source": [
    "# convert to tensor\n",
    "dataT   = torch.tensor( dataNorm ).float()\n",
    "labelsT = torch.tensor( labels ).long()\n",
    "\n",
    "\n",
    "\n",
    "# boolean vector with the 7's\n",
    "where7 = labels==7\n",
    "\n",
    "# separate data into tensors with, and without, 7's\n",
    "dataNo7   = dataT[~where7,:]\n",
    "labelsNo7 = labelsT[~where7]\n",
    "data7     = dataT[where7,:] \n",
    "# don't need the labels! ;)\n",
    "\n",
    "\n",
    "\n",
    "# convert into PyTorch Datasets\n",
    "train_data = TensorDataset(dataNo7,labelsNo7)\n",
    "test_data  = TensorDataset(data7)\n",
    "\n",
    "# translate into dataloader objects\n",
    "batchsize    = 32\n",
    "train_loader = DataLoader(train_data,batch_size=batchsize,shuffle=True,drop_last=True)\n",
    "test_loader  = DataLoader(test_data,batch_size=test_data.tensors[0].shape[0])"
   ]
  },
  {
   "cell_type": "code",
   "execution_count": null,
   "id": "f30e3793",
   "metadata": {},
   "outputs": [],
   "source": [
    "# confirm that the separation is accurate\n",
    "np.unique(labelsNo7)"
   ]
  },
  {
   "cell_type": "markdown",
   "id": "7becf9c7",
   "metadata": {},
   "source": [
    "# Create the DL model"
   ]
  },
  {
   "cell_type": "code",
   "execution_count": null,
   "id": "cdfbe4a5",
   "metadata": {},
   "outputs": [],
   "source": [
    "# create a class for the model\n",
    "def createTheMNISTNet():\n",
    "\n",
    "  class mnistNet(nn.Module):\n",
    "    def __init__(self):\n",
    "      super().__init__()\n",
    "\n",
    "      ### input layer\n",
    "      self.input = nn.Linear(784,64)\n",
    "      \n",
    "      ### hidden layer\n",
    "      self.fc1 = nn.Linear(64,32)\n",
    "      self.fc2 = nn.Linear(32,32)\n",
    "\n",
    "      ### output layer\n",
    "      self.output = nn.Linear(32,10) # NOTE: still 10 outputs, but output #7 is never trained\n",
    "\n",
    "    # forward pass\n",
    "    def forward(self,x):\n",
    "      x = F.relu( self.input(x) )\n",
    "      x = F.relu( self.fc1(x) )\n",
    "      x = F.relu( self.fc2(x) )\n",
    "      return torch.log_softmax( self.output(x),axis=1 )\n",
    "      # NOTE: log-softmax output for later inspection\n",
    "  \n",
    "  # create the model instance\n",
    "  net = mnistNet()\n",
    "  \n",
    "  # loss function\n",
    "  lossfun = nn.NLLLoss()\n",
    "\n",
    "  # optimizer\n",
    "  optimizer = torch.optim.SGD(net.parameters(),lr=.01)\n",
    "\n",
    "  return net,lossfun,optimizer"
   ]
  },
  {
   "cell_type": "markdown",
   "id": "aad5bb06",
   "metadata": {},
   "source": [
    "# Create a function that trains the model"
   ]
  },
  {
   "cell_type": "code",
   "execution_count": null,
   "id": "277b83ba",
   "metadata": {
    "lines_to_next_cell": 2
   },
   "outputs": [],
   "source": [
    "# a function that trains the model\n",
    "\n",
    "# NOTE: anything test-related can be deleted!\n",
    "\n",
    "def funtion2trainTheModel():\n",
    "\n",
    "  # number of epochs\n",
    "  numepochs = 100\n",
    "  \n",
    "  # create a new model\n",
    "  net,lossfun,optimizer = createTheMNISTNet()\n",
    "\n",
    "  # initialize losses\n",
    "  losses    = torch.zeros(numepochs)\n",
    "  trainAcc  = []\n",
    "\n",
    "\n",
    "  # loop over epochs\n",
    "  for epochi in range(numepochs):\n",
    "\n",
    "    # loop over training data batches\n",
    "    batchAcc  = []\n",
    "    batchLoss = []\n",
    "    for X,y in train_loader:\n",
    "\n",
    "      # forward pass and loss\n",
    "      yHat = net(X)\n",
    "      loss = lossfun(yHat,y)\n",
    "\n",
    "      # backprop\n",
    "      optimizer.zero_grad()\n",
    "      loss.backward()\n",
    "      optimizer.step()\n",
    "\n",
    "      # loss from this batch\n",
    "      batchLoss.append(loss.item())\n",
    "\n",
    "      # compute accuracy\n",
    "      matches = torch.argmax(yHat,axis=1) == y     # booleans (false/true)\n",
    "      matchesNumeric = matches.float()             # convert to numbers (0/1)\n",
    "      accuracyPct = 100*torch.mean(matchesNumeric) # average and x100\n",
    "      batchAcc.append( accuracyPct )               # add to list of accuracies\n",
    "    # end of batch loop...\n",
    "\n",
    "    # now that we've trained through the batches, get their average training accuracy\n",
    "    trainAcc.append( np.mean(batchAcc) )\n",
    "\n",
    "    # and get average losses across the batches\n",
    "    losses[epochi] = np.mean(batchLoss)\n",
    "  # end epochs\n",
    "\n",
    "  # function output\n",
    "  return trainAcc,losses,net"
   ]
  },
  {
   "cell_type": "markdown",
   "id": "c020b3d4",
   "metadata": {},
   "source": [
    "# Run the model and show the results!"
   ]
  },
  {
   "cell_type": "code",
   "execution_count": null,
   "id": "12d42cb1",
   "metadata": {
    "lines_to_next_cell": 2
   },
   "outputs": [],
   "source": [
    "trainAcc,losses,net = funtion2trainTheModel()"
   ]
  },
  {
   "cell_type": "code",
   "execution_count": null,
   "id": "f148b50d",
   "metadata": {},
   "outputs": [],
   "source": [
    "fig,ax = plt.subplots(1,2,figsize=(16,5))\n",
    "\n",
    "ax[0].plot(losses)\n",
    "ax[0].set_xlabel('Epochs')\n",
    "ax[0].set_ylabel('Loss')\n",
    "ax[0].set_ylim([0,3])\n",
    "ax[0].set_title('Model loss')\n",
    "\n",
    "ax[1].plot(trainAcc,label='Train')\n",
    "ax[1].set_xlabel('Epochs')\n",
    "ax[1].set_ylabel('Accuracy (%)')\n",
    "ax[1].set_ylim([10,100])\n",
    "ax[1].set_title(f'Final model train accuracy: {trainAcc[-1]:.2f}%')\n",
    "ax[1].legend()\n",
    "\n",
    "plt.show()"
   ]
  },
  {
   "cell_type": "markdown",
   "id": "1ad7e7e8",
   "metadata": {},
   "source": [
    "# Now for the mystery test!"
   ]
  },
  {
   "cell_type": "code",
   "execution_count": null,
   "id": "e9528157",
   "metadata": {},
   "outputs": [],
   "source": [
    "# run the model through for the test data\n",
    "X = next(iter(test_loader))[0] # note: only need one output, hence the [0]\n",
    "predictions = net(X).detach()\n",
    "\n",
    "# save the model guesses\n",
    "guesses = torch.argmax(predictions,axis=1).detach()"
   ]
  },
  {
   "cell_type": "code",
   "execution_count": null,
   "id": "c3f04635",
   "metadata": {},
   "outputs": [],
   "source": [
    "# show some 7's and their labels\n",
    "\n",
    "fig,axs = plt.subplots(3,4,figsize=(10,6))\n",
    "\n",
    "someRandom7s = np.random.choice(len(X),12)\n",
    "\n",
    "for i,ax in enumerate(axs.flatten()):\n",
    "\n",
    "  thisimg = X[ someRandom7s[i] ].view(28,28)\n",
    "  ax.imshow(thisimg,cmap='gray')\n",
    "  ax.set_title(f'The number {guesses[ someRandom7s[i] ]}')\n",
    "  ax.axis('off')\n",
    "\n",
    "plt.tight_layout()\n",
    "plt.show()"
   ]
  },
  {
   "cell_type": "code",
   "execution_count": null,
   "id": "4f2cef7d",
   "metadata": {},
   "outputs": [],
   "source": [
    "# which numbers are most likely to be confused with 7?\n",
    "print( np.unique(guesses) )\n",
    "\n",
    "probMistaken = np.zeros(10)\n",
    "\n",
    "for i in range(10):\n",
    "  probMistaken[i] = torch.mean((guesses==i).float())\n",
    "\n",
    "plt.bar(range(10),probMistaken)\n",
    "plt.xticks(range(10))\n",
    "plt.xlabel('Number')\n",
    "plt.ylabel('Proportion of times \"7\" was labeled')\n",
    "plt.show()"
   ]
  },
  {
   "cell_type": "code",
   "execution_count": null,
   "id": "72f8d203",
   "metadata": {},
   "outputs": [],
   "source": [
    "# Evidence for all numbers from one sample\n",
    "sample2show = 30\n",
    "\n",
    "plt.bar(range(10),torch.exp(predictions[sample2show]))\n",
    "plt.xticks(range(10))\n",
    "plt.xlabel('Number')\n",
    "plt.ylabel('Evidence for that number')\n",
    "plt.show()"
   ]
  },
  {
   "cell_type": "code",
   "execution_count": null,
   "id": "527f664a",
   "metadata": {},
   "outputs": [],
   "source": []
  },
  {
   "cell_type": "markdown",
   "id": "06943512",
   "metadata": {},
   "source": [
    "# Additional explorations"
   ]
  },
  {
   "cell_type": "code",
   "execution_count": null,
   "id": "790e74bc",
   "metadata": {},
   "outputs": [],
   "source": [
    "# 1) In the image matrix we created above, we picked random 7's and showed their labels. Create another image\n",
    "#    matrix to show all of the times that a 7 was labeled \"0\". How do those 7's look? You can re-run this for\n",
    "#    the other numbers.\n",
    "# \n",
    "# 2) It's not surprising that most of the 7's were labeled as \"9\". You can now repeat this code file with other numbers\n",
    "#    left out. What other pair of numbers do you expect to be commonly misclassified based on typographical similarity?\n",
    "# \n",
    "# 3) Add dropout regularization to fc1 and fc2 (what else do you need to modify in the code to make sure the dropout\n",
    "#    is applied only during training?). Does that affect how the model categorizes 7's?\n",
    "# "
   ]
  }
 ],
 "metadata": {
  "jupytext": {
   "cell_metadata_filter": "-all",
   "main_language": "python",
   "notebook_metadata_filter": "-all"
  }
 },
 "nbformat": 4,
 "nbformat_minor": 5
}
