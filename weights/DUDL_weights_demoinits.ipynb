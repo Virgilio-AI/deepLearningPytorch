{
 "cells": [
  {
   "cell_type": "code",
   "execution_count": null,
   "id": "8831c7cd",
   "metadata": {},
   "outputs": [],
   "source": [
    "# Date: 19/November/2022 - Saturday\n",
    "# Author: Virgilio Murillo Ochoa\n",
    "# personal github: Virgilio-AI\n",
    "# linkedin: https://www.linkedin.com/in/virgilio-murillo-ochoa-b29b59203\n",
    "# contact: virgiliomurilloochoa1@gmail.com\n",
    "# web: virgiliomurillo.com"
   ]
  },
  {
   "cell_type": "code",
   "execution_count": null,
   "id": "af410564",
   "metadata": {},
   "outputs": [],
   "source": [
    "# import libraries\n",
    "import numpy as np\n",
    "\n",
    "import torch\n",
    "import torch.nn as nn\n",
    "import torch.nn.functional as F\n",
    "from torch.utils.data import DataLoader\n",
    "from sklearn.model_selection import train_test_split\n",
    "\n",
    "import matplotlib.pyplot as plt\n",
    "from IPython import display\n",
    "display.set_matplotlib_formats('svg')"
   ]
  },
  {
   "cell_type": "markdown",
   "id": "f3d69f9a",
   "metadata": {},
   "source": [
    "# Import and process the data"
   ]
  },
  {
   "cell_type": "code",
   "execution_count": null,
   "id": "ba67305c",
   "metadata": {},
   "outputs": [],
   "source": [
    "# import dataset (comes with colab!)\n",
    "data = np.loadtxt(open('sample_data/mnist_train_small.csv','rb'),delimiter=',')\n",
    "\n",
    "# extract labels (number IDs) and remove from data\n",
    "labels = data[:,0]\n",
    "data   = data[:,1:]\n",
    "\n",
    "# normalize the data to a range of [0 1]\n",
    "dataNorm = data / np.max(data)"
   ]
  },
  {
   "cell_type": "code",
   "execution_count": null,
   "id": "0121e7d4",
   "metadata": {},
   "outputs": [],
   "source": [
    "# Step 1: convert to tensor\n",
    "dataT   = torch.tensor( dataNorm ).float()\n",
    "labelsT = torch.tensor( labels ).long()\n",
    "\n",
    "# Step 2: use scikitlearn to split the data\n",
    "train_data,test_data, train_labels,test_labels = train_test_split(dataT, labelsT, test_size=.1)\n",
    "\n",
    "# Step 3: convert into PyTorch Datasets\n",
    "train_data = torch.utils.data.TensorDataset(train_data,train_labels)\n",
    "test_data  = torch.utils.data.TensorDataset(test_data,test_labels)\n",
    "\n",
    "# Step 4: translate into dataloader objects\n",
    "batchsize    = 32\n",
    "train_loader = DataLoader(train_data,batch_size=batchsize,shuffle=True,drop_last=True)\n",
    "test_loader  = DataLoader(test_data,batch_size=test_data.tensors[0].shape[0])"
   ]
  },
  {
   "cell_type": "markdown",
   "id": "ce525580",
   "metadata": {},
   "source": [
    "# Create the DL model"
   ]
  },
  {
   "cell_type": "code",
   "execution_count": null,
   "id": "200ae6b7",
   "metadata": {},
   "outputs": [],
   "source": [
    "# create a class for the model\n",
    "def createTheMNISTNet():\n",
    "\n",
    "  class mnistNet(nn.Module):\n",
    "    def __init__(self):\n",
    "      super().__init__()\n",
    "\n",
    "      ### input layer\n",
    "      self.input = nn.Linear(784,64)\n",
    "      \n",
    "      ### hidden layer\n",
    "      self.fc1 = nn.Linear(64,32)\n",
    "      self.fc2 = nn.Linear(32,32)\n",
    "\n",
    "      ### output layer\n",
    "      self.output = nn.Linear(32,10)\n",
    "\n",
    "    # forward pass\n",
    "    def forward(self,x):\n",
    "      x = F.relu( self.input(x) )\n",
    "      x = F.relu( self.fc1(x) )\n",
    "      x = F.relu( self.fc2(x) )\n",
    "      return self.output(x)\n",
    "  \n",
    "  # create the model instance\n",
    "  net = mnistNet()\n",
    "  \n",
    "  # loss function\n",
    "  lossfun = nn.CrossEntropyLoss()\n",
    "\n",
    "  # optimizer\n",
    "  optimizer = torch.optim.Adam(net.parameters(),lr=.01)\n",
    "\n",
    "  return net,lossfun,optimizer"
   ]
  },
  {
   "cell_type": "markdown",
   "id": "91e559dd",
   "metadata": {},
   "source": [
    "# Explore the weights"
   ]
  },
  {
   "cell_type": "code",
   "execution_count": null,
   "id": "fc892d8b",
   "metadata": {},
   "outputs": [],
   "source": [
    "tmpnet = createTheMNISTNet()[0]\n",
    "print(tmpnet)\n",
    "\n",
    "print('\\n\\nWeights for layer fc1:')\n",
    "print(tmpnet.fc1.weight.data)"
   ]
  },
  {
   "cell_type": "markdown",
   "id": "14824fd0",
   "metadata": {},
   "source": [
    "# Create a function that trains the model"
   ]
  },
  {
   "cell_type": "code",
   "execution_count": null,
   "id": "93215f48",
   "metadata": {},
   "outputs": [],
   "source": [
    "def function2trainTheModel(net,lossfun,optimizer):\n",
    "\n",
    "  # number of epochs\n",
    "  numepochs = 10\n",
    "  \n",
    "  # initialize losses\n",
    "  losses    = torch.zeros(numepochs)\n",
    "  trainAcc  = []\n",
    "  testAcc   = []\n",
    "\n",
    "\n",
    "  # loop over epochs\n",
    "  for epochi in range(numepochs):\n",
    "\n",
    "    # switch on train mode\n",
    "    net.train()\n",
    "\n",
    "    # loop over training data batches\n",
    "    batchAcc  = []\n",
    "    batchLoss = []\n",
    "    for X,y in train_loader:\n",
    "\n",
    "      # forward pass and loss\n",
    "      yHat = net(X)\n",
    "      loss = lossfun(yHat,y)\n",
    "\n",
    "      # backprop\n",
    "      optimizer.zero_grad()\n",
    "      loss.backward()\n",
    "      optimizer.step()\n",
    "\n",
    "      # loss from this batch\n",
    "      batchLoss.append(loss.item())\n",
    "\n",
    "      # compute accuracy\n",
    "      matches = torch.argmax(yHat,axis=1) == y     # booleans (false/true)\n",
    "      matchesNumeric = matches.float()             # convert to numbers (0/1)\n",
    "      accuracyPct = 100*torch.mean(matchesNumeric) # average and x100\n",
    "      batchAcc.append( accuracyPct )               # add to list of accuracies\n",
    "    # end of batch loop...\n",
    "\n",
    "    # now that we've trained through the batches, get their average training accuracy\n",
    "    trainAcc.append( np.mean(batchAcc) )\n",
    "\n",
    "    # and get average losses across the batches\n",
    "    losses[epochi] = np.mean(batchLoss)\n",
    "\n",
    "    # test accuracy\n",
    "    net.eval()\n",
    "    X,y = next(iter(test_loader)) # extract X,y from test dataloader\n",
    "    with torch.no_grad(): # deactivates autograd\n",
    "      yHat = net(X)\n",
    "      \n",
    "    # compare the following really long line of code to the training accuracy lines\n",
    "    testAcc.append( 100*torch.mean((torch.argmax(yHat,axis=1)==y).float()) )\n",
    "  # end epochs\n",
    "\n",
    "  # function output\n",
    "  return trainAcc,testAcc,losses,net"
   ]
  },
  {
   "cell_type": "markdown",
   "id": "ef36845a",
   "metadata": {},
   "source": [
    "# Run the model and show the results!"
   ]
  },
  {
   "cell_type": "code",
   "execution_count": null,
   "id": "43e7ba3a",
   "metadata": {},
   "outputs": [],
   "source": [
    "# Run the model without changing the weights; this will be the baseline performance.\n",
    "# Notice the model creation is outside the function2train\n",
    "net_base,lossfun,optimizer = createTheMNISTNet()\n",
    "trainAcc_base,testAcc_base,losses,net_base = function2trainTheModel(net_base,lossfun,optimizer)\n",
    "\n",
    "# plot the results\n",
    "plt.plot(range(len(trainAcc_base)),trainAcc_base,'o-', range(len(testAcc_base)),testAcc_base ,'s-')\n",
    "plt.legend(['Train','Test'])\n",
    "plt.title('Accuracy over epochs')\n",
    "plt.xlabel('Epochs')\n",
    "plt.ylabel('Accuracy (%)')\n",
    "plt.show()"
   ]
  },
  {
   "cell_type": "markdown",
   "id": "aa81a28a",
   "metadata": {},
   "source": [
    "# Set all the weights of layer 1 to zero"
   ]
  },
  {
   "cell_type": "code",
   "execution_count": null,
   "id": "f08e0813",
   "metadata": {},
   "outputs": [],
   "source": [
    "# Change the weights before training\n",
    "net_zero,lossfun,optimizer = createTheMNISTNet()\n",
    "\n",
    "# set to zeros\n",
    "net_zero.fc1.weight.data = torch.zeros_like( net_zero.fc1.weight )\n",
    "\n",
    "# confirm\n",
    "net_zero.fc1.weight.data"
   ]
  },
  {
   "cell_type": "code",
   "execution_count": null,
   "id": "65ac11af",
   "metadata": {},
   "outputs": [],
   "source": [
    "# run the model and show the results\n",
    "trainAcc_zero,testAcc_zero,losses,net_zero = function2trainTheModel(net_zero,lossfun,optimizer)\n",
    "\n",
    "plt.plot(range(len(trainAcc_base)),trainAcc_base,'b-', range(len(testAcc_base)),testAcc_base ,'b:')\n",
    "plt.plot(range(len(trainAcc_zero)),trainAcc_zero,'r-', range(len(testAcc_zero)),testAcc_zero ,'r:')\n",
    "plt.legend(['Train base','Test base','Train fc1=zero','Test fc1=zero'])\n",
    "plt.title('Accuracy comparison with layer FC1 init to zeros')\n",
    "plt.xlabel('Epochs')\n",
    "plt.ylabel('Accuracy (%)')\n",
    "plt.show()"
   ]
  },
  {
   "cell_type": "code",
   "execution_count": null,
   "id": "2f4b5385",
   "metadata": {},
   "outputs": [],
   "source": [
    "# Are the weights still zeros?\n",
    "print(net_zero.fc1.weight.data)\n",
    "\n",
    "# show the distributions in a histogram\n",
    "y,x = np.histogram(net_base.fc2.weight.data.flatten(),30)\n",
    "plt.plot((x[1:]+x[:-1])/2,y,'r',label='Baseline')\n",
    "\n",
    "y,x = np.histogram(net_zero.fc2.weight.data.flatten(),30)\n",
    "plt.plot((x[1:]+x[:-1])/2,y,'b',label='FC1=zeros')\n",
    "\n",
    "plt.legend()\n",
    "plt.xlabel('Weight value')\n",
    "plt.ylabel('Count')\n",
    "plt.show()"
   ]
  },
  {
   "cell_type": "markdown",
   "id": "f5587bb3",
   "metadata": {},
   "source": [
    "# Let's repeat the experiment with all learnable parameters set to zero"
   ]
  },
  {
   "cell_type": "code",
   "execution_count": null,
   "id": "6b8681d5",
   "metadata": {},
   "outputs": [],
   "source": [
    "# Change the weights before training\n",
    "net_allzero,lossfun,optimizer = createTheMNISTNet()\n",
    "\n",
    "# loop over parameters and set them all to zeros\n",
    "for p in net_allzero.named_parameters():\n",
    "  p[1].data = torch.zeros_like( p[1].data )\n",
    "\n",
    "\n",
    "# and confirm for a few select parameters (y-axis offset for visibility)\n",
    "plt.plot(0+net_allzero.fc1.weight.data.flatten(),'bo')\n",
    "plt.plot(1+net_allzero.fc2.weight.data.flatten(),'rx')\n",
    "plt.plot(2+net_allzero.fc1.bias.data.flatten(),'g^')\n",
    "plt.xlabel('Parameter index')\n",
    "plt.ylim([-1,3])\n",
    "plt.ylabel('Parameter value')\n",
    "plt.show()"
   ]
  },
  {
   "cell_type": "code",
   "execution_count": null,
   "id": "24633b30",
   "metadata": {},
   "outputs": [],
   "source": [
    "# run the model and show the results\n",
    "trainAcc_allzero,testAcc_allzero,losses,net_allzero = function2trainTheModel(net_allzero,lossfun,optimizer)\n",
    "\n",
    "plt.plot(range(len(trainAcc_base)),trainAcc_base,'b-', range(len(testAcc_base)),testAcc_base ,'b:')\n",
    "plt.plot(range(len(trainAcc_allzero)),trainAcc_allzero,'r-', range(len(testAcc_allzero)),testAcc_allzero ,'r:')\n",
    "plt.legend(['Train base','Test base','Train all zero','Test all zero'])\n",
    "plt.title('Accuracy comparison with all layers init to zeros')\n",
    "plt.xlabel('Epochs')\n",
    "plt.ylabel('Accuracy (%)')\n",
    "plt.show()"
   ]
  },
  {
   "cell_type": "code",
   "execution_count": null,
   "id": "d7ea6011",
   "metadata": {},
   "outputs": [],
   "source": [
    "# show the distributions in a histogram\n",
    "y,x = np.histogram(net_base.fc1.weight.data.flatten(),30)\n",
    "plt.plot((x[1:]+x[:-1])/2,y,'r',label='Baseline')\n",
    "\n",
    "y,x = np.histogram(net_allzero.fc1.weight.data.flatten(),30)\n",
    "plt.plot((x[1:]+x[:-1])/2,y,'b',label='All zeros')\n",
    "\n",
    "plt.legend()\n",
    "plt.xlabel('Weight value')\n",
    "plt.ylabel('Count')\n",
    "plt.show()"
   ]
  },
  {
   "cell_type": "code",
   "execution_count": null,
   "id": "20615263",
   "metadata": {},
   "outputs": [],
   "source": [
    "# woah, not even a single non-zero weight value?!?!!?!!??\n",
    "plt.plot(net_allzero.fc1.weight.data.flatten(),'o');"
   ]
  },
  {
   "cell_type": "markdown",
   "id": "e82334b5",
   "metadata": {},
   "source": [
    "# Maybe zero is problematic. What about initializing to 1's?"
   ]
  },
  {
   "cell_type": "code",
   "execution_count": null,
   "id": "68938036",
   "metadata": {},
   "outputs": [],
   "source": [
    "# Change the weights before training\n",
    "net_allone,lossfun,optimizer = createTheMNISTNet()\n",
    "for p in net_allone.named_parameters():\n",
    "  p[1].data = torch.zeros_like( p[1].data ) + 1\n",
    "  #p[1].data = torch.zeros( p[1].data.shape ) + 1 # equivalent to the previous line!\n",
    "\n",
    "\n",
    "# run the model and show the results\n",
    "trainAcc_allone,testAcc_allone,losses,net_allone = function2trainTheModel(net_allone,lossfun,optimizer)\n",
    "\n",
    "plt.plot(range(len(trainAcc_base)),trainAcc_base,'b-', range(len(testAcc_base)),testAcc_base ,'b:')\n",
    "plt.plot(range(len(trainAcc_allone)),trainAcc_allone,'r-', range(len(testAcc_allone)),testAcc_allone ,'r:')\n",
    "plt.legend(['Train base','Test base','Train all ones','Test all ones'])\n",
    "plt.title('Accuracy comparison with all layers init to ones')\n",
    "plt.xlabel('Epochs')\n",
    "plt.ylabel('Accuracy (%)')\n",
    "plt.show()"
   ]
  },
  {
   "cell_type": "markdown",
   "id": "245fad32",
   "metadata": {},
   "source": [
    "# Additional explorations"
   ]
  },
  {
   "cell_type": "code",
   "execution_count": null,
   "id": "dddec918",
   "metadata": {},
   "outputs": [],
   "source": [
    "# 1) You saw that initializing only the weights in fc1 still allowed for good performance, while having all weights be\n",
    "#    the same value led to HORRIBLE performance. Try setting all weights to ones and all biases to zeros (across all\n",
    "#    layers). Does that allow for learning? If so, how does it compare to the baseline model performance?\n",
    "# \n",
    "# 2) Now try setting all the weights from all layers to zeros, but leave the bias terms with their initial random values.\n",
    "# \n",
    "# 3) Finally, the opposite of #2: Set all bias terms to zero and leave the weights random. Make a plot of test accuracy\n",
    "#    performance for the baseline model, weights=0, and biases=0.\n",
    "# "
   ]
  }
 ],
 "metadata": {
  "jupytext": {
   "cell_metadata_filter": "-all",
   "main_language": "python",
   "notebook_metadata_filter": "-all"
  }
 },
 "nbformat": 4,
 "nbformat_minor": 5
}
