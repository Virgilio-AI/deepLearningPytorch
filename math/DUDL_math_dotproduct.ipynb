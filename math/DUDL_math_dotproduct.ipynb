{
 "cells": [
  {
   "cell_type": "code",
   "execution_count": null,
   "id": "796a2893",
   "metadata": {},
   "outputs": [],
   "source": [
    "# Date: 19/November/2022 - Saturday\n",
    "# Author: Virgilio Murillo Ochoa\n",
    "# personal github: Virgilio-AI\n",
    "# linkedin: https://www.linkedin.com/in/virgilio-murillo-ochoa-b29b59203\n",
    "# contact: virgiliomurilloochoa1@gmail.com\n",
    "# web: virgiliomurillo.com"
   ]
  },
  {
   "cell_type": "code",
   "execution_count": null,
   "id": "b5fb6036",
   "metadata": {},
   "outputs": [],
   "source": [
    "# import libraries\n",
    "import numpy as np\n",
    "import torch"
   ]
  },
  {
   "cell_type": "markdown",
   "id": "9f539ab2",
   "metadata": {},
   "source": [
    "# Using numpy"
   ]
  },
  {
   "cell_type": "code",
   "execution_count": null,
   "id": "7121650f",
   "metadata": {},
   "outputs": [],
   "source": [
    "# create a vector\n",
    "nv1 = np.array([1,2,3,4])\n",
    "nv2 = np.array([0,1,0,-1])\n",
    "\n",
    "# dot product via function\n",
    "print(np.dot(nv1,nv2))\n",
    "\n",
    "# dot product via computation\n",
    "print(np.sum( nv1*nv2 ))"
   ]
  },
  {
   "cell_type": "markdown",
   "id": "287e202e",
   "metadata": {},
   "source": [
    "# Using pytorch"
   ]
  },
  {
   "cell_type": "code",
   "execution_count": null,
   "id": "f34a953e",
   "metadata": {},
   "outputs": [],
   "source": [
    "# create a vector\n",
    "tv1 = torch.tensor([1,2,3,4])\n",
    "tv2 = torch.tensor([0,1,0,-1])\n",
    "\n",
    "# dot product via function\n",
    "print(torch.dot(tv1,tv2))\n",
    "\n",
    "# dot product via computation\n",
    "print(torch.sum( tv1*tv2 ))"
   ]
  }
 ],
 "metadata": {
  "jupytext": {
   "cell_metadata_filter": "-all",
   "main_language": "python",
   "notebook_metadata_filter": "-all"
  }
 },
 "nbformat": 4,
 "nbformat_minor": 5
}
