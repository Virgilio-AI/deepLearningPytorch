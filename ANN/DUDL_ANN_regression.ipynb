{
 "cells": [
  {
   "cell_type": "code",
   "execution_count": null,
   "id": "df2b3503",
   "metadata": {},
   "outputs": [],
   "source": [
    "# Date: 19/November/2022 - Saturday\n",
    "# Author: Virgilio Murillo Ochoa\n",
    "# personal github: Virgilio-AI\n",
    "# linkedin: https://www.linkedin.com/in/virgilio-murillo-ochoa-b29b59203\n",
    "# contact: virgiliomurilloochoa1@gmail.com\n",
    "# web: virgiliomurillo.com"
   ]
  },
  {
   "cell_type": "code",
   "execution_count": null,
   "id": "5f2d1edf",
   "metadata": {},
   "outputs": [],
   "source": [
    "# import libraries\n",
    "import numpy as np\n",
    "import torch\n",
    "import torch.nn as nn\n",
    "import matplotlib.pyplot as plt\n",
    "from IPython import display\n",
    "display.set_matplotlib_formats('svg')"
   ]
  },
  {
   "cell_type": "code",
   "execution_count": null,
   "id": "46967233",
   "metadata": {},
   "outputs": [],
   "source": [
    "# create data\n",
    "\n",
    "N = 30\n",
    "x = torch.randn(N,1)\n",
    "y = x + torch.randn(N,1)/2\n",
    "\n",
    "# and plot\n",
    "plt.plot(x,y,'s')\n",
    "plt.show()"
   ]
  },
  {
   "cell_type": "code",
   "execution_count": null,
   "id": "b8453146",
   "metadata": {},
   "outputs": [],
   "source": [
    "# build model\n",
    "ANNreg = nn.Sequential(\n",
    "    nn.Linear(1,1),  # input layer\n",
    "    nn.ReLU(),       # activation function\n",
    "    nn.Linear(1,1)   # output layer\n",
    "    )\n",
    "\n",
    "ANNreg"
   ]
  },
  {
   "cell_type": "code",
   "execution_count": null,
   "id": "a39352dc",
   "metadata": {},
   "outputs": [],
   "source": [
    "# learning rate\n",
    "learningRate = .05\n",
    "\n",
    "# loss function\n",
    "lossfun = nn.MSELoss()\n",
    "\n",
    "# optimizer (the flavor of gradient descent to implement)\n",
    "optimizer = torch.optim.SGD(ANNreg.parameters(),lr=learningRate)"
   ]
  },
  {
   "cell_type": "code",
   "execution_count": null,
   "id": "41ede6d6",
   "metadata": {},
   "outputs": [],
   "source": [
    "# train the model\n",
    "numepochs = 500\n",
    "losses = torch.zeros(numepochs)\n",
    "\n",
    "\n",
    "## Train the model!\n",
    "for epochi in range(numepochs):\n",
    "\n",
    "  # forward pass\n",
    "  yHat = ANNreg(x)\n",
    "\n",
    "  # compute loss\n",
    "  loss = lossfun(yHat,y)\n",
    "  losses[epochi] = loss\n",
    "\n",
    "  # backprop\n",
    "  optimizer.zero_grad()\n",
    "  loss.backward()\n",
    "  optimizer.step()"
   ]
  },
  {
   "cell_type": "code",
   "execution_count": null,
   "id": "70141b90",
   "metadata": {},
   "outputs": [],
   "source": [
    "# show the losses\n",
    "\n",
    "# manually compute losses\n",
    "# final forward pass\n",
    "predictions = ANNreg(x)\n",
    "\n",
    "# final loss (MSE)\n",
    "testloss = (predictions-y).pow(2).mean()\n",
    "\n",
    "plt.plot(losses.detach(),'o',markerfacecolor='w',linewidth=.1)\n",
    "plt.plot(numepochs,testloss.detach(),'ro')\n",
    "plt.xlabel('Epoch')\n",
    "plt.ylabel('Loss')\n",
    "plt.title('Final loss = %g' %testloss.item())\n",
    "plt.show()"
   ]
  },
  {
   "cell_type": "code",
   "execution_count": null,
   "id": "ee4cbc81",
   "metadata": {},
   "outputs": [],
   "source": [
    "testloss.item()"
   ]
  },
  {
   "cell_type": "code",
   "execution_count": null,
   "id": "a0071dbb",
   "metadata": {},
   "outputs": [],
   "source": [
    "# plot the data\n",
    "plt.plot(x,y,'bo',label='Real data')\n",
    "plt.plot(x,predictions.detach(),'rs',label='Predictions')\n",
    "plt.title(f'prediction-data r={np.corrcoef(y.T,predictions.detach().T)[0,1]:.2f}')\n",
    "plt.legend()\n",
    "plt.show()"
   ]
  },
  {
   "cell_type": "code",
   "execution_count": null,
   "id": "b12785ea",
   "metadata": {},
   "outputs": [],
   "source": []
  },
  {
   "cell_type": "markdown",
   "id": "98a5655d",
   "metadata": {},
   "source": [
    "# Additional explorations"
   ]
  },
  {
   "cell_type": "code",
   "execution_count": null,
   "id": "2c54581f",
   "metadata": {},
   "outputs": [],
   "source": [
    "# 1) How much data is \"enough\"? Try different values of N and see how low the loss gets. \n",
    "#    Do you still get low loss (\"low\" is subjective, but let's say loss<.25) with N=10? N=5?\n",
    "# \n",
    "# 2) Does your conclusion above depend on the amount of noise in the data? Try changing the noise level\n",
    "#    by changing the division (\"/2\") when creating y as x+randn.\n",
    "# \n",
    "# 3) Notice that the model doesn't always work well. Put the original code (that is, N=30 and /2 noise)\n",
    "#    into a function or a for-loop and repeat the training 100 times (each time using a fresh model instance).\n",
    "#    Then count the number of times the model had a loss>.25."
   ]
  }
 ],
 "metadata": {
  "jupytext": {
   "cell_metadata_filter": "-all",
   "main_language": "python",
   "notebook_metadata_filter": "-all"
  }
 },
 "nbformat": 4,
 "nbformat_minor": 5
}
