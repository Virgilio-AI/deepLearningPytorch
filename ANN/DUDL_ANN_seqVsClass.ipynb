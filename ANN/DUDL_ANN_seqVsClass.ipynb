{
 "cells": [
  {
   "cell_type": "code",
   "execution_count": null,
   "id": "31581b5c",
   "metadata": {},
   "outputs": [],
   "source": [
    "# Date: 19/November/2022 - Saturday\n",
    "# Author: Virgilio Murillo Ochoa\n",
    "# personal github: Virgilio-AI\n",
    "# linkedin: https://www.linkedin.com/in/virgilio-murillo-ochoa-b29b59203\n",
    "# contact: virgiliomurilloochoa1@gmail.com\n",
    "# web: virgiliomurillo.com"
   ]
  },
  {
   "cell_type": "code",
   "execution_count": null,
   "id": "76216ddc",
   "metadata": {},
   "outputs": [],
   "source": [
    "# NOTE: copied from notebook DUDL_ANN_classifyQwerties.ipynb"
   ]
  },
  {
   "cell_type": "code",
   "execution_count": null,
   "id": "f014fc59",
   "metadata": {},
   "outputs": [],
   "source": [
    "# import libraries\n",
    "import torch\n",
    "import torch.nn as nn\n",
    "import numpy as np\n",
    "\n",
    "# NEW!\n",
    "import torch.nn.functional as F\n",
    "\n",
    "import matplotlib.pyplot as plt\n",
    "from IPython import display\n",
    "display.set_matplotlib_formats('svg')"
   ]
  },
  {
   "cell_type": "code",
   "execution_count": null,
   "id": "c0d18d82",
   "metadata": {},
   "outputs": [],
   "source": [
    "# create data\n",
    "\n",
    "nPerClust = 100\n",
    "blur = 1\n",
    "\n",
    "A = [  1, 1 ]\n",
    "B = [  5, 1 ]\n",
    "\n",
    "# generate data\n",
    "a = [ A[0]+np.random.randn(nPerClust)*blur , A[1]+np.random.randn(nPerClust)*blur ]\n",
    "b = [ B[0]+np.random.randn(nPerClust)*blur , B[1]+np.random.randn(nPerClust)*blur ]\n",
    "\n",
    "# true labels\n",
    "labels_np = np.vstack((np.zeros((nPerClust,1)),np.ones((nPerClust,1))))\n",
    "\n",
    "# concatanate into a matrix\n",
    "data_np = np.hstack((a,b)).T\n",
    "\n",
    "# convert to a pytorch tensor\n",
    "data = torch.tensor(data_np).float()\n",
    "labels = torch.tensor(labels_np).float()\n",
    "\n",
    "# show the data\n",
    "fig = plt.figure(figsize=(5,5))\n",
    "plt.plot(data[np.where(labels==0)[0],0],data[np.where(labels==0)[0],1],'bs')\n",
    "plt.plot(data[np.where(labels==1)[0],0],data[np.where(labels==1)[0],1],'ko')\n",
    "plt.title('The qwerties!')\n",
    "plt.xlabel('qwerty dimension 1')\n",
    "plt.ylabel('qwerty dimension 2')\n",
    "plt.show()"
   ]
  },
  {
   "cell_type": "code",
   "execution_count": null,
   "id": "66bb7bb7",
   "metadata": {},
   "outputs": [],
   "source": [
    "# inspect types\n",
    "print(type(data_np))\n",
    "print(np.shape(data_np))\n",
    "print(' ')\n",
    "\n",
    "print(type(data))\n",
    "print(np.shape(data))"
   ]
  },
  {
   "cell_type": "code",
   "execution_count": null,
   "id": "283510b8",
   "metadata": {
    "lines_to_next_cell": 2
   },
   "outputs": [],
   "source": [
    "# # build the model\n",
    "# ANNclassify = nn.Sequential(\n",
    "#     nn.Linear(2,1),   # input layer\n",
    "#     nn.ReLU(),        # activation unit\n",
    "#     nn.Linear(1,1),   # output unit\n",
    "#     nn.Sigmoid(),     # final activation unit (here for conceptual reasons; in practice, better to use BCEWithLogitsLoss)\n",
    "#       )"
   ]
  },
  {
   "cell_type": "code",
   "execution_count": null,
   "id": "f8444d41",
   "metadata": {},
   "outputs": [],
   "source": [
    "### define the class\n",
    "\n",
    "class theClass4ANN(nn.Module):\n",
    "  def __init__(self):\n",
    "    super().__init__()\n",
    "\n",
    "    ### input layer\n",
    "    self.input = nn.Linear(2,1)\n",
    "    \n",
    "    ### output layer\n",
    "    self.output = nn.Linear(1,1)\n",
    "\n",
    "  # forward pass\n",
    "  def forward(self,x):\n",
    "\n",
    "    # pass through the input layer\n",
    "    x = self.input(x)\n",
    "\n",
    "    # apply relu\n",
    "    x = F.relu( x )\n",
    "\n",
    "    # output layer\n",
    "    x = self.output(x)\n",
    "    x = torch.sigmoid(x)\n",
    "\n",
    "    return x\n",
    "\n",
    "\n",
    "### create an instance of the class\n",
    "ANNclassify = theClass4ANN()"
   ]
  },
  {
   "cell_type": "code",
   "execution_count": null,
   "id": "e6cc4093",
   "metadata": {
    "lines_to_next_cell": 2
   },
   "outputs": [],
   "source": [
    "# other model features\n",
    "\n",
    "learningRate = .01\n",
    "\n",
    "# loss function\n",
    "lossfun = nn.BCELoss()\n",
    "# Note: You'll learn in the \"Metaparameters\" section that it's better to use BCEWithLogitsLoss, but this is OK for now.\n",
    "\n",
    "# optimizer\n",
    "optimizer = torch.optim.SGD(ANNclassify.parameters(),lr=learningRate)"
   ]
  },
  {
   "cell_type": "code",
   "execution_count": null,
   "id": "3946a3be",
   "metadata": {},
   "outputs": [],
   "source": [
    "# train the model\n",
    "numepochs = 1000\n",
    "losses = torch.zeros(numepochs)\n",
    "\n",
    "for epochi in range(numepochs):\n",
    "\n",
    "  # forward pass\n",
    "  yHat = ANNclassify(data)\n",
    "\n",
    "  # compute loss\n",
    "  loss = lossfun(yHat,labels)\n",
    "  losses[epochi] = loss\n",
    "\n",
    "  # backprop\n",
    "  optimizer.zero_grad()\n",
    "  loss.backward()\n",
    "  optimizer.step()"
   ]
  },
  {
   "cell_type": "code",
   "execution_count": null,
   "id": "a40d282b",
   "metadata": {},
   "outputs": [],
   "source": [
    "# show the losses\n",
    "\n",
    "plt.plot(losses.detach(),'o',markerfacecolor='w',linewidth=.1)\n",
    "plt.xlabel('Epoch')\n",
    "plt.ylabel('Loss')\n",
    "plt.show()"
   ]
  },
  {
   "cell_type": "code",
   "execution_count": null,
   "id": "1d4b0dd9",
   "metadata": {
    "lines_to_next_cell": 2
   },
   "outputs": [],
   "source": [
    "# compute the predictions\n",
    "\n",
    "# manually compute losses\n",
    "# final forward pass\n",
    "predictions = ANNclassify(data)\n",
    "\n",
    "predlabels = predictions>.5\n",
    "\n",
    "# find errors\n",
    "misclassified = np.where(predlabels != labels)[0]\n",
    "\n",
    "# total accuracy\n",
    "totalacc = 100-100*len(misclassified)/(2*nPerClust)\n",
    "\n",
    "print('Final accuracy: %g%%' %totalacc)"
   ]
  },
  {
   "cell_type": "code",
   "execution_count": null,
   "id": "70f5574c",
   "metadata": {},
   "outputs": [],
   "source": [
    "# plot the labeled data\n",
    "fig = plt.figure(figsize=(5,5))\n",
    "plt.plot(data[misclassified,0] ,data[misclassified,1],'rx',markersize=12,markeredgewidth=3)\n",
    "plt.plot(data[np.where(~predlabels)[0],0],data[np.where(~predlabels)[0],1],'bs')\n",
    "plt.plot(data[np.where(predlabels)[0],0] ,data[np.where(predlabels)[0],1] ,'ko')\n",
    "\n",
    "plt.legend(['Misclassified','blue','black'],bbox_to_anchor=(1,1))\n",
    "plt.title(f'{totalacc}% correct')\n",
    "plt.show()"
   ]
  },
  {
   "cell_type": "code",
   "execution_count": null,
   "id": "4e9ac125",
   "metadata": {},
   "outputs": [],
   "source": []
  }
 ],
 "metadata": {
  "jupytext": {
   "cell_metadata_filter": "-all",
   "main_language": "python",
   "notebook_metadata_filter": "-all"
  }
 },
 "nbformat": 4,
 "nbformat_minor": 5
}
