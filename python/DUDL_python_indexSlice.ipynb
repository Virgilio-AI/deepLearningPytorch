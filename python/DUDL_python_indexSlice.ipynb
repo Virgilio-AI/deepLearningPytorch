{
 "cells": [
  {
   "cell_type": "code",
   "execution_count": null,
   "id": "6595513f",
   "metadata": {},
   "outputs": [],
   "source": [
    "# Date: 19/November/2022 - Saturday\n",
    "# Author: Virgilio Murillo Ochoa\n",
    "# personal github: Virgilio-AI\n",
    "# linkedin: https://www.linkedin.com/in/virgilio-murillo-ochoa-b29b59203\n",
    "# contact: virgiliomurilloochoa1@gmail.com\n",
    "# web: virgiliomurillo.com"
   ]
  },
  {
   "cell_type": "markdown",
   "id": "8f8c8679",
   "metadata": {},
   "source": [
    "# .\n",
    "# .\n",
    "# ."
   ]
  },
  {
   "cell_type": "markdown",
   "id": "46c24778",
   "metadata": {},
   "source": [
    "# VIDEO: Indexing"
   ]
  },
  {
   "cell_type": "code",
   "execution_count": null,
   "id": "0c3e88aa",
   "metadata": {},
   "outputs": [],
   "source": [
    "arange = range(5)\n",
    "\n",
    "arange"
   ]
  },
  {
   "cell_type": "code",
   "execution_count": null,
   "id": "58cc6be8",
   "metadata": {},
   "outputs": [],
   "source": [
    "alist = list(arange)\n",
    "alist"
   ]
  },
  {
   "cell_type": "code",
   "execution_count": null,
   "id": "8700f8b1",
   "metadata": {},
   "outputs": [],
   "source": [
    "alist[1]"
   ]
  },
  {
   "cell_type": "code",
   "execution_count": null,
   "id": "acebdc85",
   "metadata": {},
   "outputs": [],
   "source": [
    "alist = [5,4,1,-67,343,34]\n",
    "\n",
    "alist[1]"
   ]
  },
  {
   "cell_type": "code",
   "execution_count": null,
   "id": "d3647a0a",
   "metadata": {},
   "outputs": [],
   "source": [
    "print( alist[5] )\n",
    "\n",
    "print( alist[-1] )\n",
    "print( alist[-2] )"
   ]
  },
  {
   "cell_type": "code",
   "execution_count": null,
   "id": "4f4d56c8",
   "metadata": {},
   "outputs": [],
   "source": [
    "# can also use variables\n",
    "idx = 3\n",
    "alist[idx]"
   ]
  },
  {
   "cell_type": "code",
   "execution_count": null,
   "id": "13ad9907",
   "metadata": {
    "lines_to_next_cell": 2
   },
   "outputs": [],
   "source": [
    "idxs = [4,2]\n",
    "alist[idxs]"
   ]
  },
  {
   "cell_type": "code",
   "execution_count": null,
   "id": "2b29bc33",
   "metadata": {},
   "outputs": [],
   "source": [
    "alist = [ 4,3,[4,3,5] ]\n",
    "\n",
    "alist[2][1]"
   ]
  },
  {
   "cell_type": "markdown",
   "id": "372652dc",
   "metadata": {},
   "source": [
    "### Exercise"
   ]
  },
  {
   "cell_type": "code",
   "execution_count": null,
   "id": "96aed3d1",
   "metadata": {},
   "outputs": [],
   "source": [
    "# Get the attribute of Penguin in the following list\n",
    "listlist = [ 4,'hi',[5,4,3],'yo',{'Squirrel':'cute','Penguin':'Yummy'} ]"
   ]
  },
  {
   "cell_type": "code",
   "execution_count": null,
   "id": "0b60ba41",
   "metadata": {},
   "outputs": [],
   "source": [
    "\n",
    "listlist[4]['Penguin']"
   ]
  },
  {
   "cell_type": "markdown",
   "id": "c68ab82c",
   "metadata": {},
   "source": [
    "# .\n",
    "# .\n",
    "# ."
   ]
  },
  {
   "cell_type": "markdown",
   "id": "8b784f46",
   "metadata": {},
   "source": [
    "# VIDEO: Slicing, part 1"
   ]
  },
  {
   "cell_type": "code",
   "execution_count": null,
   "id": "f9b71a70",
   "metadata": {},
   "outputs": [],
   "source": [
    "alist = list( range(5,11) )\n",
    "alist"
   ]
  },
  {
   "cell_type": "code",
   "execution_count": null,
   "id": "5c76320a",
   "metadata": {},
   "outputs": [],
   "source": [
    "print( alist[0:2] )\n",
    "print( alist[0:1] )"
   ]
  },
  {
   "cell_type": "code",
   "execution_count": null,
   "id": "cca26b65",
   "metadata": {},
   "outputs": [],
   "source": [
    "alist[2:5]"
   ]
  },
  {
   "cell_type": "code",
   "execution_count": null,
   "id": "b60ddafe",
   "metadata": {},
   "outputs": [],
   "source": [
    "alist[2:]"
   ]
  },
  {
   "cell_type": "code",
   "execution_count": null,
   "id": "7a9c7429",
   "metadata": {},
   "outputs": [],
   "source": [
    "alist[:4]"
   ]
  },
  {
   "cell_type": "code",
   "execution_count": null,
   "id": "73188326",
   "metadata": {},
   "outputs": [],
   "source": [
    "alist[::2]"
   ]
  },
  {
   "cell_type": "code",
   "execution_count": null,
   "id": "7b7a33f3",
   "metadata": {},
   "outputs": [],
   "source": [
    "# using variables\n",
    "start = 1\n",
    "stop  = 4\n",
    "skip  = 2\n",
    "\n",
    "alist[start:stop:skip]"
   ]
  },
  {
   "cell_type": "code",
   "execution_count": null,
   "id": "87b34160",
   "metadata": {},
   "outputs": [],
   "source": [
    "# to reverse a list\n",
    "alist[::-1]"
   ]
  },
  {
   "cell_type": "markdown",
   "id": "ec33252f",
   "metadata": {},
   "source": [
    "### Exercise"
   ]
  },
  {
   "cell_type": "code",
   "execution_count": null,
   "id": "e255a939",
   "metadata": {},
   "outputs": [],
   "source": [
    "# use slicing to write \"Mike is a nice guy\" from this text\n",
    "text = '345dfyug ecin a si ekiM 93845d'\n",
    "\n",
    "text[-8:4:-1]"
   ]
  },
  {
   "cell_type": "markdown",
   "id": "9eb35f6c",
   "metadata": {},
   "source": [
    "# .\n",
    "# .\n",
    "# ."
   ]
  },
  {
   "cell_type": "code",
   "execution_count": null,
   "id": "4257cbfe",
   "metadata": {},
   "outputs": [],
   "source": [
    "# Broadcasting"
   ]
  }
 ],
 "metadata": {
  "jupytext": {
   "cell_metadata_filter": "-all",
   "main_language": "python",
   "notebook_metadata_filter": "-all"
  }
 },
 "nbformat": 4,
 "nbformat_minor": 5
}
