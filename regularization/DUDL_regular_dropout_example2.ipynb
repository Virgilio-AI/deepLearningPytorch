{
 "cells": [
  {
   "cell_type": "code",
   "execution_count": null,
   "id": "6931c5eb",
   "metadata": {},
   "outputs": [],
   "source": [
    "# Date: 19/November/2022 - Saturday\n",
    "# Author: Virgilio Murillo Ochoa\n",
    "# personal github: Virgilio-AI\n",
    "# linkedin: https://www.linkedin.com/in/virgilio-murillo-ochoa-b29b59203\n",
    "# contact: virgiliomurilloochoa1@gmail.com\n",
    "# web: virgiliomurillo.com"
   ]
  },
  {
   "cell_type": "code",
   "execution_count": null,
   "id": "14aa253a",
   "metadata": {},
   "outputs": [],
   "source": [
    "# import libraries\n",
    "import torch\n",
    "import torch.nn as nn\n",
    "import torch.nn.functional as F\n",
    "\n",
    "import numpy as np\n",
    "import matplotlib.pyplot as plt\n",
    "from IPython import display\n",
    "display.set_matplotlib_formats('svg')\n",
    "\n",
    "from sklearn.model_selection import train_test_split\n",
    "from torch.utils.data import DataLoader"
   ]
  },
  {
   "cell_type": "code",
   "execution_count": null,
   "id": "75f8456b",
   "metadata": {},
   "outputs": [],
   "source": [
    "# import dataset (comes with seaborn)\n",
    "import seaborn as sns\n",
    "iris = sns.load_dataset('iris')\n",
    "\n",
    "# convert from pandas dataframe to tensor\n",
    "data = torch.tensor( iris[iris.columns[0:4]].values ).float()\n",
    "\n",
    "# transform species to number\n",
    "labels = torch.zeros(len(data), dtype=torch.long)\n",
    "# labels[iris.species=='setosa'] = 0 # don't need!\n",
    "labels[iris.species=='versicolor'] = 1\n",
    "labels[iris.species=='virginica'] = 2"
   ]
  },
  {
   "cell_type": "markdown",
   "id": "15a7749f",
   "metadata": {},
   "source": [
    "# Separate the data into DataLoaders"
   ]
  },
  {
   "cell_type": "code",
   "execution_count": null,
   "id": "4043f926",
   "metadata": {},
   "outputs": [],
   "source": [
    "# use scikitlearn to split the data\n",
    "train_data,test_data, train_labels,test_labels = train_test_split(data, labels, test_size=.2)\n",
    "\n",
    "\n",
    "# then convert them into PyTorch Datasets (note: already converted to tensors)\n",
    "train_data = torch.utils.data.TensorDataset(train_data,train_labels)\n",
    "test_data  = torch.utils.data.TensorDataset(test_data,test_labels)\n",
    "\n",
    "\n",
    "# finally, translate into dataloader objects\n",
    "batchsize    = 16\n",
    "train_loader = DataLoader(train_data,batch_size=batchsize,shuffle=True)\n",
    "test_loader  = DataLoader(test_data,batch_size=test_data.tensors[0].shape[0]) # how big should these batches be??"
   ]
  },
  {
   "cell_type": "markdown",
   "id": "4da73001",
   "metadata": {},
   "source": [
    "# Create the model and a training regimen"
   ]
  },
  {
   "cell_type": "code",
   "execution_count": null,
   "id": "d2fe540a",
   "metadata": {},
   "outputs": [],
   "source": [
    "class theModelClass(nn.Module):\n",
    "  def __init__(self,dropoutRate):\n",
    "    super().__init__()\n",
    "\n",
    "    ### layers\n",
    "    self.input  = nn.Linear( 4,12)\n",
    "    self.hidden = nn.Linear(12,12)\n",
    "    self.output = nn.Linear(12, 3)\n",
    "\n",
    "    # parameters\n",
    "    self.dr = dropoutRate\n",
    "\n",
    "  # forward pass\n",
    "  def forward(self,x):\n",
    "\n",
    "    # input\n",
    "    x = F.relu( self.input(x) )\n",
    "    x = F.dropout(x,p=self.dr,training=self.training) # switch dropout off during .eval()\n",
    "    \n",
    "    # hidden\n",
    "    x = F.relu( self.hidden(x) )\n",
    "    x = F.dropout(x,p=self.dr,training=self.training)\n",
    "    \n",
    "    # output\n",
    "    x = self.output(x)\n",
    "    return x"
   ]
  },
  {
   "cell_type": "code",
   "execution_count": null,
   "id": "6c9e2f88",
   "metadata": {},
   "outputs": [],
   "source": [
    "# test the model\n",
    "tmpnet = theModelClass(.25)\n",
    "\n",
    "# run some random data through\n",
    "tmpdata = torch.randn((10,4))\n",
    "yhat = tmpnet(tmpdata)\n",
    "yhat"
   ]
  },
  {
   "cell_type": "code",
   "execution_count": null,
   "id": "95192ef6",
   "metadata": {},
   "outputs": [],
   "source": [
    "# a function that creates the ANN model\n",
    "\n",
    "def createANewModel(dropoutrate):\n",
    "\n",
    "  # grab an instance of the model class\n",
    "  ANNiris = theModelClass(dropoutrate)\n",
    "\n",
    "  # loss function\n",
    "  lossfun = nn.CrossEntropyLoss()\n",
    "\n",
    "  # optimizer\n",
    "  optimizer = torch.optim.SGD(ANNiris.parameters(),lr=.005)\n",
    "\n",
    "  return ANNiris,lossfun,optimizer"
   ]
  },
  {
   "cell_type": "code",
   "execution_count": null,
   "id": "9f6e9513",
   "metadata": {},
   "outputs": [],
   "source": [
    "# train the model\n",
    "\n",
    "# global parameter\n",
    "numepochs = 500\n",
    "\n",
    "def trainTheModel():\n",
    "\n",
    "  # initialize accuracies as empties (not storing losses here)\n",
    "  trainAcc = []\n",
    "  testAcc  = []\n",
    "\n",
    "  # loop over epochs\n",
    "  for epochi in range(numepochs):\n",
    "\n",
    "    # switch learning on\n",
    "    ANNiris.train()\n",
    "\n",
    "    # loop over training data batches\n",
    "    batchAcc = []\n",
    "    for X,y in train_loader:\n",
    "\n",
    "      # forward pass and loss\n",
    "      yHat = ANNiris(X)\n",
    "      loss = lossfun(yHat,y)\n",
    "      \n",
    "      # backprop\n",
    "      optimizer.zero_grad()\n",
    "      loss.backward()\n",
    "      optimizer.step()\n",
    "\n",
    "      # compute training accuracy just for this batch\n",
    "      batchAcc.append( 100*torch.mean((torch.argmax(yHat,axis=1) == y).float()).item() )\n",
    "    # end of batch loop...\n",
    "\n",
    "    # now that we've trained through the batches, get their average training accuracy\n",
    "    trainAcc.append( np.mean(batchAcc) )\n",
    "\n",
    "    # test accuracy\n",
    "    ANNiris.eval()\n",
    "    X,y = next(iter(test_loader)) # extract X,y from test dataloader\n",
    "    predlabels = torch.argmax( ANNiris(X),axis=1 )\n",
    "    testAcc.append( 100*torch.mean((predlabels == y).float()).item() )\n",
    "  \n",
    "  # function output\n",
    "  return trainAcc,testAcc\n",
    "\n"
   ]
  },
  {
   "cell_type": "markdown",
   "id": "ac3e41f5",
   "metadata": {},
   "source": [
    "# Now for the real work! ;)"
   ]
  },
  {
   "cell_type": "code",
   "execution_count": null,
   "id": "f5440c66",
   "metadata": {},
   "outputs": [],
   "source": [
    "# create a model\n",
    "dropoutrate = .0\n",
    "ANNiris,lossfun,optimizer = createANewModel(dropoutrate)\n",
    "\n",
    "# train the model\n",
    "trainAcc,testAcc = trainTheModel()"
   ]
  },
  {
   "cell_type": "code",
   "execution_count": null,
   "id": "45e0e146",
   "metadata": {},
   "outputs": [],
   "source": [
    "# plot the results\n",
    "fig = plt.figure(figsize=(10,5))\n",
    "\n",
    "plt.plot(trainAcc,'bs-')\n",
    "plt.plot(testAcc,'ro-')\n",
    "plt.xlabel('Epochs')\n",
    "plt.ylabel('Accuracy (%)')\n",
    "plt.legend(['Train','Test'])\n",
    "plt.title('Dropout rate = %g'%dropoutrate)\n",
    "\n",
    "plt.show()"
   ]
  },
  {
   "cell_type": "code",
   "execution_count": null,
   "id": "4e741627",
   "metadata": {
    "lines_to_next_cell": 2
   },
   "outputs": [],
   "source": [
    "# run an experiment\n",
    "\n",
    "dropoutRates = np.arange(10)/10\n",
    "results = np.zeros((len(dropoutRates),2))\n",
    "\n",
    "for di in range(len(dropoutRates)):\n",
    "\n",
    "  # create and train the model\n",
    "  ANNiris,lossfun,optimizer = createANewModel(dropoutRates[di])\n",
    "  trainAcc,testAcc = trainTheModel()\n",
    "\n",
    "  # store accuracies\n",
    "  results[di,0] = np.mean(trainAcc[-50:])\n",
    "  results[di,1] = np.mean(testAcc[-50:])"
   ]
  },
  {
   "cell_type": "code",
   "execution_count": null,
   "id": "22268c7e",
   "metadata": {},
   "outputs": [],
   "source": [
    "# plot the experiment results\n",
    "fig,ax = plt.subplots(1,2,figsize=(15,5))\n",
    "\n",
    "ax[0].plot(dropoutRates,results,'o-')\n",
    "ax[0].set_xlabel('Dropout proportion')\n",
    "ax[0].set_ylabel('Average accuracy')\n",
    "ax[0].legend(['Train','Test'])\n",
    "\n",
    "ax[1].plot(dropoutRates,-np.diff(results,axis=1),'o-')\n",
    "ax[1].plot([0,.9],[0,0],'k--')\n",
    "ax[1].set_xlabel('Dropout proportion')\n",
    "ax[1].set_ylabel('Train-test difference (acc%)')\n",
    "\n",
    "plt.show()"
   ]
  },
  {
   "cell_type": "code",
   "execution_count": null,
   "id": "5b8c44d6",
   "metadata": {},
   "outputs": [],
   "source": []
  },
  {
   "cell_type": "markdown",
   "id": "7aa18a85",
   "metadata": {},
   "source": [
    "# Additional explorations"
   ]
  },
  {
   "cell_type": "code",
   "execution_count": null,
   "id": "90badd00",
   "metadata": {},
   "outputs": [],
   "source": [
    "# 1) Remove the ReLU nonlinearity from the network. Does that change the effect of dropout proportion on performance?\n",
    "# \n",
    "# 2) I mentioned that dropout doesn't necessarily improve performance for shallow models. What happens if you increase \n",
    "#    the complexity of this model, for example by adding several additional (and wider) hidden layers?\n",
    "# "
   ]
  }
 ],
 "metadata": {
  "jupytext": {
   "cell_metadata_filter": "-all",
   "main_language": "python",
   "notebook_metadata_filter": "-all"
  }
 },
 "nbformat": 4,
 "nbformat_minor": 5
}
