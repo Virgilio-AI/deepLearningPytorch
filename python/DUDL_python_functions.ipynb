{
 "cells": [
  {
   "cell_type": "code",
   "execution_count": null,
   "id": "36363c28",
   "metadata": {},
   "outputs": [],
   "source": [
    "# Date: 19/November/2022 - Saturday\n",
    "# Author: Virgilio Murillo Ochoa\n",
    "# personal github: Virgilio-AI\n",
    "# linkedin: https://www.linkedin.com/in/virgilio-murillo-ochoa-b29b59203\n",
    "# contact: virgiliomurilloochoa1@gmail.com\n",
    "# web: virgiliomurillo.com"
   ]
  },
  {
   "cell_type": "markdown",
   "id": "e6e5914b",
   "metadata": {},
   "source": [
    "# .\n",
    "# .\n",
    "# ."
   ]
  },
  {
   "cell_type": "markdown",
   "id": "d8416e0f",
   "metadata": {},
   "source": [
    "# VIDEO: Inputs and outputs"
   ]
  },
  {
   "cell_type": "code",
   "execution_count": null,
   "id": "ad9bfa9a",
   "metadata": {},
   "outputs": [],
   "source": [
    "sum([10,20,30])"
   ]
  },
  {
   "cell_type": "code",
   "execution_count": null,
   "id": "f13e6d86",
   "metadata": {},
   "outputs": [],
   "source": [
    "alist = [2,3,4]\n",
    "\n",
    "sum(alist)"
   ]
  },
  {
   "cell_type": "code",
   "execution_count": null,
   "id": "44cc02de",
   "metadata": {},
   "outputs": [],
   "source": [
    "# alist(0)\n",
    "sum[alist]"
   ]
  },
  {
   "cell_type": "code",
   "execution_count": null,
   "id": "81fcd121",
   "metadata": {},
   "outputs": [],
   "source": [
    "len(alist)"
   ]
  },
  {
   "cell_type": "code",
   "execution_count": null,
   "id": "973b1a96",
   "metadata": {},
   "outputs": [],
   "source": [
    "# give outputs\n",
    "listsum = sum(alist)\n",
    "print('The sum is ' + str(listsum))"
   ]
  },
  {
   "cell_type": "markdown",
   "id": "173a4df5",
   "metadata": {},
   "source": [
    "### Exercise"
   ]
  },
  {
   "cell_type": "code",
   "execution_count": null,
   "id": "1088bef6",
   "metadata": {
    "lines_to_next_cell": 2
   },
   "outputs": [],
   "source": [
    "# compute the average\n",
    "sum(alist) / len(alist)"
   ]
  },
  {
   "cell_type": "markdown",
   "id": "76325d0b",
   "metadata": {},
   "source": [
    "# .\n",
    "# .\n",
    "# ."
   ]
  },
  {
   "cell_type": "markdown",
   "id": "6c87a2f7",
   "metadata": {},
   "source": [
    "# VIDEO: Python modules (numpy, pandas)\n"
   ]
  },
  {
   "cell_type": "code",
   "execution_count": null,
   "id": "a5337ca5",
   "metadata": {},
   "outputs": [],
   "source": [
    "numbers = [1,2,3,4,5]\n",
    "mean(numbers)\n",
    "average(numbers)"
   ]
  },
  {
   "cell_type": "code",
   "execution_count": null,
   "id": "8fd68aa3",
   "metadata": {},
   "outputs": [],
   "source": [
    "import numpy as np\n",
    "\n",
    "np.mean(numbers)"
   ]
  },
  {
   "cell_type": "code",
   "execution_count": null,
   "id": "b56687ac",
   "metadata": {},
   "outputs": [],
   "source": [
    "np.linspace(1,5,7)"
   ]
  },
  {
   "cell_type": "code",
   "execution_count": null,
   "id": "d25388b8",
   "metadata": {},
   "outputs": [],
   "source": [
    "# clear the workspace"
   ]
  },
  {
   "cell_type": "code",
   "execution_count": null,
   "id": "9c451403",
   "metadata": {},
   "outputs": [],
   "source": [
    "# new type: numpy array\n",
    "numbernp = np.array([1,2,3,4,5])\n",
    "\n",
    "print(numbernp)\n",
    "print(numbers)"
   ]
  },
  {
   "cell_type": "code",
   "execution_count": null,
   "id": "35b08f03",
   "metadata": {},
   "outputs": [],
   "source": [
    "print(type(numbernp))\n",
    "print(type(numbers))"
   ]
  },
  {
   "cell_type": "code",
   "execution_count": null,
   "id": "8a05313d",
   "metadata": {
    "lines_to_next_cell": 2
   },
   "outputs": [],
   "source": [
    "numberz.min()"
   ]
  },
  {
   "cell_type": "code",
   "execution_count": null,
   "id": "27f7c3db",
   "metadata": {},
   "outputs": [],
   "source": [
    "n = [4,3,5,2,6,1,7]\n",
    "print(n)\n",
    "n.sort()\n",
    "print(n)"
   ]
  },
  {
   "cell_type": "code",
   "execution_count": null,
   "id": "561de186",
   "metadata": {},
   "outputs": [],
   "source": [
    "n = [4,3,5,2,6,1,7]\n",
    "print(n)\n",
    "np.sort(n)\n",
    "print(n)\n",
    "n = np.sort(n) # notice different variable type; could set back\n",
    "print(n)"
   ]
  },
  {
   "cell_type": "code",
   "execution_count": null,
   "id": "f3132288",
   "metadata": {},
   "outputs": [],
   "source": []
  },
  {
   "cell_type": "code",
   "execution_count": null,
   "id": "9835315f",
   "metadata": {
    "lines_to_next_cell": 2
   },
   "outputs": [],
   "source": [
    "import pandas as pd\n",
    "\n",
    "# create some random data\n",
    "var1 = np.random.randn(100)*5 + 20\n",
    "var2 = np.random.randn(100)>0\n",
    "\n",
    "# variable labels\n",
    "labels = ['Temp. (C)','Ice cream']\n",
    "\n",
    "# create as a dictionary\n",
    "D = {labels[0]:var1, labels[1]:var2}\n",
    "\n",
    "# import to pandas dataframe\n",
    "df = pd.DataFrame(data=D)"
   ]
  },
  {
   "cell_type": "code",
   "execution_count": null,
   "id": "2d7cda80",
   "metadata": {},
   "outputs": [],
   "source": [
    "df.head()"
   ]
  },
  {
   "cell_type": "code",
   "execution_count": null,
   "id": "80f073af",
   "metadata": {},
   "outputs": [],
   "source": [
    "df.count()"
   ]
  },
  {
   "cell_type": "code",
   "execution_count": null,
   "id": "7b479ea4",
   "metadata": {},
   "outputs": [],
   "source": [
    "df.mean()"
   ]
  },
  {
   "cell_type": "markdown",
   "id": "1e63e53b",
   "metadata": {},
   "source": [
    "### Exercise"
   ]
  },
  {
   "cell_type": "code",
   "execution_count": null,
   "id": "39d79dd9",
   "metadata": {},
   "outputs": [],
   "source": [
    "# create a pandas dataframe with variables: \n",
    "# integers from 0 to 10, their square, and their log\n",
    "\n",
    "nums = np.array(range(11))\n",
    "\n",
    "D = {'v1':nums , 'v2':nums**2 , 'v3':np.log(nums)}\n",
    "\n",
    "df = pd.DataFrame(D)\n",
    "df"
   ]
  },
  {
   "cell_type": "code",
   "execution_count": null,
   "id": "77145b23",
   "metadata": {},
   "outputs": [],
   "source": []
  },
  {
   "cell_type": "markdown",
   "id": "f18fce51",
   "metadata": {},
   "source": [
    "# VIDEO: Getting help on functions"
   ]
  },
  {
   "cell_type": "code",
   "execution_count": null,
   "id": "1528c3ba",
   "metadata": {},
   "outputs": [],
   "source": [
    "alist = [1,2,3]\n",
    "\n",
    "sum(alist,10)"
   ]
  },
  {
   "cell_type": "code",
   "execution_count": null,
   "id": "dbf11c0e",
   "metadata": {},
   "outputs": [],
   "source": [
    "sum??"
   ]
  },
  {
   "cell_type": "code",
   "execution_count": null,
   "id": "1408d466",
   "metadata": {},
   "outputs": [],
   "source": [
    "help(sum)"
   ]
  },
  {
   "cell_type": "code",
   "execution_count": null,
   "id": "b1dce893",
   "metadata": {},
   "outputs": [],
   "source": [
    "# advanced method\n",
    "\n",
    "import inspect\n",
    "import numpy as np\n",
    "inspect.getsourcelines(np.linspace)"
   ]
  },
  {
   "cell_type": "code",
   "execution_count": null,
   "id": "522538a2",
   "metadata": {},
   "outputs": [],
   "source": [
    "sum('test')"
   ]
  },
  {
   "cell_type": "markdown",
   "id": "248a6ccb",
   "metadata": {},
   "source": [
    "# . \n",
    "# . \n",
    "# . "
   ]
  },
  {
   "cell_type": "markdown",
   "id": "ec217a56",
   "metadata": {},
   "source": [
    "# VIDEO: Creating functions"
   ]
  },
  {
   "cell_type": "code",
   "execution_count": null,
   "id": "9c5cd434",
   "metadata": {},
   "outputs": [],
   "source": [
    "def awesomeFunction():\n",
    "  print(1+1)"
   ]
  },
  {
   "cell_type": "code",
   "execution_count": null,
   "id": "636bf81e",
   "metadata": {},
   "outputs": [],
   "source": [
    "awesomeFunction\n",
    "awesomeFunction()"
   ]
  },
  {
   "cell_type": "code",
   "execution_count": null,
   "id": "a613b423",
   "metadata": {},
   "outputs": [],
   "source": [
    "def SuperAwesomeFunction(input1,input2):\n",
    "  return input1 + input2"
   ]
  },
  {
   "cell_type": "code",
   "execution_count": null,
   "id": "0f681752",
   "metadata": {},
   "outputs": [],
   "source": [
    "SuperAwesomeFunction(5,8)"
   ]
  },
  {
   "cell_type": "code",
   "execution_count": null,
   "id": "678342d1",
   "metadata": {
    "lines_to_next_cell": 2
   },
   "outputs": [],
   "source": [
    "answer = SuperAwesomeFunction(5,8)"
   ]
  },
  {
   "cell_type": "code",
   "execution_count": null,
   "id": "d638ca03",
   "metadata": {},
   "outputs": [],
   "source": [
    "print(answer)"
   ]
  },
  {
   "cell_type": "code",
   "execution_count": null,
   "id": "24fffcfd",
   "metadata": {},
   "outputs": [],
   "source": [
    "# with multiple outputs\n",
    "def awesomeFunction(in1,in2):\n",
    "  sumres = in1+in2\n",
    "  prodres = in1*in2\n",
    "  print('Their sum is ' + str(sumres))\n",
    "  print('Their product is ' + str(prodres))\n",
    "  return sumres,prodres"
   ]
  },
  {
   "cell_type": "code",
   "execution_count": null,
   "id": "a1c0e584",
   "metadata": {},
   "outputs": [],
   "source": [
    "out1,out2 = awesomeFunction(4,5)\n",
    "\n",
    "print(out1,out2)"
   ]
  },
  {
   "cell_type": "code",
   "execution_count": null,
   "id": "6691f864",
   "metadata": {},
   "outputs": [],
   "source": [
    "# lambda functions\n",
    "\n",
    "littlefun = lambda x : x**2 - 1\n",
    "\n",
    "littlefun(4)"
   ]
  },
  {
   "cell_type": "markdown",
   "id": "c8a4e002",
   "metadata": {},
   "source": [
    "### Exercise"
   ]
  },
  {
   "cell_type": "code",
   "execution_count": null,
   "id": "6675d587",
   "metadata": {},
   "outputs": [],
   "source": [
    "# create a function that computes a factorial, \n",
    "# then compare against the numpy factorial function\n",
    "# hint: import math\n",
    "\n",
    "def myfactorial(val):\n",
    "  return np.prod(np.arange(1,val+1))\n",
    "\n"
   ]
  },
  {
   "cell_type": "code",
   "execution_count": null,
   "id": "fd399fbe",
   "metadata": {
    "lines_to_next_cell": 2
   },
   "outputs": [],
   "source": [
    "import math\n",
    "\n",
    "x = 20 # inaccurate for >~21\n",
    "print(np.arange(1,x+1))\n",
    "\n",
    "print(myfactorial(x),math.factorial(x))\n",
    "math.factorial??"
   ]
  },
  {
   "cell_type": "code",
   "execution_count": null,
   "id": "e52f0b9e",
   "metadata": {},
   "outputs": [],
   "source": []
  },
  {
   "cell_type": "markdown",
   "id": "89a904e8",
   "metadata": {},
   "source": [
    "# .\n",
    "# .\n",
    "# ."
   ]
  },
  {
   "cell_type": "markdown",
   "id": "e58915db",
   "metadata": {},
   "source": [
    "# VIDEO: Global and local variable scopes\n",
    "\n",
    "\n"
   ]
  },
  {
   "cell_type": "code",
   "execution_count": null,
   "id": "872b739b",
   "metadata": {},
   "outputs": [],
   "source": [
    "# clear the workspace"
   ]
  },
  {
   "cell_type": "code",
   "execution_count": null,
   "id": "fdf3ab1b",
   "metadata": {},
   "outputs": [],
   "source": [
    "def funfun():\n",
    "  x = 7\n",
    "  y = 10\n",
    "  print(x)\n",
    "\n"
   ]
  },
  {
   "cell_type": "code",
   "execution_count": null,
   "id": "2f35f0fe",
   "metadata": {},
   "outputs": [],
   "source": [
    "funfun()"
   ]
  },
  {
   "cell_type": "code",
   "execution_count": null,
   "id": "164e5d27",
   "metadata": {},
   "outputs": [],
   "source": [
    "x"
   ]
  },
  {
   "cell_type": "code",
   "execution_count": null,
   "id": "3b6d4cdc",
   "metadata": {},
   "outputs": [],
   "source": [
    "x = 3\n",
    "print( funfun() )\n",
    "print( x )\n",
    "print( y )"
   ]
  },
  {
   "cell_type": "code",
   "execution_count": null,
   "id": "3806d9ca",
   "metadata": {},
   "outputs": [],
   "source": [
    "def funfun():\n",
    "  print(z)\n",
    "\n"
   ]
  },
  {
   "cell_type": "code",
   "execution_count": null,
   "id": "e2d1b5ce",
   "metadata": {},
   "outputs": [],
   "source": [
    "funfun()"
   ]
  },
  {
   "cell_type": "code",
   "execution_count": null,
   "id": "ad9fe68b",
   "metadata": {},
   "outputs": [],
   "source": [
    "z = 3\n",
    "funfun()"
   ]
  },
  {
   "cell_type": "code",
   "execution_count": null,
   "id": "c7a1d0d5",
   "metadata": {},
   "outputs": [],
   "source": [
    "# rules: \n",
    "#  1) variables created inside a function are local (accessible only inside the function)\n",
    "#  2) variables created outside a function are global (accessible in or out of the function)"
   ]
  },
  {
   "cell_type": "markdown",
   "id": "4e179475",
   "metadata": {},
   "source": [
    "### Exercise"
   ]
  },
  {
   "cell_type": "code",
   "execution_count": null,
   "id": "38b8d494",
   "metadata": {},
   "outputs": [],
   "source": [
    "# write a function that flips a coin N times and reports the average\n",
    "\n",
    "import numpy as np\n",
    "\n",
    "def coinflip(N):\n",
    "  propCoinFlips = np.mean( np.random.randn(N)>0 )\n",
    "  print( str(N) + ' coin flips had ' + str(propCoinFlips*100) + '% heads.' )"
   ]
  },
  {
   "cell_type": "code",
   "execution_count": null,
   "id": "8237fa64",
   "metadata": {},
   "outputs": [],
   "source": [
    "coinflip(2000)"
   ]
  },
  {
   "cell_type": "markdown",
   "id": "815393bc",
   "metadata": {},
   "source": [
    "# .\n",
    "# .\n",
    "# ."
   ]
  },
  {
   "cell_type": "code",
   "execution_count": null,
   "id": "c6e6f370",
   "metadata": {},
   "outputs": [],
   "source": []
  },
  {
   "cell_type": "code",
   "execution_count": null,
   "id": "f2998f3c",
   "metadata": {},
   "outputs": [],
   "source": []
  },
  {
   "cell_type": "code",
   "execution_count": null,
   "id": "5233b549",
   "metadata": {
    "colab": {
     "base_uri": "https://localhost:8080/"
    },
    "executionInfo": {
     "elapsed": 191,
     "status": "ok",
     "timestamp": 1621927521203,
     "user": {
      "displayName": "Mike X Cohen",
      "photoUrl": "https://lh3.googleusercontent.com/a-/AOh14GhjXSur8ulydyiQQEh2U6pYGIhDN22fqYYNNDg49A=s64",
      "userId": "13901636194183843661"
     },
     "user_tz": -120
    },
    "id": "sKxUPiYAYwFt",
    "outputId": "477bbee3-a671-448d-feac-f49e10603350"
   },
   "outputs": [],
   "source": [
    "# tangent on copy\n",
    "\n",
    "a = [4,3]\n",
    "b = a#[:]\n",
    "b[0] = 5\n",
    "\n",
    "print(a)\n",
    "print(b)"
   ]
  },
  {
   "cell_type": "code",
   "execution_count": null,
   "id": "0603da26",
   "metadata": {
    "colab": {
     "base_uri": "https://localhost:8080/"
    },
    "executionInfo": {
     "elapsed": 181,
     "status": "ok",
     "timestamp": 1621927528471,
     "user": {
      "displayName": "Mike X Cohen",
      "photoUrl": "https://lh3.googleusercontent.com/a-/AOh14GhjXSur8ulydyiQQEh2U6pYGIhDN22fqYYNNDg49A=s64",
      "userId": "13901636194183843661"
     },
     "user_tz": -120
    },
    "id": "VAKNE1LRYwJM",
    "outputId": "9153bcb5-4f9c-48e3-e736-ed550e99d805"
   },
   "outputs": [],
   "source": [
    "print(id(a))\n",
    "print(id(b))"
   ]
  },
  {
   "cell_type": "code",
   "execution_count": null,
   "id": "fbbd9249",
   "metadata": {
    "colab": {
     "base_uri": "https://localhost:8080/"
    },
    "executionInfo": {
     "elapsed": 180,
     "status": "ok",
     "timestamp": 1621927544212,
     "user": {
      "displayName": "Mike X Cohen",
      "photoUrl": "https://lh3.googleusercontent.com/a-/AOh14GhjXSur8ulydyiQQEh2U6pYGIhDN22fqYYNNDg49A=s64",
      "userId": "13901636194183843661"
     },
     "user_tz": -120
    },
    "id": "ksnrXeq-ZZmk",
    "outputId": "dd957b77-46fe-4a63-8cd6-2a569c975d6d"
   },
   "outputs": [],
   "source": [
    "import copy\n",
    "\n",
    "a = {'q':1, 'w':2}\n",
    "b = copy.deepcopy(a)\n",
    "\n",
    "print(id(a))\n",
    "print(id(b))"
   ]
  },
  {
   "cell_type": "code",
   "execution_count": null,
   "id": "0a0798ab",
   "metadata": {},
   "outputs": [],
   "source": []
  },
  {
   "cell_type": "code",
   "execution_count": null,
   "id": "9f6b8dfc",
   "metadata": {},
   "outputs": [],
   "source": []
  },
  {
   "cell_type": "code",
   "execution_count": null,
   "id": "a3c263f5",
   "metadata": {},
   "outputs": [],
   "source": []
  },
  {
   "cell_type": "code",
   "execution_count": null,
   "id": "4c84fd99",
   "metadata": {},
   "outputs": [],
   "source": []
  },
  {
   "cell_type": "markdown",
   "id": "da7b70da",
   "metadata": {},
   "source": [
    "# VIDEO: Classes and object-oriented programming"
   ]
  },
  {
   "cell_type": "code",
   "execution_count": null,
   "id": "5516bf46",
   "metadata": {},
   "outputs": [],
   "source": [
    "# class is like a blueprint for a set of attributes and methods\n",
    "# instance is an example\n",
    "# class is a cookie cutter, instance is an individual cookie\n",
    "\n",
    "class model(object):\n",
    "\n",
    "  # constructor method\n",
    "  def __init__(self,numlayers,numunits,name):\n",
    "    self.layers  = numlayers\n",
    "    self.units   = numunits # these are attributes\n",
    "    self.name    = name\n",
    "    self.weights = 10\n",
    "  \n",
    "  # other methods\n",
    "  def howManyUnits(self):\n",
    "    totalUnits = self.layers * self.units\n",
    "    print(f'There are {totalUnits} units in the model.')\n",
    "\n",
    "  def trainTheModel(self,x):\n",
    "    self.weights += x\n",
    "    return self.weights\n",
    "\n",
    "  def __str__(self):\n",
    "    return f'This is a {self.name} architecture.'\n",
    "\n"
   ]
  },
  {
   "cell_type": "code",
   "execution_count": null,
   "id": "0a97ebd6",
   "metadata": {
    "colab": {
     "base_uri": "https://localhost:8080/",
     "height": 35
    },
    "executionInfo": {
     "elapsed": 183,
     "status": "ok",
     "timestamp": 1622019930854,
     "user": {
      "displayName": "Mike X Cohen",
      "photoUrl": "https://lh3.googleusercontent.com/a-/AOh14GhjXSur8ulydyiQQEh2U6pYGIhDN22fqYYNNDg49A=s64",
      "userId": "13901636194183843661"
     },
     "user_tz": -120
    },
    "id": "5RXhwn5R6HwD",
    "outputId": "dae7d41d-f463-4016-fd38-1590e42ec1ca"
   },
   "outputs": [],
   "source": [
    "# create an instance and check it\n",
    "ex = model(2,3,'cnn')\n",
    "# ex.howManyUnits()\n",
    "str(ex)"
   ]
  },
  {
   "cell_type": "code",
   "execution_count": null,
   "id": "163831f3",
   "metadata": {
    "colab": {
     "base_uri": "https://localhost:8080/"
    },
    "executionInfo": {
     "elapsed": 180,
     "status": "ok",
     "timestamp": 1622019948704,
     "user": {
      "displayName": "Mike X Cohen",
      "photoUrl": "https://lh3.googleusercontent.com/a-/AOh14GhjXSur8ulydyiQQEh2U6pYGIhDN22fqYYNNDg49A=s64",
      "userId": "13901636194183843661"
     },
     "user_tz": -120
    },
    "id": "8zpSRXZL6_kD",
    "outputId": "24921e71-a523-42c2-e573-c20247e3e46b"
   },
   "outputs": [],
   "source": [
    "ex.trainTheModel(3)"
   ]
  },
  {
   "cell_type": "code",
   "execution_count": null,
   "id": "41006a9f",
   "metadata": {},
   "outputs": [],
   "source": [
    "# Exercise: \n",
    "# create a new class so that \n",
    "# 1) the weights is a layers-by-units matrix, \n",
    "# 2) the weights are changed by multiplying by input x and summing input y"
   ]
  },
  {
   "cell_type": "code",
   "execution_count": null,
   "id": "3006ce8a",
   "metadata": {},
   "outputs": [],
   "source": [
    "import numpy as np\n",
    "class model2(object):\n",
    "\n",
    "  # constructor method\n",
    "  def __init__(self,numlayers,numunits,name):\n",
    "    self.layers  = numlayers\n",
    "    self.units   = numunits # these are attributes\n",
    "    self.name    = name\n",
    "    self.weights = np.random.randn(numlayers,self.units)\n",
    "  \n",
    "  # other methods\n",
    "  def howManyUnits(self):\n",
    "    totalUnits = self.layers * self.units\n",
    "    print(f'There are {totalUnits} units in the model.')\n",
    "\n",
    "  def trainTheModel(self,x,y):\n",
    "    self.weights = self.weights*x + y\n",
    "\n",
    "  def __str__(self):\n",
    "    return f'This is a {self.name} architecture.'\n",
    "\n"
   ]
  },
  {
   "cell_type": "code",
   "execution_count": null,
   "id": "f6122fa3",
   "metadata": {},
   "outputs": [],
   "source": [
    "ex1 = model2(2,3,'cnn')\n",
    "print(ex1.weights)"
   ]
  },
  {
   "cell_type": "code",
   "execution_count": null,
   "id": "98136890",
   "metadata": {},
   "outputs": [],
   "source": [
    "ex1.trainTheModel(2,3)"
   ]
  },
  {
   "cell_type": "code",
   "execution_count": null,
   "id": "09b3f2fc",
   "metadata": {},
   "outputs": [],
   "source": [
    "ex1.weights"
   ]
  }
 ],
 "metadata": {
  "jupytext": {
   "cell_metadata_filter": "colab,outputId,id,executionInfo,-all",
   "main_language": "python",
   "notebook_metadata_filter": "-all"
  }
 },
 "nbformat": 4,
 "nbformat_minor": 5
}
