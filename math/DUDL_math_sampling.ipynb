{
 "cells": [
  {
   "cell_type": "code",
   "execution_count": null,
   "id": "06667fb2",
   "metadata": {},
   "outputs": [],
   "source": [
    "# Date: 19/November/2022 - Saturday\n",
    "# Author: Virgilio Murillo Ochoa\n",
    "# personal github: Virgilio-AI\n",
    "# linkedin: https://www.linkedin.com/in/virgilio-murillo-ochoa-b29b59203\n",
    "# contact: virgiliomurilloochoa1@gmail.com\n",
    "# web: virgiliomurillo.com"
   ]
  },
  {
   "cell_type": "code",
   "execution_count": null,
   "id": "54d2b5d6",
   "metadata": {},
   "outputs": [],
   "source": [
    "# import libraries\n",
    "import numpy as np\n",
    "import matplotlib.pyplot as plt"
   ]
  },
  {
   "cell_type": "code",
   "execution_count": null,
   "id": "86df545f",
   "metadata": {},
   "outputs": [],
   "source": [
    "# create a list of numbers to compute the mean and variance of\n",
    "x = [1,2,4,6,5,4,0,-4,5,-2,6,10,-9,1,3,-6]\n",
    "n = len(x)\n",
    "\n",
    "# compute the population mean\n",
    "popmean = np.mean(x)\n",
    "\n",
    "# compute a sample mean\n",
    "sample = np.random.choice(x,size=5,replace=True)\n",
    "sampmean = np.mean(sample)\n",
    "\n",
    "# print them\n",
    "print(popmean)\n",
    "print(sampmean)"
   ]
  },
  {
   "cell_type": "code",
   "execution_count": null,
   "id": "14089942",
   "metadata": {},
   "outputs": [],
   "source": [
    "# compute lots of sample means\n",
    "\n",
    "# number of experiments to run\n",
    "nExpers = 10000\n",
    "\n",
    "# run the experiment!\n",
    "sampleMeans = np.zeros(nExpers)\n",
    "for i in range(nExpers):\n",
    "\n",
    "  # step 1: draw a sample\n",
    "  sample = np.random.choice(x,size=15,replace=True)\n",
    "\n",
    "  # step 2: compute its mean\n",
    "  sampleMeans[i] = np.mean(sample)\n",
    "\n",
    "\n",
    "\n",
    "# show the results as a histogram\n",
    "plt.hist(sampleMeans,bins=40,density=True)\n",
    "plt.plot([popmean,popmean],[0,.3],'m--')\n",
    "plt.ylabel('Count')\n",
    "plt.xlabel('Sample mean')\n",
    "plt.show()"
   ]
  }
 ],
 "metadata": {
  "jupytext": {
   "cell_metadata_filter": "-all",
   "main_language": "python",
   "notebook_metadata_filter": "-all"
  }
 },
 "nbformat": 4,
 "nbformat_minor": 5
}
