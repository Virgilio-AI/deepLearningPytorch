{
 "cells": [
  {
   "cell_type": "code",
   "execution_count": null,
   "id": "bb359c12",
   "metadata": {},
   "outputs": [],
   "source": [
    "# Date: 19/November/2022 - Saturday\n",
    "# Author: Virgilio Murillo Ochoa\n",
    "# personal github: Virgilio-AI\n",
    "# linkedin: https://www.linkedin.com/in/virgilio-murillo-ochoa-b29b59203\n",
    "# contact: virgiliomurilloochoa1@gmail.com\n",
    "# web: virgiliomurillo.com"
   ]
  },
  {
   "cell_type": "code",
   "execution_count": null,
   "id": "7bb78ddc",
   "metadata": {},
   "outputs": [],
   "source": [
    "# import libraries\n",
    "import numpy as np\n",
    "\n",
    "import torch\n",
    "import torch.nn as nn\n",
    "import torch.nn.functional as F\n",
    "from torch.utils.data import DataLoader\n",
    "from sklearn.model_selection import train_test_split\n",
    "\n",
    "# NEW!\n",
    "import sklearn.metrics as skm\n",
    "\n",
    "import matplotlib.pyplot as plt\n",
    "from IPython import display\n",
    "display.set_matplotlib_formats('svg')"
   ]
  },
  {
   "cell_type": "markdown",
   "id": "39e92e05",
   "metadata": {},
   "source": [
    "# Import and process the data"
   ]
  },
  {
   "cell_type": "code",
   "execution_count": null,
   "id": "e16a4971",
   "metadata": {},
   "outputs": [],
   "source": [
    "# import dataset (comes with colab!)\n",
    "data = np.loadtxt(open('sample_data/mnist_train_small.csv','rb'),delimiter=',')\n",
    "\n",
    "# extract labels (number IDs) and remove from data\n",
    "labels = data[:,0]\n",
    "data   = data[:,1:]\n",
    "\n",
    "# normalize the data to a range of [0 1]\n",
    "dataNorm = data / np.max(data)"
   ]
  },
  {
   "cell_type": "code",
   "execution_count": null,
   "id": "d6304a2a",
   "metadata": {},
   "outputs": [],
   "source": [
    "# Step 1: convert to tensor\n",
    "dataT   = torch.tensor( dataNorm ).float()\n",
    "labelsT = torch.tensor( labels ).long()\n",
    "\n",
    "# Step 2: use scikitlearn to split the data\n",
    "train_data,test_data, train_labels,test_labels = train_test_split(dataT, labelsT, test_size=.1)\n",
    "\n",
    "# Step 3: convert into PyTorch Datasets\n",
    "train_data = torch.utils.data.TensorDataset(train_data,train_labels)\n",
    "test_data  = torch.utils.data.TensorDataset(test_data,test_labels)\n",
    "\n",
    "# Step 4: translate into dataloader objects\n",
    "batchsize    = 32\n",
    "train_loader = DataLoader(train_data,batch_size=batchsize,shuffle=True,drop_last=True)\n",
    "test_loader  = DataLoader(test_data,batch_size=test_data.tensors[0].shape[0])"
   ]
  },
  {
   "cell_type": "markdown",
   "id": "3598d33f",
   "metadata": {},
   "source": [
    "# Create the DL model"
   ]
  },
  {
   "cell_type": "code",
   "execution_count": null,
   "id": "4bea268e",
   "metadata": {},
   "outputs": [],
   "source": [
    "# create a class for the model\n",
    "def createTheMNISTNet():\n",
    "\n",
    "  class mnistNet(nn.Module):\n",
    "    def __init__(self):\n",
    "      super().__init__()\n",
    "\n",
    "      ### input layer\n",
    "      self.input = nn.Linear(784,64)\n",
    "      \n",
    "      ### hidden layer\n",
    "      self.fc1 = nn.Linear(64,32)\n",
    "      self.fc2 = nn.Linear(32,32)\n",
    "\n",
    "      ### output layer\n",
    "      self.output = nn.Linear(32,10)\n",
    "\n",
    "    # forward pass\n",
    "    def forward(self,x):\n",
    "      x = F.relu( self.input(x) )\n",
    "      x = F.relu( self.fc1(x) )\n",
    "      x = F.relu( self.fc2(x) )\n",
    "      return self.output(x)\n",
    "  \n",
    "  # create the model instance\n",
    "  net = mnistNet()\n",
    "  \n",
    "  # loss function\n",
    "  lossfun = nn.CrossEntropyLoss()\n",
    "\n",
    "  # optimizer\n",
    "  optimizer = torch.optim.Adam(net.parameters(),lr=.01)\n",
    "\n",
    "  return net,lossfun,optimizer"
   ]
  },
  {
   "cell_type": "markdown",
   "id": "e98e0736",
   "metadata": {},
   "source": [
    "# Create a function that trains the model"
   ]
  },
  {
   "cell_type": "code",
   "execution_count": null,
   "id": "7bfaee68",
   "metadata": {
    "lines_to_next_cell": 2
   },
   "outputs": [],
   "source": [
    "def function2trainTheModel():\n",
    "\n",
    "  # number of epochs\n",
    "  numepochs = 10\n",
    "  \n",
    "  # create a new model\n",
    "  net,lossfun,optimizer = createTheMNISTNet()\n",
    "\n",
    "  # initialize losses\n",
    "  losses    = torch.zeros(numepochs)\n",
    "  trainAcc  = []\n",
    "  testAcc   = []\n",
    "\n",
    "\n",
    "  # loop over epochs\n",
    "  for epochi in range(numepochs):\n",
    "\n",
    "    # loop over training data batches\n",
    "    batchAcc  = []\n",
    "    batchLoss = []\n",
    "    for X,y in train_loader:\n",
    "\n",
    "      # forward pass and loss\n",
    "      yHat = net(X)\n",
    "      loss = lossfun(yHat,y)\n",
    "\n",
    "      # backprop\n",
    "      optimizer.zero_grad()\n",
    "      loss.backward()\n",
    "      optimizer.step()\n",
    "\n",
    "      # loss from this batch\n",
    "      batchLoss.append(loss.item())\n",
    "\n",
    "      # compute accuracy\n",
    "      matches = torch.argmax(yHat,axis=1) == y     # booleans (false/true)\n",
    "      matchesNumeric = matches.float()             # convert to numbers (0/1)\n",
    "      accuracyPct = 100*torch.mean(matchesNumeric) # average and x100\n",
    "      batchAcc.append( accuracyPct )               # add to list of accuracies\n",
    "    # end of batch loop...\n",
    "\n",
    "    # now that we've trained through the batches, get their average training accuracy\n",
    "    trainAcc.append( np.mean(batchAcc) )\n",
    "\n",
    "    # and get average losses across the batches\n",
    "    losses[epochi] = np.mean(batchLoss)\n",
    "\n",
    "    # test accuracy\n",
    "    X,y = next(iter(test_loader)) # extract X,y from test dataloader\n",
    "    with torch.no_grad(): # deactivates autograd\n",
    "      yHat = net(X)\n",
    "      \n",
    "    # compare the following really long line of code to the training accuracy lines\n",
    "    testAcc.append( 100*torch.mean((torch.argmax(yHat,axis=1)==y).float()) )\n",
    "\n",
    "  # end epochs\n",
    "\n",
    "  # function output\n",
    "  return trainAcc,testAcc,losses,net"
   ]
  },
  {
   "cell_type": "markdown",
   "id": "dfcdcc06",
   "metadata": {},
   "source": [
    "# Run the model and show the results!"
   ]
  },
  {
   "cell_type": "code",
   "execution_count": null,
   "id": "93ba5fd7",
   "metadata": {},
   "outputs": [],
   "source": [
    "# build and train the model\n",
    "trainAcc,testAcc,losses,net = function2trainTheModel()\n",
    "\n",
    "\n",
    "# visualization starts here\n",
    "fig,ax = plt.subplots(1,2,figsize=(10,3))\n",
    "\n",
    "ax[0].plot(losses)\n",
    "ax[0].set_xlabel('Epochs')\n",
    "ax[0].set_ylabel('Loss')\n",
    "ax[0].set_ylim([0,3])\n",
    "ax[0].set_title('Model loss')\n",
    "\n",
    "ax[1].plot(trainAcc,label='Train')\n",
    "ax[1].plot(testAcc,label='Test')\n",
    "ax[1].set_xlabel('Epochs')\n",
    "ax[1].set_ylabel('Accuracy (%)')\n",
    "ax[1].set_ylim([10,100])\n",
    "ax[1].set_title(f'Final model test accuracy: {testAcc[-1]:.2f}%')\n",
    "ax[1].legend()\n",
    "\n",
    "plt.show()"
   ]
  },
  {
   "cell_type": "markdown",
   "id": "ea8cacfb",
   "metadata": {},
   "source": [
    "# Compute the performance measures on the train and test data"
   ]
  },
  {
   "cell_type": "code",
   "execution_count": null,
   "id": "8443de91",
   "metadata": {},
   "outputs": [],
   "source": [
    "# predicted digits for training data\n",
    "yHat = net(train_loader.dataset.tensors[0])\n",
    "train_predictions = torch.argmax(yHat,axis=1)\n",
    "\n",
    "# predictions for test data\n",
    "yHat = net(test_loader.dataset.tensors[0])\n",
    "test_predictions = torch.argmax(yHat,axis=1)\n",
    "test_predictions"
   ]
  },
  {
   "cell_type": "code",
   "execution_count": null,
   "id": "93193927",
   "metadata": {},
   "outputs": [],
   "source": [
    "# Brief aside on computing precision et al. in multiclass data:\n",
    "# There are now 10 classes, so there are 10 precision values.\n",
    "\n",
    "\n",
    "## option 1: compute precision for each class (each number)\n",
    "skm.precision_score(train_loader.dataset.tensors[1],train_predictions,average=None)\n",
    "\n",
    "## option 2: compute average precision, weighted by N\n",
    "skm.precision_score(train_loader.dataset.tensors[1],train_predictions,average='weighted')\n",
    "\n",
    "## option 3: compute average precision, unweighted (same as 'weighted' if category N's are equal)\n",
    "skm.precision_score(train_loader.dataset.tensors[1],train_predictions,average='macro')"
   ]
  },
  {
   "cell_type": "code",
   "execution_count": null,
   "id": "821ee427",
   "metadata": {},
   "outputs": [],
   "source": [
    "# initialize vectors\n",
    "train_metrics = [0,0,0,0]\n",
    "test_metrics  = [0,0,0,0]\n",
    "\n",
    "# training\n",
    "train_metrics[0] = skm.accuracy_score (train_loader.dataset.tensors[1],train_predictions) # accuracy is overall\n",
    "train_metrics[1] = skm.precision_score(train_loader.dataset.tensors[1],train_predictions,average='weighted')\n",
    "train_metrics[2] = skm.recall_score   (train_loader.dataset.tensors[1],train_predictions,average='weighted')\n",
    "train_metrics[3] = skm.f1_score       (train_loader.dataset.tensors[1],train_predictions,average='weighted')\n",
    "\n",
    "\n",
    "# test\n",
    "test_metrics[0] = skm.accuracy_score (test_loader.dataset.tensors[1],test_predictions)\n",
    "test_metrics[1] = skm.precision_score(test_loader.dataset.tensors[1],test_predictions,average='weighted')\n",
    "test_metrics[2] = skm.recall_score   (test_loader.dataset.tensors[1],test_predictions,average='weighted')\n",
    "test_metrics[3] = skm.f1_score       (test_loader.dataset.tensors[1],test_predictions,average='weighted')"
   ]
  },
  {
   "cell_type": "code",
   "execution_count": null,
   "id": "ba8e1927",
   "metadata": {},
   "outputs": [],
   "source": [
    "plt.bar(np.arange(4)-.1,train_metrics,.5)\n",
    "plt.bar(np.arange(4)+.1,test_metrics,.5)\n",
    "plt.xticks([0,1,2,3],['Accuracy','Precision','Recall','F1-score'])\n",
    "plt.ylim([.9,1])\n",
    "plt.legend(['Train','Test'])\n",
    "plt.title('Performance metrics')\n",
    "plt.show()"
   ]
  },
  {
   "cell_type": "code",
   "execution_count": null,
   "id": "d9e0ef65",
   "metadata": {},
   "outputs": [],
   "source": [
    "# Bar graphs of class-specific precision and recall for test data\n",
    "\n",
    "precision = skm.precision_score(test_loader.dataset.tensors[1],test_predictions,average=None)\n",
    "recall    = skm.recall_score   (test_loader.dataset.tensors[1],test_predictions,average=None)\n",
    "\n",
    "\n",
    "fig = plt.figure(figsize=(12,3))\n",
    "plt.bar(np.arange(10)-.15,precision,.5)\n",
    "plt.bar(np.arange(10)+.15,recall,.5)\n",
    "plt.xticks(range(10),range(10))\n",
    "plt.ylim([.5,1])\n",
    "plt.xlabel('Number')\n",
    "plt.legend(['Precision','Recall'])\n",
    "plt.title('Category-specific performance metrics')\n",
    "plt.show()"
   ]
  },
  {
   "cell_type": "code",
   "execution_count": null,
   "id": "faa7355f",
   "metadata": {},
   "outputs": [],
   "source": [
    "# Confusion matrices\n",
    "trainConf = skm.confusion_matrix(train_loader.dataset.tensors[1],train_predictions,normalize='true')\n",
    "testConf  = skm.confusion_matrix(test_loader.dataset.tensors[1], test_predictions,normalize='true')\n",
    "\n",
    "fig,ax = plt.subplots(1,2,figsize=(10,4))\n",
    "\n",
    "# confmat during TRAIN\n",
    "ax[0].imshow(trainConf,'Blues',vmax=.05)\n",
    "ax[0].set_xticks(range(10))\n",
    "ax[0].set_yticks(range(10))\n",
    "ax[0].set_title('TRAIN confusion matrix')\n",
    "ax[0].set_xlabel('True number')\n",
    "ax[0].set_xlabel('Predicted number')\n",
    "ax[0].set_ylabel('True number')\n",
    "\n",
    "# confmat during TEST\n",
    "a = ax[1].imshow(testConf,cmap='Blues',vmax=.05)\n",
    "ax[1].set_xticks(range(10))\n",
    "ax[1].set_yticks(range(10))\n",
    "ax[1].set_title('TEST confusion matrix')\n",
    "ax[1].set_xlabel('Predicted number')\n",
    "ax[1].set_ylabel('True number')\n",
    "\n",
    "fig.colorbar(a)\n",
    "plt.show()"
   ]
  },
  {
   "cell_type": "code",
   "execution_count": null,
   "id": "d9e309b9",
   "metadata": {},
   "outputs": [],
   "source": []
  },
  {
   "cell_type": "markdown",
   "id": "414d5940",
   "metadata": {},
   "source": [
    "# Additional explorations"
   ]
  },
  {
   "cell_type": "code",
   "execution_count": null,
   "id": "1ae6e27b",
   "metadata": {},
   "outputs": [],
   "source": [
    "# 1) The Adam optimizer is pretty amazing, isn't it? Change the code to get the overall test accuracy between 50% and 80%.\n",
    "#    You can consider changing the optimizer, learning rate, and number of epochs. Then show the performance metrics.\n",
    "#    Are there systematic difficulties with some numbers, or simply a general decline in performance overall?\n",
    "# \n",
    "# 2) Are the y-axis and color-limits still appropriate? Modify the visualization code so that the graphs are adaptive\n",
    "#    to the numerical values of the performance metrics and confusion matrices.\n",
    "#    "
   ]
  }
 ],
 "metadata": {
  "jupytext": {
   "cell_metadata_filter": "-all",
   "main_language": "python",
   "notebook_metadata_filter": "-all"
  }
 },
 "nbformat": 4,
 "nbformat_minor": 5
}
