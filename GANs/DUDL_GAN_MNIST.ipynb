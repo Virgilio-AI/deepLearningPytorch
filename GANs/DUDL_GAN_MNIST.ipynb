{
 "cells": [
  {
   "cell_type": "code",
   "execution_count": null,
   "id": "16134328",
   "metadata": {},
   "outputs": [],
   "source": [
    "# Date: 19/November/2022 - Saturday\n",
    "# Author: Virgilio Murillo Ochoa\n",
    "# personal github: Virgilio-AI\n",
    "# linkedin: https://www.linkedin.com/in/virgilio-murillo-ochoa-b29b59203\n",
    "# contact: virgiliomurilloochoa1@gmail.com\n",
    "# web: virgiliomurillo.com"
   ]
  },
  {
   "cell_type": "code",
   "execution_count": null,
   "id": "e8e1334d",
   "metadata": {},
   "outputs": [],
   "source": [
    "# import libraries\n",
    "import numpy as np\n",
    "\n",
    "import torch\n",
    "import torch.nn as nn\n",
    "import torch.nn.functional as F\n",
    "\n",
    "import sys\n",
    "\n",
    "import matplotlib.pyplot as plt\n",
    "from IPython import display\n",
    "display.set_matplotlib_formats('svg')"
   ]
  },
  {
   "cell_type": "code",
   "execution_count": null,
   "id": "180b3c24",
   "metadata": {},
   "outputs": [],
   "source": [
    "device = torch.device('cuda' if torch.cuda.is_available() else 'cpu')"
   ]
  },
  {
   "cell_type": "markdown",
   "id": "ab0e5a6e",
   "metadata": {},
   "source": [
    "# Import the data"
   ]
  },
  {
   "cell_type": "code",
   "execution_count": null,
   "id": "33144905",
   "metadata": {},
   "outputs": [],
   "source": [
    "# import dataset (comes with colab!)\n",
    "data = np.loadtxt(open('sample_data/mnist_train_small.csv','rb'),delimiter=',')\n",
    "\n",
    "# don't need the labels here\n",
    "data = data[:,1:]\n",
    "\n",
    "# normalize the data to a range of [-1 1] (b/c tanh output)\n",
    "dataNorm = data / np.max(data)\n",
    "dataNorm = 2*dataNorm - 1\n",
    "\n",
    "# convert to tensor\n",
    "dataT = torch.tensor( dataNorm ).float()\n",
    "\n",
    "# no dataloaders!\n",
    "batchsize = 100"
   ]
  },
  {
   "cell_type": "markdown",
   "id": "57bedf11",
   "metadata": {},
   "source": [
    "# Create classes for the discriminator and generator"
   ]
  },
  {
   "cell_type": "code",
   "execution_count": null,
   "id": "49cf8005",
   "metadata": {},
   "outputs": [],
   "source": [
    "class discriminatorNet(nn.Module):\n",
    "  def __init__(self):\n",
    "    super().__init__()\n",
    "    \n",
    "    self.fc1 = nn.Linear(28*28,256)\n",
    "    self.fc2 = nn.Linear(256,256)\n",
    "    self.out = nn.Linear(256,1)\n",
    "\n",
    "  def forward(self,x):\n",
    "    x = F.leaky_relu( self.fc1(x) )\n",
    "    x = F.leaky_relu( self.fc2(x) )\n",
    "    x = self.out(x)\n",
    "    return torch.sigmoid( x )\n",
    "\n",
    "dnet = discriminatorNet()\n",
    "y = dnet(torch.randn(10,784))\n",
    "y"
   ]
  },
  {
   "cell_type": "code",
   "execution_count": null,
   "id": "8b3fbaab",
   "metadata": {},
   "outputs": [],
   "source": [
    "class generatorNet(nn.Module):\n",
    "  def __init__(self):\n",
    "    super().__init__()\n",
    "    \n",
    "    self.fc1 = nn.Linear(64,256)\n",
    "    self.fc2 = nn.Linear(256,256)\n",
    "    self.out = nn.Linear(256,784)\n",
    "\n",
    "  def forward(self,x):\n",
    "    x = F.leaky_relu( self.fc1(x) )\n",
    "    x = F.leaky_relu( self.fc2(x) )\n",
    "    x = self.out(x)\n",
    "    return torch.tanh( x )\n",
    "\n",
    "\n",
    "gnet = generatorNet()\n",
    "y = gnet(torch.randn(10,64))\n",
    "plt.imshow(y[0,:].detach().squeeze().view(28,28));"
   ]
  },
  {
   "cell_type": "markdown",
   "id": "57613722",
   "metadata": {},
   "source": [
    "# Train the models!"
   ]
  },
  {
   "cell_type": "code",
   "execution_count": null,
   "id": "42f0734a",
   "metadata": {},
   "outputs": [],
   "source": [
    "# loss function (same for both phases of training)\n",
    "lossfun = nn.BCELoss()\n",
    "\n",
    "# create instances of the models\n",
    "dnet = discriminatorNet().to(device)\n",
    "gnet = generatorNet().to(device)\n",
    "\n",
    "# optimizers (same algo but different variables b/c different parameters)\n",
    "d_optimizer = torch.optim.Adam(dnet.parameters(), lr=.0003)\n",
    "g_optimizer = torch.optim.Adam(gnet.parameters(), lr=.0003)"
   ]
  },
  {
   "cell_type": "code",
   "execution_count": null,
   "id": "ab85b1b5",
   "metadata": {
    "lines_to_next_cell": 2
   },
   "outputs": [],
   "source": [
    "# this cell takes ~3 mins with 50k epochs\n",
    "num_epochs = 50000\n",
    "\n",
    "losses  = np.zeros((num_epochs,2))\n",
    "disDecs = np.zeros((num_epochs,2)) # disDecs = discriminator decisions\n",
    "\n",
    "for epochi in range(num_epochs):\n",
    "    \n",
    "  # create minibatches of REAL and FAKE images \n",
    "  randidx     = torch.randint(dataT.shape[0],(batchsize,))\n",
    "  real_images = dataT[randidx,:].to(device)\n",
    "  fake_images = gnet( torch.randn(batchsize,64).to(device) ) # output of generator\n",
    "\n",
    "\n",
    "  # labels used for real and fake images\n",
    "  real_labels = torch.ones(batchsize,1).to(device)\n",
    "  fake_labels = torch.zeros(batchsize,1).to(device)\n",
    "\n",
    "\n",
    "\n",
    "  ### ---------------- Train the discriminator ---------------- ###\n",
    "\n",
    "  # forward pass and loss for REAL pictures\n",
    "  pred_real   = dnet(real_images)              # REAL images into discriminator\n",
    "  d_loss_real = lossfun(pred_real,real_labels) # all labels are 1\n",
    "  \n",
    "  # forward pass and loss for FAKE pictures\n",
    "  pred_fake   = dnet(fake_images)              # FAKE images into discriminator\n",
    "  d_loss_fake = lossfun(pred_fake,fake_labels) # all labels are 0\n",
    "  \n",
    "  # collect loss (using combined losses)\n",
    "  d_loss = d_loss_real + d_loss_fake\n",
    "  losses[epochi,0]  = d_loss.item()\n",
    "  disDecs[epochi,0] = torch.mean((pred_real>.5).float()).detach()\n",
    "\n",
    "  # backprop\n",
    "  d_optimizer.zero_grad()\n",
    "  d_loss.backward()\n",
    "  d_optimizer.step()\n",
    "\n",
    "  \n",
    "  \n",
    "\n",
    "  ### ---------------- Train the generator ---------------- ###\n",
    "\n",
    "  # create fake images and compute loss\n",
    "  fake_images = gnet( torch.randn(batchsize,64).to(device) )\n",
    "  pred_fake   = dnet(fake_images)\n",
    "  \n",
    "  # compute and collect loss and accuracy\n",
    "  g_loss = lossfun(pred_fake,real_labels)\n",
    "  losses[epochi,1]  = g_loss.item()\n",
    "  disDecs[epochi,1] = torch.mean((pred_fake>.5).float()).detach()\n",
    "  \n",
    "  # backprop\n",
    "  g_optimizer.zero_grad()\n",
    "  g_loss.backward()\n",
    "  g_optimizer.step()\n",
    "\n",
    "  \n",
    "  # print out a status message\n",
    "  if (epochi+1)%500==0:\n",
    "    msg = f'Finished epoch {epochi+1}/{num_epochs}'\n",
    "    sys.stdout.write('\\r' + msg)"
   ]
  },
  {
   "cell_type": "code",
   "execution_count": null,
   "id": "2539723f",
   "metadata": {},
   "outputs": [],
   "source": [
    "fig,ax = plt.subplots(1,3,figsize=(18,5))\n",
    "\n",
    "ax[0].plot(losses)\n",
    "ax[0].set_xlabel('Epochs')\n",
    "ax[0].set_ylabel('Loss')\n",
    "ax[0].set_title('Model loss')\n",
    "ax[0].legend(['Discrimator','Generator'])\n",
    "# ax[0].set_xlim([4000,5000])\n",
    "\n",
    "ax[1].plot(losses[::5,0],losses[::5,1],'k.',alpha=.1)\n",
    "ax[1].set_xlabel('Discriminator loss')\n",
    "ax[1].set_ylabel('Generator loss')\n",
    "\n",
    "ax[2].plot(disDecs)\n",
    "ax[2].set_xlabel('Epochs')\n",
    "ax[2].set_ylabel('Probablity (\"real\")')\n",
    "ax[2].set_title('Discriminator output')\n",
    "ax[2].legend(['Real','Fake'])\n",
    "\n",
    "plt.show()"
   ]
  },
  {
   "cell_type": "markdown",
   "id": "853f3efe",
   "metadata": {},
   "source": [
    "# Let's see some fake digits!"
   ]
  },
  {
   "cell_type": "code",
   "execution_count": null,
   "id": "806d7f97",
   "metadata": {},
   "outputs": [],
   "source": [
    "# generate the images from the generator network\n",
    "gnet.eval()\n",
    "fake_data = gnet(torch.randn(12,64).to(device)).cpu()\n",
    "\n",
    "# and visualize...\n",
    "fig,axs = plt.subplots(3,4,figsize=(8,6))\n",
    "for i,ax in enumerate(axs.flatten()):\n",
    "  ax.imshow(fake_data[i,:,].detach().view(28,28),cmap='gray')\n",
    "  ax.axis('off')\n",
    "\n",
    "plt.show()"
   ]
  },
  {
   "cell_type": "code",
   "execution_count": null,
   "id": "e9cc997a",
   "metadata": {},
   "outputs": [],
   "source": []
  },
  {
   "cell_type": "markdown",
   "id": "f32e725d",
   "metadata": {},
   "source": [
    "# Additional explorations"
   ]
  },
  {
   "cell_type": "code",
   "execution_count": null,
   "id": "6dc2bad4",
   "metadata": {},
   "outputs": [],
   "source": [
    "# 1) I tried adding batch normalization to the models, but the results weren't that nice. Can you guess why? Try adding\n",
    "#    batchnorm after each layer (except the output) and observe the effects. Can you explain why the results are the\n",
    "#    way they are? (Note: batchnorm becomes important in deeper CNN GANs.)\n",
    "# \n",
    "# 2) Re-running the same code to show the fake images returns different digits each time. Fix PyTorch's random seed so \n",
    "#    that the random numbers are identical each time you run the code. Are the images still different on multiple runs?\n",
    "# \n",
    "# 3) To see how the generator is progressing, you can create some images during training. Here's what to do: (1) put the\n",
    "#    image-generation code above inside a function. (2) Modify that function so that the figure is saved to a file.\n",
    "#    (3) Modify the training function so that it calls the plotting function every 5000 epochs (or whatever resolution\n",
    "#    you want). Then you can see how the images look more like digits as the generator model learns!\n",
    "# \n",
    "# 4) GANs can be quite sensitive to the learning rate, because you are training two different but interacting networks\n",
    "#    at the same time. Usually a good strategy is to have a very small learning rate and train for a long time. But don't\n",
    "#    take my advice -- try a much larger learning rate for a shorter period of time, and see what happens!\n",
    "# "
   ]
  }
 ],
 "metadata": {
  "jupytext": {
   "cell_metadata_filter": "-all",
   "main_language": "python",
   "notebook_metadata_filter": "-all"
  }
 },
 "nbformat": 4,
 "nbformat_minor": 5
}
