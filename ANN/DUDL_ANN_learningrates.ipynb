{
 "cells": [
  {
   "cell_type": "code",
   "execution_count": null,
   "id": "de4ac12b",
   "metadata": {},
   "outputs": [],
   "source": [
    "# Date: 19/November/2022 - Saturday\n",
    "# Author: Virgilio Murillo Ochoa\n",
    "# personal github: Virgilio-AI\n",
    "# linkedin: https://www.linkedin.com/in/virgilio-murillo-ochoa-b29b59203\n",
    "# contact: virgiliomurilloochoa1@gmail.com\n",
    "# web: virgiliomurillo.com"
   ]
  },
  {
   "cell_type": "code",
   "execution_count": null,
   "id": "5b7402ad",
   "metadata": {},
   "outputs": [],
   "source": [
    "# import libraries\n",
    "import torch\n",
    "import torch.nn as nn\n",
    "import numpy as np\n",
    "\n",
    "import matplotlib.pyplot as plt\n",
    "from IPython import display\n",
    "display.set_matplotlib_formats('svg')"
   ]
  },
  {
   "cell_type": "markdown",
   "id": "b33454c3",
   "metadata": {},
   "source": [
    "# Create the data"
   ]
  },
  {
   "cell_type": "code",
   "execution_count": null,
   "id": "6cba64dd",
   "metadata": {},
   "outputs": [],
   "source": [
    "# parameters\n",
    "nPerClust = 100\n",
    "blur = 1\n",
    "\n",
    "A = [  1, 1 ]\n",
    "B = [  5, 1 ]\n",
    "\n",
    "# generate data\n",
    "a = [ A[0]+np.random.randn(nPerClust)*blur , A[1]+np.random.randn(nPerClust)*blur ]\n",
    "b = [ B[0]+np.random.randn(nPerClust)*blur , B[1]+np.random.randn(nPerClust)*blur ]\n",
    "\n",
    "# true labels\n",
    "labels_np = np.vstack((np.zeros((nPerClust,1)),np.ones((nPerClust,1))))\n",
    "\n",
    "# concatanate into a matrix\n",
    "data_np = np.hstack((a,b)).T\n",
    "\n",
    "# convert to a pytorch tensor\n",
    "data = torch.tensor(data_np).float()\n",
    "labels = torch.tensor(labels_np).float()\n",
    "\n",
    "# show the data\n",
    "fig = plt.figure(figsize=(5,5))\n",
    "plt.plot(data[np.where(labels==0)[0],0],data[np.where(labels==0)[0],1],'bs')\n",
    "plt.plot(data[np.where(labels==1)[0],0],data[np.where(labels==1)[0],1],'ko')\n",
    "plt.title('The qwerties!')\n",
    "plt.xlabel('qwerty dimension 1')\n",
    "plt.ylabel('qwerty dimension 2')\n",
    "plt.show()"
   ]
  },
  {
   "cell_type": "markdown",
   "id": "a237fc3d",
   "metadata": {},
   "source": [
    "# Functions to build and train the model"
   ]
  },
  {
   "cell_type": "code",
   "execution_count": null,
   "id": "685bd530",
   "metadata": {},
   "outputs": [],
   "source": [
    "def createANNmodel(learningRate):\n",
    "\n",
    "  # model architecture\n",
    "  ANNclassify = nn.Sequential(\n",
    "      nn.Linear(2,1),   # input layer\n",
    "      nn.ReLU(),        # activation unit\n",
    "      nn.Linear(1,1),   # output unit\n",
    "      #nn.Sigmoid(),    # final activation unit (not needed b/c we use BCEWithLogitsLoss)\n",
    "        )\n",
    "\n",
    "  # loss function\n",
    "  lossfun = nn.BCEWithLogitsLoss()\n",
    "\n",
    "  # optimizer\n",
    "  optimizer = torch.optim.SGD(ANNclassify.parameters(),lr=learningRate)\n",
    "\n",
    "  # model output\n",
    "  return ANNclassify,lossfun,optimizer"
   ]
  },
  {
   "cell_type": "code",
   "execution_count": null,
   "id": "c70528b0",
   "metadata": {},
   "outputs": [],
   "source": [
    "# a function that trains the model\n",
    "\n",
    "# a fixed parameter\n",
    "numepochs = 1000\n",
    "\n",
    "def trainTheModel(ANNmodel):\n",
    "\n",
    "  # initialize losses\n",
    "  losses = torch.zeros(numepochs)\n",
    "\n",
    "  # loop over epochs\n",
    "  for epochi in range(numepochs):\n",
    "\n",
    "    # forward pass\n",
    "    yHat = ANNmodel(data)\n",
    "\n",
    "    # compute loss\n",
    "    loss = lossfun(yHat,labels)\n",
    "    losses[epochi] = loss\n",
    "\n",
    "    # backprop\n",
    "    optimizer.zero_grad()\n",
    "    loss.backward()\n",
    "    optimizer.step()\n",
    "  \n",
    "  \n",
    "  \n",
    "  # final forward pass\n",
    "  predictions = ANNmodel(data)\n",
    "    \n",
    "  # compute the predictions and report accuracy\n",
    "  # NOTE: shouldn't it be predictions>.5??\n",
    "  totalacc = 100*torch.mean(((predictions>0) == labels).float())\n",
    "  \n",
    "  return losses,predictions,totalacc"
   ]
  },
  {
   "cell_type": "markdown",
   "id": "ea142030",
   "metadata": {},
   "source": [
    "# Test the new code by running it once"
   ]
  },
  {
   "cell_type": "code",
   "execution_count": null,
   "id": "e55ad328",
   "metadata": {},
   "outputs": [],
   "source": [
    "# create everything\n",
    "ANNclassify,lossfun,optimizer = createANNmodel(.01)\n",
    "\n",
    "# run it\n",
    "losses,predictions,totalacc = trainTheModel(ANNclassify)\n",
    "\n",
    "# report accuracy\n",
    "print('Final accuracy: %g%%' %totalacc)\n",
    "\n",
    "\n",
    "# show the losses\n",
    "plt.plot(losses.detach(),'o',markerfacecolor='w',linewidth=.1)\n",
    "plt.xlabel('Epoch'), plt.ylabel('Loss')\n",
    "plt.show()"
   ]
  },
  {
   "cell_type": "markdown",
   "id": "81196fc1",
   "metadata": {},
   "source": [
    "# Now for the experiment"
   ]
  },
  {
   "cell_type": "code",
   "execution_count": null,
   "id": "549a9b7d",
   "metadata": {
    "lines_to_next_cell": 2
   },
   "outputs": [],
   "source": [
    "# the set of learning rates to test\n",
    "learningrates = np.linspace(.001,.1,40)\n",
    "\n",
    "# initialize results output\n",
    "accByLR = []\n",
    "allLosses = np.zeros((len(learningrates),numepochs))\n",
    "\n",
    "\n",
    "# loop through learning rates\n",
    "for i,lr in enumerate(learningrates):\n",
    "  \n",
    "  # create and run the model\n",
    "  ANNclassify,lossfun,optimizer = createANNmodel(lr)\n",
    "  losses,predictions,totalacc = trainTheModel(ANNclassify)\n",
    "\n",
    "  # store the results\n",
    "  accByLR.append(totalacc)\n",
    "  allLosses[i,:] = losses.detach()"
   ]
  },
  {
   "cell_type": "code",
   "execution_count": null,
   "id": "b526cda8",
   "metadata": {},
   "outputs": [],
   "source": [
    "# plot the results\n",
    "fig,ax = plt.subplots(1,2,figsize=(12,4))\n",
    "\n",
    "ax[0].plot(learningrates,accByLR,'s-')\n",
    "ax[0].set_xlabel('Learning rate')\n",
    "ax[0].set_ylabel('Accuracy')\n",
    "ax[0].set_title('Accuracy by learning rate')\n",
    "\n",
    "ax[1].plot(allLosses.T)\n",
    "ax[1].set_title('Losses by learning rate')\n",
    "ax[1].set_xlabel('Epoch number')\n",
    "ax[1].set_ylabel('Loss')\n",
    "plt.show()"
   ]
  },
  {
   "cell_type": "code",
   "execution_count": null,
   "id": "29ef00c4",
   "metadata": {},
   "outputs": [],
   "source": [
    "# proportion of runs where the model had at least 70% accuracy\n",
    "sum(torch.tensor(accByLR)>70)/len(accByLR)"
   ]
  },
  {
   "cell_type": "markdown",
   "id": "0162057d",
   "metadata": {},
   "source": [
    "# Run a meta-experiment to get more reliable results"
   ]
  },
  {
   "cell_type": "code",
   "execution_count": null,
   "id": "81dd4149",
   "metadata": {},
   "outputs": [],
   "source": [
    "# run a \"meta-experiment\" by repeating the experiment N times\n",
    "#  (different random weight initializations each time)\n",
    "# note: this cell takes ~7 mins.\n",
    "\n",
    "# number of times to iterate through the experiment\n",
    "numExps = 50\n",
    "\n",
    "# matrix to store all results\n",
    "accMeta = np.zeros((numExps,len(learningrates)))\n",
    "\n",
    "# fewer epochs to reduce computation time\n",
    "numepochs = 500\n",
    "\n",
    "# now for the experiment\n",
    "for expi in range(numExps):\n",
    "  for i,lr in enumerate(learningrates):\n",
    "    \n",
    "    # create and run the model\n",
    "    ANNclassify,lossfun,optimizer = createANNmodel(lr)\n",
    "    losses,predictions,totalacc = trainTheModel(ANNclassify)\n",
    "\n",
    "    # store the results\n",
    "    accMeta[expi,i] = totalacc\n",
    "\n",
    "\n",
    "\n",
    "# now plot the results, averaged over experiments\n",
    "plt.plot(learningrates,np.mean(accMeta,axis=0),'s-')\n",
    "plt.xlabel('Learning rate')\n",
    "plt.ylabel('Accuracy')\n",
    "plt.title('Accuracy by learning rate')\n",
    "plt.show()"
   ]
  },
  {
   "cell_type": "code",
   "execution_count": null,
   "id": "9801d4f7",
   "metadata": {},
   "outputs": [],
   "source": []
  },
  {
   "cell_type": "markdown",
   "id": "40112154",
   "metadata": {},
   "source": [
    "# Additional explorations"
   ]
  },
  {
   "cell_type": "code",
   "execution_count": null,
   "id": "a606c57c",
   "metadata": {},
   "outputs": [],
   "source": [
    "# 1) The closeness of the qwerties groups is determined by the XY locations of the centroids, and by the blur parameter.\n",
    "#    Try increasing or decreasing the blur (e.g., to 2 or .5). How does this affect the number of times that the model\n",
    "#    successfully learned to categorize the two conditions?\n",
    "# \n",
    "# 2) The mean of a set of numbers is easily interpretable only if the data are roughly normally or uniformly distributed \n",
    "#    (see lecture \"Mean and variance\" in Math section). Do you think the mean is a valid description of the performance\n",
    "#    of the model's accuracy in the meta-experiment? Use a different metric (e.g., one we discussed in this video!) and \n",
    "#    plot that result on the same graph as the average. You might need to do some normalization to get them in the same \n",
    "#    range. Does this alternative method lead to a different conclusion?\n",
    "# \n",
    "# 3) Related to the previous comment, perhaps showing an image of the performance (variable accMeta) would be more \n",
    "#    appropriate. Create a heat map that shows learning rate on the x-axis, experiment repetitions on the y-axis, and\n",
    "#    the final accuracy in color. Label the axes and specify suitable color boundaries.\n",
    "# "
   ]
  }
 ],
 "metadata": {
  "jupytext": {
   "cell_metadata_filter": "-all",
   "main_language": "python",
   "notebook_metadata_filter": "-all"
  }
 },
 "nbformat": 4,
 "nbformat_minor": 5
}
