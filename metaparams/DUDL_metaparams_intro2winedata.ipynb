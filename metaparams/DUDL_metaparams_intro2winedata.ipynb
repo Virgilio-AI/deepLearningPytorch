{
 "cells": [
  {
   "cell_type": "code",
   "execution_count": null,
   "id": "a522b958",
   "metadata": {},
   "outputs": [],
   "source": [
    "# Date: 19/November/2022 - Saturday\n",
    "# Author: Virgilio Murillo Ochoa\n",
    "# personal github: Virgilio-AI\n",
    "# linkedin: https://www.linkedin.com/in/virgilio-murillo-ochoa-b29b59203\n",
    "# contact: virgiliomurilloochoa1@gmail.com\n",
    "# web: virgiliomurillo.com"
   ]
  },
  {
   "cell_type": "code",
   "execution_count": null,
   "id": "6fea31e1",
   "metadata": {},
   "outputs": [],
   "source": [
    "### import libraries\n",
    "\n",
    "# for DL modeling\n",
    "import torch\n",
    "from torch.utils.data import DataLoader,TensorDataset\n",
    "from sklearn.model_selection import train_test_split\n",
    "\n",
    "# for number-crunching\n",
    "import numpy as np\n",
    "import scipy.stats as stats\n",
    "\n",
    "# for dataset management\n",
    "import pandas as pd\n",
    "\n",
    "# for data visualization\n",
    "import matplotlib.pyplot as plt\n",
    "import seaborn as sns"
   ]
  },
  {
   "cell_type": "markdown",
   "id": "787beda3",
   "metadata": {},
   "source": [
    "# Import and process the data"
   ]
  },
  {
   "cell_type": "code",
   "execution_count": null,
   "id": "fc29802a",
   "metadata": {},
   "outputs": [],
   "source": [
    "url = \"https://archive.ics.uci.edu/ml/machine-learning-databases/wine-quality/winequality-red.csv\"\n",
    "\n",
    "data = pd.read_csv(url,sep=';')\n",
    "data"
   ]
  },
  {
   "cell_type": "code",
   "execution_count": null,
   "id": "95332923",
   "metadata": {},
   "outputs": [],
   "source": [
    "# describe the data\n",
    "data.describe()"
   ]
  },
  {
   "cell_type": "code",
   "execution_count": null,
   "id": "c820e037",
   "metadata": {},
   "outputs": [],
   "source": [
    "# list number of unique values per column\n",
    "\n",
    "for i in data.keys():\n",
    "  print(f'{i} has {len(np.unique(data[i]))} unique values')"
   ]
  },
  {
   "cell_type": "code",
   "execution_count": null,
   "id": "a516545c",
   "metadata": {},
   "outputs": [],
   "source": [
    "# pairwise plots\n",
    "cols2plot = ['fixed acidity','volatile acidity','citric acid','quality']\n",
    "sns.pairplot(data[cols2plot],kind='reg',hue='quality')\n",
    "plt.show()"
   ]
  },
  {
   "cell_type": "code",
   "execution_count": null,
   "id": "f220d914",
   "metadata": {},
   "outputs": [],
   "source": [
    "# plot some data\n",
    "fig,ax = plt.subplots(1,figsize=(17,4))\n",
    "ax = sns.boxplot(data=data)\n",
    "ax.set_xticklabels(ax.get_xticklabels(),rotation=45)\n",
    "plt.show()\n",
    "\n",
    "\n",
    "# remove rows with outliers\n",
    "# data = data[data['total sulfur dioxide']<200]"
   ]
  },
  {
   "cell_type": "code",
   "execution_count": null,
   "id": "ed8cba2c",
   "metadata": {},
   "outputs": [],
   "source": [
    "### z-score all variables except for quality\n",
    "\n",
    "# find the columns we want to normalize (all except quality)\n",
    "cols2zscore = data.keys()\n",
    "cols2zscore = cols2zscore.drop('quality')\n",
    "\n",
    "# z-score (written out for clarity)\n",
    "for col in cols2zscore:\n",
    "  meanval   = np.mean(data[col])\n",
    "  stdev     = np.std(data[col],ddof=1)\n",
    "  data[col] = (data[col]-meanval) / stdev\n",
    "\n",
    "# can also do more compactly\n",
    "#data[cols2zscore] = data[cols2zscore].apply(stats.zscore)\n",
    "\n",
    "data.describe()"
   ]
  },
  {
   "cell_type": "code",
   "execution_count": null,
   "id": "240c973a",
   "metadata": {},
   "outputs": [],
   "source": [
    "# check the plot again\n",
    "fig,ax = plt.subplots(1,figsize=(17,4))\n",
    "ax = sns.boxplot(data=data)\n",
    "ax.set_xticklabels(ax.get_xticklabels(),rotation=45)\n",
    "plt.show()"
   ]
  },
  {
   "cell_type": "code",
   "execution_count": null,
   "id": "e8876e4c",
   "metadata": {},
   "outputs": [],
   "source": [
    "# distribution quality values\n",
    "fig = plt.figure(figsize=(10,7))\n",
    "plt.rcParams.update({'font.size': 22}) # increase font size in the figure\n",
    "\n",
    "counts = data['quality'].value_counts()\n",
    "plt.bar(list(counts.keys()),counts)\n",
    "plt.xlabel('Quality rating')\n",
    "plt.ylabel('Count')\n",
    "plt.show()\n",
    "\n",
    "# create a new column for binarized (boolean) quality\n",
    "data['boolQuality'] = 0\n",
    "# data['boolQuality'][data['quality']<6] = 0 # implicit in the code! just here for clarity\n",
    "data['boolQuality'][data['quality']>5] = 1\n",
    "\n",
    "data[['quality','boolQuality']]"
   ]
  },
  {
   "cell_type": "markdown",
   "id": "44a461d4",
   "metadata": {},
   "source": [
    "# Re-organize the data: train/test in DataLoaders"
   ]
  },
  {
   "cell_type": "code",
   "execution_count": null,
   "id": "a7986d61",
   "metadata": {},
   "outputs": [],
   "source": [
    "# convert from pandas dataframe to tensor\n",
    "dataT  = torch.tensor( data[cols2zscore].values ).float()\n",
    "labels = torch.tensor( data['boolQuality'].values ).float()\n",
    "\n",
    "print( dataT.shape )\n",
    "print( labels.shape )\n",
    "\n",
    "# we'll actually need the labels to be a \"tensor\"\n",
    "labels = labels[:,None]\n",
    "print( labels.shape )"
   ]
  },
  {
   "cell_type": "code",
   "execution_count": null,
   "id": "1887d72c",
   "metadata": {},
   "outputs": [],
   "source": [
    "# use scikitlearn to split the data\n",
    "train_data,test_data, train_labels,test_labels = train_test_split(dataT, labels, test_size=.1)\n",
    "\n",
    "\n",
    "# then convert them into PyTorch Datasets (note: already converted to tensors)\n",
    "train_data = TensorDataset(train_data,train_labels)\n",
    "test_data  = TensorDataset(test_data,test_labels)\n",
    "\n",
    "\n",
    "# finally, translate into dataloader objects\n",
    "batchsize    = 64\n",
    "train_loader = DataLoader(train_data,batch_size=batchsize,shuffle=True)\n",
    "test_loader  = DataLoader(test_data,batch_size=test_data.tensors[0].shape[0])"
   ]
  },
  {
   "cell_type": "code",
   "execution_count": null,
   "id": "933a1015",
   "metadata": {},
   "outputs": [],
   "source": [
    "# check sizes of data batches\n",
    "for X,y in train_loader:\n",
    "  print(X.shape,y.shape)\n",
    "\n",
    "# go back and set drop_last=True in training DataLoader"
   ]
  },
  {
   "cell_type": "code",
   "execution_count": null,
   "id": "3e218718",
   "metadata": {},
   "outputs": [],
   "source": []
  },
  {
   "cell_type": "markdown",
   "id": "9ba741a1",
   "metadata": {},
   "source": [
    "# Additional explorations"
   ]
  },
  {
   "cell_type": "code",
   "execution_count": null,
   "id": "d04d108a",
   "metadata": {},
   "outputs": [],
   "source": [
    "# 1) In a later video, we will use DL to predict residual sugar. Use seaborn to make a histogram of that data column.\n",
    "#    Spend a minute to explore the visualization options in sns.histplot. For example, you can add a kernel density \n",
    "#    estimate, make the histogram bars purple, and so on.\n",
    "# \n",
    "# 2) (Warning: This exercise is for people who are familiar with statistics.) Loop over all the variables in the dataset,\n",
    "#    and perform an independent-samples t-test on the data for the binarized wine quality. Which variables are significantly\n",
    "#    different between \"low\" and \"high\" quality wine?\n",
    "# "
   ]
  }
 ],
 "metadata": {
  "jupytext": {
   "cell_metadata_filter": "-all",
   "main_language": "python",
   "notebook_metadata_filter": "-all"
  }
 },
 "nbformat": 4,
 "nbformat_minor": 5
}
