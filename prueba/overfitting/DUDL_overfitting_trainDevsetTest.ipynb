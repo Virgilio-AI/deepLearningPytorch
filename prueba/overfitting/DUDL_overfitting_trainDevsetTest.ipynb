{
 "cells": [
  {
   "cell_type": "code",
   "execution_count": null,
   "id": "fdf58a66",
   "metadata": {},
   "outputs": [],
   "source": [
    "# Date: 19/November/2022 - Saturday\n",
    "# Author: Virgilio Murillo Ochoa\n",
    "# personal github: Virgilio-AI\n",
    "# linkedin: https://www.linkedin.com/in/virgilio-murillo-ochoa-b29b59203\n",
    "# contact: virgiliomurilloochoa1@gmail.com\n",
    "# web: virgiliomurillo.com"
   ]
  },
  {
   "cell_type": "code",
   "execution_count": null,
   "id": "405143d0",
   "metadata": {},
   "outputs": [],
   "source": [
    "# import libraries\n",
    "import numpy as np\n",
    "from sklearn.model_selection import train_test_split"
   ]
  },
  {
   "cell_type": "code",
   "execution_count": null,
   "id": "28b03ce7",
   "metadata": {},
   "outputs": [],
   "source": [
    "### create fake dataset (same as in previous videos)\n",
    "\n",
    "fakedata = np.tile(np.array([1,2,3,4]),(10,1)) + np.tile(10*np.arange(1,11),(4,1)).T\n",
    "fakelabels = np.arange(10)>4\n",
    "print(fakedata), print(' ')\n",
    "print(fakelabels)"
   ]
  },
  {
   "cell_type": "markdown",
   "id": "206c1648",
   "metadata": {},
   "source": [
    "# Using train_test_split"
   ]
  },
  {
   "cell_type": "code",
   "execution_count": null,
   "id": "22318bba",
   "metadata": {},
   "outputs": [],
   "source": [
    "# specify sizes of the partitions\n",
    "# order is train,devset,test\n",
    "partitions = [.8,.1,.1]\n",
    "\n",
    "# split the data (note the third input, and the TMP in the variable name)\n",
    "train_data,testTMP_data, train_labels,testTMP_labels = \\\n",
    "                   train_test_split(fakedata, fakelabels, train_size=partitions[0])\n",
    "\n",
    "# now split the TMP data\n",
    "split = partitions[1] / np.sum(partitions[1:])\n",
    "devset_data,test_data, devset_labels,test_labels = \\\n",
    "              train_test_split(testTMP_data, testTMP_labels, train_size=partitions[1])\n",
    "\n",
    "\n",
    "\n",
    "\n",
    "# print out the sizes\n",
    "print('Training data size: ' + str(train_data.shape))\n",
    "print('Devset data size: '   + str(devset_data.shape))\n",
    "print('Test data size: '     + str(test_data.shape))\n",
    "print(' ')\n",
    "\n",
    "# print out the train/test data\n",
    "print('Training data: ')\n",
    "print(train_data)\n",
    "print(' ')\n",
    "\n",
    "print('Devset data: ')\n",
    "print(devset_data)\n",
    "print(' ')\n",
    "\n",
    "print('Test data: ')\n",
    "print(test_data)"
   ]
  },
  {
   "cell_type": "markdown",
   "id": "899d1235",
   "metadata": {},
   "source": [
    "# Splitting the data manually using numpy"
   ]
  },
  {
   "cell_type": "code",
   "execution_count": null,
   "id": "9c6a0266",
   "metadata": {},
   "outputs": [],
   "source": [
    "# partition sizes in proportion\n",
    "partitions = np.array([.8,.1,.1])\n",
    "print('Partition proportions:')\n",
    "print(partitions)\n",
    "print(' ')\n",
    "\n",
    "# convert those into integers\n",
    "partitionBnd = np.cumsum(partitions*len(fakelabels)).astype(int)\n",
    "print('Partition boundaries:')\n",
    "print(partitionBnd)\n",
    "print(' ')\n",
    "\n",
    "\n",
    "# random indices\n",
    "randindices = np.random.permutation(range(len(fakelabels)))\n",
    "print('Randomized data indices:')\n",
    "print(randindices)\n",
    "print(' ')"
   ]
  },
  {
   "cell_type": "code",
   "execution_count": null,
   "id": "1d6a2a8b",
   "metadata": {},
   "outputs": [],
   "source": [
    "# select rows for the training data\n",
    "train_dataN   = fakedata[randindices[:partitionBnd[0]],:]\n",
    "train_labelsN = fakelabels[randindices[:partitionBnd[0]]]\n",
    "\n",
    "# select rows for the devset data\n",
    "devset_dataN   = fakedata[randindices[partitionBnd[0]:partitionBnd[1]],:]\n",
    "devset_labelsN = fakelabels[randindices[partitionBnd[0]:partitionBnd[1]]]\n",
    "\n",
    "# select rows for the test data\n",
    "test_dataN   = fakedata[randindices[partitionBnd[1]:],:]\n",
    "test_labelsN = fakelabels[randindices[partitionBnd[1]:]]"
   ]
  },
  {
   "cell_type": "code",
   "execution_count": null,
   "id": "13b9376b",
   "metadata": {},
   "outputs": [],
   "source": [
    "# print out the sizes\n",
    "print('Training data size: ' + str(train_dataN.shape))\n",
    "print('Devset size: '        + str(devset_dataN.shape))\n",
    "print('Test data size: '     + str(test_dataN.shape))\n",
    "print(' ')\n",
    "\n",
    "# print out the train/test data\n",
    "print('Training data: ')\n",
    "print(train_dataN)\n",
    "print(' ')\n",
    "\n",
    "print('Devset data: ')\n",
    "print(devset_dataN)\n",
    "print(' ')\n",
    "\n",
    "print('Test data: ')\n",
    "print(test_dataN)"
   ]
  },
  {
   "cell_type": "code",
   "execution_count": null,
   "id": "bed35388",
   "metadata": {},
   "outputs": [],
   "source": []
  }
 ],
 "metadata": {
  "jupytext": {
   "cell_metadata_filter": "-all",
   "main_language": "python",
   "notebook_metadata_filter": "-all"
  }
 },
 "nbformat": 4,
 "nbformat_minor": 5
}
