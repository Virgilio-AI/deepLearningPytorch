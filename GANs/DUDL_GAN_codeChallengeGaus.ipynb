{
 "cells": [
  {
   "cell_type": "code",
   "execution_count": null,
   "id": "3bd911d3",
   "metadata": {},
   "outputs": [],
   "source": [
    "# Date: 19/November/2022 - Saturday\n",
    "# Author: Virgilio Murillo Ochoa\n",
    "# personal github: Virgilio-AI\n",
    "# linkedin: https://www.linkedin.com/in/virgilio-murillo-ochoa-b29b59203\n",
    "# contact: virgiliomurilloochoa1@gmail.com\n",
    "# web: virgiliomurillo.com"
   ]
  },
  {
   "cell_type": "code",
   "execution_count": null,
   "id": "2200849d",
   "metadata": {
    "id": "YeuAheYyhdZw"
   },
   "outputs": [],
   "source": [
    "# import libraries\n",
    "import numpy as np\n",
    "\n",
    "import torch\n",
    "import torch.nn as nn\n",
    "import torch.nn.functional as F\n",
    "\n",
    "import sys\n",
    "\n",
    "import matplotlib.pyplot as plt\n",
    "from IPython import display\n",
    "display.set_matplotlib_formats('svg')"
   ]
  },
  {
   "cell_type": "code",
   "execution_count": null,
   "id": "0c7c9492",
   "metadata": {
    "id": "lpcmh-V8hIlw"
   },
   "outputs": [],
   "source": [
    "device = torch.device('cuda' if torch.cuda.is_available() else 'cpu')"
   ]
  },
  {
   "cell_type": "markdown",
   "id": "8f609875",
   "metadata": {},
   "source": [
    "# Create the data"
   ]
  },
  {
   "cell_type": "code",
   "execution_count": null,
   "id": "c6ea62a2",
   "metadata": {
    "id": "dLedkm063gpO"
   },
   "outputs": [],
   "source": [
    "nImages = 3000\n",
    "imgSize = 64\n",
    "\n",
    "x   = np.linspace(-4,4,imgSize)\n",
    "X,Y = np.meshgrid(x,x)\n",
    "\n",
    "\n",
    "# initialize tensors containing images and labels\n",
    "images = torch.zeros(nImages,1,imgSize,imgSize)\n",
    "\n",
    "for i in range(nImages):\n",
    "\n",
    "  # create the gaussian with random centers\n",
    "  ro = 2*np.random.randn(2) # ro = random offset\n",
    "  width = np.random.rand()/.6 + 1.8 # random width\n",
    "  G  = np.exp( -( (X-ro[0])**2 + (Y-ro[1])**2) / (2*width**2) )\n",
    "  \n",
    "  # and add noise\n",
    "  G  = G + np.random.randn(imgSize,imgSize)/5\n",
    "  \n",
    "  # add to the tensor\n",
    "  images[i,:,:,:] = torch.Tensor(G).view(1,imgSize,imgSize)"
   ]
  },
  {
   "cell_type": "code",
   "execution_count": null,
   "id": "c6fe2c6e",
   "metadata": {
    "id": "kkHHEUXt6J57"
   },
   "outputs": [],
   "source": [
    "# visualize some images\n",
    "fig,axs = plt.subplots(3,7,figsize=(13,6))\n",
    "\n",
    "for i,ax in enumerate(axs.flatten()):\n",
    "  whichpic = np.random.randint(nImages)\n",
    "  G = np.squeeze( images[whichpic,:,:] )\n",
    "  ax.imshow(G,vmin=-1,vmax=1,cmap='jet')\n",
    "  ax.set_xticks([])\n",
    "  ax.set_yticks([])\n",
    "\n",
    "plt.show()"
   ]
  },
  {
   "cell_type": "markdown",
   "id": "1075afb7",
   "metadata": {},
   "source": [
    "# Create classes for the discriminator and generator"
   ]
  },
  {
   "cell_type": "code",
   "execution_count": null,
   "id": "e2e876fb",
   "metadata": {
    "id": "IINSmrEvN--Z"
   },
   "outputs": [],
   "source": [
    "# Architecture and meta-parameter choices were inspired by https://pytorch.org/tutorials/beginner/dcgan_faces_tutorial.html"
   ]
  },
  {
   "cell_type": "code",
   "execution_count": null,
   "id": "9f3bc1e1",
   "metadata": {
    "id": "UT-TyZZDK9-9"
   },
   "outputs": [],
   "source": [
    "class discriminatorNet(nn.Module):\n",
    "  def __init__(self):\n",
    "    super().__init__()\n",
    "\n",
    "    # convolution layers\n",
    "    self.conv1 = nn.Conv2d(  1, 64, 4, 3, 0, bias=False)\n",
    "    self.conv2 = nn.Conv2d( 64,128, 4, 3, 0, bias=False)\n",
    "    self.conv3 = nn.Conv2d(128,  1, 4, 3, 0, bias=False)\n",
    "    # self.conv4 = nn.Conv2d(256,512, 4, 2, 1, bias=False)\n",
    "    # self.conv5 = nn.Conv2d(512,  1, 4, 1, 0, bias=False)\n",
    "\n",
    "    # batchnorm\n",
    "    self.bn2 = nn.BatchNorm2d(128)\n",
    "    # self.bn3 = nn.BatchNorm2d(256)\n",
    "    # self.bn4 = nn.BatchNorm2d(512)\n",
    "    \n",
    "  def forward(self,x):\n",
    "    x = F.leaky_relu( self.conv1(x) ,.2)\n",
    "    x = F.leaky_relu( self.conv2(x) ,.2)\n",
    "    x = self.bn2(x)\n",
    "    # x = F.leaky_relu( self.conv3(x) ,.2)\n",
    "    # x = self.bn3(x)\n",
    "    # x = F.leaky_relu( self.conv4(x) ,.2)\n",
    "    # x = self.bn4(x)\n",
    "    return torch.sigmoid( self.conv3(x) ).view(-1,1)\n",
    "\n",
    "\n",
    "dnet = discriminatorNet()\n",
    "y = dnet(torch.randn(10,1,64,64))\n",
    "y.shape"
   ]
  },
  {
   "cell_type": "code",
   "execution_count": null,
   "id": "00db4a58",
   "metadata": {
    "id": "alVVPOJiLTHB"
   },
   "outputs": [],
   "source": [
    "class generatorNet(nn.Module):\n",
    "  def __init__(self):\n",
    "    super().__init__()\n",
    "\n",
    "    # convolution layers\n",
    "    self.conv1 = nn.ConvTranspose2d(100,256, 4, 4, 0, bias=False)\n",
    "    self.conv2 = nn.ConvTranspose2d(256,128, 4, 4, 0, bias=False)\n",
    "    self.conv3 = nn.ConvTranspose2d(128,  1, 4, 4, 0, bias=False)\n",
    "    # self.conv4 = nn.ConvTranspose2d( 64,  1, 4, 2, 0, bias=False)\n",
    "    # self.conv5 = nn.ConvTranspose2d(64,   1, 4, 2, 1, bias=False)\n",
    "\n",
    "    # batchnorm\n",
    "    self.bn1 = nn.BatchNorm2d(256)\n",
    "    self.bn2 = nn.BatchNorm2d(128)\n",
    "    # self.bn3 = nn.BatchNorm2d( 64)\n",
    "    # self.bn4 = nn.BatchNorm2d( 64)\n",
    "\n",
    "\n",
    "  def forward(self,x):\n",
    "    x = F.relu( self.bn1(self.conv1(x)) )\n",
    "    x = F.relu( self.bn2(self.conv2(x)) )\n",
    "    # x = F.relu( self.bn3(self.conv3(x)) )\n",
    "    # x = F.relu( self.bn4(self.conv4(x)) )\n",
    "    x = torch.tanh( self.conv3(x) )\n",
    "    return x\n",
    "    \n",
    "\n",
    "gnet = generatorNet()\n",
    "y = gnet(torch.randn(10,100,1,1))\n",
    "print(y.shape)\n",
    "plt.imshow(y[0,:,:,:].squeeze().detach().numpy());"
   ]
  },
  {
   "cell_type": "markdown",
   "id": "052c092a",
   "metadata": {},
   "source": [
    "# Train the models!"
   ]
  },
  {
   "cell_type": "code",
   "execution_count": null,
   "id": "6df72a5d",
   "metadata": {
    "id": "SFDbnRqeCPqy"
   },
   "outputs": [],
   "source": [
    "lossfun = nn.BCELoss()\n",
    "\n",
    "dnet = discriminatorNet().to(device)\n",
    "gnet = generatorNet().to(device)\n",
    "\n",
    "d_optimizer = torch.optim.Adam(dnet.parameters(), lr=.0002, betas=(.5,.999))\n",
    "g_optimizer = torch.optim.Adam(gnet.parameters(), lr=.0002, betas=(.5,.999))"
   ]
  },
  {
   "cell_type": "code",
   "execution_count": null,
   "id": "1f702e23",
   "metadata": {
    "id": "83Ju8fDuUTBg"
   },
   "outputs": [],
   "source": [
    "# training parameters and initializations\n",
    "num_epochs = 10500\n",
    "batchsize  = 86\n",
    "losses     = []\n",
    "disDecs    = [] # disDecs = discriminator decisions\n",
    "\n",
    "\n",
    "for epochi in range(num_epochs):\n",
    "\n",
    "  # create a minibatch from randomly selected images \n",
    "  ridx = torch.randint(images.shape[0],(batchsize,))\n",
    "  data = images[ridx,:].to(device)\n",
    "\n",
    "\n",
    "  # create labels for real and fake images\n",
    "  real_labels = torch.ones(batchsize,1).to(device)\n",
    "  fake_labels = torch.zeros(batchsize,1).to(device)\n",
    "\n",
    "\n",
    "\n",
    "  ### ---------------- Train the discriminator ---------------- ###\n",
    "\n",
    "  # forward pass and loss for REAL pictures\n",
    "  pred_real   = dnet(data)                     # output of discriminator\n",
    "  d_loss_real = lossfun(pred_real,real_labels) # all labels are 1\n",
    "\n",
    "  # forward pass and loss for FAKE pictures\n",
    "  fake_data   = torch.randn(batchsize,100,1,1).to(device) # random numbers to seed the generator\n",
    "  fake_images = gnet(fake_data)                           # output of generator\n",
    "  pred_fake   = dnet(fake_images)                         # pass through discriminator\n",
    "  d_loss_fake = lossfun(pred_fake,fake_labels)            # all labels are 0\n",
    "\n",
    "  # collect loss (using combined losses)\n",
    "  d_loss = d_loss_real + d_loss_fake\n",
    "\n",
    "  # backprop\n",
    "  d_optimizer.zero_grad()\n",
    "  d_loss.backward()\n",
    "  d_optimizer.step()\n",
    "\n",
    "\n",
    "\n",
    "  ### ---------------- Train the generator ---------------- ###\n",
    "\n",
    "  # create fake images and compute loss\n",
    "  fake_images = gnet( torch.randn(batchsize,100,1,1).to(device) )\n",
    "  pred_fake   = dnet(fake_images)\n",
    "\n",
    "  # compute loss\n",
    "  g_loss = lossfun(pred_fake,real_labels)\n",
    "\n",
    "  # backprop\n",
    "  g_optimizer.zero_grad()\n",
    "  g_loss.backward()\n",
    "  g_optimizer.step()\n",
    "\n",
    "\n",
    "  # collect losses and discriminator decisions\n",
    "  losses.append([d_loss.item(),g_loss.item()])\n",
    "  \n",
    "  d1 = torch.mean((pred_real>.5).float()).detach()\n",
    "  d2 = torch.mean((pred_fake>.5).float()).detach()\n",
    "  disDecs.append([d1,d2])\n",
    "\n",
    "\n",
    "  # print out a status message\n",
    "  if (epochi+1)%50==0:\n",
    "    msg = f'Finished epoch {epochi+1}/{num_epochs}'\n",
    "    sys.stdout.write('\\r' + msg)\n",
    "\n",
    "\n",
    "# convert performance from list to numpy array\n",
    "losses  = np.array(losses)\n",
    "disDecs = np.array(disDecs)"
   ]
  },
  {
   "cell_type": "code",
   "execution_count": null,
   "id": "5c270f61",
   "metadata": {
    "id": "xDZ3fTP3BUPq"
   },
   "outputs": [],
   "source": [
    "# create a 1D smoothing filter\n",
    "def smooth(x,k=15):\n",
    "  return np.convolve(x,np.ones(k)/k,mode='same')"
   ]
  },
  {
   "cell_type": "code",
   "execution_count": null,
   "id": "bcba2da5",
   "metadata": {
    "id": "1C0qAf9kN7mi"
   },
   "outputs": [],
   "source": [
    "fig,ax = plt.subplots(1,3,figsize=(16,5))\n",
    "\n",
    "ax[0].plot(smooth(losses[:,0]))\n",
    "ax[0].plot(smooth(losses[:,1]))\n",
    "ax[0].set_xlabel('Batches')\n",
    "ax[0].set_ylabel('Loss')\n",
    "ax[0].set_title('Model loss')\n",
    "ax[0].legend(['Discrimator','Generator'])\n",
    "# ax[0].set_xlim([500,900])\n",
    "\n",
    "ax[1].plot(losses[:,0],losses[:,1],'k.',alpha=.1)\n",
    "ax[1].set_xlabel('Discriminator loss')\n",
    "ax[1].set_ylabel('Generator loss')\n",
    "\n",
    "ax[2].plot(smooth(disDecs[:,0]))\n",
    "ax[2].plot(smooth(disDecs[:,1]))\n",
    "ax[2].set_xlabel('Epochs')\n",
    "ax[2].set_ylabel('Probablity (\"real\")')\n",
    "ax[2].set_title('Discriminator output')\n",
    "ax[2].legend(['Real','Fake'])\n",
    "\n",
    "plt.show()"
   ]
  },
  {
   "cell_type": "markdown",
   "id": "eb98452e",
   "metadata": {},
   "source": [
    "# Let's see some generated Gaussians!"
   ]
  },
  {
   "cell_type": "code",
   "execution_count": null,
   "id": "beab35c2",
   "metadata": {
    "id": "AzCz1UqGCP8T"
   },
   "outputs": [],
   "source": [
    "# generate the images from the generator network\n",
    "gnet.eval()\n",
    "fake_data = gnet( torch.randn(batchsize,100,1,1).to(device) ).cpu()\n",
    "\n",
    "# and visualize...\n",
    "fig,axs = plt.subplots(3,6,figsize=(12,6))\n",
    "for i,ax in enumerate(axs.flatten()):\n",
    "  ax.imshow(fake_data[i,].detach().squeeze(),cmap='jet')\n",
    "  ax.axis('off')\n",
    "\n",
    "plt.show()"
   ]
  },
  {
   "cell_type": "code",
   "execution_count": null,
   "id": "bc005acf",
   "metadata": {
    "id": "N3p-fkwJyL28"
   },
   "outputs": [],
   "source": []
  }
 ],
 "metadata": {
  "jupytext": {
   "cell_metadata_filter": "id,-all",
   "main_language": "python",
   "notebook_metadata_filter": "-all"
  }
 },
 "nbformat": 4,
 "nbformat_minor": 5
}
