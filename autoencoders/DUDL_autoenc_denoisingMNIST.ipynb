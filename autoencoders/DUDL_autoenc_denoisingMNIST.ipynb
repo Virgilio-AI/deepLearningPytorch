{
 "cells": [
  {
   "cell_type": "code",
   "execution_count": null,
   "id": "797cf0df",
   "metadata": {},
   "outputs": [],
   "source": [
    "# Date: 19/November/2022 - Saturday\n",
    "# Author: Virgilio Murillo Ochoa\n",
    "# personal github: Virgilio-AI\n",
    "# linkedin: https://www.linkedin.com/in/virgilio-murillo-ochoa-b29b59203\n",
    "# contact: virgiliomurilloochoa1@gmail.com\n",
    "# web: virgiliomurillo.com"
   ]
  },
  {
   "cell_type": "code",
   "execution_count": null,
   "id": "bbd95ba2",
   "metadata": {},
   "outputs": [],
   "source": [
    "# import libraries\n",
    "import numpy as np\n",
    "\n",
    "import torch\n",
    "import torch.nn as nn\n",
    "import torch.nn.functional as F\n",
    "\n",
    "import matplotlib.pyplot as plt\n",
    "from IPython import display\n",
    "display.set_matplotlib_formats('svg')"
   ]
  },
  {
   "cell_type": "markdown",
   "id": "ff7e8eb6",
   "metadata": {},
   "source": [
    "# Import and process the data"
   ]
  },
  {
   "cell_type": "code",
   "execution_count": null,
   "id": "83ef6b8c",
   "metadata": {},
   "outputs": [],
   "source": [
    "# import dataset (comes with colab!)\n",
    "data = np.loadtxt(open('sample_data/mnist_train_small.csv','rb'),delimiter=',')\n",
    "\n",
    "# don't need labels!\n",
    "data = data[:,1:]\n",
    "\n",
    "# normalize the data to a range of [0 1]\n",
    "dataNorm = data / np.max(data)\n",
    "\n",
    "# convert to tensor\n",
    "dataT = torch.tensor( dataNorm ).float()"
   ]
  },
  {
   "cell_type": "markdown",
   "id": "ef5b2c25",
   "metadata": {},
   "source": [
    "# Create the DL model"
   ]
  },
  {
   "cell_type": "code",
   "execution_count": null,
   "id": "3a9f15a8",
   "metadata": {},
   "outputs": [],
   "source": [
    "# create a class for the model\n",
    "def createTheMNISTAE():\n",
    "\n",
    "  class aenet(nn.Module):\n",
    "    def __init__(self):\n",
    "      super().__init__()\n",
    "\n",
    "      ### input layer\n",
    "      self.input = nn.Linear(784,250)\n",
    "      \n",
    "      ### encoder layer\n",
    "      self.enc = nn.Linear(250,50)\n",
    "\n",
    "      ### latent layer\n",
    "      self.lat = nn.Linear(50,250)\n",
    "\n",
    "      ### decoder layer\n",
    "      self.dec = nn.Linear(250,784)\n",
    "\n",
    "    # forward pass\n",
    "    def forward(self,x):\n",
    "      x = F.relu( self.input(x) )\n",
    "      x = F.relu( self.enc(x) )\n",
    "      x = F.relu( self.lat(x) )\n",
    "      y = torch.sigmoid( self.dec(x) )\n",
    "      return y\n",
    "  \n",
    "  # create the model instance\n",
    "  net = aenet()\n",
    "  \n",
    "  # loss function\n",
    "  lossfun = nn.MSELoss()\n",
    "\n",
    "  # optimizer\n",
    "  optimizer = torch.optim.Adam(net.parameters(),lr=.001)\n",
    "\n",
    "  return net,lossfun,optimizer"
   ]
  },
  {
   "cell_type": "code",
   "execution_count": null,
   "id": "9d108c2b",
   "metadata": {},
   "outputs": [],
   "source": [
    "# test the model with a bit of data\n",
    "net,lossfun,optimizer = createTheMNISTAE()\n",
    "\n",
    "X = dataT[:5,:]\n",
    "yHat = net(X)\n",
    "\n",
    "print(X.shape)\n",
    "print(yHat.shape)"
   ]
  },
  {
   "cell_type": "code",
   "execution_count": null,
   "id": "862df96e",
   "metadata": {},
   "outputs": [],
   "source": [
    "# let's see what the model did!\n",
    "fig,axs = plt.subplots(2,5,figsize=(10,3))\n",
    "\n",
    "for i in range(5):\n",
    "  axs[0,i].imshow(X[i,:].view(28,28).detach() ,cmap='gray')\n",
    "  axs[1,i].imshow(yHat[i,:].view(28,28).detach() ,cmap='gray')\n",
    "  axs[0,i].set_xticks([]), axs[0,i].set_yticks([])\n",
    "  axs[1,i].set_xticks([]), axs[1,i].set_yticks([])\n",
    "  \n",
    "plt.suptitle('Yikes!!!')\n",
    "plt.show()"
   ]
  },
  {
   "cell_type": "markdown",
   "id": "c81ce89b",
   "metadata": {},
   "source": [
    "# Create a function that trains the model"
   ]
  },
  {
   "cell_type": "code",
   "execution_count": null,
   "id": "f1ec6619",
   "metadata": {},
   "outputs": [],
   "source": [
    "def function2trainTheModel():\n",
    "\n",
    "  # number of epochs\n",
    "  numepochs = 10000\n",
    "  \n",
    "  # create a new model\n",
    "  net,lossfun,optimizer = createTheMNISTAE()\n",
    "\n",
    "  # initialize losses\n",
    "  losses = torch.zeros(numepochs)\n",
    "\n",
    "\n",
    "  # loop over epochs\n",
    "  for epochi in range(numepochs):\n",
    "\n",
    "    # select a random set of images\n",
    "    randomidx = np.random.choice(dataT.shape[0],size=32)\n",
    "    X = dataT[randomidx,:]\n",
    "\n",
    "    # forward pass and loss\n",
    "    yHat = net(X)\n",
    "    loss = lossfun(yHat,X)\n",
    "\n",
    "    # backprop\n",
    "    optimizer.zero_grad()\n",
    "    loss.backward()\n",
    "    optimizer.step()\n",
    "\n",
    "    # losses in this epoch\n",
    "    losses[epochi] = loss.item()\n",
    "  # end epochs\n",
    "\n",
    "  # function output\n",
    "  return losses,net"
   ]
  },
  {
   "cell_type": "markdown",
   "id": "1e93e093",
   "metadata": {},
   "source": [
    "# Run the model and show the results!"
   ]
  },
  {
   "cell_type": "code",
   "execution_count": null,
   "id": "99ee7c73",
   "metadata": {},
   "outputs": [],
   "source": [
    "# train the model (90s)\n",
    "losses,net = function2trainTheModel()\n",
    "print(f'Final loss: {losses[-1]:.4f}')\n",
    "\n",
    "# visualize the losses\n",
    "plt.plot(losses,'.-')\n",
    "plt.xlabel('Epochs')\n",
    "plt.ylabel('Model loss')\n",
    "plt.title('OK, but what did it actually learn??')\n",
    "plt.show()"
   ]
  },
  {
   "cell_type": "code",
   "execution_count": null,
   "id": "590b1da1",
   "metadata": {},
   "outputs": [],
   "source": [
    "# Repeat the visualization when testing the model\n",
    "X = dataT[:5,:]\n",
    "yHat = net(X)\n",
    "\n",
    "\n",
    "# let's see what the model did!\n",
    "fig,axs = plt.subplots(2,5,figsize=(10,3))\n",
    "\n",
    "for i in range(5):\n",
    "  axs[0,i].imshow(X[i,:].view(28,28).detach() ,cmap='gray')\n",
    "  axs[1,i].imshow(yHat[i,:].view(28,28).detach() ,cmap='gray')\n",
    "  axs[0,i].set_xticks([]), axs[0,i].set_yticks([])\n",
    "  axs[1,i].set_xticks([]), axs[1,i].set_yticks([])\n",
    "  \n",
    "plt.suptitle('Disregard the yikes!!!')\n",
    "plt.show()"
   ]
  },
  {
   "cell_type": "markdown",
   "id": "7e2dc3cc",
   "metadata": {},
   "source": [
    "# Add noise to see a use case of an autoencoder"
   ]
  },
  {
   "cell_type": "code",
   "execution_count": null,
   "id": "4b0a5887",
   "metadata": {},
   "outputs": [],
   "source": [
    "# grab a small set of images\n",
    "X = dataT[:10,:]\n",
    "\n",
    "# add noise\n",
    "Xnoise = X + torch.rand_like(X)/4\n",
    "\n",
    "# clip at 1\n",
    "Xnoise[Xnoise>1] = 1\n",
    "\n",
    "\n",
    "# show the noisy images\n",
    "fig,axs = plt.subplots(2,5,figsize=(10,3))\n",
    "\n",
    "for i in range(5):\n",
    "  axs[0,i].imshow(X[i,:].view(28,28).detach() ,cmap='gray')\n",
    "  axs[1,i].imshow(Xnoise[i,:].view(28,28).detach() ,cmap='gray')\n",
    "  axs[0,i].set_xticks([]), axs[0,i].set_yticks([])\n",
    "  axs[1,i].set_xticks([]), axs[1,i].set_yticks([])\n",
    "  \n",
    "plt.show()"
   ]
  },
  {
   "cell_type": "code",
   "execution_count": null,
   "id": "11fa6257",
   "metadata": {},
   "outputs": [],
   "source": [
    "# run through the model\n",
    "Y = net(Xnoise)\n",
    "\n",
    "\n",
    "# show the noisy images\n",
    "fig,axs = plt.subplots(3,10,figsize=(12,5))\n",
    "\n",
    "for i in range(10):\n",
    "  axs[0,i].imshow(X[i,:].view(28,28).detach() ,cmap='gray')\n",
    "  axs[1,i].imshow(Xnoise[i,:].view(28,28).detach() ,cmap='gray')\n",
    "  axs[2,i].imshow(Y[i,:].view(28,28).detach() ,cmap='gray')\n",
    "  axs[0,i].set_xticks([]), axs[0,i].set_yticks([])\n",
    "  axs[1,i].set_xticks([]), axs[1,i].set_yticks([])\n",
    "  axs[2,i].set_xticks([]), axs[2,i].set_yticks([])\n",
    "  \n",
    "plt.suptitle('Neato.')\n",
    "plt.show()"
   ]
  },
  {
   "cell_type": "code",
   "execution_count": null,
   "id": "763d9ec8",
   "metadata": {},
   "outputs": [],
   "source": []
  },
  {
   "cell_type": "markdown",
   "id": "0bf18445",
   "metadata": {},
   "source": [
    "# Additional explorations"
   ]
  },
  {
   "cell_type": "code",
   "execution_count": null,
   "id": "36f433a3",
   "metadata": {},
   "outputs": [],
   "source": [
    "# 1) Because these are continuous data, mean-squared-error is the correct loss function. But I mentioned in the previous \n",
    "#    video that binary cross-entropy loss is *sometimes* used in autoencoders. Does the loss function make a difference\n",
    "#    for this problem? Why?\n",
    "# \n",
    "# 2) Change the number of units in the latent layer to 10. How does that affect the loss and denoising? Don't turn this \n",
    "#    into a full parametric experiment -- that's for the next video!\n",
    "# \n",
    "# 3) The code here picks samples randomly, which means many samples are skipped, and some could be repeated. Change the \n",
    "#    code so that the model goes through every item exactly once per epoch. The order should be randomized to avoid \n",
    "#    possible order effects. You'll probably want to reduce the number of epochs!\n",
    "# \n",
    "# 4) Is it necessary to normalize the data to a range of [0 1]? What are arguments for normalization, and arguments why\n",
    "#    it may not be critical (in this problem)?\n",
    "# \n",
    "# 5) The autoencoder did a pretty decent job at denoising the images. How far can you push this? Try adding more noise\n",
    "#    to the images and re-running the test code (you don't need to retrain the model). Is the autoencoder robust to a\n",
    "#    a larger amount of noise?\n",
    "# "
   ]
  }
 ],
 "metadata": {
  "jupytext": {
   "cell_metadata_filter": "-all",
   "main_language": "python",
   "notebook_metadata_filter": "-all"
  }
 },
 "nbformat": 4,
 "nbformat_minor": 5
}
