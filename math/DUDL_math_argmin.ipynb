{
 "cells": [
  {
   "cell_type": "code",
   "execution_count": null,
   "id": "9e4794f7",
   "metadata": {},
   "outputs": [],
   "source": [
    "# Date: 19/November/2022 - Saturday\n",
    "# Author: Virgilio Murillo Ochoa\n",
    "# personal github: Virgilio-AI\n",
    "# linkedin: https://www.linkedin.com/in/virgilio-murillo-ochoa-b29b59203\n",
    "# contact: virgiliomurilloochoa1@gmail.com\n",
    "# web: virgiliomurillo.com"
   ]
  },
  {
   "cell_type": "code",
   "execution_count": null,
   "id": "ac2c3c9f",
   "metadata": {},
   "outputs": [],
   "source": [
    "# import libraries\n",
    "import numpy as np\n",
    "import torch"
   ]
  },
  {
   "cell_type": "markdown",
   "id": "9a7ef1ba",
   "metadata": {},
   "source": [
    "# Using numpy"
   ]
  },
  {
   "cell_type": "code",
   "execution_count": null,
   "id": "cceff514",
   "metadata": {},
   "outputs": [],
   "source": [
    "# create a vector\n",
    "v = np.array([ 1,40,2,-3 ])\n",
    "\n",
    "# find and report the maximum and minimum values\n",
    "minval = np.min(v)\n",
    "maxval = np.max(v)\n",
    "\n",
    "print('Min,max: %g,%g' %(minval,maxval) )\n",
    "\n",
    "\n",
    "# now for the argmin/max\n",
    "minidx = np.argmin(v)\n",
    "maxidx = np.argmax(v)\n",
    "\n",
    "print('Min,max indices: %g,%g' %(minidx,maxidx) ), print(' ')\n",
    "\n",
    "# confirm\n",
    "print(f'Min val is { v[minidx] }, max val is { v[maxidx] }')"
   ]
  },
  {
   "cell_type": "code",
   "execution_count": null,
   "id": "c78ea3a7",
   "metadata": {},
   "outputs": [],
   "source": [
    "# repeat with matrix\n",
    "M = np.array([ [0,1,10], [20,8,5] ])\n",
    "print(M), print(' ')\n",
    "\n",
    "# various minima in this matrix!\n",
    "minvals1 = np.min(M)        # minimum from ENTIRE matrix\n",
    "minvals2 = np.min(M,axis=0) # minimum of each column (across rows)\n",
    "minvals3 = np.min(M,axis=1) # minimum of each row (across columns)\n",
    "\n",
    "# print them out\n",
    "print(minvals1)\n",
    "print(minvals2)\n",
    "print(minvals3)"
   ]
  },
  {
   "cell_type": "code",
   "execution_count": null,
   "id": "e43be0e5",
   "metadata": {},
   "outputs": [],
   "source": [
    "# various minima in this matrix!\n",
    "minidx1 = np.argmin(M)        # minimum from ENTIRE matrix\n",
    "minidx2 = np.argmin(M,axis=0) # minimum of each column (across rows)\n",
    "minidx3 = np.argmin(M,axis=1) # minimum of each row (across columns)\n",
    "\n",
    "# print them out\n",
    "print(M), print(' ') # reminder\n",
    "print(minidx1)\n",
    "print(minidx2)\n",
    "print(minidx3)"
   ]
  },
  {
   "cell_type": "markdown",
   "id": "b5933080",
   "metadata": {},
   "source": [
    "# Now using pytorch"
   ]
  },
  {
   "cell_type": "code",
   "execution_count": null,
   "id": "9e9e8215",
   "metadata": {},
   "outputs": [],
   "source": [
    "# create a vector\n",
    "v = torch.tensor([ 1,40,2,-3 ])\n",
    "\n",
    "# find and report the maximum and minimum values\n",
    "minval = torch.min(v)\n",
    "maxval = torch.max(v)\n",
    "\n",
    "print('Min,max: %g,%g' %(minval,maxval) )\n",
    "\n",
    "\n",
    "# now for the argmin/max\n",
    "minidx = torch.argmin(v)\n",
    "maxidx = torch.argmax(v)\n",
    "\n",
    "print('Min,max indices: %g,%g' %(minidx,maxidx) ), print(' ')\n",
    "\n",
    "# confirm\n",
    "print(f'Min val is { v[minidx] }, max val is { v[maxidx] }')"
   ]
  },
  {
   "cell_type": "code",
   "execution_count": null,
   "id": "7a885a67",
   "metadata": {},
   "outputs": [],
   "source": [
    "# repeat with matrix\n",
    "M = torch.tensor([ [0,1,10], [20,8,5] ])\n",
    "print(M), print(' ')\n",
    "\n",
    "# various minima in this matrix!\n",
    "min1 = torch.min(M)        # minimum from ENTIRE matrix\n",
    "min2 = torch.min(M,axis=0) # minimum of each column (across rows)\n",
    "min3 = torch.min(M,axis=1) # minimum of each row (across columns)\n",
    "\n",
    "# print them out\n",
    "print(min1), print(' ')\n",
    "print(min2), print(' ')\n",
    "print(min2.values)\n",
    "print(min2.indices)"
   ]
  },
  {
   "cell_type": "code",
   "execution_count": null,
   "id": "bf5a706c",
   "metadata": {},
   "outputs": [],
   "source": [
    "min2.count"
   ]
  }
 ],
 "metadata": {
  "jupytext": {
   "cell_metadata_filter": "-all",
   "main_language": "python",
   "notebook_metadata_filter": "-all"
  }
 },
 "nbformat": 4,
 "nbformat_minor": 5
}
