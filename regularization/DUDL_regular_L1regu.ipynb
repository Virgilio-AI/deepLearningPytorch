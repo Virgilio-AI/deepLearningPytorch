{
 "cells": [
  {
   "cell_type": "code",
   "execution_count": null,
   "id": "7393de22",
   "metadata": {},
   "outputs": [],
   "source": [
    "# Date: 19/November/2022 - Saturday\n",
    "# Author: Virgilio Murillo Ochoa\n",
    "# personal github: Virgilio-AI\n",
    "# linkedin: https://www.linkedin.com/in/virgilio-murillo-ochoa-b29b59203\n",
    "# contact: virgiliomurilloochoa1@gmail.com\n",
    "# web: virgiliomurillo.com"
   ]
  },
  {
   "cell_type": "code",
   "execution_count": null,
   "id": "e8687a09",
   "metadata": {},
   "outputs": [],
   "source": [
    "# import libraries\n",
    "import torch\n",
    "import torch.nn as nn\n",
    "import numpy as np\n",
    "import matplotlib.pyplot as plt\n",
    "from sklearn.model_selection import train_test_split\n",
    "\n",
    "# \n",
    "from torch.utils.data import DataLoader"
   ]
  },
  {
   "cell_type": "code",
   "execution_count": null,
   "id": "dcd94578",
   "metadata": {},
   "outputs": [],
   "source": [
    "# import dataset (comes with seaborn)\n",
    "import seaborn as sns\n",
    "iris = sns.load_dataset('iris')"
   ]
  },
  {
   "cell_type": "code",
   "execution_count": null,
   "id": "ba6b54b6",
   "metadata": {},
   "outputs": [],
   "source": [
    "# organize the data\n",
    "\n",
    "# convert from pandas dataframe to tensor\n",
    "data = torch.tensor( iris[iris.columns[0:4]].values ).float()\n",
    "\n",
    "# transform species to number\n",
    "labels = torch.zeros(len(data), dtype=torch.long)\n",
    "# labels[iris.species=='setosa']   = 0 # don't need!\n",
    "labels[iris.species=='versicolor'] = 1\n",
    "labels[iris.species=='virginica']  = 2"
   ]
  },
  {
   "cell_type": "markdown",
   "id": "8b2dd7e8",
   "metadata": {},
   "source": [
    "# Break the data into batches"
   ]
  },
  {
   "cell_type": "code",
   "execution_count": null,
   "id": "cb60f635",
   "metadata": {},
   "outputs": [],
   "source": [
    "# use scikitlearn to split the data\n",
    "train_data,test_data, train_labels,test_labels = train_test_split(data, labels, test_size=.2)\n",
    "\n",
    "# then convert them into PyTorch Datasets (note: already converted to tensors)\n",
    "train_dataDataset = torch.utils.data.TensorDataset(train_data,train_labels)\n",
    "test_dataDataset  = torch.utils.data.TensorDataset(test_data,test_labels)\n",
    "\n",
    "# create dataloader objects\n",
    "train_loader = DataLoader(train_dataDataset,batch_size=64, shuffle=True, drop_last=True)\n",
    "test_loader  = DataLoader(test_dataDataset,batch_size=test_dataDataset.tensors[0].shape[0])"
   ]
  },
  {
   "cell_type": "markdown",
   "id": "0fbbb52c",
   "metadata": {},
   "source": [
    "# Specify the model architecture and training plan"
   ]
  },
  {
   "cell_type": "code",
   "execution_count": null,
   "id": "80f12df7",
   "metadata": {},
   "outputs": [],
   "source": [
    "# a function that creates the ANN model\n",
    "\n",
    "def createANewModel():\n",
    "\n",
    "  # model architecture\n",
    "  ANNiris = nn.Sequential(\n",
    "      nn.Linear(4,64),   # input layer\n",
    "      nn.ReLU(),         # activation unit\n",
    "      nn.Linear(64,64),  # hidden layer\n",
    "      nn.ReLU(),         # activation unit\n",
    "      nn.Linear(64,3),   # output units\n",
    "        )\n",
    "\n",
    "  # loss function\n",
    "  lossfun = nn.CrossEntropyLoss()\n",
    "\n",
    "  # optimizer\n",
    "  optimizer = torch.optim.SGD(ANNiris.parameters(),lr=.005)\n",
    "\n",
    "  return ANNiris,lossfun,optimizer"
   ]
  },
  {
   "cell_type": "code",
   "execution_count": null,
   "id": "1ac68cac",
   "metadata": {},
   "outputs": [],
   "source": [
    "# explore the model in more detail\n",
    "tmpmodel = createANewModel()[0]\n",
    "\n",
    "# print the model architecture\n",
    "print(tmpmodel)\n",
    "\n",
    "# print the model's parameters\n",
    "for i in tmpmodel.named_parameters():\n",
    "  print(i[0],i[1].shape,i[1].numel())"
   ]
  },
  {
   "cell_type": "markdown",
   "id": "61f2c2f9",
   "metadata": {},
   "source": [
    "# Function that trains the model"
   ]
  },
  {
   "cell_type": "code",
   "execution_count": null,
   "id": "1c238c9c",
   "metadata": {
    "lines_to_next_cell": 2
   },
   "outputs": [],
   "source": [
    "# train the model\n",
    "\n",
    "# global parameter\n",
    "numepochs = 1000\n",
    "\n",
    "def trainTheModel(L1lambda):\n",
    "\n",
    "  # initialize accuracies as empties\n",
    "  trainAcc = []\n",
    "  testAcc  = []\n",
    "  losses   = []\n",
    "\n",
    "  # count the total number of weights in the model\n",
    "  nweights = 0\n",
    "  for pname,weight in ANNiris.named_parameters():\n",
    "    if 'bias' not in pname:\n",
    "      nweights = nweights + weight.numel()\n",
    "\n",
    "\n",
    "  # loop over epochs\n",
    "  for epochi in range(numepochs):\n",
    "\n",
    "    # loop over training data batches\n",
    "    batchAcc  = []\n",
    "    batchLoss = []\n",
    "    for X,y in train_loader:\n",
    "\n",
    "      # forward pass and loss\n",
    "      yHat = ANNiris(X)\n",
    "      loss = lossfun(yHat,y)\n",
    "\n",
    "\n",
    "\n",
    "      ### add L1 term\n",
    "      L1_term = torch.tensor(0.,requires_grad=True)\n",
    "\n",
    "      # sum up all abs(weights)\n",
    "      for pname,weight in ANNiris.named_parameters():\n",
    "        if 'bias' not in pname:\n",
    "           L1_term = L1_term + torch.sum(torch.abs(weight))\n",
    "      \n",
    "      # add to loss term\n",
    "      loss = loss + L1lambda*L1_term/nweights\n",
    "      \n",
    "\n",
    "\n",
    "      # backprop\n",
    "      optimizer.zero_grad()\n",
    "      loss.backward()\n",
    "      optimizer.step()\n",
    "\n",
    "      # compute training accuracy just for this batch\n",
    "      batchAcc.append( 100*torch.mean((torch.argmax(yHat,axis=1) == y).float()).item() )\n",
    "      batchLoss.append( loss.item() )\n",
    "    # end of batch loop...\n",
    "\n",
    "    # now that we've trained through the batches, get their average training accuracy\n",
    "    trainAcc.append( np.mean(batchAcc) )\n",
    "    losses.append( np.mean(batchLoss) )\n",
    "\n",
    "    # test accuracy\n",
    "    X,y = next(iter(test_loader)) # extract X,y from test dataloader\n",
    "    predlabels = torch.argmax( ANNiris(X),axis=1 )\n",
    "    testAcc.append( 100*torch.mean((predlabels == y).float()).item() )\n",
    "  \n",
    "  # function output\n",
    "  return trainAcc,testAcc,losses"
   ]
  },
  {
   "cell_type": "markdown",
   "id": "0365dcf6",
   "metadata": {},
   "source": [
    "# Bring it to life!"
   ]
  },
  {
   "cell_type": "code",
   "execution_count": null,
   "id": "47620b76",
   "metadata": {},
   "outputs": [],
   "source": [
    "# create a model\n",
    "ANNiris,lossfun,optimizer = createANewModel()\n",
    "\n",
    "# train the model\n",
    "L1lambda = .001\n",
    "trainAcc,testAcc,losses = trainTheModel(L1lambda)"
   ]
  },
  {
   "cell_type": "code",
   "execution_count": null,
   "id": "2c9308ba",
   "metadata": {},
   "outputs": [],
   "source": [
    "# plot the results\n",
    "fig,ax = plt.subplots(1,2,figsize=(15,5))\n",
    "\n",
    "\n",
    "ax[0].plot(losses,'k^-')\n",
    "ax[0].set_ylabel('Loss')\n",
    "ax[0].set_xlabel('Epochs')\n",
    "ax[0].set_title('Losses with L1 $\\lambda$=' + str(L1lambda))\n",
    "\n",
    "ax[1].plot(trainAcc,'ro-')\n",
    "ax[1].plot(testAcc,'bs-')\n",
    "ax[1].set_title('Accuracy with L1 $\\lambda$=' + str(L1lambda))\n",
    "ax[1].set_xlabel('Epochs')\n",
    "ax[1].set_ylabel('Accuracy (%)')\n",
    "ax[1].legend(['Train','Test'])\n",
    "\n",
    "plt.show()"
   ]
  },
  {
   "cell_type": "code",
   "execution_count": null,
   "id": "ac22cbf3",
   "metadata": {},
   "outputs": [],
   "source": [
    "# create a 1D smoothing filter\n",
    "def smooth(x,k):\n",
    "  return np.convolve(x,np.ones(k)/k,mode='same')"
   ]
  },
  {
   "cell_type": "markdown",
   "id": "63c17f21",
   "metadata": {},
   "source": [
    "# Now for the parameteric experiment"
   ]
  },
  {
   "cell_type": "code",
   "execution_count": null,
   "id": "b41ae656",
   "metadata": {},
   "outputs": [],
   "source": [
    "# range of L1 regularization amounts\n",
    "L1lambda = np.linspace(0,.005,10)\n",
    "\n",
    "# initialize output results matrices\n",
    "accuracyResultsTrain = np.zeros((numepochs,len(L1lambda)))\n",
    "accuracyResultsTest  = np.zeros((numepochs,len(L1lambda)))\n",
    "\n",
    "\n",
    "# loop over batch sizes\n",
    "for li in range(len(L1lambda)):\n",
    "\n",
    "  # create and train a model\n",
    "  ANNiris,lossfun,optimizer = createANewModel()\n",
    "  trainAcc,testAcc,losses = trainTheModel(L1lambda[li])\n",
    "\n",
    "  # store data\n",
    "  accuracyResultsTrain[:,li] = smooth(trainAcc,10)\n",
    "  accuracyResultsTest[:,li]  = smooth(testAcc,10)"
   ]
  },
  {
   "cell_type": "code",
   "execution_count": null,
   "id": "b7cfea45",
   "metadata": {},
   "outputs": [],
   "source": [
    "# plot some results\n",
    "fig,ax = plt.subplots(1,2,figsize=(17,7))\n",
    "\n",
    "ax[0].plot(accuracyResultsTrain)\n",
    "ax[0].set_title('Train accuracy')\n",
    "ax[1].plot(accuracyResultsTest)\n",
    "ax[1].set_title('Test accuracy')\n",
    "\n",
    "# make the legend easier to read\n",
    "leglabels = [np.round(i,4) for i in L1lambda]\n",
    "\n",
    "# common features\n",
    "for i in range(2):\n",
    "  ax[i].legend(leglabels)\n",
    "  ax[i].set_xlabel('Epoch')\n",
    "  ax[i].set_ylabel('Accuracy (%)')\n",
    "  ax[i].set_ylim([50,101])\n",
    "  ax[i].grid()\n",
    "\n",
    "plt.show()"
   ]
  },
  {
   "cell_type": "code",
   "execution_count": null,
   "id": "4e6446ef",
   "metadata": {},
   "outputs": [],
   "source": [
    "# show average accuracy by L1 rate\n",
    "\n",
    "# average only some epochs\n",
    "epoch_range = [500,950]\n",
    "\n",
    "\n",
    "plt.plot(L1lambda,\n",
    "         np.mean(accuracyResultsTrain[epoch_range[0]:epoch_range[1],:],axis=0),\n",
    "         'bo-',label='TRAIN')\n",
    "\n",
    "plt.plot(L1lambda,\n",
    "         np.mean(accuracyResultsTest[epoch_range[0]:epoch_range[1],:],axis=0),\n",
    "         'rs-',label='TEST')\n",
    "\n",
    "plt.xlabel('L1 regularization amount')\n",
    "plt.ylabel('Accuracy')\n",
    "plt.legend()\n",
    "plt.show()"
   ]
  },
  {
   "cell_type": "code",
   "execution_count": null,
   "id": "da2af1bc",
   "metadata": {},
   "outputs": [],
   "source": []
  },
  {
   "cell_type": "markdown",
   "id": "31a8988d",
   "metadata": {},
   "source": [
    "# Additional explorations"
   ]
  },
  {
   "cell_type": "code",
   "execution_count": null,
   "id": "41086c04",
   "metadata": {},
   "outputs": [],
   "source": [
    "# 1) In the previous video we used a pytorch function to implement L2 regularization, and in this video we implemented \n",
    "#    L1 regularization manually. Modify the code here to create a manual L2 regularizer.\n",
    "# \n",
    "# 2) Based on your modification above, create a combined L1+L2 regularizer. Does it make sense to use the same lambda\n",
    "#    parameter, or do you think it should be adjusted?\n",
    "# "
   ]
  }
 ],
 "metadata": {
  "jupytext": {
   "cell_metadata_filter": "-all",
   "main_language": "python",
   "notebook_metadata_filter": "-all"
  }
 },
 "nbformat": 4,
 "nbformat_minor": 5
}
