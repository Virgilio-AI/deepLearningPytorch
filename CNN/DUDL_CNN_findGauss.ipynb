{
 "cells": [
  {
   "cell_type": "code",
   "execution_count": null,
   "id": "411b70a5",
   "metadata": {},
   "outputs": [],
   "source": [
    "# Date: 19/November/2022 - Saturday\n",
    "# Author: Virgilio Murillo Ochoa\n",
    "# personal github: Virgilio-AI\n",
    "# linkedin: https://www.linkedin.com/in/virgilio-murillo-ochoa-b29b59203\n",
    "# contact: virgiliomurilloochoa1@gmail.com\n",
    "# web: virgiliomurillo.com"
   ]
  },
  {
   "cell_type": "code",
   "execution_count": null,
   "id": "f5b3ffcb",
   "metadata": {},
   "outputs": [],
   "source": [
    "# import libraries\n",
    "import numpy as np\n",
    "\n",
    "import torch\n",
    "import torch.nn as nn\n",
    "import torch.nn.functional as F\n",
    "from torch.utils.data import DataLoader,TensorDataset\n",
    "from sklearn.model_selection import train_test_split\n",
    "\n",
    "# model summary info\n",
    "from torchsummary import summary\n",
    "\n",
    "import matplotlib.pyplot as plt\n",
    "from IPython import display\n",
    "display.set_matplotlib_formats('svg')"
   ]
  },
  {
   "cell_type": "markdown",
   "id": "a8ed895d",
   "metadata": {},
   "source": [
    "# Create Gaussian blurs with different widths"
   ]
  },
  {
   "cell_type": "code",
   "execution_count": null,
   "id": "c1708b39",
   "metadata": {},
   "outputs": [],
   "source": [
    "nGauss  = 1000\n",
    "imgSize = 91\n",
    "\n",
    "x = np.linspace(-4,4,imgSize)\n",
    "X,Y = np.meshgrid(x,x)\n",
    "\n",
    "# initialize tensors containing images and labels\n",
    "images = torch.zeros(nGauss,1,imgSize,imgSize)\n",
    "labels = torch.zeros(nGauss,3)\n",
    "\n",
    "for i in range(nGauss):\n",
    "\n",
    "  # location and width parameters\n",
    "  loc = np.max(x)/2 * np.random.randn(2) # center coordinate\n",
    "  wid = np.random.rand()*10 + 5 # width of Gaussian\n",
    "\n",
    "  # create the gaussian with random centers\n",
    "  G  = np.exp( -( (X-loc[0])**2 + (Y-loc[1])**2) / wid )\n",
    "  G  = G + np.random.randn(imgSize,imgSize)/10\n",
    "  \n",
    "  # add to the tensor\n",
    "  images[i,:,:,:] = torch.Tensor(G).view(1,imgSize,imgSize)\n",
    "  labels[i,:] = torch.Tensor( [loc[0],loc[1],wid] )"
   ]
  },
  {
   "cell_type": "code",
   "execution_count": null,
   "id": "43045c8d",
   "metadata": {},
   "outputs": [],
   "source": [
    "# visualize some images\n",
    "fig,axs = plt.subplots(3,7,figsize=(15,7))\n",
    "\n",
    "for i,ax in enumerate(axs.flatten()):\n",
    "  whichpic = np.random.randint(nGauss)\n",
    "  G = np.squeeze( images[whichpic,:,:] )\n",
    "  ax.imshow(G,vmin=-1,vmax=1,cmap='jet',extent=[-4,4,-4,4],origin='top')\n",
    "  ax.set_title(f'XY=({labels[whichpic,0]:.0f},{labels[whichpic,1]:.0f}), W={labels[whichpic,2]:.0f}')\n",
    "  ax.plot([-4,4],[0,0],'w--')\n",
    "  ax.plot([0,0],[-4,4],'w--')\n",
    "  ax.set_xticks([])\n",
    "  ax.set_yticks([])\n",
    "\n",
    "plt.tight_layout()\n",
    "plt.show()"
   ]
  },
  {
   "cell_type": "markdown",
   "id": "c99c0fb4",
   "metadata": {},
   "source": [
    "# Create train/test groups using DataLoader"
   ]
  },
  {
   "cell_type": "code",
   "execution_count": null,
   "id": "993c9415",
   "metadata": {},
   "outputs": [],
   "source": [
    "# use scikitlearn to split the data\n",
    "train_data,test_data, train_labels,test_labels = train_test_split(images, labels, test_size=.1)\n",
    "\n",
    "# convert into PyTorch Datasets\n",
    "train_data = TensorDataset(train_data,train_labels)\n",
    "test_data  = TensorDataset(test_data,test_labels)\n",
    "\n",
    "# translate into dataloader objects\n",
    "batchsize    = 16\n",
    "train_loader = DataLoader(train_data,batch_size=batchsize,shuffle=True,drop_last=True)\n",
    "test_loader  = DataLoader(test_data,batch_size=test_data.tensors[0].shape[0])"
   ]
  },
  {
   "cell_type": "code",
   "execution_count": null,
   "id": "a5b1c232",
   "metadata": {},
   "outputs": [],
   "source": [
    "# check size (should be images X channels X width X height\n",
    "print( train_loader.dataset.tensors[0].shape )\n",
    "print( train_loader.dataset.tensors[1].shape )"
   ]
  },
  {
   "cell_type": "markdown",
   "id": "6c5087b0",
   "metadata": {},
   "source": [
    "# Create the DL model"
   ]
  },
  {
   "cell_type": "code",
   "execution_count": null,
   "id": "870479cc",
   "metadata": {},
   "outputs": [],
   "source": [
    "# create a class for the model\n",
    "def makeTheNet():\n",
    "\n",
    "  class gausnet(nn.Module):\n",
    "    def __init__(self):\n",
    "      super().__init__()\n",
    "      \n",
    "      # all layers in one go using nn.Sequential\n",
    "      self.enc = nn.Sequential(\n",
    "          \n",
    "          # conv/pool block 1\n",
    "          nn.Conv2d(1,6,3,padding=1),  # output size: (91+2*1-3)/1 + 1 = 91\n",
    "          nn.ReLU(),                   # \n",
    "          nn.AvgPool2d(2,2),           # output size: 91/2 = 45\n",
    "          \n",
    "          # conv/pool block 2\n",
    "          nn.Conv2d(6,4,3,padding=1),  # output size: (45+2*1-3)/1 + 1 = 45\n",
    "          nn.ReLU(),                   # \n",
    "          nn.AvgPool2d(2,2),           # output size: 45/2 = 22\n",
    "          \n",
    "          # linear decision layer\n",
    "          nn.Flatten(),                # vectorize conv2 block output\n",
    "          nn.Linear(22*22*4,50),       # output size: 50\n",
    "          nn.Linear(50,3),             # output size: 3\n",
    "      )\n",
    "      \n",
    "    def forward(self,x):\n",
    "      return self.enc(x)\n",
    "  \n",
    "  # create the model instance\n",
    "  net = gausnet()\n",
    "  \n",
    "  # loss function\n",
    "  lossfun = nn.MSELoss()\n",
    "\n",
    "  # optimizer\n",
    "  optimizer = torch.optim.Adam(net.parameters(),lr=.001)\n",
    "\n",
    "  return net,lossfun,optimizer"
   ]
  },
  {
   "cell_type": "code",
   "execution_count": null,
   "id": "13b8d719",
   "metadata": {},
   "outputs": [],
   "source": [
    "# test the model with one batch\n",
    "net,lossfun,optimizer = makeTheNet()\n",
    "\n",
    "X,y = iter(train_loader).next()\n",
    "yHat = net(X)\n",
    "\n",
    "# check size of output\n",
    "print(yHat)\n",
    "print(' ')\n",
    "print(yHat.shape)\n",
    "\n",
    "# # now let's compute the loss\n",
    "loss = lossfun(yHat,y)\n",
    "print(' ')\n",
    "print('Loss:')\n",
    "print(loss)"
   ]
  },
  {
   "cell_type": "code",
   "execution_count": null,
   "id": "891369c7",
   "metadata": {},
   "outputs": [],
   "source": [
    "# count the total number of parameters in the model\n",
    "summary(net,(1,imgSize,imgSize))"
   ]
  },
  {
   "cell_type": "markdown",
   "id": "d3288a50",
   "metadata": {},
   "source": [
    "# Create a function that trains the model"
   ]
  },
  {
   "cell_type": "code",
   "execution_count": null,
   "id": "915c0917",
   "metadata": {},
   "outputs": [],
   "source": [
    "# a function that trains the model\n",
    "\n",
    "def function2trainTheModel():\n",
    "\n",
    "  # number of epochs\n",
    "  numepochs = 30\n",
    "  \n",
    "  # create a new model\n",
    "  net,lossfun,optimizer = makeTheNet()\n",
    "\n",
    "  # initialize losses\n",
    "  trainLoss = torch.zeros(numepochs)\n",
    "  testLoss  = torch.zeros(numepochs)\n",
    "\n",
    "\n",
    "  # loop over epochs\n",
    "  for epochi in range(numepochs):\n",
    "\n",
    "    # loop over training data batches\n",
    "    batchLoss = []\n",
    "    for X,y in train_loader:\n",
    "\n",
    "      # forward pass and loss\n",
    "      yHat = net(X)\n",
    "      loss = lossfun(yHat,y)\n",
    "\n",
    "      # backprop\n",
    "      optimizer.zero_grad()\n",
    "      loss.backward()\n",
    "      optimizer.step()\n",
    "\n",
    "      # loss from this batch\n",
    "      batchLoss.append(loss.item())\n",
    "    # end of batch loop...\n",
    "\n",
    "    # and get average losses across the batches\n",
    "    trainLoss[epochi] = np.mean(batchLoss)\n",
    "\n",
    "    # test accuracy\n",
    "    X,y = next(iter(test_loader)) # extract X,y from test dataloader\n",
    "    with torch.no_grad(): # deactivates autograd\n",
    "      yHat = net(X)\n",
    "      loss = lossfun(yHat,y)\n",
    "      \n",
    "    # extract the loss for this test epoch\n",
    "    testLoss[epochi] = loss.item()\n",
    "\n",
    "  # end epochs\n",
    "\n",
    "  # function output\n",
    "  return trainLoss,testLoss,net"
   ]
  },
  {
   "cell_type": "markdown",
   "id": "04f32719",
   "metadata": {},
   "source": [
    "# Run the model and show the results!"
   ]
  },
  {
   "cell_type": "code",
   "execution_count": null,
   "id": "f5e46d09",
   "metadata": {},
   "outputs": [],
   "source": [
    "trainLoss,testLoss,net = function2trainTheModel()"
   ]
  },
  {
   "cell_type": "code",
   "execution_count": null,
   "id": "e5b6719e",
   "metadata": {},
   "outputs": [],
   "source": [
    "plt.plot(trainLoss,'s-',label='Train')\n",
    "plt.plot(testLoss,'o-',label='Test')\n",
    "plt.xlabel('Epochs')\n",
    "plt.ylabel('Loss (MSE)')\n",
    "plt.legend()\n",
    "plt.title('Model loss (final test loss: %.2f)'%testLoss[-1])\n",
    "\n",
    "plt.show()"
   ]
  },
  {
   "cell_type": "code",
   "execution_count": null,
   "id": "71a2658c",
   "metadata": {},
   "outputs": [],
   "source": [
    "# visualize some images\n",
    "\n",
    "X,Y = next(iter(test_loader)) # extract X,y from test dataloader\n",
    "yHat = net(X)\n",
    "\n",
    "fig,axs = plt.subplots(2,10,figsize=(16,4))\n",
    "\n",
    "th = np.linspace(0,2*np.pi)\n",
    "\n",
    "for i,ax in enumerate(axs.flatten()):\n",
    "\n",
    "  # get the Gaussian and draw it, and draw the white guide-lines\n",
    "  G = torch.squeeze( X[i,0,:,:] ).detach()\n",
    "  ax.imshow(G,vmin=-1,vmax=1,cmap='jet',extent=[-4,4,-4,4],origin='lower')\n",
    "  ax.plot([-4,4],[0,0],'w--')\n",
    "  ax.plot([0,0],[-4,4],'w--')\n",
    "\n",
    "  # compute the model's prediction\n",
    "  cx = yHat[i][0].item() # center X\n",
    "  cy = yHat[i][1].item() # center Y\n",
    "  rd = yHat[i][2].item() # radius\n",
    "\n",
    "  # and draw it\n",
    "  x = cx + np.cos(th)*np.sqrt(rd)\n",
    "  y = cy + np.sin(th)*np.sqrt(rd)\n",
    "  ax.plot(x,y,'b')\n",
    "  ax.plot(cx,cy,'bo')\n",
    "  \n",
    "  # some final plotting niceties\n",
    "  ax.set_xticks([])\n",
    "  ax.set_yticks([])\n",
    "  ax.set_xlim([-4,4])\n",
    "  ax.set_ylim([-4,4])\n",
    "\n",
    "plt.tight_layout()\n",
    "plt.show()"
   ]
  },
  {
   "cell_type": "code",
   "execution_count": null,
   "id": "d232f3fe",
   "metadata": {},
   "outputs": [],
   "source": [
    "fig = plt.figure(figsize=(5,5))\n",
    "\n",
    "paramNames = ['Cx','Cy','rad.']\n",
    "\n",
    "for i in range(3):\n",
    "  \n",
    "  # extract parameters and compute correlation\n",
    "  yy = Y[:,i].detach()\n",
    "  yh = yHat[:,i].detach()\n",
    "  cr = np.corrcoef(yy,yh)[0,1]\n",
    "\n",
    "  # plot with label\n",
    "  plt.plot(yy,yh,'o',label=f'{paramNames[i]}, r={cr:.3f}')\n",
    "\n",
    "\n",
    "plt.legend()\n",
    "plt.xlabel('True values')\n",
    "plt.ylabel('Predicted values')\n",
    "plt.grid()\n",
    "plt.show()"
   ]
  },
  {
   "cell_type": "markdown",
   "id": "ed3fc4ae",
   "metadata": {},
   "source": [
    "# Additional explorations"
   ]
  },
  {
   "cell_type": "code",
   "execution_count": null,
   "id": "4eb01eae",
   "metadata": {},
   "outputs": [],
   "source": [
    "# 1) Is this model robust to noise? Explore this by increasing the amount of noise added to each stimulus. You can set\n",
    "#    this up as a parametric experiment if you want, but you can also do it informally, by changing the gain factor of\n",
    "#    the noise to see whether performance noticeably declines when the images get noisier. Does changing the noise affect\n",
    "#    the center coordinates or the width more? And what do the results tell you about the power -- or limitations -- of\n",
    "#    using CNNs for finding features in images?\n",
    "# \n",
    "# 2) You can see from the code that I didn't change the model architecture -- I literally copy/pasted it from the previous\n",
    "#    Gaussian codes and only added 3 units at the end. Do you think you can develop a different architecture, possibly\n",
    "#    simpler, that achieves comparable performance while reducing learning time?\n",
    "# "
   ]
  }
 ],
 "metadata": {
  "jupytext": {
   "cell_metadata_filter": "-all",
   "main_language": "python",
   "notebook_metadata_filter": "-all"
  }
 },
 "nbformat": 4,
 "nbformat_minor": 5
}
