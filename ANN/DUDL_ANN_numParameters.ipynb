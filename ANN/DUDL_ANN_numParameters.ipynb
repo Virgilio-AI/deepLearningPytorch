{
 "cells": [
  {
   "cell_type": "code",
   "execution_count": null,
   "id": "36153e81",
   "metadata": {},
   "outputs": [],
   "source": [
    "# Date: 19/November/2022 - Saturday\n",
    "# Author: Virgilio Murillo Ochoa\n",
    "# personal github: Virgilio-AI\n",
    "# linkedin: https://www.linkedin.com/in/virgilio-murillo-ochoa-b29b59203\n",
    "# contact: virgiliomurilloochoa1@gmail.com\n",
    "# web: virgiliomurillo.com"
   ]
  },
  {
   "cell_type": "code",
   "execution_count": null,
   "id": "6ac40d28",
   "metadata": {},
   "outputs": [],
   "source": [
    "# import libraries\n",
    "import numpy as np\n",
    "import torch\n",
    "import torch.nn as nn"
   ]
  },
  {
   "cell_type": "code",
   "execution_count": null,
   "id": "45d91937",
   "metadata": {},
   "outputs": [],
   "source": [
    "# build two models\n",
    "\n",
    "widenet = nn.Sequential(\n",
    "    nn.Linear(2,4),  # hidden layer\n",
    "    nn.Linear(4,3),  # output layer\n",
    "    )\n",
    "\n",
    "\n",
    "deepnet = nn.Sequential(\n",
    "    nn.Linear(2,2),  # hidden layer\n",
    "    nn.Linear(2,2),  # hidden layer\n",
    "    nn.Linear(2,3),  # output layer\n",
    "    )\n",
    "\n",
    "# print them out to have a look\n",
    "print(widenet)\n",
    "print(' ')\n",
    "print(deepnet)"
   ]
  },
  {
   "cell_type": "code",
   "execution_count": null,
   "id": "888742c0",
   "metadata": {},
   "outputs": [],
   "source": [
    "widenet."
   ]
  },
  {
   "cell_type": "markdown",
   "id": "fd5d6b2b",
   "metadata": {},
   "source": [
    "# Peeking inside the network"
   ]
  },
  {
   "cell_type": "code",
   "execution_count": null,
   "id": "70a012aa",
   "metadata": {},
   "outputs": [],
   "source": [
    "# check out the parameters\n",
    "for p in deepnet.named_parameters():\n",
    "  print(p)\n",
    "  print(' ')"
   ]
  },
  {
   "cell_type": "code",
   "execution_count": null,
   "id": "be5336d5",
   "metadata": {},
   "outputs": [],
   "source": [
    "# count the number of nodes ( = the number of biases)\n",
    "\n",
    "# named_parameters() is an iterable that returns the tuple (name,numbers)\n",
    "numNodesInWide = 0\n",
    "for p in widenet.named_parameters():\n",
    "  if 'bias' in p[0]:\n",
    "    numNodesInWide += len(p[1])\n",
    "\n",
    "numNodesInDeep = 0\n",
    "for paramName,paramVect in deepnet.named_parameters():\n",
    "  if 'bias' in paramName:\n",
    "    numNodesInDeep += len(paramVect)\n",
    "\n",
    "\n",
    "print('There are %s nodes in the wide network.' %numNodesInWide)\n",
    "print('There are %s nodes in the deep network.' %numNodesInDeep)"
   ]
  },
  {
   "cell_type": "code",
   "execution_count": null,
   "id": "2f939015",
   "metadata": {},
   "outputs": [],
   "source": [
    "# just the parameters\n",
    "for p in widenet.parameters():\n",
    "  print(p)\n",
    "  print(' ')"
   ]
  },
  {
   "cell_type": "code",
   "execution_count": null,
   "id": "d9acb560",
   "metadata": {},
   "outputs": [],
   "source": [
    "# now count the total number of trainable parameters\n",
    "nparams = 0\n",
    "for p in widenet.parameters():\n",
    "  if p.requires_grad:\n",
    "    print('This piece has %s parameters' %p.numel())\n",
    "    nparams += p.numel()\n",
    "\n",
    "print('\\n\\nTotal of %s parameters'%nparams)"
   ]
  },
  {
   "cell_type": "code",
   "execution_count": null,
   "id": "d70eae59",
   "metadata": {},
   "outputs": [],
   "source": [
    "# btw, can also use list comprehension\n",
    "\n",
    "nparams = np.sum([ p.numel() for p in widenet.parameters() if p.requires_grad ])\n",
    "print('Widenet has %s parameters'%nparams)\n",
    "\n",
    "nparams = np.sum([ p.numel() for p in deepnet.parameters() if p.requires_grad ])\n",
    "print('Deepnet has %s parameters'%nparams)"
   ]
  },
  {
   "cell_type": "code",
   "execution_count": null,
   "id": "70ddd00e",
   "metadata": {},
   "outputs": [],
   "source": []
  },
  {
   "cell_type": "code",
   "execution_count": null,
   "id": "d21a0d97",
   "metadata": {},
   "outputs": [],
   "source": [
    "# A nice simple way to print out the model info.\n",
    "from torchsummary import summary\n",
    "summary(widenet,(1,2))\n",
    "\n",
    "\n",
    "### NOTE ABOUT THE CODE IN THIS CELL:\n",
    "# torchsummary is being replaced by torchinfo.\n",
    "# If you are importing these libraries on your own (via pip), then see the following website:\n",
    "#        https://pypi.org/project/torch-summary/\n",
    "# However, torchsummary will continue to be supported, so if the code in this cell works (meaning torchsummary is already installed), \n",
    "# then you don't need to do anything!"
   ]
  },
  {
   "cell_type": "code",
   "execution_count": null,
   "id": "9512e7e7",
   "metadata": {},
   "outputs": [],
   "source": []
  }
 ],
 "metadata": {
  "jupytext": {
   "cell_metadata_filter": "-all",
   "main_language": "python",
   "notebook_metadata_filter": "-all"
  }
 },
 "nbformat": 4,
 "nbformat_minor": 5
}
