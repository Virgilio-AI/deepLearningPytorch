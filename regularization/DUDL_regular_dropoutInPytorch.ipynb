{
 "cells": [
  {
   "cell_type": "code",
   "execution_count": null,
   "id": "78916f6f",
   "metadata": {},
   "outputs": [],
   "source": [
    "# Date: 19/November/2022 - Saturday\n",
    "# Author: Virgilio Murillo Ochoa\n",
    "# personal github: Virgilio-AI\n",
    "# linkedin: https://www.linkedin.com/in/virgilio-murillo-ochoa-b29b59203\n",
    "# contact: virgiliomurilloochoa1@gmail.com\n",
    "# web: virgiliomurillo.com"
   ]
  },
  {
   "cell_type": "code",
   "execution_count": null,
   "id": "f221435e",
   "metadata": {},
   "outputs": [],
   "source": [
    "# import libraries\n",
    "import torch\n",
    "import torch.nn as nn\n",
    "import torch.nn.functional as F"
   ]
  },
  {
   "cell_type": "markdown",
   "id": "7f8178ec",
   "metadata": {},
   "source": [
    "# Using dropout"
   ]
  },
  {
   "cell_type": "code",
   "execution_count": null,
   "id": "40d4b251",
   "metadata": {},
   "outputs": [],
   "source": [
    "# define a dropout instance and make some data\n",
    "prob = .5\n",
    "\n",
    "dropout = nn.Dropout(p=prob)\n",
    "x = torch.ones(10)\n",
    "\n",
    "# let's see what dropout returns\n",
    "y = dropout(x)\n",
    "print(x)\n",
    "print(y*(1-prob))\n",
    "print(torch.mean(y))"
   ]
  },
  {
   "cell_type": "code",
   "execution_count": null,
   "id": "e63efe78",
   "metadata": {},
   "outputs": [],
   "source": [
    "# dropout is turned off when evaluating the model\n",
    "dropout.eval()\n",
    "y = dropout(x)\n",
    "print(y)\n",
    "print(torch.mean(y))"
   ]
  },
  {
   "cell_type": "code",
   "execution_count": null,
   "id": "18773084",
   "metadata": {},
   "outputs": [],
   "source": [
    "# annoyingly, F.dropout() is not deactivated in eval mode:\n",
    "\n",
    "dropout.eval()\n",
    "y = F.dropout(x)\n",
    "print(y)\n",
    "print(torch.mean(y))"
   ]
  },
  {
   "cell_type": "code",
   "execution_count": null,
   "id": "c8948981",
   "metadata": {},
   "outputs": [],
   "source": [
    "# but you can manually switch it off\n",
    "# dropout.eval()\n",
    "y = F.dropout(x,training=False)\n",
    "\n",
    "print(y)\n",
    "print(torch.mean(y))"
   ]
  },
  {
   "cell_type": "code",
   "execution_count": null,
   "id": "790ed1c2",
   "metadata": {},
   "outputs": [],
   "source": [
    "# the model needs to be reset after toggling into eval mode\n",
    "\n",
    "dropout.train()\n",
    "y = dropout(x)\n",
    "print(y) # with dropout\n",
    "\n",
    "\n",
    "dropout.eval()\n",
    "y = dropout(x)\n",
    "print(y) # without dropout\n",
    "\n",
    "\n",
    "# dropout.train()\n",
    "y = dropout(x)\n",
    "print(y) # still w/o dropout ;)"
   ]
  },
  {
   "cell_type": "code",
   "execution_count": null,
   "id": "c028c647",
   "metadata": {},
   "outputs": [],
   "source": []
  }
 ],
 "metadata": {
  "jupytext": {
   "cell_metadata_filter": "-all",
   "main_language": "python",
   "notebook_metadata_filter": "-all"
  }
 },
 "nbformat": 4,
 "nbformat_minor": 5
}
