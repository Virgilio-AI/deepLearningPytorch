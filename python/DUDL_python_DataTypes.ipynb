{
 "cells": [
  {
   "cell_type": "code",
   "execution_count": null,
   "id": "5096a3cc",
   "metadata": {},
   "outputs": [],
   "source": [
    "# Date: 19/November/2022 - Saturday\n",
    "# Author: Virgilio Murillo Ochoa\n",
    "# personal github: Virgilio-AI\n",
    "# linkedin: https://www.linkedin.com/in/virgilio-murillo-ochoa-b29b59203\n",
    "# contact: virgiliomurilloochoa1@gmail.com\n",
    "# web: virgiliomurillo.com"
   ]
  },
  {
   "cell_type": "markdown",
   "id": "eba53880",
   "metadata": {},
   "source": [
    "# .\n",
    "# .\n",
    "# ."
   ]
  },
  {
   "cell_type": "markdown",
   "id": "6423bcb2",
   "metadata": {},
   "source": [
    "# VIDEO: Variables"
   ]
  },
  {
   "cell_type": "code",
   "execution_count": null,
   "id": "3d39f2c6",
   "metadata": {
    "lines_to_next_cell": 2
   },
   "outputs": [],
   "source": [
    "# This is a comment. Python will ignore this text."
   ]
  },
  {
   "cell_type": "code",
   "execution_count": null,
   "id": "da506df6",
   "metadata": {},
   "outputs": [],
   "source": [
    "a = 4\n",
    "b = 3"
   ]
  },
  {
   "cell_type": "code",
   "execution_count": null,
   "id": "4201df7c",
   "metadata": {},
   "outputs": [],
   "source": [
    "a"
   ]
  },
  {
   "cell_type": "code",
   "execution_count": null,
   "id": "a5889598",
   "metadata": {},
   "outputs": [],
   "source": [
    "a\n",
    "b"
   ]
  },
  {
   "cell_type": "code",
   "execution_count": null,
   "id": "e65033ec",
   "metadata": {},
   "outputs": [],
   "source": [
    "print(a) # comments after a line\n",
    "print(b)"
   ]
  },
  {
   "cell_type": "code",
   "execution_count": null,
   "id": "2c20a0d2",
   "metadata": {},
   "outputs": [],
   "source": [
    "c = 7\n",
    "d = 7.0\n",
    "\n",
    "print(c,d)"
   ]
  },
  {
   "cell_type": "code",
   "execution_count": null,
   "id": "8b1de257",
   "metadata": {},
   "outputs": [],
   "source": [
    "type(c)\n",
    "type(d)"
   ]
  },
  {
   "cell_type": "code",
   "execution_count": null,
   "id": "a28a8862",
   "metadata": {
    "lines_to_next_cell": 2
   },
   "outputs": [],
   "source": [
    "c = 'hello'\n",
    "d = \"Hey there!\""
   ]
  },
  {
   "cell_type": "code",
   "execution_count": null,
   "id": "bf1895dd",
   "metadata": {
    "lines_to_next_cell": 2
   },
   "outputs": [],
   "source": [
    "# define variables and parameters\n",
    "aVariable    = 10\n",
    "filterOrder  = 2048\n",
    "user_name    = 'mike'\n",
    "param4modelA = 42.42\n",
    "\n",
    "not!allowed = 3\n",
    "also#not = 3\n",
    "^nope! = 3\n",
    "\n",
    "# variable naming rule: no non-alphanumeric characters except _\n",
    "# variables may contain numbers but not start with them"
   ]
  },
  {
   "cell_type": "code",
   "execution_count": null,
   "id": "cbf4af62",
   "metadata": {},
   "outputs": [],
   "source": [
    "%whos"
   ]
  },
  {
   "cell_type": "code",
   "execution_count": null,
   "id": "03175976",
   "metadata": {},
   "outputs": [],
   "source": [
    "# multiple assignment\n",
    "varA,varB = 3,'test'\n",
    "\n",
    "print(varA)\n",
    "print(varB)"
   ]
  },
  {
   "cell_type": "markdown",
   "id": "557ac50b",
   "metadata": {},
   "source": [
    "### Exercise:"
   ]
  },
  {
   "cell_type": "code",
   "execution_count": null,
   "id": "547834c8",
   "metadata": {},
   "outputs": [],
   "source": [
    "# discover whether it's possible in Python to over-write variables:\n",
    "#  1) within-type (e.g., numeric to a different number)\n",
    "#  2) across-type (e.g., numeric to a string)"
   ]
  },
  {
   "cell_type": "markdown",
   "id": "61fad496",
   "metadata": {},
   "source": [
    "# .\n",
    "# .\n",
    "# ."
   ]
  },
  {
   "cell_type": "markdown",
   "id": "33c56ee5",
   "metadata": {},
   "source": [
    "# VIDEO: Math operators"
   ]
  },
  {
   "cell_type": "code",
   "execution_count": null,
   "id": "362aa162",
   "metadata": {},
   "outputs": [],
   "source": [
    "# let's start by creating some variables\n",
    "x = 7\n",
    "y = 4.1\n",
    "z = 0"
   ]
  },
  {
   "cell_type": "code",
   "execution_count": null,
   "id": "4ab6ad9d",
   "metadata": {},
   "outputs": [],
   "source": [
    "# Addition and subtraction\n",
    "\n",
    "print( x-7 )\n",
    "\n",
    "c = y + x - 2"
   ]
  },
  {
   "cell_type": "code",
   "execution_count": null,
   "id": "6781ce0e",
   "metadata": {},
   "outputs": [],
   "source": [
    "# multiplication and division\n",
    "print( x*y ) # note: floating-point algebra is not the same thing as \"real\" algebra\n",
    "4/3\n",
    "4\\\n",
    "  +3"
   ]
  },
  {
   "cell_type": "code",
   "execution_count": null,
   "id": "1a2fbd5c",
   "metadata": {},
   "outputs": [],
   "source": [
    "# powers\n",
    "2**3"
   ]
  },
  {
   "cell_type": "code",
   "execution_count": null,
   "id": "1e478150",
   "metadata": {},
   "outputs": [],
   "source": [
    "print( 9**1/2 )\n",
    "\n",
    "# therefore, use parentheses to overwrite order of operations\n",
    "print( 9**(1/2) )"
   ]
  },
  {
   "cell_type": "code",
   "execution_count": null,
   "id": "a290155e",
   "metadata": {},
   "outputs": [],
   "source": [
    "# can we \"add\" strings??\n",
    "firstName = 'Mike'\n",
    "lastName  = 'Cohen'\n",
    "\n",
    "print( firstName + lastName )\n",
    "print( firstName + ' ' + lastName )"
   ]
  },
  {
   "cell_type": "code",
   "execution_count": null,
   "id": "0439ba65",
   "metadata": {},
   "outputs": [],
   "source": [
    "# just curious...\n",
    "firstName - lastName"
   ]
  },
  {
   "cell_type": "code",
   "execution_count": null,
   "id": "84465642",
   "metadata": {},
   "outputs": [],
   "source": [
    "firstName * 3"
   ]
  },
  {
   "cell_type": "code",
   "execution_count": null,
   "id": "d501451d",
   "metadata": {},
   "outputs": [],
   "source": [
    "# printing mixed variable types\n",
    "print( '7 times 4.1 equals 28.7' )\n",
    "\n",
    "print( x ' times ' y ' equals ' x*y )\n",
    "print( x + ' times ' + y + ' equals ' + x*y )"
   ]
  },
  {
   "cell_type": "code",
   "execution_count": null,
   "id": "2b12dd11",
   "metadata": {},
   "outputs": [],
   "source": [
    "print( str(x) + ' times ' + str(y) + ' equals ' + str(x*y) )"
   ]
  },
  {
   "cell_type": "code",
   "execution_count": null,
   "id": "7d3d4dbe",
   "metadata": {},
   "outputs": [],
   "source": [
    "# inputting data from the user\n",
    "ans = input('Feed me a stray cat ')\n",
    "print(ans)\n",
    "print(type(ans))"
   ]
  },
  {
   "cell_type": "code",
   "execution_count": null,
   "id": "dc6c6b96",
   "metadata": {},
   "outputs": [],
   "source": [
    "ans*10\n",
    "\n"
   ]
  },
  {
   "cell_type": "code",
   "execution_count": null,
   "id": "2374f02b",
   "metadata": {},
   "outputs": [],
   "source": [
    "numans = input( 'Input a number: ' )\n",
    "numans = float(numans)\n",
    "\n",
    "type(numans)"
   ]
  },
  {
   "cell_type": "markdown",
   "id": "7fe96490",
   "metadata": {},
   "source": [
    "### Exercise"
   ]
  },
  {
   "cell_type": "code",
   "execution_count": null,
   "id": "116e6982",
   "metadata": {},
   "outputs": [],
   "source": [
    "# The goal is to apply the Pythagorean theorem.\n",
    "#  Input from the user two lengths, and you return the third length\n",
    "side1 = int( input('Length of side a: ') )\n",
    "side2 = int( input('Length of side b: ') )\n",
    "\n",
    "thirdside = (side1**2 + side2**2)**(1/2)\n",
    "\n",
    "print(' ')\n",
    "print( 'The length of side c is ' + str( thirdside ) )"
   ]
  },
  {
   "cell_type": "markdown",
   "id": "e1a18b82",
   "metadata": {},
   "source": [
    "# .\n",
    "# .\n",
    "# ."
   ]
  },
  {
   "cell_type": "markdown",
   "id": "0a907f77",
   "metadata": {},
   "source": [
    "# VIDEO: Lists"
   ]
  },
  {
   "cell_type": "code",
   "execution_count": null,
   "id": "8d9a6887",
   "metadata": {},
   "outputs": [],
   "source": [
    "aList = [0,1,2,3,4,5]\n",
    "\n",
    "aList"
   ]
  },
  {
   "cell_type": "code",
   "execution_count": null,
   "id": "10cd8739",
   "metadata": {},
   "outputs": [],
   "source": [
    "strList = [ 'hi','my','name','is','Mike' ]\n",
    "strList"
   ]
  },
  {
   "cell_type": "code",
   "execution_count": null,
   "id": "54ea6916",
   "metadata": {},
   "outputs": [],
   "source": [
    "mixList = [ 3,'three',4,'four' ]\n",
    "mixList"
   ]
  },
  {
   "cell_type": "code",
   "execution_count": null,
   "id": "3f0a47b6",
   "metadata": {},
   "outputs": [],
   "source": [
    "listList = [ 3,['3','4','5'],5,[4,5,6] ]\n",
    "listList"
   ]
  },
  {
   "cell_type": "code",
   "execution_count": null,
   "id": "d448aa77",
   "metadata": {},
   "outputs": [],
   "source": [
    "listList = [ \n",
    "            3,              # a number\n",
    "            ['3','h','5'],  # a list of strings\n",
    "            5,              # another number\n",
    "            [4,5,6]         # a list of numbers\n",
    "           ]\n",
    "\n",
    "listList"
   ]
  },
  {
   "cell_type": "code",
   "execution_count": null,
   "id": "ddfa1cbb",
   "metadata": {},
   "outputs": [],
   "source": [
    "# test whether an item is in a list\n",
    "4 in aList"
   ]
  },
  {
   "cell_type": "code",
   "execution_count": null,
   "id": "e22b714c",
   "metadata": {},
   "outputs": [],
   "source": [
    "print( 4 in aList )\n",
    "\n",
    "print( 14 in aList )\n",
    "print( 14 not in aList )"
   ]
  },
  {
   "cell_type": "code",
   "execution_count": null,
   "id": "bc9bbafe",
   "metadata": {},
   "outputs": [],
   "source": [
    "aList + strList"
   ]
  },
  {
   "cell_type": "code",
   "execution_count": null,
   "id": "df3433a8",
   "metadata": {
    "lines_to_next_cell": 2
   },
   "outputs": [],
   "source": [
    "aList*3"
   ]
  },
  {
   "cell_type": "code",
   "execution_count": null,
   "id": "39bfdd8d",
   "metadata": {},
   "outputs": [],
   "source": [
    "newlist = [4,3,4,5,6,7,7,7,7]\n",
    "\n",
    "set(newlist)"
   ]
  },
  {
   "cell_type": "code",
   "execution_count": null,
   "id": "f05c12a0",
   "metadata": {},
   "outputs": [],
   "source": [
    "## some list methods \n",
    "\n",
    "# show the original\n",
    "print(aList)\n",
    "\n",
    "# add a new element\n",
    "aList.append(-100)\n",
    "print(aList)\n",
    "\n",
    "# sort\n",
    "aList.sort()\n",
    "print(aList)"
   ]
  },
  {
   "cell_type": "markdown",
   "id": "283f5f08",
   "metadata": {},
   "source": [
    "### Exercise"
   ]
  },
  {
   "cell_type": "code",
   "execution_count": null,
   "id": "e08ecd43",
   "metadata": {},
   "outputs": [],
   "source": [
    "# Use a list method to find the number of 7's in newlist\n",
    "newlist.count(7)"
   ]
  },
  {
   "cell_type": "markdown",
   "id": "636e1c8f",
   "metadata": {},
   "source": [
    "# .\n",
    "# .\n",
    "# ."
   ]
  },
  {
   "cell_type": "markdown",
   "id": "ca559056",
   "metadata": {},
   "source": [
    "# VIDEO: Lists part 2"
   ]
  },
  {
   "cell_type": "code",
   "execution_count": null,
   "id": "61b0fbdd",
   "metadata": {
    "lines_to_next_cell": 2
   },
   "outputs": [],
   "source": [
    "# append, insert, remove, del, sort\n",
    "\n",
    "lst = [1,2,3,4,5]\n",
    "\n",
    "print(lst)\n",
    "lst.append(7)\n",
    "print(lst)"
   ]
  },
  {
   "cell_type": "code",
   "execution_count": null,
   "id": "33b255e1",
   "metadata": {},
   "outputs": [],
   "source": [
    "lst.insert(2,20)\n",
    "print(lst)"
   ]
  },
  {
   "cell_type": "code",
   "execution_count": null,
   "id": "1960d22a",
   "metadata": {},
   "outputs": [],
   "source": [
    "lst.append(3)\n",
    "print(lst)\n",
    "lst.remove(3)\n",
    "print(lst)"
   ]
  },
  {
   "cell_type": "code",
   "execution_count": null,
   "id": "ba3cd32f",
   "metadata": {},
   "outputs": [],
   "source": [
    "print(lst)\n",
    "\n",
    "lst.sort()\n",
    "print(lst)\n",
    "\n",
    "lst.sort(reverse=True)\n",
    "print(lst)"
   ]
  },
  {
   "cell_type": "code",
   "execution_count": null,
   "id": "07658605",
   "metadata": {},
   "outputs": [],
   "source": [
    "lst.append('hi')\n",
    "lst.sort()"
   ]
  },
  {
   "cell_type": "markdown",
   "id": "2c32667b",
   "metadata": {},
   "source": [
    "# VIDEO: Tuples"
   ]
  },
  {
   "cell_type": "code",
   "execution_count": null,
   "id": "850b6a8a",
   "metadata": {},
   "outputs": [],
   "source": [
    "atuple = ( 3,'4',3 )\n",
    "\n",
    "atuple*3"
   ]
  },
  {
   "cell_type": "code",
   "execution_count": null,
   "id": "afcfe4cd",
   "metadata": {},
   "outputs": [],
   "source": [
    "atuple.count(3)"
   ]
  },
  {
   "cell_type": "code",
   "execution_count": null,
   "id": "4b456a33",
   "metadata": {},
   "outputs": [],
   "source": [
    "alist = list(atuple)\n",
    "\n",
    "print(atuple)\n",
    "print(alist)"
   ]
  },
  {
   "cell_type": "code",
   "execution_count": null,
   "id": "bbbe9865",
   "metadata": {},
   "outputs": [],
   "source": [
    "# tuples are immutable\n",
    "atuple[0] = 5"
   ]
  },
  {
   "cell_type": "code",
   "execution_count": null,
   "id": "a523e652",
   "metadata": {},
   "outputs": [],
   "source": [
    "# lists are mutable\n",
    "alist[0] = 5\n",
    "alist"
   ]
  },
  {
   "cell_type": "markdown",
   "id": "5155bb98",
   "metadata": {},
   "source": [
    "# .\n",
    "# .\n",
    "# ."
   ]
  },
  {
   "cell_type": "markdown",
   "id": "d4456010",
   "metadata": {},
   "source": [
    "# VIDEO: Booleans"
   ]
  },
  {
   "cell_type": "code",
   "execution_count": null,
   "id": "e636a85b",
   "metadata": {},
   "outputs": [],
   "source": [
    "boolTrue = True\n",
    "booltrue = 'true'\n",
    "\n",
    "%whos"
   ]
  },
  {
   "cell_type": "code",
   "execution_count": null,
   "id": "73290cde",
   "metadata": {},
   "outputs": [],
   "source": [
    "# comparisons\n",
    "4 == 4"
   ]
  },
  {
   "cell_type": "code",
   "execution_count": null,
   "id": "02c4752e",
   "metadata": {},
   "outputs": [],
   "source": [
    "4>5"
   ]
  },
  {
   "cell_type": "code",
   "execution_count": null,
   "id": "5262a4ba",
   "metadata": {},
   "outputs": [],
   "source": [
    "4>4"
   ]
  },
  {
   "cell_type": "code",
   "execution_count": null,
   "id": "19dbf4a6",
   "metadata": {},
   "outputs": [],
   "source": [
    "4>=4"
   ]
  },
  {
   "cell_type": "code",
   "execution_count": null,
   "id": "d325701e",
   "metadata": {},
   "outputs": [],
   "source": [
    "4 != 5"
   ]
  },
  {
   "cell_type": "code",
   "execution_count": null,
   "id": "7427a79e",
   "metadata": {},
   "outputs": [],
   "source": [
    "a = 8\n",
    "b = 4\n",
    "\n",
    "outcome = a == b*2\n",
    "print(outcome)"
   ]
  },
  {
   "cell_type": "code",
   "execution_count": null,
   "id": "5bda511d",
   "metadata": {
    "lines_to_next_cell": 2
   },
   "outputs": [],
   "source": [
    "# conjunctive comparisons\n",
    "14>5 and 7<10"
   ]
  },
  {
   "cell_type": "code",
   "execution_count": null,
   "id": "4e0258c4",
   "metadata": {},
   "outputs": [],
   "source": [
    "14>5 or 7>10"
   ]
  },
  {
   "cell_type": "code",
   "execution_count": null,
   "id": "eaf9b570",
   "metadata": {},
   "outputs": [],
   "source": [
    "# converting to boolean\n",
    "print( bool(0) )\n",
    "print( bool(10) )\n",
    "\n",
    "print(' ')\n",
    "\n",
    "print( bool('asdf') )\n",
    "print( bool(' ') )\n",
    "print( bool('') )"
   ]
  },
  {
   "cell_type": "markdown",
   "id": "ff916755",
   "metadata": {},
   "source": [
    "### Exercise"
   ]
  },
  {
   "cell_type": "code",
   "execution_count": null,
   "id": "66778cdc",
   "metadata": {
    "lines_to_next_cell": 2
   },
   "outputs": [],
   "source": [
    "# Ask users to input Pythagorean triplet, check whether it's real"
   ]
  },
  {
   "cell_type": "code",
   "execution_count": null,
   "id": "0a3cb513",
   "metadata": {
    "lines_to_next_cell": 2
   },
   "outputs": [],
   "source": [
    "print(\"Let's test your knowledge of Pythagorean triples!\")\n",
    "\n",
    "sidea = float(input('Input length of side a: '))\n",
    "sideb = float(input('Input length of side b: '))\n",
    "sidec = float(input('Input length of side c: '))\n",
    "\n",
    "# check\n",
    "isPythTriplet = sidea**2 + sideb**2 == sidec**2\n",
    "\n",
    "print('Your answer is ' + str(isPythTriplet) '!!')"
   ]
  },
  {
   "cell_type": "markdown",
   "id": "37cb9e71",
   "metadata": {},
   "source": [
    "# .\n",
    "# .\n",
    "# ."
   ]
  },
  {
   "cell_type": "markdown",
   "id": "0a51f82f",
   "metadata": {},
   "source": [
    "# VIDEO: Dictionaries"
   ]
  },
  {
   "cell_type": "code",
   "execution_count": null,
   "id": "20b9dc1d",
   "metadata": {},
   "outputs": [],
   "source": [
    "D = dict()\n",
    "D"
   ]
  },
  {
   "cell_type": "code",
   "execution_count": null,
   "id": "714cd970",
   "metadata": {},
   "outputs": [],
   "source": [
    "D['name'] = 'Mike' # key/value pairs\n",
    "D['AgeRange'] = [20,50]\n",
    "\n",
    "D"
   ]
  },
  {
   "cell_type": "code",
   "execution_count": null,
   "id": "54306ef4",
   "metadata": {},
   "outputs": [],
   "source": [
    "D = {'name':'Mike' , 'AgeRange':[20,50]}\n",
    "\n",
    "D"
   ]
  },
  {
   "cell_type": "code",
   "execution_count": null,
   "id": "56084428",
   "metadata": {},
   "outputs": [],
   "source": [
    "# retrieve one item\n",
    "D['name']"
   ]
  },
  {
   "cell_type": "code",
   "execution_count": null,
   "id": "af46275a",
   "metadata": {},
   "outputs": [],
   "source": [
    "# list all properties\n",
    "D.keys()"
   ]
  },
  {
   "cell_type": "code",
   "execution_count": null,
   "id": "cc38c1a0",
   "metadata": {},
   "outputs": [],
   "source": [
    "# test whether a key is in the dictionary\n",
    "'name' in D"
   ]
  },
  {
   "cell_type": "code",
   "execution_count": null,
   "id": "90d65da4",
   "metadata": {},
   "outputs": [],
   "source": [
    "'Mike' in D"
   ]
  },
  {
   "cell_type": "code",
   "execution_count": null,
   "id": "87735198",
   "metadata": {},
   "outputs": [],
   "source": [
    "'Mike' not in D"
   ]
  },
  {
   "cell_type": "code",
   "execution_count": null,
   "id": "17507fa0",
   "metadata": {},
   "outputs": [],
   "source": [
    "D.values()"
   ]
  },
  {
   "cell_type": "code",
   "execution_count": null,
   "id": "23b14a65",
   "metadata": {},
   "outputs": [],
   "source": [
    "D.items()"
   ]
  },
  {
   "cell_type": "markdown",
   "id": "5dfcf229",
   "metadata": {},
   "source": [
    "### Exercise"
   ]
  },
  {
   "cell_type": "code",
   "execution_count": null,
   "id": "4fe7f826",
   "metadata": {},
   "outputs": [],
   "source": [
    "# Input two numbers from the user. \n",
    "# Create a dictionary with keys 'firstNum', 'secondNum', and 'product'"
   ]
  },
  {
   "cell_type": "code",
   "execution_count": null,
   "id": "9b2abd97",
   "metadata": {},
   "outputs": [],
   "source": [
    "del D\n",
    "D = dict()\n",
    "\n",
    "num1 = float(input('Give me a number '))\n",
    "D['FirstNum'] = num1\n",
    "\n",
    "num2 = float(input('Give me another number '))\n",
    "D['SecondNum'] = num2\n",
    "\n",
    "D['Product'] = num1*num2\n",
    "\n",
    "D.items()"
   ]
  },
  {
   "cell_type": "code",
   "execution_count": null,
   "id": "d16266b3",
   "metadata": {},
   "outputs": [],
   "source": []
  }
 ],
 "metadata": {
  "jupytext": {
   "cell_metadata_filter": "-all",
   "main_language": "python",
   "notebook_metadata_filter": "-all"
  }
 },
 "nbformat": 4,
 "nbformat_minor": 5
}
